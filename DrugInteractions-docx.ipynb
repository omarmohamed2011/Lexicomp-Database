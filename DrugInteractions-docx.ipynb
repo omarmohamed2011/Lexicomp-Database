{
 "cells": [
  {
   "cell_type": "code",
   "execution_count": 1,
   "metadata": {
    "collapsed": true,
    "ExecuteTime": {
     "end_time": "2023-05-29T14:40:33.988402800Z",
     "start_time": "2023-05-29T14:40:33.925908300Z"
    }
   },
   "outputs": [],
   "source": [
    "import glob\n",
    "\n",
    "path_to_docx_drugs = 'Notebooks/installations/Data/Total-Lexi-links-docx/*.docx'\n",
    "list_pdfs = glob.glob(path_to_docx_drugs)[:]"
   ]
  },
  {
   "cell_type": "code",
   "execution_count": 4,
   "outputs": [],
   "source": [
    "from docx import Document\n",
    "\n",
    "def get_drug_interactions(paragraphs):\n",
    "    found = False\n",
    "    text = \"\"\n",
    "    for paragraph in paragraphs:\n",
    "        if paragraph.style.name.startswith('Heading 1') and paragraph.text == 'Drug Interactions':\n",
    "            found = True\n",
    "            continue\n",
    "        if found and paragraph.style.name != \"Heading 1\":\n",
    "            text += paragraph.text\n",
    "            text += '\\n\\n'\n",
    "        elif found and paragraph.style.name == \"Heading 1\":\n",
    "            break\n",
    "    return text\n",
    "\n",
    "def get_paragraphs_lst(paragraphs):\n",
    "    paragraph_list = []\n",
    "    for paragraph in paragraphs:\n",
    "        paragraph_list.append(paragraph.text)\n",
    "    return paragraph_list\n",
    "\n",
    "def get_drug_interactions2(paragraphs):\n",
    "    found = False\n",
    "    text = []\n",
    "    for paragraph in paragraphs:\n",
    "        if paragraph.style.name.startswith('Heading 1') and paragraph.text == 'Drug Interactions':\n",
    "            found = True\n",
    "            continue\n",
    "        if found and paragraph.style.name != \"Heading 1\":\n",
    "            text.append(paragraph.text)\n",
    "        elif found and paragraph.style.name == \"Heading 1\":\n",
    "            break\n",
    "    return text\n",
    "\n",
    "def get_heading_text(paragraphs, heading_name):\n",
    "    '''\n",
    "    :param paragraphs: get the whole document paragraphs\n",
    "    :param heading_name: get the heading name\n",
    "    :return: the paragraphs required.\n",
    "    '''\n",
    "    found = False\n",
    "    text = \"\"\n",
    "    for paragraph in paragraphs:\n",
    "        if paragraph.style.name.startswith('Heading 1') and (heading_name in paragraph.text):\n",
    "            found = True\n",
    "            continue\n",
    "        if found and paragraph.style.name != \"Heading 1\":\n",
    "            text += paragraph.text\n",
    "            text += '\\n\\n'\n",
    "        elif found and paragraph.style.name == \"Heading 1\":\n",
    "            break\n",
    "    return text\n",
    "\n",
    "def get_title_bypath(path1):\n",
    "    '''\n",
    "    :param path1: filepath\n",
    "    :return: current filename which is in our case the title\n",
    "    '''\n",
    "    name = path1.split('\\\\')[-1].split(\".\")[0]\n",
    "    return name\n",
    "\n",
    "def fill_drug_interaction_data(drug_interactions, title):\n",
    "    '''\n",
    "    :param drug_interactions: a text from heading Drug Interactions until its end, the text has the following format:\n",
    "        Drug Interactive Name: Interaction. Risk X: Required action.\n",
    "    :param title:  title for the drug that has the drug interactions section.\n",
    "    :return: four lists; Drug_Name : list for the title names.\n",
    "                         Drug_Interactive: List for the interactive drug names.\n",
    "    '''\n",
    "    Drug_Name, Drug_Interactive, Current_Interaction, Risk = [], [], [], []\n",
    "    for j in range(len(drug_interactions)):\n",
    "        interactions_per_drug = drug_interactions[j]\n",
    "\n",
    "        interactions_per_drug = interactions_per_drug.split('\\n')\n",
    "\n",
    "        for elem in interactions_per_drug[:]:\n",
    "\n",
    "            if \":\" in elem:\n",
    "                if 'Risk A' in elem:\n",
    "                    Risk.append('A')     ## Didn't exist on our dataset\n",
    "                elif 'Risk B' in elem:\n",
    "                    Risk.append('B')     ## Didn't exist on our dataset\n",
    "                elif 'Risk C' in elem:\n",
    "                    Risk.append('C')\n",
    "                elif 'Risk D' in elem:\n",
    "                    Risk.append('D')\n",
    "                elif 'Risk X' in elem:\n",
    "                    Risk.append('X')\n",
    "                else:\n",
    "                    Risk.append('Not determined') ## Should get handled later\n",
    "\n",
    "                elem = elem.split(':')\n",
    "                Drug_Name.append(title)\n",
    "                Drug_Interactive.append(elem[0])\n",
    "                if len(elem) > 2:\n",
    "                    elems = ':'.join(elem[1:])\n",
    "                else:\n",
    "                    elems = elem[1]\n",
    "                Current_Interaction.append(elems)\n",
    "\n",
    "    return Drug_Name, Drug_Interactive, Current_Interaction, Risk\n",
    "\n",
    "def clean_drug_interaction(drug_interactions):\n",
    "    while (\"\" in drug_interactions):\n",
    "        drug_interactions.remove(\"\")\n",
    "\n",
    "    while (\" \" in drug_interactions):\n",
    "        drug_interactions.remove(\" \")\n",
    "\n",
    "    while (\"  \" in drug_interactions):\n",
    "        drug_interactions.remove(\"  \")\n",
    "\n",
    "    return drug_interactions"
   ],
   "metadata": {
    "collapsed": false,
    "ExecuteTime": {
     "end_time": "2023-05-29T14:41:56.801620800Z",
     "start_time": "2023-05-29T14:41:56.772242600Z"
    }
   }
  },
  {
   "cell_type": "code",
   "execution_count": 5,
   "outputs": [],
   "source": [
    "Drug_Name, Drug_Interactive, Current_Interaction, Risk = [], [], [], []\n",
    "\n",
    "for i in range(len(list_pdfs)):\n",
    "    document = Document(list_pdfs[i])  ## Read the document.\n",
    "    title = get_title_bypath(list_pdfs[i])\n",
    "\n",
    "    drug_interactions = get_drug_interactions(document.paragraphs).split('\\n\\n')[1:]  ## Get the required section, first line is empty\n",
    "\n",
    "    drug_interactions = clean_drug_interaction(drug_interactions) ## Get ready of split lines \\n\n",
    "    X = fill_drug_interaction_data(drug_interactions, title)\n",
    "    Drug_Name = Drug_Name + X[0]\n",
    "    Drug_Interactive = Drug_Interactive + X[1]\n",
    "    Current_Interaction = Current_Interaction + X[2]\n",
    "    Risk = Risk + X[3]"
   ],
   "metadata": {
    "collapsed": false,
    "ExecuteTime": {
     "end_time": "2023-05-29T14:42:32.757121800Z",
     "start_time": "2023-05-29T14:42:31.978744600Z"
    }
   }
  },
  {
   "cell_type": "code",
   "execution_count": 6,
   "outputs": [
    {
     "data": {
      "text/plain": "['Abacavir and Lamivudine',\n 'Abacavir and Lamivudine',\n 'Abacavir and Lamivudine',\n 'Abacavir and Lamivudine',\n 'Abacavir and Lamivudine',\n 'Abacavir and Lamivudine',\n 'Abacavir and Lamivudine',\n 'Abacavir and Lamivudine',\n 'Abacavir and Lamivudine',\n 'Abacavir and Lamivudine',\n 'Abacavir and Lamivudine',\n 'Abacavir and Lamivudine',\n 'Abacavir and Lamivudine',\n 'Abacavir and Lamivudine',\n 'Abacavir and Lamivudine',\n 'Abacavir and Lamivudine',\n 'Abacavir and Lamivudine',\n 'Abacavir and Lamivudine',\n 'Abacavir and Lamivudine',\n 'Abacavir, Dolutegravir, and Lamivudine',\n 'Abacavir, Dolutegravir, and Lamivudine',\n 'Abacavir, Dolutegravir, and Lamivudine',\n 'Abacavir, Dolutegravir, and Lamivudine',\n 'Abacavir, Dolutegravir, and Lamivudine',\n 'Abacavir, Dolutegravir, and Lamivudine',\n 'Abacavir, Dolutegravir, and Lamivudine',\n 'Abacavir, Dolutegravir, and Lamivudine',\n 'Abacavir, Dolutegravir, and Lamivudine',\n 'Abacavir, Dolutegravir, and Lamivudine',\n 'Abacavir, Dolutegravir, and Lamivudine',\n 'Abacavir, Dolutegravir, and Lamivudine',\n 'Abacavir, Dolutegravir, and Lamivudine',\n 'Abacavir, Dolutegravir, and Lamivudine',\n 'Abacavir, Dolutegravir, and Lamivudine',\n 'Abacavir, Dolutegravir, and Lamivudine',\n 'Abacavir, Dolutegravir, and Lamivudine',\n 'Abacavir, Dolutegravir, and Lamivudine',\n 'Abacavir, Dolutegravir, and Lamivudine',\n 'Abacavir, Dolutegravir, and Lamivudine',\n 'Abacavir, Dolutegravir, and Lamivudine',\n 'Abacavir, Dolutegravir, and Lamivudine',\n 'Abacavir, Dolutegravir, and Lamivudine',\n 'Abacavir, Dolutegravir, and Lamivudine',\n 'Abacavir, Dolutegravir, and Lamivudine',\n 'Abacavir, Dolutegravir, and Lamivudine',\n 'Abacavir, Dolutegravir, and Lamivudine',\n 'Abacavir, Dolutegravir, and Lamivudine',\n 'Abacavir, Dolutegravir, and Lamivudine',\n 'Abacavir, Dolutegravir, and Lamivudine',\n 'Abacavir, Dolutegravir, and Lamivudine',\n 'Abacavir, Dolutegravir, and Lamivudine',\n 'Abacavir, Dolutegravir, and Lamivudine',\n 'Abacavir, Dolutegravir, and Lamivudine',\n 'Abacavir, Dolutegravir, and Lamivudine',\n 'Abacavir, Dolutegravir, and Lamivudine',\n 'Abacavir, Dolutegravir, and Lamivudine',\n 'Abacavir, Dolutegravir, and Lamivudine',\n 'Abacavir, Dolutegravir, and Lamivudine',\n 'Abacavir, Dolutegravir, and Lamivudine',\n 'Abacavir, Dolutegravir, and Lamivudine',\n 'Abacavir, Dolutegravir, and Lamivudine',\n 'Abacavir, Dolutegravir, and Lamivudine',\n 'Abacavir, Dolutegravir, and Lamivudine',\n 'Abacavir, Dolutegravir, and Lamivudine',\n 'Abacavir, Dolutegravir, and Lamivudine',\n 'Abacavir, Dolutegravir, and Lamivudine',\n 'Abacavir, Dolutegravir, and Lamivudine',\n 'Abacavir',\n 'Abacavir',\n 'Abacavir',\n 'Abacavir',\n 'Abacavir',\n 'Abacavir',\n 'Abacavir',\n 'Abacavir',\n 'Abacavir',\n 'Abaloparatide',\n 'Abatacept',\n 'Abatacept',\n 'Abatacept',\n 'Abatacept',\n 'Abatacept',\n 'Abatacept',\n 'Abatacept',\n 'Abatacept',\n 'Abatacept',\n 'Abatacept',\n 'Abatacept',\n 'Abatacept',\n 'Abatacept',\n 'Abatacept',\n 'Abatacept',\n 'Abatacept',\n 'Abatacept',\n 'Abatacept',\n 'Abatacept',\n 'Abatacept',\n 'Abatacept',\n 'Abatacept',\n 'Abatacept',\n 'Abatacept',\n 'Abatacept',\n 'Abatacept',\n 'Abatacept',\n 'Abatacept',\n 'Abatacept',\n 'Abatacept',\n 'Abatacept',\n 'Abatacept',\n 'Abatacept',\n 'Abatacept',\n 'Abatacept',\n 'Abatacept',\n 'Abatacept',\n 'Abatacept',\n 'Abatacept',\n 'Abatacept',\n 'Abatacept',\n 'Abatacept',\n 'Abatacept',\n 'Abatacept',\n 'Abatacept',\n 'Abatacept',\n 'Abatacept',\n 'Abatacept',\n 'Abatacept',\n 'Abatacept',\n 'Abatacept',\n 'Abatacept',\n 'Abatacept',\n 'Abatacept',\n 'Abatacept',\n 'Abatacept',\n 'Abatacept',\n 'Abciximab',\n 'Abciximab',\n 'Abciximab',\n 'Abciximab',\n 'Abciximab',\n 'Abciximab',\n 'Abciximab',\n 'Abciximab',\n 'Abciximab',\n 'Abciximab',\n 'Abciximab',\n 'Abciximab',\n 'Abciximab',\n 'Abciximab',\n 'Abciximab',\n 'Abciximab',\n 'Abciximab',\n 'Abciximab',\n 'Abciximab',\n 'Abciximab',\n 'Abciximab',\n 'Abciximab',\n 'Abciximab',\n 'Abciximab',\n 'Abciximab',\n 'Abciximab',\n 'Abciximab',\n 'Abciximab',\n 'Abciximab',\n 'Abciximab',\n 'Abciximab',\n 'Abciximab',\n 'Abciximab',\n 'Abciximab',\n 'Abciximab',\n 'Abciximab',\n 'Abciximab',\n 'Abemaciclib',\n 'Abemaciclib',\n 'Abemaciclib',\n 'Abemaciclib',\n 'Abemaciclib',\n 'Abemaciclib',\n 'Abemaciclib',\n 'Abemaciclib',\n 'Abemaciclib',\n 'Abemaciclib',\n 'Abemaciclib',\n 'Abemaciclib',\n 'Abemaciclib',\n 'Abemaciclib',\n 'Abemaciclib',\n 'Abemaciclib',\n 'Abemaciclib',\n 'Abemaciclib',\n 'Abemaciclib',\n 'Abemaciclib',\n 'Abemaciclib',\n 'Abemaciclib',\n 'Abemaciclib',\n 'Abemaciclib',\n 'Abemaciclib',\n 'Abemaciclib',\n 'Abemaciclib',\n 'Abemaciclib',\n 'Abemaciclib',\n 'Abemaciclib',\n 'Abemaciclib',\n 'Abemaciclib',\n 'Abemaciclib',\n 'Abemaciclib',\n 'Abemaciclib',\n 'Abemaciclib',\n 'Abemaciclib',\n 'Abemaciclib',\n 'Abemaciclib',\n 'Abemaciclib',\n 'Abemaciclib',\n 'Abemaciclib',\n 'Abemaciclib',\n 'Abemaciclib',\n 'Abemaciclib',\n 'Abemaciclib',\n 'Abemaciclib',\n 'Abemaciclib',\n 'Abemaciclib',\n 'Abemaciclib',\n 'Abemaciclib',\n 'Abemaciclib',\n 'Abemaciclib',\n 'Abemaciclib',\n 'Abemaciclib',\n 'Abemaciclib',\n 'Abemaciclib',\n 'Abemaciclib',\n 'Abemaciclib',\n 'Abemaciclib',\n 'Abemaciclib',\n 'Abemaciclib',\n 'Abemaciclib',\n 'Abemaciclib',\n 'Abemaciclib',\n 'Abemaciclib',\n 'Abiraterone Acetate',\n 'Abiraterone Acetate',\n 'Abiraterone Acetate',\n 'Abiraterone Acetate',\n 'Abiraterone Acetate',\n 'Abiraterone Acetate',\n 'Abiraterone Acetate',\n 'Abiraterone Acetate',\n 'Abiraterone Acetate',\n 'Abiraterone Acetate',\n 'Abiraterone Acetate',\n 'Abiraterone Acetate',\n 'Abiraterone Acetate',\n 'Abiraterone Acetate',\n 'Abiraterone Acetate',\n 'Abiraterone Acetate',\n 'Abiraterone Acetate',\n 'Abiraterone Acetate',\n 'Abiraterone Acetate',\n 'Abiraterone Acetate',\n 'Abiraterone Acetate',\n 'Abiraterone Acetate',\n 'Abiraterone Acetate',\n 'Abiraterone Acetate',\n 'Abiraterone Acetate',\n 'Abiraterone Acetate',\n 'Abiraterone Acetate',\n 'Abiraterone Acetate',\n 'Abiraterone Acetate',\n 'Abiraterone Acetate',\n 'Abiraterone Acetate',\n 'Abiraterone Acetate',\n 'Abiraterone Acetate',\n 'Abiraterone Acetate',\n 'Abiraterone Acetate',\n 'Abiraterone Acetate',\n 'Abiraterone Acetate',\n 'Abiraterone Acetate',\n 'Abiraterone Acetate',\n 'Abiraterone Acetate',\n 'Abiraterone Acetate',\n 'Abiraterone Acetate',\n 'Abiraterone Acetate',\n 'Abiraterone Acetate',\n 'Abiraterone Acetate',\n 'Abiraterone Acetate',\n 'Abiraterone Acetate',\n 'Abiraterone Acetate',\n 'Abiraterone Acetate',\n 'Abiraterone Acetate',\n 'Abiraterone Acetate',\n 'Abiraterone Acetate',\n 'Abiraterone Acetate',\n 'Abiraterone Acetate',\n 'Abiraterone Acetate']"
     },
     "execution_count": 6,
     "metadata": {},
     "output_type": "execute_result"
    }
   ],
   "source": [
    "Drug_Name"
   ],
   "metadata": {
    "collapsed": false,
    "ExecuteTime": {
     "end_time": "2023-05-29T14:42:38.153599900Z",
     "start_time": "2023-05-29T14:42:38.137978Z"
    }
   }
  },
  {
   "cell_type": "code",
   "execution_count": 7,
   "outputs": [
    {
     "data": {
      "text/plain": "['Note',\n 'Betibeglogene Autotemcel',\n 'Cabozantinib',\n 'Cladribine',\n 'Elivaldogene Autotemcel',\n 'Erdafitinib',\n 'Fexinidazole',\n 'Fexinidazole',\n 'Gilteritinib',\n 'Levomethadone',\n 'Methadone',\n 'Orlistat',\n 'Pacritinib',\n 'Riociguat',\n 'Risdiplam',\n 'Sorbitol',\n 'Tafenoquine',\n 'Tafenoquine',\n 'Trimethoprim',\n 'Note',\n 'Aluminum Hydroxide',\n 'Antidiabetic Agents',\n 'Calcium Salts',\n 'CarBAMazepine',\n 'Increase weight-based dose to twice daily in pediatric patients. Specific recommendations vary for combination products; see interaction monograph for details. Risk D',\n 'Cladribine',\n 'Clofarabine',\n 'Dalfampridine',\n 'Dofetilide',\n 'Efavirenz',\n 'Elivaldogene Autotemcel',\n 'Erdafitinib',\n 'Etravirine',\n 'Fexinidazole',\n 'Fexinidazole',\n 'Fosamprenavir',\n 'Fosphenytoin-Phenytoin',\n 'Gilteritinib',\n 'Iron Preparations',\n 'Isoniazid',\n 'Risk C',\n 'Levomethadone',\n 'Magnesium Salts',\n 'MetFORMIN',\n 'Methadone',\n 'Mitapivat',\n 'Multivitamins/Minerals (with ADEK, Folate, Iron)',\n 'Multivitamins/Minerals (with AE, No Iron)',\n 'Nevirapine',\n 'Pacritinib',\n 'PHENobarbital',\n 'Primidone',\n 'Rifabutin',\n 'RifAMPin',\n 'Rifapentine',\n 'Riociguat',\n 'Risdiplam',\n 'Selenium',\n 'Sorbitol',\n \"St John's Wort\",\n 'Sucralfate',\n 'Tafenoquine',\n 'Tafenoquine',\n 'Tipranavir',\n 'Trimethoprim',\n 'Valproate Products',\n 'Zinc Salts',\n 'Note',\n 'Betibeglogene Autotemcel',\n 'Cabozantinib',\n 'Cladribine',\n 'Elivaldogene Autotemcel',\n 'Levomethadone',\n 'Methadone',\n 'Orlistat',\n 'Riociguat',\n 'Note',\n 'Note',\n 'Abrocitinib',\n 'Anifrolumab',\n 'Antithymocyte Globulin (Equine)',\n 'Immunosuppressants (Therapeutic Immunosuppressant Agents) may enhance the immunosuppressive effect of Antithymocyte Globulin (Equine). Specifically, infections may occur with greater severity and/or atypical presentations. Risk C',\n 'Anti-TNF Agents',\n 'Baricitinib',\n 'BCG Products',\n 'Specifically, the risk of vaccine-associated infection may be increased. Immunosuppressants (Therapeutic Immunosuppressant Agents) may diminish the therapeutic effect of BCG Products. Risk X',\n 'Belimumab',\n 'Biologic Disease-Modifying Antirheumatic Drugs (DMARDs)',\n 'Brincidofovir',\n 'Brivudine',\n 'Cladribine',\n 'Coccidioides immitis Skin Test',\n 'COVID-19 Vaccines',\n 'Dengue Tetravalent Vaccine (Live)',\n 'Denosumab',\n 'Management',\n 'Deucravacitinib',\n 'Efgartigimod Alfa',\n 'Filgotinib',\n 'Inebilizumab',\n 'Risk C',\n 'Influenza Virus Vaccines',\n 'competence restored. Risk D',\n 'Leflunomide',\n 'Management',\n 'Mumps- Rubella- or Varicella-Containing Live Vaccines',\n 'Nadofaragene Firadenovec',\n 'Natalizumab',\n 'Risk X',\n 'Ocrelizumab',\n 'Risk C',\n 'Ofatumumab',\n 'Pidotimod',\n 'Pimecrolimus',\n 'Pneumococcal Vaccines',\n 'Poliovirus Vaccine (Live/Trivalent/Oral)',\n 'Immunosuppressants (Therapeutic Immunosuppressant Agents) may diminish the therapeutic effect of Poliovirus Vaccine (Live/Trivalent/Oral). Risk X',\n 'Polymethylmethacrylate',\n 'Rabies Vaccine',\n 'Ruxolitinib (Topical)',\n 'Sipuleucel-T',\n 'Sphingosine 1-Phosphate (S1P) Receptor Modulator',\n 'Tacrolimus (Topical)',\n 'Talimogene Laherparepvec',\n 'Tertomotide',\n 'Tofacitinib',\n 'Typhoid Vaccine',\n 'Ublituximab',\n 'Risk C',\n 'Upadacitinib',\n 'Risk X',\n 'Vaccines (Inactivated/Non-Replicating)',\n 'Vaccines (Live)',\n 'Yellow Fever Vaccine',\n 'Note',\n 'Abrocitinib',\n 'Acalabrutinib',\n 'Agents with Antiplatelet Properties (e.g., P2Y12 inhibitors, NSAIDs, SSRIs, etc.)',\n 'Anagrelide',\n 'Anticoagulants',\n 'Apixaban',\n 'Bemiparin',\n 'Caplacizumab',\n 'Cephalothin',\n 'Collagenase (Systemic)',\n 'Dabigatran Etexilate',\n 'Dasatinib',\n 'Deoxycholic Acid',\n 'Dextran',\n 'Edoxaban',\n 'Enoxaparin',\n 'Heparin',\n 'Herbal Products with Anticoagulant/Antiplatelet Effects (eg, Alfalfa, Anise, Bilberry)',\n 'Ibritumomab Tiuxetan',\n 'Ibrutinib',\n 'Lecanemab',\n 'Limaprost',\n 'Lipid Emulsion (Fish Oil Based)',\n 'Multivitamins/Fluoride (with ADE)',\n 'Multivitamins/Minerals (with ADEK, Folate, Iron)',\n 'Multivitamins/Minerals (with AE, No Iron)',\n 'Obinutuzumab',\n 'Omega-3 Fatty Acids',\n 'Pentosan Polysulfate Sodium',\n 'Pentoxifylline',\n 'Rivaroxaban',\n 'Salicylates',\n 'Selumetinib',\n 'Thrombolytic Agents',\n 'Tipranavir',\n 'Urokinase',\n 'Note',\n '5-Aminosalicylic Acid Derivatives',\n 'Abrocitinib',\n 'Antithymocyte Globulin (Equine)',\n 'Baricitinib',\n 'BCG (Intravesical)',\n 'BCG Products',\n 'Brincidofovir',\n 'Brivudine',\n 'Chloramphenicol (Ophthalmic)',\n 'Cladribine',\n 'Cladribine',\n 'Clofazimine',\n 'CloZAPine',\n 'Coccidioides immitis Skin Test',\n 'COVID-19 Vaccine (Adenovirus Vector)',\n 'COVID-19 Vaccine (Inactivated Virus)',\n 'COVID-19 Vaccine (mRNA)',\n 'COVID-19 Vaccine (Subunit)',\n 'COVID-19 Vaccine (Virus-like Particles)',\n 'CYP3A4 Inducers (Moderate)',\n 'CYP3A4 Inducers (Strong)',\n 'CYP3A4 Inhibitors (Moderate)',\n 'CYP3A4 Inhibitors (Strong)',\n 'Deferiprone',\n 'Dengue Tetravalent Vaccine (Live)',\n 'Denosumab',\n 'Deucravacitinib',\n 'Dipyrone',\n 'Fexinidazole',\n 'Fexinidazole',\n 'Filgotinib',\n 'Inebilizumab',\n 'Influenza Virus Vaccines',\n 'Ketoconazole (Systemic)',\n 'Leflunomide',\n 'MetFORMIN',\n 'Mumps- Rubella- or Varicella-Containing Live Vaccines',\n 'Nadofaragene Firadenovec',\n 'Natalizumab',\n 'Ocrelizumab',\n 'Ofatumumab',\n 'Olaparib',\n 'Pidotimod',\n 'Pimecrolimus',\n 'Pneumococcal Vaccines',\n 'Poliovirus Vaccine (Live/Trivalent/Oral)',\n 'Polymethylmethacrylate',\n 'Promazine',\n 'Rabies Vaccine',\n 'Ropeginterferon Alfa-2b',\n 'Ruxolitinib (Topical)',\n 'Sipuleucel-T',\n 'Sphingosine 1-Phosphate (S1P) Receptor Modulator',\n 'Tacrolimus (Topical)',\n 'Talimogene Laherparepvec',\n 'Tertomotide',\n 'Tofacitinib',\n 'Typhoid Vaccine',\n 'Specifically, the risk of vaccine-associated infection may be increased. Immunosuppressants (Miscellaneous Oncologic Agents) may diminish the therapeutic effect of Typhoid Vaccine. Risk X',\n 'Ublituximab',\n 'Upadacitinib',\n 'Vaccines (Inactivated/Non-Replicating)',\n 'Vaccines (Live)',\n 'Yellow Fever Vaccine',\n 'Specifically, the risk of vaccine-associated infection may be increased. Immunosuppressants (Miscellaneous Oncologic Agents) may diminish the therapeutic effect of Yellow Fever Vaccine. Risk X',\n 'Note',\n 'Ajmaline',\n 'Amitriptyline',\n 'Amoxapine',\n 'Amphetamines',\n 'Androgens',\n 'ARIPiprazole',\n 'ARIPiprazole Lauroxil',\n 'Risk C',\n 'Atomoxetine',\n 'Brexpiprazole',\n 'Carvedilol',\n 'Choline C 11',\n 'ClomiPRAMINE',\n 'CloZAPine',\n 'Codeine',\n 'CYP3A4 Inducers (Moderate)',\n 'CYP3A4 Inducers (Strong)',\n 'Daprodustat',\n 'Desipramine',\n 'Deutetrabenazine',\n 'Dextromethorphan',\n 'DOXOrubicin (Conventional)',\n 'Eliglustat',\n 'Flecainide',\n 'Gallium Ga 68 PSMA-11',\n 'Haloperidol',\n 'HMG-CoA Reductase Inhibitors (Statins)',\n 'Iboga',\n 'Iloperidone',\n 'Imipramine',\n 'Indium 111 Capromab Pendetide',\n 'Indoramin',\n 'Lofepramine',\n 'Mequitazine',\n 'Nebivolol',\n 'Piflufolastat F18',\n 'Pimozide',\n 'Radium Ra 223 Dichloride',\n 'Repaglinide',\n 'Rifabutin',\n 'Rifapentine',\n 'RisperiDONE',\n 'Spironolactone',\n 'Tamoxifen',\n 'Tamsulosin',\n 'Tetrabenazine',\n 'Thiazolidinediones',\n 'Thioridazine',\n 'Timolol (Systemic)',\n 'TraMADol',\n 'Trimipramine',\n 'Valbenazine',\n 'Vortioxetine',\n 'Zuclopenthixol']"
     },
     "execution_count": 7,
     "metadata": {},
     "output_type": "execute_result"
    }
   ],
   "source": [
    "Drug_Interactive"
   ],
   "metadata": {
    "collapsed": false,
    "ExecuteTime": {
     "end_time": "2023-05-29T14:42:43.102930400Z",
     "start_time": "2023-05-29T14:42:43.055815700Z"
    }
   }
  },
  {
   "cell_type": "code",
   "execution_count": 8,
   "outputs": [],
   "source": [
    "Drug_Interactive0 = Drug_Interactive[:]\n",
    "Current_Interaction0 = Current_Interaction[:]\n",
    "\n",
    "cs = ['Monitor therapy', 'Consider monitor therapy', 'Avoid combination', 'Consider therapy modification',\n",
    "      'Consider therapy', 'Consider']\n",
    "ds = ['Risk C', 'Risk D', 'Risk X', 'C', 'D', 'X', 'Management']\n",
    "\n",
    "for i in range(1, len(Drug_Interactive)):\n",
    "    d = Drug_Interactive[i];\n",
    "    c = Current_Interaction[i]\n",
    "    if d.strip() in ds or c.strip() in cs:\n",
    "        Current_Interaction[i - 1] = str(Current_Interaction[i - 1]) + ' ' + str(d) + ':' + str(c)\n",
    "        Drug_Interactive[i] = 'none';\n",
    "        Current_Interaction[i] = 'none'\n",
    "\n",
    "for i in range(len(Current_Interaction)): ## For the undetermined Risk types, we search first for the identical mathces.\n",
    "    elem = Current_Interaction[i]\n",
    "    if Risk[i] == 'Not determined':\n",
    "        if 'Risk A' in elem:\n",
    "            Risk[i] = 'A'\n",
    "        elif 'Risk B' in elem:\n",
    "            Risk[i] = 'B'\n",
    "        elif 'Risk C' in elem:\n",
    "            Risk[i] = 'C'\n",
    "        elif 'Risk D' in elem or 'D: Consider therapy' in elem:\n",
    "            Risk[i] = 'D'\n",
    "        elif 'Risk X' in elem or 'X: Avoid combination' in elem:\n",
    "            Risk[i] = 'X'\n",
    "        else:\n",
    "            Risk[i] = 'Not determined'"
   ],
   "metadata": {
    "collapsed": false,
    "ExecuteTime": {
     "end_time": "2023-05-29T14:43:56.963458600Z",
     "start_time": "2023-05-29T14:43:56.850809600Z"
    }
   }
  },
  {
   "cell_type": "code",
   "execution_count": 9,
   "outputs": [
    {
     "data": {
      "text/plain": "['Not determined',\n 'X',\n 'C',\n 'X',\n 'X',\n 'D',\n 'D',\n 'D',\n 'C',\n 'C',\n 'C',\n 'C',\n 'X',\n 'C',\n 'D',\n 'D',\n 'D',\n 'D',\n 'C',\n 'Not determined',\n 'D',\n 'C',\n 'D',\n 'D',\n 'D',\n 'X',\n 'C',\n 'D',\n 'X',\n 'D',\n 'X',\n 'D',\n 'D',\n 'D',\n 'D',\n 'D',\n 'X',\n 'C',\n 'D',\n 'C',\n 'C',\n 'C',\n 'D',\n 'D',\n 'C',\n 'C',\n 'D',\n 'D',\n 'C',\n 'X',\n 'X',\n 'X',\n 'C',\n 'D',\n 'C',\n 'C',\n 'D',\n 'D',\n 'D',\n 'X',\n 'D',\n 'D',\n 'D',\n 'D',\n 'C',\n 'C',\n 'D',\n 'Not determined',\n 'X',\n 'C',\n 'X',\n 'X',\n 'C',\n 'C',\n 'C',\n 'C',\n 'Not determined',\n 'Not determined',\n 'X',\n 'X',\n 'C',\n 'C',\n 'X',\n 'X',\n 'X',\n 'X',\n 'D',\n 'X',\n 'C',\n 'X',\n 'X',\n 'D',\n 'D',\n 'X',\n 'D',\n 'D',\n 'X',\n 'C',\n 'X',\n 'C',\n 'C',\n 'D',\n 'D',\n 'D',\n 'D',\n 'X',\n 'X',\n 'X',\n 'X',\n 'C',\n 'C',\n 'C',\n 'C',\n 'X',\n 'C',\n 'X',\n 'X',\n 'D',\n 'D',\n 'X',\n 'D',\n 'C',\n 'X',\n 'X',\n 'X',\n 'X',\n 'X',\n 'C',\n 'C',\n 'X',\n 'X',\n 'D',\n 'X',\n 'X',\n 'Not determined',\n 'X',\n 'C',\n 'C',\n 'C',\n 'C',\n 'C',\n 'D',\n 'D',\n 'C',\n 'C',\n 'C',\n 'C',\n 'C',\n 'X',\n 'C',\n 'D',\n 'D',\n 'C',\n 'C',\n 'C',\n 'C',\n 'C',\n 'C',\n 'C',\n 'C',\n 'C',\n 'C',\n 'C',\n 'C',\n 'C',\n 'C',\n 'C',\n 'C',\n 'C',\n 'C',\n 'C',\n 'Not determined',\n 'C',\n 'X',\n 'C',\n 'X',\n 'X',\n 'X',\n 'C',\n 'X',\n 'C',\n 'X',\n 'X',\n 'C',\n 'C',\n 'D',\n 'D',\n 'C',\n 'D',\n 'C',\n 'C',\n 'X',\n 'X',\n 'C',\n 'D',\n 'D',\n 'X',\n 'D',\n 'X',\n 'X',\n 'X',\n 'X',\n 'X',\n 'C',\n 'D',\n 'X',\n 'D',\n 'C',\n 'X',\n 'X',\n 'X',\n 'C',\n 'C',\n 'C',\n 'C',\n 'X',\n 'C',\n 'X',\n 'D',\n 'C',\n 'D',\n 'D',\n 'X',\n 'D',\n 'C',\n 'X',\n 'X',\n 'X',\n 'X',\n 'X',\n 'X',\n 'C',\n 'X',\n 'D',\n 'X',\n 'X',\n 'X',\n 'Not determined',\n 'C',\n 'C',\n 'C',\n 'C',\n 'C',\n 'C',\n 'C',\n 'C',\n 'C',\n 'C',\n 'C',\n 'C',\n 'C',\n 'C',\n 'C',\n 'C',\n 'D',\n 'C',\n 'C',\n 'C',\n 'C',\n 'X',\n 'D',\n 'C',\n 'D',\n 'C',\n 'C',\n 'C',\n 'C',\n 'C',\n 'X',\n 'C',\n 'C',\n 'C',\n 'C',\n 'D',\n 'C',\n 'X',\n 'C',\n 'C',\n 'C',\n 'C',\n 'D',\n 'D',\n 'C',\n 'C',\n 'C',\n 'X',\n 'C',\n 'C',\n 'C',\n 'C',\n 'C',\n 'C']"
     },
     "execution_count": 9,
     "metadata": {},
     "output_type": "execute_result"
    }
   ],
   "source": [
    "Risk  ## Still we have a percentage of the 'Not determined' value."
   ],
   "metadata": {
    "collapsed": false,
    "ExecuteTime": {
     "end_time": "2023-05-29T14:44:02.348776500Z",
     "start_time": "2023-05-29T14:44:02.304903800Z"
    }
   }
  },
  {
   "cell_type": "code",
   "execution_count": 10,
   "outputs": [],
   "source": [
    "Risk2=  Risk[:]; Drug_Interactive2 = Drug_Interactive[:]; Current_Interaction2 = Current_Interaction[:]; Drug_Name2 = Drug_Name[:]\n",
    "\n",
    "Risk=  Risk2[:]; Drug_Interactive = Drug_Interactive2[:]; Current_Interaction = Current_Interaction2[:]; Drug_Name = Drug_Name2[:]\n",
    "for i in range(len(Risk)): ###  Collect the next items for the not determined cases in order to grasp what's missing\n",
    "    if Risk[i] == 'Not determined' and len(Drug_Interactive[i+1]) > 40:\n",
    "        Current_Interaction[i] = Current_Interaction[i] + Drug_Interactive[i+1] + ':' + Current_Interaction[i+1]\n",
    "        Risk[i] = Risk[i+1]\n",
    "        Current_Interaction[i+1] = Drug_Interactive[i+1] = Risk[i+1] = Drug_Name[i+1] = ''"
   ],
   "metadata": {
    "collapsed": false,
    "ExecuteTime": {
     "end_time": "2023-05-30T07:07:57.225923Z",
     "start_time": "2023-05-30T07:07:57.210056500Z"
    }
   }
  },
  {
   "cell_type": "code",
   "execution_count": 11,
   "outputs": [
    {
     "data": {
      "text/plain": "8"
     },
     "execution_count": 11,
     "metadata": {},
     "output_type": "execute_result"
    }
   ],
   "source": [
    "k=0\n",
    "for j in Risk:\n",
    "    if j == 'Not determined':\n",
    "        k +=1\n",
    "k"
   ],
   "metadata": {
    "collapsed": false,
    "ExecuteTime": {
     "end_time": "2023-05-30T07:07:57.410874Z",
     "start_time": "2023-05-30T07:07:57.395225600Z"
    }
   }
  },
  {
   "cell_type": "code",
   "execution_count": 1,
   "outputs": [],
   "source": [
    "## put drug_name, interactive, interaction, risk type in a dataframe and concat it with the df_Notes\n",
    "## call the dartaframe: df_interactions\n",
    "df_interactions = pd.DataFrame()\n",
    "df_interactions['Drug Name'] = Drug_Name\n",
    "df_interactions['Drug_Interactive'] = Drug_Interactive\n",
    "df_interactions['Current_Interaction'] = Current_Interaction\n",
    "df_interactions['Risk'] = Risk"
   ],
   "metadata": {
    "collapsed": false,
    "ExecuteTime": {
     "end_time": "2023-08-30T13:57:54.922797200Z",
     "start_time": "2023-08-30T13:57:54.887676800Z"
    }
   }
  },
  {
   "cell_type": "code",
   "execution_count": 13,
   "outputs": [
    {
     "data": {
      "text/plain": "                                  Drug Name Drug interactive  \\\n0                   Abacavir and Lamivudine             Note   \n19   Abacavir, Dolutegravir, and Lamivudine             Note   \n67                                 Abacavir             Note   \n76                            Abaloparatide             Note   \n77                                Abatacept             Note   \n134                               Abciximab             Note   \n171                             Abemaciclib             Note   \n237                     Abiraterone Acetate             Note   \n\n                                           Interaction            Risk  \n0     Interacting drugs may not be individually lis...  Not determined  \n19    Interacting drugs may not be individually lis...  Not determined  \n67    Interacting drugs may not be individually lis...  Not determined  \n76    Interacting drugs may not be individually lis...  Not determined  \n77    Interacting drugs may not be individually lis...  Not determined  \n134   Interacting drugs may not be individually lis...  Not determined  \n171   Interacting drugs may not be individually lis...  Not determined  \n237   Interacting drugs may not be individually lis...  Not determined  ",
      "text/html": "<div>\n<style scoped>\n    .dataframe tbody tr th:only-of-type {\n        vertical-align: middle;\n    }\n\n    .dataframe tbody tr th {\n        vertical-align: top;\n    }\n\n    .dataframe thead th {\n        text-align: right;\n    }\n</style>\n<table border=\"1\" class=\"dataframe\">\n  <thead>\n    <tr style=\"text-align: right;\">\n      <th></th>\n      <th>Drug Name</th>\n      <th>Drug interactive</th>\n      <th>Interaction</th>\n      <th>Risk</th>\n    </tr>\n  </thead>\n  <tbody>\n    <tr>\n      <th>0</th>\n      <td>Abacavir and Lamivudine</td>\n      <td>Note</td>\n      <td>Interacting drugs may not be individually lis...</td>\n      <td>Not determined</td>\n    </tr>\n    <tr>\n      <th>19</th>\n      <td>Abacavir, Dolutegravir, and Lamivudine</td>\n      <td>Note</td>\n      <td>Interacting drugs may not be individually lis...</td>\n      <td>Not determined</td>\n    </tr>\n    <tr>\n      <th>67</th>\n      <td>Abacavir</td>\n      <td>Note</td>\n      <td>Interacting drugs may not be individually lis...</td>\n      <td>Not determined</td>\n    </tr>\n    <tr>\n      <th>76</th>\n      <td>Abaloparatide</td>\n      <td>Note</td>\n      <td>Interacting drugs may not be individually lis...</td>\n      <td>Not determined</td>\n    </tr>\n    <tr>\n      <th>77</th>\n      <td>Abatacept</td>\n      <td>Note</td>\n      <td>Interacting drugs may not be individually lis...</td>\n      <td>Not determined</td>\n    </tr>\n    <tr>\n      <th>134</th>\n      <td>Abciximab</td>\n      <td>Note</td>\n      <td>Interacting drugs may not be individually lis...</td>\n      <td>Not determined</td>\n    </tr>\n    <tr>\n      <th>171</th>\n      <td>Abemaciclib</td>\n      <td>Note</td>\n      <td>Interacting drugs may not be individually lis...</td>\n      <td>Not determined</td>\n    </tr>\n    <tr>\n      <th>237</th>\n      <td>Abiraterone Acetate</td>\n      <td>Note</td>\n      <td>Interacting drugs may not be individually lis...</td>\n      <td>Not determined</td>\n    </tr>\n  </tbody>\n</table>\n</div>"
     },
     "execution_count": 13,
     "metadata": {},
     "output_type": "execute_result"
    }
   ],
   "source": [
    "df_Notes = df_interactions[df_interactions['Drug interactive']== 'Note']\n",
    "df_Notes ## Get a column for notes"
   ],
   "metadata": {
    "collapsed": false,
    "ExecuteTime": {
     "end_time": "2023-05-30T07:08:32.922729200Z",
     "start_time": "2023-05-30T07:08:32.889365800Z"
    }
   }
  },
  {
   "cell_type": "markdown",
   "source": [
    "## data review"
   ],
   "metadata": {
    "collapsed": false
   }
  },
  {
   "cell_type": "code",
   "execution_count": 15,
   "outputs": [],
   "source": [
    "import pandas as pd\n",
    "\n",
    "df = pd.read_excel('Notebooks/installations/Data/Results - Drug Interaction/Extracted Drug Interaction.xlsx').dropna()"
   ],
   "metadata": {
    "collapsed": false,
    "ExecuteTime": {
     "end_time": "2023-05-31T14:29:15.464305500Z",
     "start_time": "2023-05-31T14:29:07.526335700Z"
    }
   }
  },
  {
   "cell_type": "code",
   "execution_count": 16,
   "outputs": [
    {
     "data": {
      "text/plain": "             Drug Name                      Drug interactive  \\\n0             Abacavir              Betibeglogene Autotemcel   \n1             Abacavir                          Cabozantinib   \n2             Abacavir                            Cladribine   \n3             Abacavir               Elivaldogene Autotemcel   \n4             Abacavir                         Levomethadone   \n...                ...                                   ...   \n123454  Zuclopenthixol  Thiazide and Thiazide-Like Diuretics   \n123455  Zuclopenthixol                            Tiotropium   \n123456  Zuclopenthixol                          Umeclidinium   \n123457  Zuclopenthixol                              Valerian   \n123458  Zuclopenthixol                              Zolpidem   \n\n                                              Interaction Risk  \\\n0       Antiretroviral Agents may diminish the therape...    X   \n1       MRP2 Inhibitors may increase the serum concent...    C   \n2       Agents that Undergo Intracellular Phosphorylat...    X   \n3       Antiretroviral Agents may diminish the therape...    X   \n4       May diminish the therapeutic effect of Abacavi...    C   \n...                                                   ...  ...   \n123454  Anticholinergic Agents may increase the serum ...    C   \n123455  Anticholinergic Agents may enhance the anticho...    C   \n123456  May enhance the anticholinergic effect of Anti...    X   \n123457  May enhance the CNS depressant effect of CNS D...    C   \n123458  CNS Depressants may enhance the CNS depressant...    D   \n\n                                                    Notes  \n0                                                          \n1                                                          \n2                                                          \n3                                                          \n4        Interacting drugs may not be individually lis...  \n...                                                   ...  \n123454                                                     \n123455                                                     \n123456                                                     \n123457                                                     \n123458                                                     \n\n[108972 rows x 5 columns]",
      "text/html": "<div>\n<style scoped>\n    .dataframe tbody tr th:only-of-type {\n        vertical-align: middle;\n    }\n\n    .dataframe tbody tr th {\n        vertical-align: top;\n    }\n\n    .dataframe thead th {\n        text-align: right;\n    }\n</style>\n<table border=\"1\" class=\"dataframe\">\n  <thead>\n    <tr style=\"text-align: right;\">\n      <th></th>\n      <th>Drug Name</th>\n      <th>Drug interactive</th>\n      <th>Interaction</th>\n      <th>Risk</th>\n      <th>Notes</th>\n    </tr>\n  </thead>\n  <tbody>\n    <tr>\n      <th>0</th>\n      <td>Abacavir</td>\n      <td>Betibeglogene Autotemcel</td>\n      <td>Antiretroviral Agents may diminish the therape...</td>\n      <td>X</td>\n      <td></td>\n    </tr>\n    <tr>\n      <th>1</th>\n      <td>Abacavir</td>\n      <td>Cabozantinib</td>\n      <td>MRP2 Inhibitors may increase the serum concent...</td>\n      <td>C</td>\n      <td></td>\n    </tr>\n    <tr>\n      <th>2</th>\n      <td>Abacavir</td>\n      <td>Cladribine</td>\n      <td>Agents that Undergo Intracellular Phosphorylat...</td>\n      <td>X</td>\n      <td></td>\n    </tr>\n    <tr>\n      <th>3</th>\n      <td>Abacavir</td>\n      <td>Elivaldogene Autotemcel</td>\n      <td>Antiretroviral Agents may diminish the therape...</td>\n      <td>X</td>\n      <td></td>\n    </tr>\n    <tr>\n      <th>4</th>\n      <td>Abacavir</td>\n      <td>Levomethadone</td>\n      <td>May diminish the therapeutic effect of Abacavi...</td>\n      <td>C</td>\n      <td>Interacting drugs may not be individually lis...</td>\n    </tr>\n    <tr>\n      <th>...</th>\n      <td>...</td>\n      <td>...</td>\n      <td>...</td>\n      <td>...</td>\n      <td>...</td>\n    </tr>\n    <tr>\n      <th>123454</th>\n      <td>Zuclopenthixol</td>\n      <td>Thiazide and Thiazide-Like Diuretics</td>\n      <td>Anticholinergic Agents may increase the serum ...</td>\n      <td>C</td>\n      <td></td>\n    </tr>\n    <tr>\n      <th>123455</th>\n      <td>Zuclopenthixol</td>\n      <td>Tiotropium</td>\n      <td>Anticholinergic Agents may enhance the anticho...</td>\n      <td>C</td>\n      <td></td>\n    </tr>\n    <tr>\n      <th>123456</th>\n      <td>Zuclopenthixol</td>\n      <td>Umeclidinium</td>\n      <td>May enhance the anticholinergic effect of Anti...</td>\n      <td>X</td>\n      <td></td>\n    </tr>\n    <tr>\n      <th>123457</th>\n      <td>Zuclopenthixol</td>\n      <td>Valerian</td>\n      <td>May enhance the CNS depressant effect of CNS D...</td>\n      <td>C</td>\n      <td></td>\n    </tr>\n    <tr>\n      <th>123458</th>\n      <td>Zuclopenthixol</td>\n      <td>Zolpidem</td>\n      <td>CNS Depressants may enhance the CNS depressant...</td>\n      <td>D</td>\n      <td></td>\n    </tr>\n  </tbody>\n</table>\n<p>108972 rows × 5 columns</p>\n</div>"
     },
     "execution_count": 16,
     "metadata": {},
     "output_type": "execute_result"
    }
   ],
   "source": [
    "df"
   ],
   "metadata": {
    "collapsed": false,
    "ExecuteTime": {
     "end_time": "2023-05-31T14:29:15.479972500Z",
     "start_time": "2023-05-31T14:29:15.464305500Z"
    }
   }
  },
  {
   "cell_type": "code",
   "execution_count": 19,
   "outputs": [
    {
     "data": {
      "text/plain": "             Drug Name                      Drug interactive  \\\n0             Abacavir              Betibeglogene Autotemcel   \n1             Abacavir                          Cabozantinib   \n2             Abacavir                            Cladribine   \n3             Abacavir               Elivaldogene Autotemcel   \n4             Abacavir                         Levomethadone   \n...                ...                                   ...   \n123454  Zuclopenthixol  Thiazide and Thiazide-Like Diuretics   \n123455  Zuclopenthixol                            Tiotropium   \n123456  Zuclopenthixol                          Umeclidinium   \n123457  Zuclopenthixol                              Valerian   \n123458  Zuclopenthixol                              Zolpidem   \n\n                                              Interaction Risk  \\\n0       Antiretroviral Agents may diminish the therape...    X   \n1       MRP2 Inhibitors may increase the serum concent...    C   \n2       Agents that Undergo Intracellular Phosphorylat...    X   \n3       Antiretroviral Agents may diminish the therape...    X   \n4       May diminish the therapeutic effect of Abacavi...    C   \n...                                                   ...  ...   \n123454  Anticholinergic Agents may increase the serum ...    C   \n123455  Anticholinergic Agents may enhance the anticho...    C   \n123456  May enhance the anticholinergic effect of Anti...    X   \n123457  May enhance the CNS depressant effect of CNS D...    C   \n123458  CNS Depressants may enhance the CNS depressant...    D   \n\n                                                    Notes  \n0                                                          \n1                                                          \n2                                                          \n3                                                          \n4        Interacting drugs may not be individually lis...  \n...                                                   ...  \n123454                                                     \n123455                                                     \n123456                                                     \n123457                                                     \n123458                                                     \n\n[108972 rows x 5 columns]",
      "text/html": "<div>\n<style scoped>\n    .dataframe tbody tr th:only-of-type {\n        vertical-align: middle;\n    }\n\n    .dataframe tbody tr th {\n        vertical-align: top;\n    }\n\n    .dataframe thead th {\n        text-align: right;\n    }\n</style>\n<table border=\"1\" class=\"dataframe\">\n  <thead>\n    <tr style=\"text-align: right;\">\n      <th></th>\n      <th>Drug Name</th>\n      <th>Drug interactive</th>\n      <th>Interaction</th>\n      <th>Risk</th>\n      <th>Notes</th>\n    </tr>\n  </thead>\n  <tbody>\n    <tr>\n      <th>0</th>\n      <td>Abacavir</td>\n      <td>Betibeglogene Autotemcel</td>\n      <td>Antiretroviral Agents may diminish the therape...</td>\n      <td>X</td>\n      <td></td>\n    </tr>\n    <tr>\n      <th>1</th>\n      <td>Abacavir</td>\n      <td>Cabozantinib</td>\n      <td>MRP2 Inhibitors may increase the serum concent...</td>\n      <td>C</td>\n      <td></td>\n    </tr>\n    <tr>\n      <th>2</th>\n      <td>Abacavir</td>\n      <td>Cladribine</td>\n      <td>Agents that Undergo Intracellular Phosphorylat...</td>\n      <td>X</td>\n      <td></td>\n    </tr>\n    <tr>\n      <th>3</th>\n      <td>Abacavir</td>\n      <td>Elivaldogene Autotemcel</td>\n      <td>Antiretroviral Agents may diminish the therape...</td>\n      <td>X</td>\n      <td></td>\n    </tr>\n    <tr>\n      <th>4</th>\n      <td>Abacavir</td>\n      <td>Levomethadone</td>\n      <td>May diminish the therapeutic effect of Abacavi...</td>\n      <td>C</td>\n      <td>Interacting drugs may not be individually lis...</td>\n    </tr>\n    <tr>\n      <th>...</th>\n      <td>...</td>\n      <td>...</td>\n      <td>...</td>\n      <td>...</td>\n      <td>...</td>\n    </tr>\n    <tr>\n      <th>123454</th>\n      <td>Zuclopenthixol</td>\n      <td>Thiazide and Thiazide-Like Diuretics</td>\n      <td>Anticholinergic Agents may increase the serum ...</td>\n      <td>C</td>\n      <td></td>\n    </tr>\n    <tr>\n      <th>123455</th>\n      <td>Zuclopenthixol</td>\n      <td>Tiotropium</td>\n      <td>Anticholinergic Agents may enhance the anticho...</td>\n      <td>C</td>\n      <td></td>\n    </tr>\n    <tr>\n      <th>123456</th>\n      <td>Zuclopenthixol</td>\n      <td>Umeclidinium</td>\n      <td>May enhance the anticholinergic effect of Anti...</td>\n      <td>X</td>\n      <td></td>\n    </tr>\n    <tr>\n      <th>123457</th>\n      <td>Zuclopenthixol</td>\n      <td>Valerian</td>\n      <td>May enhance the CNS depressant effect of CNS D...</td>\n      <td>C</td>\n      <td></td>\n    </tr>\n    <tr>\n      <th>123458</th>\n      <td>Zuclopenthixol</td>\n      <td>Zolpidem</td>\n      <td>CNS Depressants may enhance the CNS depressant...</td>\n      <td>D</td>\n      <td></td>\n    </tr>\n  </tbody>\n</table>\n<p>108972 rows × 5 columns</p>\n</div>"
     },
     "execution_count": 19,
     "metadata": {},
     "output_type": "execute_result"
    }
   ],
   "source": [
    "df"
   ],
   "metadata": {
    "collapsed": false,
    "ExecuteTime": {
     "end_time": "2023-06-01T08:36:23.486699200Z",
     "start_time": "2023-06-01T08:36:23.464701200Z"
    }
   }
  },
  {
   "cell_type": "markdown",
   "source": [
    "## DF misguiding errors and fixing Risks"
   ],
   "metadata": {
    "collapsed": false
   }
  },
  {
   "cell_type": "code",
   "execution_count": null,
   "outputs": [],
   "source": [
    "## Fix errors due to the appending of rows together in the dataframe of the drug interaction\n",
    "## required is the path for the excel sheet that has the Risk missing errors.\n",
    "df_errors = pd.read_excel('Notebooks/installations/Data/Results - Drug Interaction/Extracted Drug Interaction - Final Copy.xlsx')\n",
    "df_errors"
   ],
   "metadata": {
    "collapsed": false
   }
  },
  {
   "cell_type": "code",
   "execution_count": null,
   "outputs": [],
   "source": [
    "import re\n",
    "\n",
    "pattern = r\"Risk [CDX]:\"\n",
    "appendix = []\n",
    "\n",
    "for i in range(len(df_errors)):\n",
    "    text = df_errors.iloc[i]['Interaction']\n",
    "    try:\n",
    "        matches = re.findall(pattern, text)\n",
    "        count = len(matches)\n",
    "        if count > 1:\n",
    "            appendix.append(i)\n",
    "    except:\n",
    "        count = 2\n",
    "appendix\n",
    "appendix = {}\n",
    "\n",
    "for i in range(len(df_errors)):\n",
    "    text = df_errors.iloc[i]['Interaction']\n",
    "    try:\n",
    "        matches = re.findall(pattern, text)\n",
    "        count = len(matches)\n",
    "        if count > 1:\n",
    "            appendix[i] = count\n",
    "    except:\n",
    "        count = 2\n",
    "appendix"
   ],
   "metadata": {
    "collapsed": false
   }
  },
  {
   "cell_type": "code",
   "execution_count": null,
   "outputs": [],
   "source": [
    "len(appendix)"
   ],
   "metadata": {
    "collapsed": false
   }
  },
  {
   "cell_type": "code",
   "execution_count": null,
   "outputs": [],
   "source": [
    "df_errors"
   ],
   "metadata": {
    "collapsed": false
   }
  },
  {
   "cell_type": "code",
   "execution_count": null,
   "outputs": [],
   "source": [
    "interaction_toedit = df_errors['Interaction'].tolist()[:]\n",
    "interaction_toedit"
   ],
   "metadata": {
    "collapsed": false
   }
  },
  {
   "cell_type": "code",
   "execution_count": null,
   "outputs": [],
   "source": [
    "s = 'May enhance the anticoagulant effect of Vitamin K Antagonists. Risk C: Monitor therapy Antithyroid Agents: May diminish the anticoagulant effect of Vitamin K Antagonists. Risk C: Monitor therapy Aprepitant: May decrease the serum concentration of Vitamin K Antagonists. Risk C: Monitor therapy AzaTHIOprine: May diminish the anticoagulant effect of Vitamin K Antagonists. Risk C: Monitor therapy'\n",
    "\n",
    "pattern = r\"(Risk [CX]:\\s+\\w+\\s+\\w+|Risk D:\\s+\\w+\\s+\\w+\\s+\\w+)\"\n",
    "\n",
    "result = re.split(pattern, s)\n",
    "split_strings = [s.strip() for s in result if s.strip()]\n",
    "result_list = []\n",
    "for i in range(0, len(split_strings), 2):\n",
    "    if i + 1 < len(split_strings):\n",
    "        combined_element = split_strings[i] + split_strings[i + 1]\n",
    "        result_list.append(combined_element)\n",
    "interaction1 = result_list[0]\n",
    "drug_inter = [];\n",
    "interaction = [];\n",
    "Risks = []\n",
    "for sent in result_list[1:]:\n",
    "    drug_inter.append(sent.split(':')[0]);\n",
    "    interaction.append(sent.split(':')[1]);\n",
    "    Risks.append(sent.split('.')[-1])\n",
    "appendix.keys()"
   ],
   "metadata": {
    "collapsed": false
   }
  },
  {
   "cell_type": "code",
   "execution_count": null,
   "outputs": [],
   "source": [
    "interaction_toedit[20]"
   ],
   "metadata": {
    "collapsed": false
   }
  },
  {
   "cell_type": "code",
   "execution_count": null,
   "outputs": [],
   "source": [
    "titles = []; drug_inter = []; interaction = []; Risks = []\n",
    "\n",
    "for i in appendix.keys():\n",
    "    result = re.split(pattern, interaction_toedit[i])\n",
    "    split_strings = [s.strip() for s in result if s.strip()]\n",
    "\n",
    "    result_list = []\n",
    "    for j in range(0, len(split_strings), 2):\n",
    "        if j + 1 < len(split_strings):\n",
    "            combined_element = split_strings[j] + split_strings[j + 1]\n",
    "            result_list.append(combined_element)\n",
    "    try:\n",
    "        interaction1 = result_list[0]\n",
    "        for sent in result_list[1:]:\n",
    "            titles.append(df_errors.iloc[i]['Drug Name']);\n",
    "            drug_inter.append(sent.split(':')[0]);\n",
    "            interaction.append(sent.split(':')[1]);\n",
    "            Risks.append(sent.split('.')[-1])\n",
    "            interaction[-1] = interaction[-1] + ':' + sent.split('.')[-1].split(':')[-1]\n",
    "    except:\n",
    "        interaction1 = ''\n",
    "titles"
   ],
   "metadata": {
    "collapsed": false
   }
  },
  {
   "cell_type": "code",
   "execution_count": null,
   "outputs": [],
   "source": [
    "drug_inter"
   ],
   "metadata": {
    "collapsed": false
   }
  },
  {
   "cell_type": "code",
   "execution_count": null,
   "outputs": [],
   "source": [
    "interaction[:]"
   ],
   "metadata": {
    "collapsed": false
   }
  },
  {
   "cell_type": "code",
   "execution_count": null,
   "outputs": [],
   "source": [
    "Risks[:20]"
   ],
   "metadata": {
    "collapsed": false
   }
  },
  {
   "cell_type": "code",
   "execution_count": null,
   "outputs": [],
   "source": [
    "for r in Risks:\n",
    "    print(r[5])\n",
    "for j in range(len(Risks)):\n",
    "    Risks[j] = Risks[j][5]\n",
    "len(Risks)\n",
    "Notes = []\n",
    "\n",
    "for j in range(len(Risks)):\n",
    "    Notes.append('')\n",
    "for j in range(len(interaction)):\n",
    "    if interaction[j].endswith('Risk C:'):\n",
    "        interaction[j] = interaction[j] + 'Monitor therapy'\n",
    "    if interaction[j].endswith('Risk X:'):\n",
    "        interaction[j] = interaction[j] + 'Avoid combination'\n",
    "for j in range(len(interaction)):\n",
    "    interaction[j] = interaction[j].replace('\\n', '')"
   ],
   "metadata": {
    "collapsed": false
   }
  },
  {
   "cell_type": "code",
   "execution_count": null,
   "outputs": [],
   "source": [
    "df_doubted = pd.DataFrame()\n",
    "df_doubted['Drug Name'] = titles\n",
    "df_doubted['Drug interactive'] = drug_inter\n",
    "df_doubted['Interaction'] = interaction\n",
    "df_doubted['Risk'] = Risks\n",
    "df_doubted['Notes'] = Notes\n",
    "df_doubted\n"
   ],
   "metadata": {
    "collapsed": false
   }
  },
  {
   "cell_type": "code",
   "execution_count": null,
   "outputs": [],
   "source": [
    "df_doubted.to_excel('doubted-drug-interactions.xlsx')\n",
    "interaction_toedit = df_interactions['Interaction'].tolist()"
   ],
   "metadata": {
    "collapsed": false
   }
  },
  {
   "cell_type": "code",
   "execution_count": null,
   "outputs": [],
   "source": [
    "for i in range(len(interaction_toedit)):\n",
    "    result = re.split(pattern, interaction_toedit[i])\n",
    "    split_strings = [s.strip() for s in result if s.strip()]\n",
    "\n",
    "    result_list = []\n",
    "    for j in range(0, len(split_strings), 2):\n",
    "        if j + 1 < len(split_strings):\n",
    "            combined_element = split_strings[j] + split_strings[j + 1]\n",
    "            result_list.append(combined_element)\n",
    "    try:\n",
    "        interaction_toedit[i] = result_list[0]\n",
    "    except:\n",
    "        result_list = ''\n"
   ],
   "metadata": {
    "collapsed": false
   }
  },
  {
   "cell_type": "code",
   "execution_count": null,
   "outputs": [],
   "source": [
    "interaction_toedit"
   ],
   "metadata": {
    "collapsed": false
   }
  },
  {
   "cell_type": "code",
   "execution_count": null,
   "outputs": [],
   "source": [
    "for i in appendix.keys():\n",
    "    print(interaction_toedit[i])\n",
    "    if i > 1000:\n",
    "        break\n",
    "df_interactions_fixed = df_interactions[:]\n",
    "df_interactions_fixed.Interaction = interaction_toedit[:]\n",
    "interaction_toedit[110999:]\n",
    "df_interactions_fixed"
   ],
   "metadata": {
    "collapsed": false
   }
  },
  {
   "cell_type": "code",
   "execution_count": null,
   "outputs": [],
   "source": [
    "df_interactions_fixed.to_excel('interactionsfixed.xlsx')"
   ],
   "metadata": {
    "collapsed": false
   }
  }
 ],
 "metadata": {
  "kernelspec": {
   "display_name": "Python 3",
   "language": "python",
   "name": "python3"
  },
  "language_info": {
   "codemirror_mode": {
    "name": "ipython",
    "version": 2
   },
   "file_extension": ".py",
   "mimetype": "text/x-python",
   "name": "python",
   "nbconvert_exporter": "python",
   "pygments_lexer": "ipython2",
   "version": "2.7.6"
  }
 },
 "nbformat": 4,
 "nbformat_minor": 0
}
