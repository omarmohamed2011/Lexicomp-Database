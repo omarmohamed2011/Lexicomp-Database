{
 "cells": [
  {
   "cell_type": "code",
   "execution_count": 4,
   "metadata": {
    "collapsed": true
   },
   "outputs": [],
   "source": [
    "import glob\n",
    "\n",
    "list_pdfs = glob.glob('Database pdfs/Sample/*.pdf')"
   ]
  },
  {
   "cell_type": "code",
   "execution_count": 5,
   "outputs": [
    {
     "data": {
      "text/plain": "['Database pdfs/Sample\\\\0Lexicomp.pdf',\n 'Database pdfs/Sample\\\\1000Lexicomp.pdf',\n 'Database pdfs/Sample\\\\1001Lexicomp.pdf',\n 'Database pdfs/Sample\\\\1002Lexicomp.pdf',\n 'Database pdfs/Sample\\\\1003Lexicomp.pdf',\n 'Database pdfs/Sample\\\\1004Lexicomp.pdf',\n 'Database pdfs/Sample\\\\1006Lexicomp.pdf',\n 'Database pdfs/Sample\\\\1007Lexicomp.pdf',\n 'Database pdfs/Sample\\\\1008Lexicomp.pdf',\n 'Database pdfs/Sample\\\\1009Lexicomp.pdf']"
     },
     "execution_count": 5,
     "metadata": {},
     "output_type": "execute_result"
    }
   ],
   "source": [
    "list_pdfs"
   ],
   "metadata": {
    "collapsed": false
   }
  },
  {
   "cell_type": "code",
   "execution_count": 32,
   "outputs": [],
   "source": [
    "from PyPDF2 import PdfReader\n",
    "import re\n",
    "\n",
    "### We go through all pages and collect the whole document, we read the document from ending to beginning and grasp the headers from bottom to top, what's after the header gets to be appended as its content, and what's before it is kept recursively looped around until all data headers are collected, we built on several pdfs --> but still we have to keep looking for more tables.\n",
    "\n",
    "def get_all_pages(reader):\n",
    "    page = ''\n",
    "    for i in range(len(reader.pages)):\n",
    "        page = page + str(reader.pages[i].extract_text())\n",
    "\n",
    "    return page\n",
    "\n",
    "def get_title(text):\n",
    "    '''\n",
    "    \"\"\" Only gets the first page only to retrieve title from it\n",
    "    :param text: dtype string, gets only first page\n",
    "    :return: text: string, returns the title that refers to the name of the drug\n",
    "    '''\n",
    "\n",
    "    pattern_order = r'[0-9]'\n",
    "\n",
    "    title = text[1].split('(Lexi-Drugs)')[0]\n",
    "    title = title.split('/')[-1]\n",
    "    title = re.sub(pattern_order, '', title)\n",
    "\n",
    "    return title\n",
    "\n",
    "def search_for_header(text,random_header):\n",
    "    return text.split(random_header)\n",
    "\n",
    "titles,brand_names,references,approval_date,us_pricing,pharmacotherapy,availability,atc,prod_availability,\\\n",
    "    index_terms,related_info,dental_bleeding_effect,action_mechanism,canda_dosage,us_dosage,\\\n",
    "    dental_treatment_effect,dental_anesthetic_precautions,pharmacokinetics,\\\n",
    "    monitoring_params,drug_interactions,dosing_adult = \\\n",
    "    [],[],[],[],[],[],[],[],[],[],[],[],[],[],[],[],[],[],[],[],[]\n",
    "\n",
    "metabolism_effects, allergy_reactions, adverse_reactions,breastfeeding_considerations,pregnancy_considerations,\\\n",
    "    contraindications, HCAHPS, preparation_admin_adults, storage_stability,medications_safety,\\\n",
    "    injection_detail,admin_iv, labeled_indications,dosing_pediatric,alerts_warning,preparation_admin_pediatric,\\\n",
    "    dosing_older_adult,reproductive_considerations = [],[],[],[],[],[],[],[],[],[],[],[],[],[],[],[],[],[]\n",
    "\n",
    "for i in range(10):\n",
    "\n",
    "    reader = PdfReader(list_pdfs[i])\n",
    "\n",
    "    page = reader.pages[0]\n",
    "    text_lines = page.extract_text().split('\\n')  ## Lines extracted\n",
    "    titles.append(get_title(text_lines))  ## Reads from first line\n",
    "\n",
    "    text = get_all_pages(reader)\n",
    "\n",
    "    try:\n",
    "        splitted = search_for_header(text,random_header='Brand Names: International')\n",
    "        brand_names.append(splitted[1])\n",
    "        text = splitted[0]\n",
    "    except:\n",
    "        brand_names.append(None)\n",
    "\n",
    "    try:\n",
    "        splitted = search_for_header(text,random_header='References')\n",
    "        references.append(splitted[1])\n",
    "        text = splitted[0]\n",
    "    except:\n",
    "        references.append(None)\n",
    "    try:\n",
    "        splitted = search_for_header(text,random_header='FDA Approval Date')\n",
    "        approval_date.append(splitted[1])\n",
    "        text = splitted[0]\n",
    "    except:\n",
    "        approval_date.append(None)\n",
    "    try:\n",
    "\n",
    "        splitted = search_for_header(text,random_header='Index Terms')\n",
    "        index_terms.append(splitted[1])\n",
    "        text = splitted[0]\n",
    "    except:\n",
    "        index_terms.append(None)\n",
    "\n",
    "    try:\n",
    "        splitted = search_for_header(text,random_header='Pharmacotherapy Pearls')\n",
    "        pharmacotherapy.append(splitted[1])\n",
    "        text = splitted[0]\n",
    "    except:\n",
    "        pharmacotherapy.append(None)\n",
    "\n",
    "    try:\n",
    "        splitted = search_for_header(text,random_header='Related Information')\n",
    "        related_info.append(splitted[1])\n",
    "        text = splitted[0]\n",
    "    except:\n",
    "        related_info.append(None)\n",
    "\n",
    "    try:\n",
    "        splitted = search_for_header(text,random_header='ects on Bleeding')\n",
    "        splitted[1] = splitted[1].replace('ects on Bleeding','Dental: Effects on Bleeding')\n",
    "        dental_bleeding_effect.append(splitted[1])\n",
    "        text = splitted[0]\n",
    "    except:\n",
    "        dental_bleeding_effect.append(None)\n",
    "\n",
    "    try:\n",
    "        splitted = search_for_header(text,random_header='ects on Dental Treatment')\n",
    "        splitted[1] = splitted[1].replace('ects on Dental Treatment','Dental: Effects on Dental Treatment')\n",
    "        dental_treatment_effect.append(splitted[1])\n",
    "        text = splitted[0]\n",
    "    except:\n",
    "        dental_treatment_effect.append(None)\n",
    "\n",
    "    try:\n",
    "        splitted = search_for_header(text,random_header='Local Anesthetic/Vasoconstrictor Precautions')\n",
    "        dental_anesthetic_precautions.append(splitted[1])\n",
    "        text = splitted[0]\n",
    "    except:\n",
    "        dental_anesthetic_precautions.append(None)\n",
    "\n",
    "    try:\n",
    "        splitted = search_for_header(text,random_header='Pharmacokinetics')\n",
    "        pharmacokinetics.append(splitted[1])\n",
    "        text = splitted[0]\n",
    "    except:\n",
    "        pharmacokinetics.append(None)\n",
    "\n",
    "    try:\n",
    "        splitted = search_for_header(text,random_header='Mechanism of Action')\n",
    "        action_mechanism.append(splitted[1])\n",
    "        text = splitted[0]\n",
    "    except:\n",
    "        action_mechanism.append(None)\n",
    "\n",
    "    try:\n",
    "        splitted = search_for_header(text,random_header='Pricing: US')\n",
    "        us_pricing.append(splitted[1])\n",
    "        text = splitted[0]\n",
    "    except:\n",
    "        us_pricing.append(None)\n",
    "\n",
    "    try:\n",
    "        splitted = search_for_header(text,random_header='Generic Available (US)')\n",
    "        availability.append(splitted[1])\n",
    "        text = splitted[0]\n",
    "    except:\n",
    "        availability.append(None)\n",
    "\n",
    "    try:\n",
    "        splitted = search_for_header(text,random_header='Anatomic Therapeutic Chemical (ATC)')\n",
    "        atc.append(splitted[1])\n",
    "        text = splitted[0]\n",
    "    except:\n",
    "        atc.append(None)\n",
    "\n",
    "    try:\n",
    "        splitted = search_for_header(text,random_header='Dosage Forms: Canada')\n",
    "        canda_dosage.append(splitted[1])\n",
    "        text = splitted[0]\n",
    "    except:\n",
    "        canda_dosage.append(None)\n",
    "\n",
    "    try:\n",
    "        splitted = search_for_header(text,random_header='Dosage Forms: US')\n",
    "        us_dosage.append(splitted[1])\n",
    "        text = splitted[0]\n",
    "    except:\n",
    "        us_dosage.append(None)\n",
    "\n",
    "    try:\n",
    "        splitted = search_for_header(text,random_header='Product Availability')\n",
    "        prod_availability.append(splitted[1])\n",
    "        text = splitted[0]\n",
    "    except:\n",
    "        prod_availability.append(None)\n",
    "\n",
    "    try:\n",
    "        splitted = search_for_header(text,random_header='Monitoring Parameters')\n",
    "        monitoring_params.append(splitted[1])\n",
    "        text = splitted[0]\n",
    "    except:\n",
    "        monitoring_params.append(None)\n",
    "\n",
    "    try:\n",
    "        splitted = search_for_header(text,random_header='Drug Interactions')\n",
    "        drug_interactions.append(splitted[1])\n",
    "        text = splitted[0]\n",
    "    except:\n",
    "        drug_interactions.append(None)\n",
    "\n",
    "    try:\n",
    "        splitted = search_for_header(text,random_header='Metabolism/Transport E')\n",
    "        splitted[1] = splitted[1].replace('Metabolism/Transport E','Metabolism/Transport Effects:')\n",
    "        metabolism_effects.append(splitted[1])\n",
    "        text = splitted[0]\n",
    "    except:\n",
    "        metabolism_effects.append(None)\n",
    "\n",
    "    try:\n",
    "        splitted = search_for_header(text,random_header='Allergy and Idiosyncratic Reactions')\n",
    "        allergy_reactions.append(splitted[1])\n",
    "        text = splitted[0]\n",
    "    except:\n",
    "        allergy_reactions.append(None)\n",
    "\n",
    "\n",
    "    try:\n",
    "        splitted = search_for_header(text,random_header='Adverse Reactions (Signi')\n",
    "        adverse_reactions.append(splitted[1])\n",
    "        text = splitted[0]\n",
    "    except:\n",
    "        adverse_reactions.append(None)\n",
    "\n",
    "\n",
    "    try:\n",
    "        splitted = search_for_header(text,random_header='Breastfeeding Considerations')\n",
    "        breastfeeding_considerations.append(splitted[1])\n",
    "        text = splitted[0]\n",
    "    except:\n",
    "        breastfeeding_considerations.append(None)\n",
    "\n",
    "    try:\n",
    "        splitted = search_for_header(text,random_header='Reproductive Considerations')\n",
    "        reproductive_considerations.append(splitted[1])\n",
    "        text = splitted[0]\n",
    "    except:\n",
    "        reproductive_considerations.append(None)\n",
    "\n",
    "    try:\n",
    "        splitted = search_for_header(text,random_header='Pregnancy Considerations')\n",
    "        pregnancy_considerations.append(splitted[1])\n",
    "        text = splitted[0]\n",
    "    except:\n",
    "        pregnancy_considerations.append(None)\n",
    "\n",
    "    try:\n",
    "        splitted = search_for_header(text,random_header='Contraindications')\n",
    "        contraindications.append(splitted[1])\n",
    "        text = splitted[0]\n",
    "    except:\n",
    "        contraindications.append(None)\n",
    "\n",
    "    try:\n",
    "        splitted = search_for_header(text,random_header='Medication Safety Issues')\n",
    "        medications_safety.append(splitted[1])\n",
    "        text = splitted[0]\n",
    "    except:\n",
    "        medications_safety.append(None)\n",
    "\n",
    "    try:\n",
    "        splitted = search_for_header(text,random_header='Medication Patient Education with HCAHPS Considerations')\n",
    "        HCAHPS.append(splitted[1])\n",
    "        text = splitted[0]\n",
    "    except:\n",
    "        HCAHPS.append(None)\n",
    "\n",
    "    try:\n",
    "        splitted = search_for_header(text,random_header='Preparation for Administration: Pediatric')\n",
    "        preparation_admin_pediatric.append(splitted[1])\n",
    "        text = splitted[0]\n",
    "    except:\n",
    "        preparation_admin_pediatric.append(None)\n",
    "\n",
    "    try:\n",
    "        splitted = search_for_header(text,random_header='Preparation for Administration: Adult')\n",
    "        preparation_admin_adults.append(splitted[1])\n",
    "        text = splitted[0]\n",
    "    except:\n",
    "        preparation_admin_adults.append(None)\n",
    "\n",
    "    try:\n",
    "        splitted = search_for_header(text,random_header='Storage/Stability')\n",
    "        storage_stability.append(splitted[1])\n",
    "        text = splitted[0]\n",
    "    except:\n",
    "        storage_stability.append(None)\n",
    "\n",
    "    try:\n",
    "        splitted = search_for_header(text,random_header='Administration: Injectable Detail')\n",
    "        injection_detail.append(splitted[1])\n",
    "        text = splitted[0]\n",
    "    except:\n",
    "        injection_detail.append(None)\n",
    "\n",
    "    try:\n",
    "        splitted = search_for_header(text,random_header='Administration: IV')\n",
    "        admin_iv.append(splitted[1])\n",
    "        text = splitted[0]\n",
    "    except:\n",
    "        admin_iv.append(None)\n",
    "\n",
    "    try:\n",
    "        splitted = search_for_header(text,random_header='Use: Labeled Indications')\n",
    "        labeled_indications.append(splitted[1])\n",
    "        text = splitted[0]\n",
    "    except:\n",
    "        labeled_indications.append(None)\n",
    "\n",
    "    try:\n",
    "        splitted = search_for_header(text,random_header='Dosing: Pediatric\\nNote:')\n",
    "        dosing_pediatric.append(splitted[1])\n",
    "        text = splitted[0]\n",
    "    except:\n",
    "        dosing_pediatric.append(None)\n",
    "\n",
    "    try:\n",
    "        splitted = search_for_header(text,random_header='Dosing: Older Adult')\n",
    "        dosing_older_adult.append(splitted[1])\n",
    "        text = splitted[0]\n",
    "    except:\n",
    "        dosing_older_adult.append(None)\n",
    "\n",
    "    try:\n",
    "        splitted = search_for_header(text,random_header='Dosing: Adult')\n",
    "        dosing_adult.append(splitted[1])\n",
    "        text = splitted[0]\n",
    "    except:\n",
    "        dosing_adult.append(None)\n",
    "\n",
    "    try:\n",
    "        splitted = search_for_header(text,random_header='ALERT: US Boxed Warning\\n')\n",
    "        alerts = ''\n",
    "        for s in splitted[1:]:\n",
    "            alerts += s\n",
    "        alerts_warning.append(alerts)\n",
    "        text = splitted[0]\n",
    "    except:\n",
    "        alerts_warning.append(None)"
   ],
   "metadata": {
    "collapsed": false
   }
  },
  {
   "cell_type": "code",
   "execution_count": 33,
   "outputs": [
    {
     "data": {
      "text/plain": "'dsadsaRisk B;cgfgfdgdfghdfghdManagement;dgfdsgdsgdsgdfsRisk A;gfgfdgd,Management;sadas'"
     },
     "execution_count": 33,
     "metadata": {},
     "output_type": "execute_result"
    }
   ],
   "source": [
    "A = \"dsadsaRisk B:xcgfgfdgdfghdfghdManagement: dgfdsgdsgdsgdfsRisk A: gfgfdgd,Management:dsadas\"\n",
    "B = A\n",
    "\n",
    "def edit_risk(Risk_sent):\n",
    "    try:\n",
    "        risk_letter_pos = re.search(\"Risk [A-Z]:\",Risk_sent).span()[-1]\n",
    "        return str(Risk_sent[:risk_letter_pos-1]+';' + Risk_sent[risk_letter_pos+1:])\n",
    "    except:\n",
    "        return Risk_sent\n",
    "\n",
    "def edit_manage(Manage_sent):\n",
    "    try:\n",
    "        manage_letter_pos = re.search(\"Management:\",Manage_sent).span()[-1] ## Find exception word position\n",
    "        return str(Manage_sent[:manage_letter_pos-1]+';' + Manage_sent[manage_letter_pos+1:]) ## Handle exception\n",
    "    except:\n",
    "        return Manage_sent\n",
    "\n",
    "def count_word(Risk_sent,word):\n",
    "    try:\n",
    "        val = Risk_sent.find(word)             ## Count word to loop over it\n",
    "    except:\n",
    "        val = 1                                ## Add some random\n",
    "    return val\n",
    "\n",
    "def edit_risk_exception(Risk_sent):\n",
    "    looper = count_word(Risk_sent,\"Risk\")\n",
    "    for i in range(looper):\n",
    "        try:\n",
    "            Risk_sent = edit_risk(Risk_sent)\n",
    "        except:\n",
    "            Risk_sent = Risk_sent[:]\n",
    "\n",
    "    return Risk_sent\n",
    "\n",
    "def edit_manage_exception(Mng_sent):\n",
    "    looper = count_word(Mng_sent,\"Management\")\n",
    "    for i in range(looper):\n",
    "        try:\n",
    "            Mng_sent = edit_manage(Mng_sent)\n",
    "        except:\n",
    "            Mng_sent = Mng_sent[:]\n",
    "\n",
    "    return Mng_sent\n",
    "\n",
    "def handle_exceptions(drug_int):\n",
    "    drug_int = edit_risk_exception(drug_int)\n",
    "    return edit_manage_exception(drug_int)\n",
    "\n",
    "B = handle_exceptions(B)\n",
    "B"
   ],
   "metadata": {
    "collapsed": false
   }
  },
  {
   "cell_type": "code",
   "execution_count": 34,
   "outputs": [
    {
     "name": "stdout",
     "output_type": "stream",
     "text": [
      "<class 'list'>\n",
      "<class 'list'>\n",
      "<class 'list'>\n",
      "<class 'list'>\n",
      "<class 'list'>\n",
      "<class 'list'>\n",
      "<class 'list'>\n",
      "<class 'list'>\n",
      "<class 'list'>\n",
      "<class 'list'>\n",
      "<class 'list'>\n",
      "<class 'list'>\n",
      "<class 'list'>\n",
      "<class 'list'>\n",
      "<class 'list'>\n",
      "<class 'list'>\n",
      "<class 'list'>\n",
      "<class 'list'>\n"
     ]
    }
   ],
   "source": [
    "interactions_per_drug = drug_interactions[0].split('\\n')\n",
    "str_1 = ''\n",
    "\n",
    "for elem in interactions_per_drug[2:]:\n",
    "    elem = edit_risk_exception(elem)\n",
    "    elem = edit_manage_exception(elem)\n",
    "    if \":\" in elem:\n",
    "        if len(elem.split(':')[0]) < 30:\n",
    "            elem = elem.split(':')\n",
    "            print(type(elem))\n",
    "            if ( len(elem) >2 ) and (type(elem) == list):\n",
    "                str_1 = str_1 + elem[0] + ':\\n' + ':'.join(elem[1:]) + '\\n'\n",
    "            else:\n",
    "                str_1 = str_1 + elem[0] + ':\\n' + elem[1] + '\\n'\n",
    "        else:\n",
    "            str_1 = str_1 + ' ' + elem\n",
    "    else:\n",
    "        str_1 = str_1 + ' ' + elem"
   ],
   "metadata": {
    "collapsed": false
   }
  },
  {
   "cell_type": "code",
   "execution_count": 35,
   "outputs": [],
   "source": [
    "for j in range(10):\n",
    "    if drug_interactions[j] == None:\n",
    "        drug_interactions[j] = str(' ')"
   ],
   "metadata": {
    "collapsed": false
   }
  },
  {
   "cell_type": "code",
   "execution_count": 36,
   "outputs": [],
   "source": [
    "Drug_Name,Drug_Interactive,Current_Interaction = [],[],[]\n",
    "for j in range(len(list_pdfs)):\n",
    "        interactions_per_drug = handle_exceptions(drug_interactions[j])\n",
    "        interactions_per_drug = interactions_per_drug.split('\\n')\n",
    "        for elem in interactions_per_drug[2:]:\n",
    "            if elem == '' or elem ==' ' or elem == '\\n':\n",
    "                elem = '    '\n",
    "\n",
    "            elif \":\" in elem:\n",
    "                elem = elem.split(':')\n",
    "                Drug_Name.append(titles[j])\n",
    "                Drug_Interactive.append(elem[0])\n",
    "                Current_Interaction.append(elem[1])\n",
    "\n",
    "            else:\n",
    "                Current_Interaction[-1] =  Current_Interaction[-1] + str(elem)"
   ],
   "metadata": {
    "collapsed": false
   }
  },
  {
   "cell_type": "code",
   "execution_count": 37,
   "outputs": [
    {
     "data": {
      "text/plain": "                   Drug Name         Drug interactive  \\\n0    Ganciclovir (Systemic)                      Note   \n1    Ganciclovir (Systemic)            Amphotericin B   \n2    Ganciclovir (Systemic)                Cladribine   \n3    Ganciclovir (Systemic)   CycloSPORINE (Systemic)   \n4    Ganciclovir (Systemic)                Didanosine   \n..                       ...                      ...   \n183             Trilaciclib                Dofetilide   \n184             Trilaciclib                 MetFORMIN   \n185         Sodium Chloride                      Note   \n186         Sodium Chloride                   Lithium   \n187         Sodium Chloride                 Tolvaptan   \n\n                                           Interaction  \n0     Interacting drugs may not be individually lis...  \n1     Ganciclovir-Valganciclovir may enhance the ne...  \n2     Agents that Undergo Intracellular Phosphoryla...  \n3     Ganciclovir-Valganciclovir may enhance the ne...  \n4     Ganciclovir-Valganciclovir may increase the s...  \n..                                                 ...  \n183   MATE1/2-K Inhibitors may increase the serum c...  \n184   MATE1/2-K Inhibitors may increase the serum c...  \n185   Interacting drugs may not be individually lis...  \n186   Sodium Chloride may increase the excretion of...  \n187   Sodium Chloride may enhance the adverse/toxic...  \n\n[188 rows x 3 columns]",
      "text/html": "<div>\n<style scoped>\n    .dataframe tbody tr th:only-of-type {\n        vertical-align: middle;\n    }\n\n    .dataframe tbody tr th {\n        vertical-align: top;\n    }\n\n    .dataframe thead th {\n        text-align: right;\n    }\n</style>\n<table border=\"1\" class=\"dataframe\">\n  <thead>\n    <tr style=\"text-align: right;\">\n      <th></th>\n      <th>Drug Name</th>\n      <th>Drug interactive</th>\n      <th>Interaction</th>\n    </tr>\n  </thead>\n  <tbody>\n    <tr>\n      <th>0</th>\n      <td>Ganciclovir (Systemic)</td>\n      <td>Note</td>\n      <td>Interacting drugs may not be individually lis...</td>\n    </tr>\n    <tr>\n      <th>1</th>\n      <td>Ganciclovir (Systemic)</td>\n      <td>Amphotericin B</td>\n      <td>Ganciclovir-Valganciclovir may enhance the ne...</td>\n    </tr>\n    <tr>\n      <th>2</th>\n      <td>Ganciclovir (Systemic)</td>\n      <td>Cladribine</td>\n      <td>Agents that Undergo Intracellular Phosphoryla...</td>\n    </tr>\n    <tr>\n      <th>3</th>\n      <td>Ganciclovir (Systemic)</td>\n      <td>CycloSPORINE (Systemic)</td>\n      <td>Ganciclovir-Valganciclovir may enhance the ne...</td>\n    </tr>\n    <tr>\n      <th>4</th>\n      <td>Ganciclovir (Systemic)</td>\n      <td>Didanosine</td>\n      <td>Ganciclovir-Valganciclovir may increase the s...</td>\n    </tr>\n    <tr>\n      <th>...</th>\n      <td>...</td>\n      <td>...</td>\n      <td>...</td>\n    </tr>\n    <tr>\n      <th>183</th>\n      <td>Trilaciclib</td>\n      <td>Dofetilide</td>\n      <td>MATE1/2-K Inhibitors may increase the serum c...</td>\n    </tr>\n    <tr>\n      <th>184</th>\n      <td>Trilaciclib</td>\n      <td>MetFORMIN</td>\n      <td>MATE1/2-K Inhibitors may increase the serum c...</td>\n    </tr>\n    <tr>\n      <th>185</th>\n      <td>Sodium Chloride</td>\n      <td>Note</td>\n      <td>Interacting drugs may not be individually lis...</td>\n    </tr>\n    <tr>\n      <th>186</th>\n      <td>Sodium Chloride</td>\n      <td>Lithium</td>\n      <td>Sodium Chloride may increase the excretion of...</td>\n    </tr>\n    <tr>\n      <th>187</th>\n      <td>Sodium Chloride</td>\n      <td>Tolvaptan</td>\n      <td>Sodium Chloride may enhance the adverse/toxic...</td>\n    </tr>\n  </tbody>\n</table>\n<p>188 rows × 3 columns</p>\n</div>"
     },
     "execution_count": 37,
     "metadata": {},
     "output_type": "execute_result"
    }
   ],
   "source": [
    "import pandas as pd\n",
    "\n",
    "df_interactions =pd.DataFrame()\n",
    "df_interactions['Drug Name'] = Drug_Name; df_interactions['Drug interactive'] = Drug_Interactive\n",
    "df_interactions['Interaction'] = Current_Interaction\n",
    "df_interactions"
   ],
   "metadata": {
    "collapsed": false
   }
  },
  {
   "cell_type": "code",
   "execution_count": 38,
   "outputs": [],
   "source": [
    "df_Notes =  df_interactions[df_interactions['Drug interactive'] == 'Note']\n",
    "df_interactions = df_interactions[df_interactions['Drug interactive'] != 'Note']"
   ],
   "metadata": {
    "collapsed": false
   }
  },
  {
   "cell_type": "code",
   "execution_count": 39,
   "outputs": [
    {
     "data": {
      "text/plain": "[' Interacting drugs may not be individually listed below if they are part of a group interaction (eg, individual drugs within \"CYP3A4Inducers [Strong]\" are NOT listed). For a complete list of drug interactions by individual drug name and detailed managementrecommendations, use the Lexicomp drug interactions program by clicking on the \"Open Interactions\" button above.',\n ' Interacting drugs may not be individually listed below if they are part of a group interaction (eg, individual drugs within \"CYP3A4Inducers [Strong]\" are NOT listed). For a complete list of drug interactions by individual drug name and detailed managementrecommendations, use the Lexicomp drug interactions program by clicking on the \"Open Interactions\" button above.',\n ' Interacting drugs may not be individually listed below if they are part of a group interaction (eg, individual drugs within \"CYP3A4Inducers [Strong]\" are NOT listed). For a complete list of drug interactions by individual drug name and detailed managementrecommendations, use the Lexicomp drug interactions program by clicking on the \"Open Interactions\" button above.',\n ' Interacting drugs may not be individually listed below if they are part of a group interaction (eg, individual drugs within \"CYP3A4Inducers [Strong]\" are NOT listed). For a complete list of drug interactions by individual drug name and detailed managementrecommendations, use the Lexicomp drug interactions program by clicking on the \"Open Interactions\" button above.',\n ' Interacting drugs may not be individually listed below if they are part of a group interaction (eg, individual drugs within \"CYP3A4Inducers [Strong]\" are NOT listed). For a complete list of drug interactions by individual drug name and detailed managementrecommendations, use the Lexicomp drug interactions program by clicking on the \"Open Interactions\" button above.',\n ' Interacting drugs may not be individually listed below if they are part of a group interaction (eg, individual drugs within \"CYP3A4Inducers [Strong]\" are NOT listed). For a complete list of drug interactions by individual drug name and detailed managementrecommendations, use the Lexicomp drug interactions program by clicking on the \"Open Interactions\" button above.',\n ' Interacting drugs may not be individually listed below if they are part of a group interaction (eg, individual drugs within \"CYP3A4Inducers [Strong]\" are NOT listed). For a complete list of drug interactions by individual drug name and detailed managementrecommendations, use the Lexicomp drug interactions program by clicking on the \"Open Interactions\" button above.',\n ' Interacting drugs may not be individually listed below if they are part of a group interaction (eg, individual drugs within \"CYP3A4Inducers [Strong]\" are NOT listed). For a complete list of drug interactions by individual drug name and detailed managementrecommendations, use the Lexicomp drug interactions program by clicking on the \"Open Interactions\" button above.']"
     },
     "execution_count": 39,
     "metadata": {},
     "output_type": "execute_result"
    }
   ],
   "source": [
    "Especial_Notes = list(df_Notes.drop(columns =['Drug interactive'])['Interaction'].values)\n",
    "Especial_Notes"
   ],
   "metadata": {
    "collapsed": false
   }
  },
  {
   "cell_type": "code",
   "execution_count": 40,
   "outputs": [],
   "source": [
    "k = 0\n",
    "Notes = [' ']*len(df_interactions)\n",
    "\n",
    "for j in range(len(df_interactions)):\n",
    "    if j in list(df_Notes.index):\n",
    "        Notes[j] = Especial_Notes[k]\n",
    "        k +=1"
   ],
   "metadata": {
    "collapsed": false
   }
  },
  {
   "cell_type": "code",
   "execution_count": 41,
   "outputs": [
    {
     "name": "stderr",
     "output_type": "stream",
     "text": [
      "C:\\Users\\omar.mounir\\AppData\\Local\\Temp\\ipykernel_24020\\2380876925.py:1: SettingWithCopyWarning: \n",
      "A value is trying to be set on a copy of a slice from a DataFrame.\n",
      "Try using .loc[row_indexer,col_indexer] = value instead\n",
      "\n",
      "See the caveats in the documentation: https://pandas.pydata.org/pandas-docs/stable/user_guide/indexing.html#returning-a-view-versus-a-copy\n",
      "  df_interactions['Notes'] = Notes\n"
     ]
    }
   ],
   "source": [
    "df_interactions['Notes'] = Notes"
   ],
   "metadata": {
    "collapsed": false
   }
  },
  {
   "cell_type": "code",
   "execution_count": 42,
   "outputs": [
    {
     "data": {
      "text/plain": "                   Drug Name         Drug interactive  \\\n1    Ganciclovir (Systemic)            Amphotericin B   \n2    Ganciclovir (Systemic)                Cladribine   \n3    Ganciclovir (Systemic)   CycloSPORINE (Systemic)   \n4    Ganciclovir (Systemic)                Didanosine   \n5    Ganciclovir (Systemic)              Fexinidazole   \n..                       ...                      ...   \n182             Trilaciclib             Dalfampridine   \n183             Trilaciclib                Dofetilide   \n184             Trilaciclib                 MetFORMIN   \n186         Sodium Chloride                   Lithium   \n187         Sodium Chloride                 Tolvaptan   \n\n                                           Interaction  \\\n1     Ganciclovir-Valganciclovir may enhance the ne...   \n2     Agents that Undergo Intracellular Phosphoryla...   \n3     Ganciclovir-Valganciclovir may enhance the ne...   \n4     Ganciclovir-Valganciclovir may increase the s...   \n5     May increase the serum concentration of OAT1/...   \n..                                                 ...   \n182   OCT2 Inhibitors may increase the serum concen...   \n183   MATE1/2-K Inhibitors may increase the serum c...   \n184   MATE1/2-K Inhibitors may increase the serum c...   \n186   Sodium Chloride may increase the excretion of...   \n187   Sodium Chloride may enhance the adverse/toxic...   \n\n                                                 Notes  \n1     Interacting drugs may not be individually lis...  \n2                                                       \n3                                                       \n4                                                       \n5                                                       \n..                                                 ...  \n182                                                     \n183                                                     \n184                                                     \n186                                                     \n187   Interacting drugs may not be individually lis...  \n\n[180 rows x 4 columns]",
      "text/html": "<div>\n<style scoped>\n    .dataframe tbody tr th:only-of-type {\n        vertical-align: middle;\n    }\n\n    .dataframe tbody tr th {\n        vertical-align: top;\n    }\n\n    .dataframe thead th {\n        text-align: right;\n    }\n</style>\n<table border=\"1\" class=\"dataframe\">\n  <thead>\n    <tr style=\"text-align: right;\">\n      <th></th>\n      <th>Drug Name</th>\n      <th>Drug interactive</th>\n      <th>Interaction</th>\n      <th>Notes</th>\n    </tr>\n  </thead>\n  <tbody>\n    <tr>\n      <th>1</th>\n      <td>Ganciclovir (Systemic)</td>\n      <td>Amphotericin B</td>\n      <td>Ganciclovir-Valganciclovir may enhance the ne...</td>\n      <td>Interacting drugs may not be individually lis...</td>\n    </tr>\n    <tr>\n      <th>2</th>\n      <td>Ganciclovir (Systemic)</td>\n      <td>Cladribine</td>\n      <td>Agents that Undergo Intracellular Phosphoryla...</td>\n      <td></td>\n    </tr>\n    <tr>\n      <th>3</th>\n      <td>Ganciclovir (Systemic)</td>\n      <td>CycloSPORINE (Systemic)</td>\n      <td>Ganciclovir-Valganciclovir may enhance the ne...</td>\n      <td></td>\n    </tr>\n    <tr>\n      <th>4</th>\n      <td>Ganciclovir (Systemic)</td>\n      <td>Didanosine</td>\n      <td>Ganciclovir-Valganciclovir may increase the s...</td>\n      <td></td>\n    </tr>\n    <tr>\n      <th>5</th>\n      <td>Ganciclovir (Systemic)</td>\n      <td>Fexinidazole</td>\n      <td>May increase the serum concentration of OAT1/...</td>\n      <td></td>\n    </tr>\n    <tr>\n      <th>...</th>\n      <td>...</td>\n      <td>...</td>\n      <td>...</td>\n      <td>...</td>\n    </tr>\n    <tr>\n      <th>182</th>\n      <td>Trilaciclib</td>\n      <td>Dalfampridine</td>\n      <td>OCT2 Inhibitors may increase the serum concen...</td>\n      <td></td>\n    </tr>\n    <tr>\n      <th>183</th>\n      <td>Trilaciclib</td>\n      <td>Dofetilide</td>\n      <td>MATE1/2-K Inhibitors may increase the serum c...</td>\n      <td></td>\n    </tr>\n    <tr>\n      <th>184</th>\n      <td>Trilaciclib</td>\n      <td>MetFORMIN</td>\n      <td>MATE1/2-K Inhibitors may increase the serum c...</td>\n      <td></td>\n    </tr>\n    <tr>\n      <th>186</th>\n      <td>Sodium Chloride</td>\n      <td>Lithium</td>\n      <td>Sodium Chloride may increase the excretion of...</td>\n      <td></td>\n    </tr>\n    <tr>\n      <th>187</th>\n      <td>Sodium Chloride</td>\n      <td>Tolvaptan</td>\n      <td>Sodium Chloride may enhance the adverse/toxic...</td>\n      <td>Interacting drugs may not be individually lis...</td>\n    </tr>\n  </tbody>\n</table>\n<p>180 rows × 4 columns</p>\n</div>"
     },
     "execution_count": 42,
     "metadata": {},
     "output_type": "execute_result"
    }
   ],
   "source": [
    "df_interactions"
   ],
   "metadata": {
    "collapsed": false
   }
  },
  {
   "cell_type": "code",
   "execution_count": 43,
   "outputs": [],
   "source": [
    "def find_lexicomp_exp(A):\n",
    "    '''\n",
    "    :param A: dtype is string, in which the [0-9] Lexicomp regex should be checked\n",
    "    :return: True if exists, False otherwise\n",
    "    '''\n",
    "    if re.search('[0-9]+',A) and re.search('PM Lexicomp',A):\n",
    "        return True\n",
    "    return False\n",
    "\n",
    "interactions_list = list(df_interactions.Interaction.values[:])\n",
    "drugs_list = list(df_interactions['Drug Name'].values[:])\n",
    "\n",
    "for i in range(len(drugs_list)):\n",
    "    sent = interactions_list[i]\n",
    "    if find_lexicomp_exp(sent):\n",
    "        if drugs_list[i] == drugs_list[i-1]:\n",
    "            to_append = ' ' + str(df_interactions['Drug interactive'].values[i])\n",
    "            df_interactions['Interaction'].values[i-1] += to_append"
   ],
   "metadata": {
    "collapsed": false
   }
  },
  {
   "cell_type": "code",
   "execution_count": 44,
   "outputs": [],
   "source": [
    "df_interactions = df_interactions[df_interactions['Drug interactive'] != 'C']\n",
    "df_interactions = df_interactions[df_interactions['Drug interactive'] != 'https']"
   ],
   "metadata": {
    "collapsed": false
   }
  },
  {
   "cell_type": "code",
   "execution_count": 45,
   "outputs": [
    {
     "data": {
      "text/plain": "                   Drug Name         Drug interactive  \\\n1    Ganciclovir (Systemic)            Amphotericin B   \n2    Ganciclovir (Systemic)                Cladribine   \n3    Ganciclovir (Systemic)   CycloSPORINE (Systemic)   \n4    Ganciclovir (Systemic)                Didanosine   \n5    Ganciclovir (Systemic)              Fexinidazole   \n..                       ...                      ...   \n182             Trilaciclib             Dalfampridine   \n183             Trilaciclib                Dofetilide   \n184             Trilaciclib                 MetFORMIN   \n186         Sodium Chloride                   Lithium   \n187         Sodium Chloride                 Tolvaptan   \n\n                                           Interaction  \\\n1     Ganciclovir-Valganciclovir may enhance the ne...   \n2     Agents that Undergo Intracellular Phosphoryla...   \n3     Ganciclovir-Valganciclovir may enhance the ne...   \n4     Ganciclovir-Valganciclovir may increase the s...   \n5     May increase the serum concentration of OAT1/...   \n..                                                 ...   \n182   OCT2 Inhibitors may increase the serum concen...   \n183   MATE1/2-K Inhibitors may increase the serum c...   \n184   MATE1/2-K Inhibitors may increase the serum c...   \n186   Sodium Chloride may increase the excretion of...   \n187   Sodium Chloride may enhance the adverse/toxic...   \n\n                                                 Notes  \n1     Interacting drugs may not be individually lis...  \n2                                                       \n3                                                       \n4                                                       \n5                                                       \n..                                                 ...  \n182                                                     \n183                                                     \n184                                                     \n186                                                     \n187   Interacting drugs may not be individually lis...  \n\n[173 rows x 4 columns]",
      "text/html": "<div>\n<style scoped>\n    .dataframe tbody tr th:only-of-type {\n        vertical-align: middle;\n    }\n\n    .dataframe tbody tr th {\n        vertical-align: top;\n    }\n\n    .dataframe thead th {\n        text-align: right;\n    }\n</style>\n<table border=\"1\" class=\"dataframe\">\n  <thead>\n    <tr style=\"text-align: right;\">\n      <th></th>\n      <th>Drug Name</th>\n      <th>Drug interactive</th>\n      <th>Interaction</th>\n      <th>Notes</th>\n    </tr>\n  </thead>\n  <tbody>\n    <tr>\n      <th>1</th>\n      <td>Ganciclovir (Systemic)</td>\n      <td>Amphotericin B</td>\n      <td>Ganciclovir-Valganciclovir may enhance the ne...</td>\n      <td>Interacting drugs may not be individually lis...</td>\n    </tr>\n    <tr>\n      <th>2</th>\n      <td>Ganciclovir (Systemic)</td>\n      <td>Cladribine</td>\n      <td>Agents that Undergo Intracellular Phosphoryla...</td>\n      <td></td>\n    </tr>\n    <tr>\n      <th>3</th>\n      <td>Ganciclovir (Systemic)</td>\n      <td>CycloSPORINE (Systemic)</td>\n      <td>Ganciclovir-Valganciclovir may enhance the ne...</td>\n      <td></td>\n    </tr>\n    <tr>\n      <th>4</th>\n      <td>Ganciclovir (Systemic)</td>\n      <td>Didanosine</td>\n      <td>Ganciclovir-Valganciclovir may increase the s...</td>\n      <td></td>\n    </tr>\n    <tr>\n      <th>5</th>\n      <td>Ganciclovir (Systemic)</td>\n      <td>Fexinidazole</td>\n      <td>May increase the serum concentration of OAT1/...</td>\n      <td></td>\n    </tr>\n    <tr>\n      <th>...</th>\n      <td>...</td>\n      <td>...</td>\n      <td>...</td>\n      <td>...</td>\n    </tr>\n    <tr>\n      <th>182</th>\n      <td>Trilaciclib</td>\n      <td>Dalfampridine</td>\n      <td>OCT2 Inhibitors may increase the serum concen...</td>\n      <td></td>\n    </tr>\n    <tr>\n      <th>183</th>\n      <td>Trilaciclib</td>\n      <td>Dofetilide</td>\n      <td>MATE1/2-K Inhibitors may increase the serum c...</td>\n      <td></td>\n    </tr>\n    <tr>\n      <th>184</th>\n      <td>Trilaciclib</td>\n      <td>MetFORMIN</td>\n      <td>MATE1/2-K Inhibitors may increase the serum c...</td>\n      <td></td>\n    </tr>\n    <tr>\n      <th>186</th>\n      <td>Sodium Chloride</td>\n      <td>Lithium</td>\n      <td>Sodium Chloride may increase the excretion of...</td>\n      <td></td>\n    </tr>\n    <tr>\n      <th>187</th>\n      <td>Sodium Chloride</td>\n      <td>Tolvaptan</td>\n      <td>Sodium Chloride may enhance the adverse/toxic...</td>\n      <td>Interacting drugs may not be individually lis...</td>\n    </tr>\n  </tbody>\n</table>\n<p>173 rows × 4 columns</p>\n</div>"
     },
     "execution_count": 45,
     "metadata": {},
     "output_type": "execute_result"
    }
   ],
   "source": [
    "df_interactions"
   ],
   "metadata": {
    "collapsed": false
   }
  },
  {
   "cell_type": "code",
   "execution_count": 46,
   "outputs": [],
   "source": [
    "for i in range(len(df_interactions)):\n",
    "    sent = df_interactions['Interaction'].values[i]\n",
    "    if find_lexicomp_exp(sent):\n",
    "        if df_interactions['Drug Name'].values[i] == df_interactions['Drug Name'].values[i-1]:\n",
    "            df_interactions['Interaction'].values[i] = 'NOO'\n",
    "\n",
    "df_interactions = df_interactions[df_interactions['Interaction'] != 'NOO']\n",
    "df_interactions[:].to_csv('extracted_drug_interaction_100000000000.csv')"
   ],
   "metadata": {
    "collapsed": false
   }
  },
  {
   "cell_type": "code",
   "execution_count": 47,
   "outputs": [],
   "source": [
    "df = pd.DataFrame()\n",
    "\n",
    "df['titles'] = titles;"
   ],
   "metadata": {
    "collapsed": false
   }
  },
  {
   "cell_type": "code",
   "execution_count": 48,
   "outputs": [
    {
     "data": {
      "text/plain": "10"
     },
     "execution_count": 48,
     "metadata": {},
     "output_type": "execute_result"
    }
   ],
   "source": [
    "len(brand_names)"
   ],
   "metadata": {
    "collapsed": false
   }
  },
  {
   "cell_type": "code",
   "execution_count": 49,
   "outputs": [],
   "source": [
    "df['references'] =references;df['approval_date'] =approval_date;\n",
    "df['approval_date'] = approval_date; df['us_pricing'] = us_pricing; df['pharmacotherapy'] = pharmacotherapy; df['availability']=availability; df['atc'] = atc; df['prod_availability'] = prod_availability; df['index_terms']=index_terms;\n",
    "df['related_info'] = related_info; df['dental_bleeding_effect'] = dental_bleeding_effect; df['action_mechanism'] = action_mechanism; df['canada_dosage'] =canda_dosage; df['us_dosage'] = us_dosage; df['dental_treatment_effect']= dental_treatment_effect; df['dental_anesthetic_precautions'] = dental_anesthetic_precautions; df['pharmacokinetics'] = pharmacokinetics; df['monitoring_params'] = monitoring_params;df['drug_interactions'] = drug_interactions;df['dosing_adult'] = dosing_adult;df['metabolism_effects'] = metabolism_effects; df['allergy_reactions'] = allergy_reactions; df['adverse_reactions'] = adverse_reactions; df['breastfeeding_considerations'] = breastfeeding_considerations;"
   ],
   "metadata": {
    "collapsed": false
   }
  },
  {
   "cell_type": "code",
   "execution_count": 50,
   "outputs": [],
   "source": [
    "df['pregnancy_considerations'] = pregnancy_considerations;df['contraindications'] = contraindications; df['HCAHPS']=HCAHPS;  df['preparation_admin_adults']=preparation_admin_adults; df['storage_stability']=storage_stability;df['medications_safety']=medications_safety; df['injection_detail']=injection_detail;df['admin_iv']=admin_iv;df['labeled_indications']= labeled_indications;df['dosing_pediatric']=dosing_pediatric;df['alerts_warning']=alerts_warning;df['preparation_admin_pediatric']=preparation_admin_pediatric; df['dosing_older_adult']=dosing_older_adult;df['reproductive_considerations']=reproductive_considerations"
   ],
   "metadata": {
    "collapsed": false
   }
  },
  {
   "cell_type": "code",
   "execution_count": 52,
   "outputs": [],
   "source": [
    "df.drop(columns=['approval_date','us_pricing','availability','atc','prod_availability','index_terms','canada_dosage','us_dosage','allergy_reactions','pharmacotherapy','references']).to_csv('extracted100000000000.csv')"
   ],
   "metadata": {
    "collapsed": false
   }
  },
  {
   "cell_type": "code",
   "execution_count": 53,
   "outputs": [
    {
     "ename": "NameError",
     "evalue": "name 'da' is not defined",
     "output_type": "error",
     "traceback": [
      "\u001B[1;31m---------------------------------------------------------------------------\u001B[0m",
      "\u001B[1;31mNameError\u001B[0m                                 Traceback (most recent call last)",
      "Cell \u001B[1;32mIn[53], line 1\u001B[0m\n\u001B[1;32m----> 1\u001B[0m \u001B[43mda\u001B[49m\n",
      "\u001B[1;31mNameError\u001B[0m: name 'da' is not defined"
     ]
    }
   ],
   "source": [],
   "metadata": {
    "collapsed": false
   }
  },
  {
   "cell_type": "code",
   "execution_count": null,
   "outputs": [],
   "source": [],
   "metadata": {
    "collapsed": false
   }
  }
 ],
 "metadata": {
  "kernelspec": {
   "display_name": "Python 3",
   "language": "python",
   "name": "python3"
  },
  "language_info": {
   "codemirror_mode": {
    "name": "ipython",
    "version": 2
   },
   "file_extension": ".py",
   "mimetype": "text/x-python",
   "name": "python",
   "nbconvert_exporter": "python",
   "pygments_lexer": "ipython2",
   "version": "2.7.6"
  }
 },
 "nbformat": 4,
 "nbformat_minor": 0
}
