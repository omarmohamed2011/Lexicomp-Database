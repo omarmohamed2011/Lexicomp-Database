{
 "cells": [
  {
   "cell_type": "code",
   "execution_count": 1,
   "outputs": [
    {
     "data": {
      "text/plain": "3157"
     },
     "execution_count": 1,
     "metadata": {},
     "output_type": "execute_result"
    }
   ],
   "source": [
    "import glob\n",
    "from docx import Document\n",
    "from dosing_section import *\n",
    "import re\n",
    "\n",
    "list_pdfs = glob.glob('Notebooks/installations/Data/Total-Lexi-links-docx/*.docx')[:]\n",
    "len(list_pdfs)"
   ],
   "metadata": {
    "collapsed": false,
    "ExecuteTime": {
     "end_time": "2023-08-30T11:20:57.927965700Z",
     "start_time": "2023-08-30T11:20:56.912474500Z"
    }
   }
  },
  {
   "cell_type": "code",
   "execution_count": 2,
   "outputs": [],
   "source": [
    "## Splits dosing section into its three subsections; mainly the drug name of the file, condition name or disease name, and description for it.\n",
    "dosage_title, disease_name, disease_description = dosing_splitting(list_pdfs)"
   ],
   "metadata": {
    "collapsed": false,
    "ExecuteTime": {
     "end_time": "2023-08-30T11:24:19.665579800Z",
     "start_time": "2023-08-30T11:21:20.161647500Z"
    }
   }
  },
  {
   "cell_type": "code",
   "execution_count": 5,
   "outputs": [
    {
     "data": {
      "text/plain": "['Abacavir and Lamivudine (Lexi-Drugs)',\n 'Abacavir, Dolutegravir, and Lamivudine (Lexi-Drugs)',\n 'Abacavir (Lexi-Drugs)',\n 'Abaloparatide (Lexi-Drugs)',\n 'Abaloparatide (Lexi-Drugs)',\n 'Abaloparatide (Lexi-Drugs)',\n 'Abaloparatide (Lexi-Drugs)',\n 'Abatacept (Lexi-Drugs)',\n 'Abatacept (Lexi-Drugs)',\n 'Abatacept (Lexi-Drugs)',\n 'Abatacept (Lexi-Drugs)',\n 'Abatacept (Lexi-Drugs)',\n 'Abatacept (Lexi-Drugs)',\n 'Abatacept (Lexi-Drugs)',\n 'Abciximab (Lexi-Drugs)',\n 'Abciximab (Lexi-Drugs)',\n 'Abciximab (Lexi-Drugs)',\n 'Abemaciclib (Lexi-Drugs)',\n 'Abemaciclib (Lexi-Drugs)',\n 'Abemaciclib (Lexi-Drugs)',\n 'Abemaciclib (Lexi-Drugs)',\n 'Abemaciclib (Lexi-Drugs)',\n 'Abemaciclib (Lexi-Drugs)',\n 'Abiraterone Acetate (Lexi-Drugs)',\n 'Abiraterone Acetate (Lexi-Drugs)',\n 'Abiraterone Acetate (Lexi-Drugs)',\n 'Abiraterone Acetate (Lexi-Drugs)',\n 'Abiraterone Acetate (Lexi-Drugs)',\n 'AbobotulinumtoxinA (Lexi-Drugs)',\n 'AbobotulinumtoxinA (Lexi-Drugs)']"
     },
     "execution_count": 5,
     "metadata": {},
     "output_type": "execute_result"
    }
   ],
   "source": [
    "dosage_title[:30]"
   ],
   "metadata": {
    "collapsed": false,
    "ExecuteTime": {
     "end_time": "2023-08-30T11:24:45.072927300Z",
     "start_time": "2023-08-30T11:24:45.038067400Z"
    }
   }
  },
  {
   "cell_type": "code",
   "execution_count": 6,
   "outputs": [
    {
     "data": {
      "text/plain": "['HIV-1 infection, treatment: Oral: 1 tablet (abacavir 600 mg and lamivudine 300 mg) once daily as part of an appropriate combination regimen. Note: Abacavir and lamivudine should not be used in combination with efavirenz, raltegravir, boosted atazanavir, or boosted darunavir in patients with pretreatment HIV RNA ≥100,000 copies/mL (Ref).\\nDosage adjustment for concomitant therapy: Significant drug interactions exist, requiring dose/frequency adjustment or avoidance.\\nConsult drug interactions database for more information.',\n 'HIV-1 infection, treatment: Oral: One tablet (abacavir 600 mg/dolutegravir 50 mg/lamivudine 300 mg) once daily. Note: Do not use in the setting of hepatitis B virus (HBV) coinfection or unknown HBV status (HHS [adult] 2022).\\nDosage adjustment for concomitant therapy: Significant drug interactions exist, requiring dose/frequency adjustment or avoidance.\\nConsult drug interactions database for more information.',\n 'HIV-1 infection, treatment: Oral: 300 mg twice daily or 600 mg once daily in combination with other antiretroviral agents. Note: Abacavir, in combination with lamivudine and either efavirenz, raltegravir, boosted atazanavir, or boosted darunavir, should not be used in patients with pretreatment HIV RNA ≥100,000 copies/mL (HHS [adult] 2019).\\nDosage adjustment for concomitant therapy: Significant drug interactions exist, requiring dose/frequency adjustment or avoidance.\\nConsult drug interactions database for more information.']"
     },
     "execution_count": 6,
     "metadata": {},
     "output_type": "execute_result"
    }
   ],
   "source": [
    "disease_description[:3]"
   ],
   "metadata": {
    "collapsed": false,
    "ExecuteTime": {
     "end_time": "2023-08-30T11:25:18.460315900Z",
     "start_time": "2023-08-30T11:25:18.428867200Z"
    }
   }
  },
  {
   "cell_type": "code",
   "execution_count": 5,
   "outputs": [],
   "source": [
    "Oral_adult, IV_adult, Rectal_adult = adult_injection(disease_description)"
   ],
   "metadata": {
    "collapsed": false
   }
  },
  {
   "cell_type": "code",
   "execution_count": 6,
   "outputs": [
    {
     "data": {
      "text/plain": "9492"
     },
     "execution_count": 6,
     "metadata": {},
     "output_type": "execute_result"
    }
   ],
   "source": [
    "len(Oral_adult)"
   ],
   "metadata": {
    "collapsed": false
   }
  },
  {
   "cell_type": "code",
   "execution_count": 7,
   "outputs": [
    {
     "data": {
      "text/plain": "822"
     },
     "execution_count": 7,
     "metadata": {},
     "output_type": "execute_result"
    }
   ],
   "source": [
    "len(set(dosage_title))"
   ],
   "metadata": {
    "collapsed": false
   }
  },
  {
   "cell_type": "code",
   "execution_count": 8,
   "outputs": [],
   "source": [
    "IV,Oral,Rectal,IM,Oral_IV = injection_type(dosage_title, disease_description)"
   ],
   "metadata": {
    "collapsed": false
   }
  },
  {
   "cell_type": "code",
   "execution_count": 9,
   "outputs": [],
   "source": [
    "max_dosage = []\n",
    "for dose in disease_description:\n",
    "    a = return_maximum(dose)\n",
    "    max_dosage.append(a)"
   ],
   "metadata": {
    "collapsed": false
   }
  },
  {
   "cell_type": "code",
   "execution_count": 10,
   "outputs": [],
   "source": [
    "import pandas as pd\n",
    "df_dosage_adult = pd.DataFrame()\n",
    "\n",
    "df_dosage_adult['Drug Name'] = dosage_title\n",
    "df_dosage_adult['Disease Name'] = disease_name\n",
    "df_dosage_adult['Disease Description'] = disease_description\n",
    "\n",
    "df_dosage_adult['IV'] = IV\n",
    "df_dosage_adult['Oral'] = Oral\n",
    "df_dosage_adult['Rectal'] = Rectal\n",
    "df_dosage_adult['Oral, IV'] = Oral_IV\n",
    "df_dosage_adult['IM'] = IM\n",
    "\n",
    "df_dosage_adult['Maximum Dosage'] = max_dosage\n",
    "\n",
    "df_dosage_adult.to_excel('Dosage Adult 880 only.xlsx')"
   ],
   "metadata": {
    "collapsed": false
   }
  },
  {
   "cell_type": "code",
   "execution_count": 2,
   "outputs": [],
   "source": [
    "import glob\n",
    "\n",
    "d = glob.glob('Database pdfs/Total-duplicates/*.docx')"
   ],
   "metadata": {
    "collapsed": false,
    "ExecuteTime": {
     "end_time": "2023-05-09T14:04:24.723050900Z",
     "start_time": "2023-05-09T14:04:24.711084100Z"
    }
   }
  },
  {
   "cell_type": "code",
   "execution_count": 3,
   "outputs": [
    {
     "data": {
      "text/plain": "1035"
     },
     "execution_count": 3,
     "metadata": {},
     "output_type": "execute_result"
    }
   ],
   "source": [
    "len(d)"
   ],
   "metadata": {
    "collapsed": false,
    "ExecuteTime": {
     "end_time": "2023-05-09T14:04:26.560604700Z",
     "start_time": "2023-05-09T14:04:26.545644500Z"
    }
   }
  },
  {
   "cell_type": "code",
   "execution_count": 8,
   "outputs": [
    {
     "data": {
      "text/plain": "'Abacavir, Lamivudine, and Zidovudine (Lexi-Drugs)'"
     },
     "execution_count": 8,
     "metadata": {},
     "output_type": "execute_result"
    }
   ],
   "source": [
    "d[0].split('\\\\')[-1].replace('.docx','')"
   ],
   "metadata": {
    "collapsed": false,
    "ExecuteTime": {
     "end_time": "2023-05-09T14:06:11.161424800Z",
     "start_time": "2023-05-09T14:06:11.120332900Z"
    }
   }
  },
  {
   "cell_type": "code",
   "execution_count": 9,
   "outputs": [],
   "source": [
    "for i in range(len(d)):\n",
    "    d[i] = d[i].split('\\\\')[-1].replace('.docx','')"
   ],
   "metadata": {
    "collapsed": false,
    "ExecuteTime": {
     "end_time": "2023-05-09T14:06:22.073745100Z",
     "start_time": "2023-05-09T14:06:22.061778900Z"
    }
   }
  },
  {
   "cell_type": "code",
   "execution_count": 10,
   "outputs": [],
   "source": [
    "import pandas as pd\n",
    "\n",
    "pd.DataFrame(d).to_excel('dsafas.xlsx')"
   ],
   "metadata": {
    "collapsed": false,
    "ExecuteTime": {
     "end_time": "2023-05-09T14:06:23.365038Z",
     "start_time": "2023-05-09T14:06:23.115701600Z"
    }
   }
  },
  {
   "cell_type": "markdown",
   "source": [
    "## Accurate results"
   ],
   "metadata": {
    "collapsed": false
   }
  },
  {
   "cell_type": "code",
   "execution_count": 13,
   "outputs": [
    {
     "data": {
      "text/plain": "'Notebooks/installations/Data/Total-Lexi-links-docx\\\\5 + 2 (Cytarabine-Daunorubicin) (AML Induction).docx'"
     },
     "execution_count": 13,
     "metadata": {},
     "output_type": "execute_result"
    }
   ],
   "source": [
    "list_pdfs[0]"
   ],
   "metadata": {
    "collapsed": false,
    "ExecuteTime": {
     "end_time": "2023-08-30T11:37:02.040956600Z",
     "start_time": "2023-08-30T11:37:01.947058600Z"
    }
   }
  },
  {
   "cell_type": "code",
   "execution_count": 16,
   "outputs": [
    {
     "data": {
      "text/plain": "'Zuclopenthixol'"
     },
     "execution_count": 16,
     "metadata": {},
     "output_type": "execute_result"
    }
   ],
   "source": [
    "def get_title(doc):\n",
    "    doc = doc.split('\\\\')[-1].split('.docx')[0]\n",
    "    return doc\n",
    "get_title(list_pdfs[0])"
   ],
   "metadata": {
    "collapsed": false,
    "ExecuteTime": {
     "end_time": "2023-08-30T11:37:59.306620700Z",
     "start_time": "2023-08-30T11:37:59.291082700Z"
    }
   }
  },
  {
   "cell_type": "code",
   "execution_count": 17,
   "outputs": [],
   "source": [
    "generic_names, pediatric, adult,older_adult = [],[],[],[]\n",
    "#kidney = []\n",
    "food_interactions = []\n",
    "\n",
    "for pdf_path in list_pdfs:\n",
    "    document = Document(pdf_path)\n",
    "    title = get_title(pdf_path)\n",
    "    dosing_ped   = get_heading_text(document.paragraphs, 'Dosing: Pediatric')\n",
    "    dosing_adult = get_heading_text(document.paragraphs, 'Dosing: Adult')\n",
    "    dosing_old_ad= get_heading_text(document.paragraphs, 'Dosing: Older Adult')\n",
    "    food_interaction = get_heading_text(document.paragraphs, 'Food Interactions')\n",
    "    #dosing_alt = get_heading_text(document.paragraphs, 'Dosing: Altered Kidney Function')\n",
    "    generic_names.append(title);     pediatric.append(dosing_ped);     adult.append(dosing_adult);  older_adult.append(dosing_old_ad)\n",
    "    #kidney.append(dosing_alt)\n",
    "    food_interactions.append(food_interaction)"
   ],
   "metadata": {
    "collapsed": false,
    "ExecuteTime": {
     "end_time": "2023-08-30T11:40:25.778633500Z",
     "start_time": "2023-08-30T11:38:03.931740400Z"
    }
   }
  },
  {
   "cell_type": "code",
   "execution_count": 18,
   "outputs": [
    {
     "data": {
      "text/plain": "3157"
     },
     "execution_count": 18,
     "metadata": {},
     "output_type": "execute_result"
    }
   ],
   "source": [
    "len(generic_names)"
   ],
   "metadata": {
    "collapsed": false,
    "ExecuteTime": {
     "end_time": "2023-08-30T11:40:25.792078200Z",
     "start_time": "2023-08-30T11:40:25.780629900Z"
    }
   }
  },
  {
   "cell_type": "code",
   "execution_count": 19,
   "outputs": [
    {
     "data": {
      "text/plain": "3157"
     },
     "execution_count": 19,
     "metadata": {},
     "output_type": "execute_result"
    }
   ],
   "source": [
    "len(pediatric)"
   ],
   "metadata": {
    "collapsed": false,
    "ExecuteTime": {
     "end_time": "2023-08-30T11:40:25.885585400Z",
     "start_time": "2023-08-30T11:40:25.794071400Z"
    }
   }
  },
  {
   "cell_type": "code",
   "execution_count": 20,
   "outputs": [
    {
     "data": {
      "text/plain": "                                           Generic Name Dosing: Pediatric  \\\n0       5 + 2 (Cytarabine-Daunorubicin) (AML Induction)                     \n1     5 + 2 (Cytarabine-Daunorubicin) (AML Postremis...                     \n2     5 + 2 (Cytarabine-Idarubicin) (AML Consolidation)                     \n3     5 + 2 (Cytarabine-Mitoxantrone) (AML Consolida...                     \n4     5 + 2 + 5 (Cytarabine-Daunorubicin-Etoposide) ...                     \n...                                                 ...               ...   \n3152                                          Zopiclone                     \n3153                    Zoster Vaccine (LiveAttenuated)                     \n3154                       Zoster Vaccine (Recombinant)                     \n3155                                        Zucapsaicin                     \n3156                                     Zuclopenthixol                     \n\n                                          Dosing: Adult  \\\n0                                                         \n1                                                         \n2                                                         \n3                                                         \n4                                                         \n...                                                 ...   \n3152  \\n\\nInsomnia, sleep onset or sleep maintenance...   \n3153  Note: Zostavax will no longer be available in ...   \n3154  \\n\\nShingles prevention:\\n\\nAdults ≥18 years o...   \n3155  \\n\\nPain relief in osteoarthritis of knee: Top...   \n3156  \\n\\nAgitation/Aggression associated with schiz...   \n\n                                    Dosing: Older Adult  \n0                                                        \n1                                                        \n2                                                        \n3                                                        \n4                                                        \n...                                                 ...  \n3152  Avoid use (Beers Criteria [AGS 2019]).\\n\\nInso...  \n3153                         Refer to adult dosing.\\n\\n  \n3154                         Refer to adult dosing.\\n\\n  \n3155                         Refer to adult dosing.\\n\\n  \n3156  Refer to adult dosing. Consider initiating the...  \n\n[3157 rows x 4 columns]",
      "text/html": "<div>\n<style scoped>\n    .dataframe tbody tr th:only-of-type {\n        vertical-align: middle;\n    }\n\n    .dataframe tbody tr th {\n        vertical-align: top;\n    }\n\n    .dataframe thead th {\n        text-align: right;\n    }\n</style>\n<table border=\"1\" class=\"dataframe\">\n  <thead>\n    <tr style=\"text-align: right;\">\n      <th></th>\n      <th>Generic Name</th>\n      <th>Dosing: Pediatric</th>\n      <th>Dosing: Adult</th>\n      <th>Dosing: Older Adult</th>\n    </tr>\n  </thead>\n  <tbody>\n    <tr>\n      <th>0</th>\n      <td>5 + 2 (Cytarabine-Daunorubicin) (AML Induction)</td>\n      <td></td>\n      <td></td>\n      <td></td>\n    </tr>\n    <tr>\n      <th>1</th>\n      <td>5 + 2 (Cytarabine-Daunorubicin) (AML Postremis...</td>\n      <td></td>\n      <td></td>\n      <td></td>\n    </tr>\n    <tr>\n      <th>2</th>\n      <td>5 + 2 (Cytarabine-Idarubicin) (AML Consolidation)</td>\n      <td></td>\n      <td></td>\n      <td></td>\n    </tr>\n    <tr>\n      <th>3</th>\n      <td>5 + 2 (Cytarabine-Mitoxantrone) (AML Consolida...</td>\n      <td></td>\n      <td></td>\n      <td></td>\n    </tr>\n    <tr>\n      <th>4</th>\n      <td>5 + 2 + 5 (Cytarabine-Daunorubicin-Etoposide) ...</td>\n      <td></td>\n      <td></td>\n      <td></td>\n    </tr>\n    <tr>\n      <th>...</th>\n      <td>...</td>\n      <td>...</td>\n      <td>...</td>\n      <td>...</td>\n    </tr>\n    <tr>\n      <th>3152</th>\n      <td>Zopiclone</td>\n      <td></td>\n      <td>\\n\\nInsomnia, sleep onset or sleep maintenance...</td>\n      <td>Avoid use (Beers Criteria [AGS 2019]).\\n\\nInso...</td>\n    </tr>\n    <tr>\n      <th>3153</th>\n      <td>Zoster Vaccine (LiveAttenuated)</td>\n      <td></td>\n      <td>Note: Zostavax will no longer be available in ...</td>\n      <td>Refer to adult dosing.\\n\\n</td>\n    </tr>\n    <tr>\n      <th>3154</th>\n      <td>Zoster Vaccine (Recombinant)</td>\n      <td></td>\n      <td>\\n\\nShingles prevention:\\n\\nAdults ≥18 years o...</td>\n      <td>Refer to adult dosing.\\n\\n</td>\n    </tr>\n    <tr>\n      <th>3155</th>\n      <td>Zucapsaicin</td>\n      <td></td>\n      <td>\\n\\nPain relief in osteoarthritis of knee: Top...</td>\n      <td>Refer to adult dosing.\\n\\n</td>\n    </tr>\n    <tr>\n      <th>3156</th>\n      <td>Zuclopenthixol</td>\n      <td></td>\n      <td>\\n\\nAgitation/Aggression associated with schiz...</td>\n      <td>Refer to adult dosing. Consider initiating the...</td>\n    </tr>\n  </tbody>\n</table>\n<p>3157 rows × 4 columns</p>\n</div>"
     },
     "execution_count": 20,
     "metadata": {},
     "output_type": "execute_result"
    }
   ],
   "source": [
    "import pandas as pd\n",
    "\n",
    "df = pd.DataFrame()\n",
    "\n",
    "df['Generic Name'] = generic_names; df['Dosing: Pediatric'] = pediatric; df['Dosing: Adult'] = adult;\n",
    "df['Dosing: Older Adult'] = older_adult\n",
    "df"
   ],
   "metadata": {
    "collapsed": false,
    "ExecuteTime": {
     "end_time": "2023-08-30T11:40:25.979249Z",
     "start_time": "2023-08-30T11:40:25.885585400Z"
    }
   }
  },
  {
   "cell_type": "code",
   "execution_count": 21,
   "outputs": [],
   "source": [
    "df.to_csv('Notebooks/installations/Data/Results - Final Sprint Assignment/Drug-Dosing.csv',index=False,encoding='utf-8-sig')"
   ],
   "metadata": {
    "collapsed": false,
    "ExecuteTime": {
     "end_time": "2023-08-30T11:43:37.589120700Z",
     "start_time": "2023-08-30T11:43:37.323189600Z"
    }
   }
  },
  {
   "cell_type": "code",
   "execution_count": null,
   "outputs": [],
   "source": [],
   "metadata": {
    "collapsed": false
   }
  }
 ],
 "metadata": {
  "kernelspec": {
   "display_name": "Python 3",
   "language": "python",
   "name": "python3"
  },
  "language_info": {
   "codemirror_mode": {
    "name": "ipython",
    "version": 2
   },
   "file_extension": ".py",
   "mimetype": "text/x-python",
   "name": "python",
   "nbconvert_exporter": "python",
   "pygments_lexer": "ipython2",
   "version": "2.7.6"
  }
 },
 "nbformat": 4,
 "nbformat_minor": 0
}
