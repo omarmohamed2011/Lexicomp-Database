{
 "cells": [
  {
   "cell_type": "code",
   "execution_count": 1,
   "metadata": {
    "collapsed": true
   },
   "outputs": [],
   "source": [
    "import mechanicalsoup\n",
    "import\n",
    "import pandas as pd\n",
    "\n",
    "browser = mechanicalsoup.Browser()"
   ]
  },
  {
   "cell_type": "code",
   "execution_count": 23,
   "outputs": [],
   "source": [
    "import bs4"
   ],
   "metadata": {
    "collapsed": false,
    "ExecuteTime": {
     "end_time": "2023-05-15T12:31:08.447752500Z",
     "start_time": "2023-05-15T12:31:08.432098300Z"
    }
   }
  },
  {
   "cell_type": "code",
   "execution_count": 22,
   "outputs": [],
   "source": [
    "login_url = \"https://online.lexi.com\"  # Replace with the actual login page URL"
   ],
   "metadata": {
    "collapsed": false,
    "ExecuteTime": {
     "end_time": "2023-05-15T12:07:27.886940Z",
     "start_time": "2023-05-15T12:07:27.871319300Z"
    }
   }
  },
  {
   "cell_type": "code",
   "execution_count": 23,
   "outputs": [],
   "source": [
    "h=browser.get(login_url).soup"
   ],
   "metadata": {
    "collapsed": false,
    "ExecuteTime": {
     "end_time": "2023-05-15T12:07:30.229125600Z",
     "start_time": "2023-05-15T12:07:28.201390100Z"
    }
   }
  },
  {
   "cell_type": "code",
   "execution_count": 76,
   "outputs": [],
   "source": [
    "import mechanicalsoup\n",
    "\n",
    "# Create a StatefulBrowser object\n",
    "browser = mechanicalsoup.StatefulBrowser()\n",
    "browser.session.headers = { 'User-Agent': 'Mozilla/5.0 (Windows NT 10.0; Win64; x64) AppleWebKit/537.36 (KHTML, like Gecko) Chrome/91.0.4472.124 Safari/537.36',  'Accept-Language': 'en-US,en;q=0.9',\n",
    "    'Referer': 'https://www.google.com/'\n",
    "}"
   ],
   "metadata": {
    "collapsed": false,
    "ExecuteTime": {
     "end_time": "2023-05-15T12:59:21.656112500Z",
     "start_time": "2023-05-15T12:59:21.640330Z"
    }
   }
  },
  {
   "cell_type": "code",
   "execution_count": 77,
   "outputs": [
    {
     "name": "stdout",
     "output_type": "stream",
     "text": [
      "<Response [200]>\n"
     ]
    }
   ],
   "source": [
    "\n",
    "\n",
    "# Perform login\n",
    "login_url = 'https://online.lexi.com/lco/action/login'\n",
    "login_page = browser.get(login_url)\n",
    "print(login_page)"
   ],
   "metadata": {
    "collapsed": false,
    "ExecuteTime": {
     "end_time": "2023-05-15T12:59:24.885036Z",
     "start_time": "2023-05-15T12:59:23.439097900Z"
    }
   }
  },
  {
   "cell_type": "code",
   "execution_count": 78,
   "outputs": [],
   "source": [
    "login_page_soup:bs4.BeautifulSoup=login_page.soup\n",
    "login_form = login_page.soup.select_one('form')"
   ],
   "metadata": {
    "collapsed": false,
    "ExecuteTime": {
     "end_time": "2023-05-15T12:59:27.099496Z",
     "start_time": "2023-05-15T12:59:27.083848200Z"
    }
   }
  },
  {
   "cell_type": "code",
   "execution_count": null,
   "outputs": [],
   "source": [
    "login_form.prin"
   ],
   "metadata": {
    "collapsed": false
   }
  },
  {
   "cell_type": "code",
   "execution_count": 79,
   "outputs": [],
   "source": [
    "\n",
    "login_form.find(\"input\",attrs={\"id\":'login-field'}).attrs['value'] = 'visn16'\n",
    "login_form.find(\"input\",attrs={\"id\":'password-field'}).attrs['value'] = 'visn16'"
   ],
   "metadata": {
    "collapsed": false,
    "ExecuteTime": {
     "end_time": "2023-05-15T12:59:28.983723900Z",
     "start_time": "2023-05-15T12:59:28.968073800Z"
    }
   }
  },
  {
   "cell_type": "code",
   "execution_count": 80,
   "outputs": [
    {
     "data": {
      "text/plain": "<form>\n<div class=\"wk-field-header\" id=\"login-content-form-username\">\n<label for=\"login-field\" id=\"login-content-form-username-label\">{{ $t(\"message.common.username\") }}</label>\n</div>\n<div class=\"wk-field-body\">\n<input :disabled=\"isUsernameDisabled\" aria-labelledby=\"login-content-form-username-label\" autocomplete=\"username\" id=\"login-field\" type=\"text\" v-model=\"username\" value=\"visn16\"/>\n</div>\n<div class=\"wk-field-header\" id=\"login-content-form-password\">\n<label for=\"password-field\" id=\"login-content-form-password-label\">{{ $t(\"message.common.password\") }}</label>\n<a id=\"login-content-form-password-showpassword\">\n<span :class=\"showPasswordIcon\"></span>\n<span>{{showPasswordLabel}}</span>\n</a>\n</div>\n<div class=\"wk-field-body\">\n<input :disabled=\"isPasswordDisabled\" :type=\"passwordInputType\" aria-labelledby=\"login-content-form-password-label\" autocomplete=\"current-password\" id=\"password-field\" v-model=\"password\" value=\"visn16\"/>\n</div>\n<div class=\"wk-checkbox-field\" id=\"login-content-form-keepmeloggedin\">\n<label>\n<input :disabled=\"isRememberMeDisabled\" id=\"rememberMe\" type=\"checkbox\" v-model=\"rememberMe\"/><span>{{ $t(\"message.login.keepMeLoggedIn\") }}</span>\n</label>\n</div>\n<button :disabled=\"isLoginDisabled\" id=\"btn-login\" type=\"submit\">{{ $t(\"message.login.login\") }}</button>\n<div id=\"login-content-form-links\">\n<a href=\"http://www.wolterskluwercdi.com/support/\" id=\"login-content-form-links-needhelp\">{{ $t(\"message.login.needHelp\") }}</a>\n<div id=\"login-content-form-or-line\"><span>OR</span></div>\n<div id=\"login-content-form-links-login\">\n<div id=\"login-content-form-links-title\">Sign in with</div>\n<a href=\"/lco/openathens/login\" id=\"login-content-form-links-openathens\">OpenAthens</a>\n<a :href=\"microsoftLoginHref\" id=\"login-content-form-links-ceidp\" v-if=\"idpListHasMicrosoft\">Microsoft</a>\n</div>\n</div>\n</form>"
     },
     "execution_count": 80,
     "metadata": {},
     "output_type": "execute_result"
    }
   ],
   "source": [
    "login_form"
   ],
   "metadata": {
    "collapsed": false,
    "ExecuteTime": {
     "end_time": "2023-05-15T12:59:30.411498400Z",
     "start_time": "2023-05-15T12:59:30.395846700Z"
    }
   }
  },
  {
   "cell_type": "code",
   "execution_count": 81,
   "outputs": [
    {
     "name": "stdout",
     "output_type": "stream",
     "text": [
      "Login successful!\n"
     ]
    }
   ],
   "source": [
    "# Submit the form\n",
    "response = browser.submit(login_form, login_page.url)\n",
    "\n",
    "# Check if login was successful\n",
    "if response.ok:\n",
    "    print(\"Login successful!\")\n",
    "    # Now you can perform other actions using the browser session\n",
    "    # For example, you can navigate to other pages, submit forms, etc.\n",
    "else:\n",
    "    print(\"Login failed.\")\n",
    "\n",
    "# After you are done with the session, you can close it\n"
   ],
   "metadata": {
    "collapsed": false,
    "ExecuteTime": {
     "end_time": "2023-05-15T12:59:38.699387Z",
     "start_time": "2023-05-15T12:59:37.994902700Z"
    }
   }
  },
  {
   "cell_type": "code",
   "execution_count": 82,
   "outputs": [],
   "source": [
    "drugs_page=browser.get(\"https://online.lexi.com/lco/action/index/generic/patch_f/A\").soup"
   ],
   "metadata": {
    "collapsed": false,
    "ExecuteTime": {
     "end_time": "2023-05-15T12:59:42.061265600Z",
     "start_time": "2023-05-15T12:59:41.307134600Z"
    }
   }
  },
  {
   "cell_type": "code",
   "execution_count": 83,
   "outputs": [
    {
     "name": "stdout",
     "output_type": "stream",
     "text": [
      "<!DOCTYPE HTML>\n",
      "<!--[if lt IE 9]><html lang=\"en-US\" class=\"ie\"><![endif]--><!--[if IE 9]><html lang=\"en-US\" class=\"ie ie9\"><![endif]--><!--[if (gt IE 9)|!(IE)]><!--><html lang=\"en-US\">\n",
      "<!--<![endif]-->\n",
      "<head>\n",
      "<meta content=\"text/html; charset=utf-8\" http-equiv=\"content-type\"/>\n",
      "<meta content=\"IE=Edge\" http-equiv=\"X-UA-Compatible\"/>\n",
      "<title>Login</title>\n",
      "<link href=\"/lco/graphics/lexicomp-3a9e7ac155d51a0e2621c8807ac12c26.ico\" rel=\"shortcut icon\"/><script src=\"/lco/v2/scripts/thirdparty/core-js-2.6.5.min-c3353add2c9cc3dc7a2d06ef27bf821d.js\" type=\"text/javascript\"></script><script src=\"/lco/v2/scripts/thirdparty/fetch-3.0.0.umd.min-5b33feff75f042c7dc63bbe1ea40470e.js\" type=\"text/javascript\"></script><script src=\"/lco/v2/scripts/http-bbd92e2e145648190b184e2079249a40.js\" type=\"text/javascript\"></script><script src=\"/lco/v2/scripts/thirdparty/smoothscroll-polyfill-1.0.2.min-8ab267bdf05b35a9bf65ed1cdc8d5745.js\" type=\"text/javascript\"></script><script src=\"/lco/v2/scripts/thirdparty/url-polyfill-1.1.8.min-691ad3d4d6160a0813b966e2f400d7ad.js\" type=\"text/javascript\"></script><script src=\"/lco/v2/scripts/url-8aae50e9e637534036a646b6f3a985b1.js\" type=\"text/javascript\"></script><script src=\"/lco/v2/scripts/common/matches-polyfill.min-c66d15fa5d8b9cef2938c9adf39eafb9.js\" type=\"text/javascript\"></script><script src=\"/lco/v2/scripts/common/closest-polyfill.min-7d7db17485f5b26af0b166497537569d.js\" type=\"text/javascript\"></script><script src=\"/lco/v2/scripts/thirdparty/lodash-4.17.15.min-daf1aa14600886df5e716410367ea82e.js\" type=\"text/javascript\"></script><script src=\"/lco/v2/scripts/thirdparty/jquery-2.2.4.min-a4c505e1652794b6a5b1e3c5c1b7f423.js\" type=\"text/javascript\"></script><script src=\"/lco/v2/scripts/thirdparty/jquery-ui-1.11.4.min-d7ac257b100827653ed53c15d7cc0229.js\" type=\"text/javascript\"></script><script src=\"/lco/v2/scripts/printThis-764e439324ff5e7ceb5f04894e576512.js\" type=\"text/javascript\"></script><script async=\"\" defer=\"\" src=\"/lco/v2/scripts/common/variable-4a661a82b148c9bfbcc477fcf0f01776.js\" type=\"text/javascript\"></script><script async=\"\" defer=\"\" src=\"/lco/v2/scripts/common/function-a7ba44106e7f95393c91278771b30cce.js\" type=\"text/javascript\"></script><script async=\"\" defer=\"\" src=\"/lco/v2/scripts/common/bind-8a72eef849e113e334942b00148bac03.js\" type=\"text/javascript\"></script><script src=\"/lco/v2/scripts/thirdparty/vue-2.6.12.min-fb192338844efe86ec759a40152fcb8e.js\" type=\"text/javascript\"></script><script src=\"/lco/v2/scripts/vueConfig-1f44fb52bc1f44a734917eba36c15374.js\" type=\"text/javascript\"></script><script src=\"/lco/v2/scripts/thirdparty/vue-i18n-8.22.2.min-8021c3ac596172c4cc567197297ef3af.js\" type=\"text/javascript\"></script><script src=\"/lco/v2/scripts/eventBus-bb0e2841f91ca2dc0e966ddd3a05e26a.js\" type=\"text/javascript\"></script><script src=\"/lco/v2/scripts/i18n-f588e6f7116ad1530d503dc3fda7fc89.js\" type=\"text/javascript\"></script><script type=\"application/javascript\">\n",
      "    //Cookie read function see: https://stackoverflow.com/a/25490531/1564174\n",
      "    //FIXME Maybe add the function to the i18n object?\n",
      "    function getCookieValue(o){\n",
      "        var e = document.cookie.match(\"(^|[^;]+)\\\\s*\"+o+\"\\\\s*=\\\\s*([^;]+)\");\n",
      "        return e ? e.pop() : undefined\n",
      "    }\n",
      "\n",
      "    function informServerOfAutoDetect(locale) {\n",
      "        localStorage.setItem('langCode-autodetected', true);\n",
      "        if (_.last(location.pathname.split('/')) !== 'login') {\n",
      "            i18n.changeServerLocale(locale.langCode);\n",
      "        }\n",
      "    }\n",
      "\n",
      "    function getPreferredLocale() {\n",
      "        var preferredLocale = getCookieValue('langCode');\n",
      "        preferredLocale = (preferredLocale) ? preferredLocale.replace(\"_\", \"-\") : null;\n",
      "        \n",
      "        // Search supported languages for a match on preferred.\n",
      "        // Default to null if preferred is not a supported language.\n",
      "        var preferredSupportedLocale = null;\n",
      "        for (var c = 0; c < Vue.config.supportedLanguages.length; c++) {\n",
      "            if (Vue.config.supportedLanguages[c].langCode === preferredLocale) {\n",
      "            \tpreferredSupportedLocale = Vue.config.supportedLanguages[c].langCode;\n",
      "            \tbreak;\n",
      "            }\n",
      "        }\n",
      "        \n",
      "        if (new URLSearchParams(window.location.search).get('langCode')) {\n",
      "            localStorage.removeItem('langCode-autodetected');\n",
      "        }\n",
      "        \n",
      "        return preferredSupportedLocale;\n",
      "    }\n",
      "    \n",
      "    i18n\n",
      "        .changeClientLocale(\"en\")\n",
      "        .then(function() {\n",
      "            var preferredLocale = getPreferredLocale();\n",
      "            var wasLocaleAutoDetected = localStorage.getItem('langCode-autodetected');\n",
      "            if (preferredLocale && !wasLocaleAutoDetected) {\n",
      "                i18n.changeClientLocale(preferredLocale);\n",
      "            }\n",
      "            else {\n",
      "                var language = 'en';\n",
      "                var country = 'US';\n",
      "                var userLocale = i18n.findBestLocaleConfiguration(language, country);\n",
      "                i18n.changeClientLocale(userLocale.langCode);\n",
      "                if (preferredLocale !== userLocale.langCode) {\n",
      "                    informServerOfAutoDetect(userLocale);\n",
      "                }\n",
      "            }\n",
      "        });\n",
      "</script>\n",
      "<script src=\"/lco/v2/mixins/user-props-0bc6c7a0994ddc3be559ff51ea34f4be.js\" type=\"text/javascript\"></script><script type=\"application/javascript\">\n",
      "    // not really necessary to set a version number for a session variable\n",
      "    const USER_PROPS_VERSION = 1;\n",
      "    \n",
      "    // returns an object rather than the string that is stored \n",
      "    function getUserProps() {\n",
      "        return JSON.parse(sessionStorage.getItem('userProps'));\n",
      "    }\n",
      "    \n",
      "    function refreshUserProps() {\n",
      "        http.get('/lco/action/user/settings/retrieve')\n",
      "            .then(function(json) {\n",
      "                json.version = USER_PROPS_VERSION;\n",
      "                sessionStorage.setItem('userProps', JSON.stringify(json));\n",
      "                eventBus.fire('user-props-update', getUserProps());\n",
      "            });\n",
      "    }\n",
      "    \n",
      "    function clearUserProps() {\n",
      "        sessionStorage.removeItem('userProps');\n",
      "    }\n",
      "    \n",
      "    function shouldRefreshProps() {\n",
      "        var lastPath = _.last(window.location.pathname.split('/'));\n",
      "        \n",
      "        if (lastPath === '') {\n",
      "            //the url may end in '/'\n",
      "            var allPaths = window.location.pathname.split('/');\n",
      "            lastPath = allPaths.length < 2 ? '' : allPaths[allPaths.length - 2];\n",
      "        }\n",
      "        if (lastPath === 'login' || lastPath === 'error') {\n",
      "            return false;\n",
      "        }\n",
      "        \n",
      "        if (!getUserProps() || getUserProps().version !== USER_PROPS_VERSION) {\n",
      "            return true;\n",
      "        }\n",
      "        return lastPath === 'home' || lastPath === 'tox';\n",
      "    }\n",
      "    \n",
      "    if (shouldRefreshProps()) {\n",
      "        clearUserProps();\n",
      "        refreshUserProps();\n",
      "    } else if (_.last(window.location.pathname.split('/')) === 'login') {\n",
      "        clearUserProps();\n",
      "    }\n",
      "</script>\n",
      "<script src=\"/lco/v2/components/help-modal-807fb8a1a42f37b386a6ee9ba1757391.js\" type=\"text/javascript\"></script><script src=\"/lco/v2/components/tab-bar-button-8fd968abe0031a006721d89d1e46848e.js\" type=\"text/javascript\"></script><link href=\"/lco/v2/components/tab-bar-button-100392c3881c00441d54f5e8c4cb5f4c.css\" rel=\"stylesheet\" type=\"text/css\"/><script src=\"/lco/v2/components/tab-bar-772f76455e7c5a8bf70ff126255c22cb.js\" type=\"text/javascript\"></script><script src=\"/lco/v2/components/simple-tab-bar-a9b17dcad163f2e6cefb4c29ce478c7f.js\" type=\"text/javascript\"></script><link href=\"/lco/v2/components/simple-tab-bar-d94dec9f00faf5dc675ef0c6cab40167.css\" rel=\"stylesheet\" type=\"text/css\"/><script src=\"/lco/v2/components/module-splash-a9f7a37e4904c6ea47e5fdeb54221820.js\" type=\"text/javascript\"></script><link href=\"/lco/v2/components/module-splash-e04bd7fe649564976646df7a6459ba30.css\" rel=\"stylesheet\" type=\"text/css\"/><script src=\"/lco/v2/components/collapsible-section-31ca7762d33de735ea9ba35cc0283709.js\" type=\"text/javascript\"></script><link href=\"/lco/v2/components/collapsible-section-1a537c4cb3a0c8d11725c07df8ae4a50.css\" rel=\"stylesheet\" type=\"text/css\"/><script src=\"/lco/v2/components/error-modal-9dad20064527b794fad040eb850eb2e5.js\" type=\"text/javascript\"></script><script src=\"/lco/v2/components/hl7-error-modal-c3e7c86199952c2ca5281d6b274b06b0.js\" type=\"text/javascript\"></script><link href=\"/lco/v2/components/hl7-error-modal-4c2b434ce8a86ed216b5e943f5db0d57.css\" rel=\"stylesheet\" type=\"text/css\"/><script src=\"/lco/v2/components/info-modal-e03e37be86a91938f08bd43a67e48b28.js\" type=\"text/javascript\"></script><link href=\"/lco/v2/components/info-modal-58a68360304536e562cfd66603d3f2c3.css\" rel=\"stylesheet\" type=\"text/css\"/><script src=\"/lco/v2/components/modal-stack-b832ea95ef7a775afddb36fce845d517.js\" type=\"text/javascript\"></script><link href=\"/lco/v2/components/modal-stack-2846affa072c7367f94c984ede6a22aa.css\" rel=\"stylesheet\" type=\"text/css\"/><script src=\"/lco/v2/components/modal-stackable-ef783f71ec35a2622faf2d236080b424.js\" type=\"text/javascript\"></script><link href=\"/lco/v2/components/modal-stackable-bedbba17465784b4bc34260866578843.css\" rel=\"stylesheet\" type=\"text/css\"/><script src=\"/lco/v2/components/modal-4734da700da0d3cd5820d9ec64e5d902.js\" type=\"text/javascript\"></script><link href=\"/lco/v2/components/modal-ca548f9fc61fce5b0b608b845a75eaf9.css\" rel=\"stylesheet\" type=\"text/css\"/><script src=\"/lco/v2/components/jump-menu-a84b471d2269a06836b906dfefbc241d.js\" type=\"text/javascript\"></script><link href=\"/lco/v2/components/jump-menu-8052b83951e352573236ad10bdaee0ec.css\" rel=\"stylesheet\" type=\"text/css\"/><script src=\"/lco/v2/components/dropdown-menu-2428545245f3c4c2c2e329103c4e27aa.js\" type=\"text/javascript\"></script><link href=\"/lco/v2/components/dropdown-menu-a3c5d1f582bddb45fa7cea89d723ec25.css\" rel=\"stylesheet\" type=\"text/css\"/><script src=\"/lco/v2/components/autocomplete-47483d90ef845ee51f3fa8db14eaf778.js\" type=\"text/javascript\"></script><link href=\"/lco/v2/components/autocomplete-092ed174599d17973b519634da0d9dde.css\" rel=\"stylesheet\" type=\"text/css\"/><script src=\"/lco/v2/components/search-module-2fd450a343d4af3cc9379d350acb7ad6.js\" type=\"text/javascript\"></script><script src=\"/lco/v2/components/findindoc-c489470bf132fef565eb1d4459f55439.js\" type=\"text/javascript\"></script><script src=\"/lco/v2/components/regimen-naming-dialog-32ad19f672a598f7a497fa3ee739f0b6.js\" type=\"text/javascript\"></script><link href=\"/lco/v2/components/regimen-naming-dialog-1458d3062d1b691fae4d101b1c200a25.css\" rel=\"stylesheet\" type=\"text/css\"/><script src=\"/lco/v2/components/popup-table-850e6b13e735d78e3aac270364d57264.js\" type=\"text/javascript\"></script><link href=\"/lco/v2/components/popup-table-ca93551090b03f6438bc3be665d079f1.css\" rel=\"stylesheet\" type=\"text/css\"/><script src=\"/lco/v2/components/expand-all-button-e9f32311264b7a573d6e4200490364ec.js\" type=\"text/javascript\"></script><link href=\"/lco/v2/components/expand-all-button-33242010428db7172912cf37d83ddab2.css\" rel=\"stylesheet\" type=\"text/css\"/><script src=\"/lco/v2/components/frozen-header-4eaa3f17a6d53ad7475dd0c75906e0f2.js\" type=\"text/javascript\"></script><link href=\"/lco/v2/components/frozen-header-c565a5c39dfa49e1f68600f7e56cdc9e.css\" rel=\"stylesheet\" type=\"text/css\"/><script src=\"/lco/v2/components/history-f72535d6e8ef3940e2ba1abe13c78ad4.js\" type=\"text/javascript\"></script><link href=\"/lco/v2/components/history-fa98f2044ba2f3980b22b38dd98b8931.css\" rel=\"stylesheet\" type=\"text/css\"/><script src=\"/lco/v2/components/eula-and-privacy-policy-5ae87847388ea1a7516a7beb785dcc94.js\" type=\"text/javascript\"></script><link href=\"/lco/v2/components/eula-and-privacy-policy-0de8a9db5965660462fff420ea13fa1b.css\" rel=\"stylesheet\" type=\"text/css\"/><script src=\"/lco/v2/components/cookie-policy-3aa23bea03eafed4d51c98329021fa8e.js\" type=\"text/javascript\"></script><link href=\"/lco/v2/components/cookie-policy-c87e0c65ec0d7e05d992460e0e97b4ed.css\" rel=\"stylesheet\" type=\"text/css\"/><script src=\"/lco/v2/components/header-6f3142d15024d8ebfe27fabf6d725ab4.js\" type=\"text/javascript\"></script><link href=\"/lco/v2/components/header-bc70d396ea71c86bde7a5c01fb120409.css\" rel=\"stylesheet\" type=\"text/css\"/><script src=\"/lco/v2/components/footer-language-modal-21c046896b621e6bdb94d8722fc65d67.js\" type=\"text/javascript\"></script><link href=\"/lco/v2/components/footer-language-modal-69a68c89be5006db5b574b351b728d0c.css\" rel=\"stylesheet\" type=\"text/css\"/><script src=\"/lco/v2/components/license-check-895731292192c5f01857e7f9a01f6575.js\" type=\"text/javascript\"></script><link href=\"/lco/v2/components/license-check-ee6be5ac04368d054f90d85ee0f68518.css\" rel=\"stylesheet\" type=\"text/css\"/><script src=\"/lco/v2/components/footer-ad84cee84da8473dc1e70bd0f2940af1.js\" type=\"text/javascript\"></script><link href=\"/lco/v2/components/footer-db7191ee7d97918838fe05a7fe2e104a.css\" rel=\"stylesheet\" type=\"text/css\"/><script src=\"/lco/v2/components/selected-controls-item-72223e037b3710093a2bcc5dbd0af2e3.js\" type=\"text/javascript\"></script><link href=\"/lco/v2/components/selected-controls-item-4dad700bf423484784abee987e9950a9.css\" rel=\"stylesheet\" type=\"text/css\"/><script src=\"/lco/v2/components/selected-controls-item-list-df6cc7a6c987a3c579a1ff31d8f81e6d.js\" type=\"text/javascript\"></script><link href=\"/lco/v2/components/selected-controls-item-list-66fe51981a1e6fd55fb54ff204665304.css\" rel=\"stylesheet\" type=\"text/css\"/><script src=\"//cdn.wolterskluwer.io/wk-css/1.0.x/modernizr.js\" type=\"application/javascript\"></script>\n",
      "<script src=\"/lco/v2/scripts/wkcss-modal-utils-3050d0899f4ba8347068f9dbd73b3a1f.js\" type=\"text/javascript\"></script><!--  Google Analytics -->\n",
      "<script type=\"application/javascript\">\n",
      "  (function(i,s,o,g,r,a,m){i['GoogleAnalyticsObject']=r;i[r]=i[r]||function(){\n",
      "  (i[r].q=i[r].q||[]).push(arguments)},i[r].l=1*new Date();a=s.createElement(o),\n",
      "  m=s.getElementsByTagName(o)[0];a.async=1;a.src=g;m.parentNode.insertBefore(a,m)\n",
      "  })(window,document,'script','https://www.google-analytics.com/analytics.js','ga');\n",
      "\n",
      "  ga('create', {\n",
      "      trackingId: 'UA-98896308-1',\n",
      "      cookieDomain: 'auto',\n",
      "      sampleRate: 15,\n",
      "  });\n",
      "  ga('send', 'pageview');\n",
      "</script>\n",
      "<!-- Google Tag Manager -->\n",
      "<script type=\"application/javascript\">\n",
      "(function(w,d,s,l,i){w[l]=w[l]||[];w[l].push({'gtm.start':\n",
      "new Date().getTime(),event:'gtm.js'});var f=d.getElementsByTagName(s)[0],\n",
      "j=d.createElement(s),dl=l!='dataLayer'?'&l='+l:'';j.async=true;j.src=\n",
      "'https://www.googletagmanager.com/gtm.js?id='+i+dl;f.parentNode.insertBefore(j,f);\n",
      "})(window,document,'script','dataLayer','GTM-PQ5Q5J5');\n",
      "</script>\n",
      "<!--Pendo-->\n",
      "<!--End Pendo-->\n",
      "<script src=\"/lco/v2/scripts/common/wide-table-print-77870129c8c9a3ce3b0ccac8a678289e.js\" type=\"text/javascript\"></script><link href=\"//cdn.wolterskluwer.io/wk-fonts/1.0.x/wk-fonts.css\" rel=\"stylesheet\" type=\"text/css\"/>\n",
      "<link href=\"//cdn.wolterskluwer.io/wk/css/1.2.x/standard.min.css\" rel=\"stylesheet\" type=\"text/css\"/>\n",
      "<link href=\"//cdn.wolterskluwer.io/wk-icons/1.0.x/wk-icons-all-open.css\" rel=\"stylesheet\" type=\"text/css\"/>\n",
      "<link href=\"//cdn.wolterskluwer.io/wk-icons/1.0.x/wk-icons-all-filled.css\" rel=\"stylesheet\" type=\"text/css\"/>\n",
      "<link href=\"/lco/v2/styles/print-167472154387fc52e3881e18c9527dda.css\" media=\"print\" rel=\"stylesheet\" type=\"text/css\"/><link href=\"/lco/v2/styles/contextbar-1dfd994c9f52951b2a50c6c6e8b6e132.css\" rel=\"stylesheet\" type=\"text/css\"/><link href=\"/lco/v2/styles/animations-5375a04e0de81596ee1f9f3b0dfc4e59.css\" rel=\"stylesheet\" type=\"text/css\"/><link href=\"/lco/v2/styles/uiux-provided-037a4533d5b896b1c605789d3e8baf89.css\" rel=\"stylesheet\" type=\"text/css\"/><link href=\"/lco/v2/styles/module-left-pane-d9e241cebde449e5bf994544e4eb0d9b.css\" rel=\"stylesheet\" type=\"text/css\"/><link href=\"/lco/v2/styles/tabless-module-98ee23364a89c585e82780febaa9d347.css\" rel=\"stylesheet\" type=\"text/css\"/><link href=\"/lco/v2/styles/jquery-ui-3a2cd87c46a6943295cc3739bc752346.css\" rel=\"stylesheet\" type=\"text/css\"/><style>\n",
      "    @font-face { font-family: 'Noto Sans'; src: local('Noto Sans') , url('/lco/v2/fonts/noto-sans/NotoSans-Regular-e0df2ac916cff0641ccd4d7768c5cba8.woff2') format('woff2'), url('/lco/v2/fonts/noto-sans/NotoSans-Regular-d2829d19fdbf2db2bd9397c86c7dbe4b.woff') format('woff'), url('/lco/v2/fonts/noto-sans/NotoSans-Regular-5a87cce84010f7cea085ae218d44a64b.ttf') format('truetype');}\n",
      "\n",
      "\tbody {\n",
      "\t\tmin-width: 1041px; /* without a responsive design, wk-css won't display right below this width */\n",
      "\t}\n",
      "\t/* override font stack for everything */\n",
      "\tbody * {\n",
      "\t\tfont-family: 'Noto Sans', \"Helvetica Neue\", \"Helvetica\", \"Arial\", sans-serif !important;\n",
      "\t}\n",
      "\t\n",
      "    #main table thead {\n",
      "        background-color: #ededed;\n",
      "    }\n",
      "\t\n",
      "\t.ltr {\n",
      "\t    direction: ltr;\n",
      "\t    text-align: left;\n",
      "\t}\n",
      "\t/* support for rtl for arabic leaflets */\n",
      "\t.rtl {\n",
      "\t    direction: rtl;\n",
      "\t    text-align: right !important;\n",
      "\t}\n",
      "\t\n",
      "\t#home .min-height-container,\n",
      "\t#otherlinks .min-height-container,\n",
      "\t#searchresults .min-height-container,\n",
      "    #support .min-height-container,\n",
      "    #tooManySessionsBody .min-height-container,\n",
      "    #homeAccessRenewal .min-height-container,\n",
      "    #homeAccessCreation .min-height-container {\n",
      "\t\tmin-height: calc(100vh - 2.5rem - 1.75rem); /* [100% view-height] - [#footer-top min-height] - [.wk-footer padding-top] */\n",
      "\t}\n",
      "\t#main .wk-nav-tab-bar {\n",
      "\t\tmargin-bottom: 0;\n",
      "\t}\n",
      "\t\n",
      "\t/* docdisplay clinical */\n",
      "\tbody:not(.tabless-module) #main .min-height-container > div {\n",
      "\t\tmin-height: calc(100vh - 2.5rem - 2rem - 12rem); /* [100% view-height] - [#footer-top min-height] - [.wk-footer padding-top] - [.min-height-container offset top] */\n",
      "        /* Adds a grey bar down the left side of all tabs */\n",
      "        border-left: 1px solid #dadada;\n",
      "        padding: 1em 1.5em;\n",
      "        margin-left: 0 !important;\n",
      "\t}\n",
      "\n",
      "\t/* docdisplay retail */\n",
      "\t#taxonomy-wrapper ~ #wrap #main .min-height-container > div {\n",
      "\t\tmin-height: calc(100vh - 2.5rem - 2rem - 17.0625rem); /* [100% view-height] - [#footer-top min-height] - [.wk-footer padding-top] - [.min-height-container offset top] */\n",
      "        padding: 1em 1.5em;\n",
      "        margin-left: 0 !important;\n",
      "\t}\n",
      "    /* error */\n",
      "    #error .min-height-container > div {\n",
      "        min-height: calc(100vh - 2.5rem - 2rem - 12.5rem); /* [100% view-height] - [#footer-top min-height] - [.wk-footer padding-top] - [.min-height-container offset top] */\n",
      "    }\n",
      "\t/* other */\n",
      "\t#doc .min-height-container > div {\n",
      "\t\tmin-height: calc(100vh - 2.5rem - 2rem - 14rem); /* [100% view-height] - [#footer-top min-height] - [.wk-footer padding-top] - [.min-height-container offset top] */\n",
      "\t}\n",
      "\t\n",
      "\t.scroll-fix {\n",
      "\t\toverflow-y: auto;\n",
      "\t}\n",
      "    \n",
      "    /* docdisplay clinical */\n",
      "    body:not(.tabless-module) #controls .scroll-fix,\n",
      "    body:not(.tabless-module) #main .scroll-fix {\n",
      "        height: calc(100vh - 12rem) !important;\n",
      "    }\n",
      "\t/* docdisplay retail */\n",
      "\t#doc #taxonomy-wrapper ~ #wrap #controls .scroll-fix {\n",
      "        height: calc(100vh - 20rem) !important;\n",
      "    }\n",
      "\t#taxonomy-wrapper ~ #wrap #main .scroll-fix {\n",
      "\t\theight: calc(100vh - 17rem) !important;\n",
      "\t}\n",
      "\t/* other */\n",
      "\tbody:not(.tabless-module)#doc .scroll-fix {\n",
      "\t\theight: calc(100vh - 14.125rem) !important;\n",
      "\t}\n",
      "    #doc #tree .scroll-fix {\n",
      "        height: calc(100vh - 14.16rem) !important;\n",
      "    }\n",
      "\n",
      "    #doc #tree #panel-top ~ .scroll-fix {\n",
      "        height: calc(100vh - 17rem) !important;\n",
      "    }\n",
      "    \n",
      "    /* FIXME: Deprecated v1 \"working\" animation... replace all uses with v2 WK-CSS \"loading\" animation */\n",
      "\t.working {\n",
      "\t    background: url('/lco/graphics/ajax-loader.gif') no-repeat right center;\n",
      "\t}\n",
      "\n",
      "    /* BEGIN: Loading animation\n",
      "        A 'loading' style that makes an image rotate. To make the image bigger, just\n",
      "        apply a font-size to the span\n",
      "\n",
      "        Usage:\n",
      "            <span class=\"wk-icon-spinner loading\"></span>\n",
      "    */\n",
      "    .loading {\n",
      "        animation: loading 2.25s linear infinite;\n",
      "        -webkit-animation: loading 2.25s linear infinite;\n",
      "        -moz-animation: loading 2.25s linear infinite;\n",
      "        font-size: 1.5rem;\n",
      "    }\n",
      "    @keyframes loading {\n",
      "        to {\n",
      "            transform: rotate(360deg);\n",
      "        }\n",
      "    }\n",
      "    @-webkit-keyframes loading {\n",
      "        to {\n",
      "            -webkit-transform: rotate(360deg);\n",
      "        }\n",
      "    }\n",
      "    @-moz-keyframes loading {\n",
      "        to {\n",
      "            transform: rotate(360deg);\n",
      "        }\n",
      "    }\n",
      "    /* END: Working animation */\n",
      "\n",
      "    /* Hides any element with v-cloak applied. VueJS will remove the v-cloak attribute after it finishes\n",
      "        compiling the Vue objects.\n",
      "\n",
      "        Usage:\n",
      "            <div id=\"myVueObj\" v-cloak>...</div>\n",
      "    */\n",
      "    [v-cloak] > * {\n",
      "        visibility: hidden !important\n",
      "    }\n",
      "\n",
      "    /* WK-CSS override, ensure all 25%-75% layouts use the entire available width */\n",
      "    .wk-layout-25-75 {\n",
      "        max-width: 100%;\n",
      "    }\n",
      "    .wk-layout-25-75 > .wk-layout-item {\n",
      "        width: 25%;\n",
      "        margin-right: 0;\n",
      "    }\n",
      "    .wk-layout-25-75 > .wk-layout-item:nth-child(2n) {\n",
      "        width: 75%;\n",
      "    }\n",
      "\n",
      "    /* WK-CSS override, ensure all 33%-66% layouts use the entire available width */\n",
      "    .wk-layout-33-66 {\n",
      "        max-width: 100% !important;\n",
      "    }\n",
      "    .wk-layout-33-66 > .wk-layout-item {\n",
      "        width: 33.3333%;\n",
      "        margin-right: 0;\n",
      "    }\n",
      "    .wk-layout-33-66 > .wk-layout-item:nth-child(2n) {\n",
      "        width: 66.6667%;\n",
      "    }\n",
      "    \n",
      "    .wk-icon-close-circle {\n",
      "    \t\tcolor: #757575;\n",
      "    }\n",
      "\n",
      "    .skinnyButton {\n",
      "        /** this class name is dumb... it is no longer skinny **/\n",
      "        line-height: 1.375rem;\n",
      "        font-size: 0.8125rem;\n",
      "    }\n",
      "\n",
      "    /* Ensure all module tabBars sit immediately on top of the 'tab-wrap' */\n",
      "    .moduleTabBar .wk-nav-tab-bar {\n",
      "        margin-bottom: 0px;\n",
      "    }\n",
      "    .moduleTabBar .wk-nav-tab-bar .wk-tab-bar-container {\n",
      "        margin-left: 0;\n",
      "        margin-right: 0;\n",
      "        max-width: 100%;\n",
      "    }\n",
      "    \n",
      "    /* Indentation of all tab bars */\n",
      "    .wk-nav-tab-bar .wk-tab-bar-container {\n",
      "        padding-left: 0;\n",
      "    }\n",
      "\n",
      "    /* Indentation of all module left panes */\n",
      "    .moduleLeftPane {\n",
      "        padding: 0;\n",
      "        margin: 0;\n",
      "        width: 100%;\n",
      "    }\n",
      "\n",
      "    /* Bold underlined module left pane title, with a line under it */\n",
      "    .moduleLeftPane .moduleLeftPaneTitle {\n",
      "        margin-right: 0;\n",
      "        border-bottom: 1px solid #dadada;\n",
      "        padding-top: 0.625rem;\n",
      "        padding-bottom: 0.4375rem;\n",
      "        font-size: 1rem;\n",
      "        font-weight: bold;\n",
      "        padding-left: 1.5rem;\n",
      "    }\n",
      "\n",
      "    body:not(#doc) .moduleLeftPane .scroll-fix > div {\n",
      "        padding-left: 1.5rem;\n",
      "    }\n",
      "\n",
      "    /* Left pane buttons with a line above them */\n",
      "    .moduleLeftPane .scroll-fix .moduleLeftPaneBottom {\n",
      "        border-top: 1px solid #dadada;\n",
      "        margin-top: 2rem;\n",
      "    }\n",
      "    .moduleLeftPane .scroll-fix .moduleLeftPaneBottom > * {\n",
      "        margin-right: 2rem;\n",
      "        margin-top: 2rem;\n",
      "        display: inline-block;\n",
      "    }\n",
      "\n",
      "    /* Content sections within the left pane */\n",
      "    .moduleLeftPaneSection {\n",
      "        padding-top: 2rem;\n",
      "    }\n",
      "    \n",
      "    .moduleLeftPane [class^='wk-icon-'] {\n",
      "        margin-left: 0;\n",
      "    }\n",
      "\n",
      "    .moduleLeftPaneSection.moduleLeftPaneDivider {\n",
      "        border-top: 1px solid #dadada;\n",
      "        margin-top: 2rem;\n",
      "        padding-top: 1.5rem;\n",
      "    }\n",
      "    \n",
      "    /* Bold labels used in left pane to seperate sections */\n",
      "    .moduleLeftPaneSectionTitle {\n",
      "        font-weight: bold;\n",
      "        padding-bottom: 0.5rem;\n",
      "    }\n",
      "\n",
      "    .moduleRightPaneSectionTitle {\n",
      "        font-weight: bold !important;\n",
      "        padding-bottom: 0.5rem;\n",
      "    }\n",
      "    \n",
      "    /** LEXR-570, change color and decoration on links **/\n",
      "    a:hover {\n",
      "        color: #005b92;\n",
      "        text-decoration: underline;\n",
      "    }\n",
      "    \n",
      "    /** LEXR-544, change Blue Bar height **/\n",
      "    .wk-navbar .wk-nav > li > a {\n",
      "        padding-top: 0.59375rem;\n",
      "        padding-bottom: 0.59375rem;\n",
      "    }\n",
      "    \n",
      "    .print-only {\n",
      "        display: none !important;\n",
      "    }\n",
      "    \n",
      "    /* all bars holder */\n",
      "    .all-bars-holder {\n",
      "        position: fixed;\n",
      "        bottom: 0;\n",
      "        left: 0;\n",
      "        width: 100%;\n",
      "        z-index: 10000;\n",
      "    }\n",
      "    \n",
      "</style>\n",
      "<link href=\"https://fonts.googleapis.com/css2?family=Noto+Sans:ital,wght@0,100;0,200;0,300;0,400;0,600;0,700;0,800;0,900;1,100;1,200;1,300;1,400;1,500;1,600;1,700;1,800;1,900&amp;display=swap\" rel=\"stylesheet\"/>\n",
      "<style>\n",
      "            #login-wrapper {\n",
      "                display: table;\n",
      "                height: calc(100vh - 7.75rem);\n",
      "                width: 100%;\n",
      "            }\n",
      "            #login-wrapper #login-wrapper-centered {\n",
      "                display: table-cell;\n",
      "                vertical-align: middle;\n",
      "            }\n",
      "        </style>\n",
      "</head>\n",
      "<body id=\"login\">\n",
      "<div class=\"min-height-container\">\n",
      "<style>\n",
      "    #public-header {\n",
      "        text-align: center;\n",
      "        border-bottom: 2px #bfbfbf solid;\n",
      "        margin: .5rem 0rem .5rem 0rem;\n",
      "    }\n",
      "\n",
      "    #public-header a {\n",
      "        text-decoration: none;\n",
      "    }\n",
      "\n",
      "    #public-header a img {\n",
      "        margin: 0rem 5rem 0rem 5rem;\n",
      "        height: 2rem;\n",
      "    }\n",
      "</style>\n",
      "<div id=\"public-header\">\n",
      "<a href=\"https://www.wolterskluwer.com/en/solutions/lexicomp/facts-and-comparisons\">\n",
      "<img alt=\"Facts and Comparisons\" id=\"fnc-logo\" src=\"/lco/v2/graphics/factsAndComparisons-f8922da270e801d9d6fa4ab21d4aa864.svg\"/></a>\n",
      "<a href=\"https://www.wolterskluwer.com/en/solutions/lexicomp/lexicomp\">\n",
      "<img alt=\"Lexicomp\" id=\"lexi-logo\" src=\"/lco/v2/graphics/lexicomp-2a96d72148de862b7e37c81b41e15d5d.svg\"/></a>\n",
      "<a href=\"https://www.wolterskluwer.com/en/solutions/lexicomp/who-we-help/dentists\">\n",
      "<img alt=\"Lexicomp For Dentistry\" id=\"dental-logo\" src=\"/lco/v2/graphics/dental-logo-3d547df561257ed43a7af7e802f8ab4a.svg\"/></a>\n",
      "</div><div id=\"login-wrapper\">\n",
      "<div id=\"login-wrapper-centered\">\n",
      "<style>\n",
      "\n",
      "    #login-content {\n",
      "        width: 31rem;\n",
      "        margin: 3rem auto 0rem auto;\n",
      "    }\n",
      "\n",
      "    #login-splash {\n",
      "        line-height: 1.625rem;\n",
      "    }\n",
      "\n",
      "    #login-content-form {\n",
      "        margin: 1rem 0rem 0rem 0rem;\n",
      "        padding: 3rem;\n",
      "        background-color: #f6f6f6;\n",
      "    }\n",
      "    #login-content-form .wk-field-header {\n",
      "        font-size: 0.875rem;\n",
      "        line-height: 1.125rem;\n",
      "    }\n",
      "    #login-content-form .wk-field-header label {\n",
      "        font-weight: bold;\n",
      "    }\n",
      "    #login-content-form .wk-field-body input {\n",
      "        height: 2.5rem;\n",
      "        margin: 0.25rem 0rem 0rem 0rem;\n",
      "    }\n",
      "    #login-content-form a {\n",
      "        color: #0059b2;\n",
      "        text-decoration: none;\n",
      "    }\n",
      "    #login-content-form a::before {\n",
      "        color: #0059b2;;\n",
      "    }\n",
      "    #login-content-form #login-content-form-title {\n",
      "        font-size: 1.25rem;\n",
      "        line-height: 1.5rem;\n",
      "        font-weight: bold;\n",
      "        margin: 0rem 0rem 1rem 0rem;\n",
      "    }\n",
      "    #login-content-form #login-content-form-password {\n",
      "        margin: 1.5rem 0rem 0rem 0rem;\n",
      "    }\n",
      "    #login-content-form #login-content-form-password #login-content-form-password-showpassword {\n",
      "        float: right;\n",
      "    }\n",
      "    #login-content-form #login-content-form-links {\n",
      "        margin: 1rem 0rem 0rem 0rem;\n",
      "        font-size: .875rem;\n",
      "    }\n",
      "    #login-content-form #login-content-form-keepmeloggedin {\n",
      "        padding-left: 0;\n",
      "        margin: 1rem 0rem 0rem 0rem;\n",
      "    }\n",
      "    #login-content-form #btn-login {\n",
      "        width: 100%;\n",
      "        height: 2.5rem;\n",
      "        margin: 1rem 0rem 0rem 0rem;\n",
      "        padding: .5rem 0rem .5rem 0rem;\n",
      "    }\n",
      "\n",
      "    #login-content-form #login-content-form-error {\n",
      "        border: 1px solid #e5202e;\n",
      "        border-left-width: 0.25rem;\n",
      "        display: table;\n",
      "        padding: 1rem 1rem 1rem 1.5rem;\n",
      "        margin: 0rem 0rem 1rem 0rem;\n",
      "    }\n",
      "    #login-content-form #login-content-form-error #login-content-form-error-icon {\n",
      "        display: table-cell;\n",
      "        color: #e5202e;\n",
      "        font-size: 1.25rem;\n",
      "        padding: 0rem 1rem 0rem 0rem;\n",
      "    }\n",
      "    #login-content-form #login-content-form-error #login-content-form-error-message {\n",
      "        display: table-cell;\n",
      "        vertical-align: top;\n",
      "    }\n",
      "    #login-content-form #login-content-form-error #login-content-form-error-title {\n",
      "        font-weight: bold;\n",
      "        margin-bottom: .25rem;\n",
      "        font-size: 0.875rem;\n",
      "        line-height: 1.125rem;\n",
      "    }\n",
      "    #login-content-form #login-content-form-error #login-content-form-error-text {\n",
      "        font-size: 0.875rem;\n",
      "        line-height: 1.375rem;\n",
      "    }\n",
      "    #login-content-form #login-content-form-or-line {\n",
      "        height: 1.375rem;\n",
      "        margin: 0.875rem 0.069rem 1.5rem 0.063rem;\n",
      "        text-align: center;\n",
      "        border-bottom: solid 0.063rem #a3a3a3;\n",
      "        line-height: 0.1rem;\n",
      "    }\n",
      "    #login-content-form #login-content-form-or-line span {\n",
      "        font-size: 0.875rem;\n",
      "        font-weight: bold;\n",
      "        font-stretch: normal;\n",
      "        font-style: normal;\n",
      "        line-height: 2.75rem;\n",
      "        letter-spacing: normal;\n",
      "        color: #353535;\n",
      "        padding: 0 1.125rem 0 1.063rem;\n",
      "        background-color: #f6f6f6;\n",
      "        margin: 0.625rem 0 1.25rem;\n",
      "    }\n",
      "    #login-content-form #login-content-form-links-title {\n",
      "        font-weight: bold;\n",
      "        margin-bottom: 0.813rem;\n",
      "    }\n",
      "    #login-content-form #login-content-form-links-openathens {\n",
      "        padding-right: 1.813rem;\n",
      "    }\n",
      "\n",
      "    /** Chrome autofill fields turn yellow for security reasons... even when they are disabled. You cannot override\n",
      "        or change that style. The BEST you can do, is draw an inset shadow inside the textbox using the disabled\n",
      "        input color. See: https://stackoverflow.com/questions/2781549/removing-input-background-colour-for-chrome-autocomplete **/\n",
      "    input:-webkit-autofill[disabled],\n",
      "    input:-webkit-autofill:hover[disabled],\n",
      "    input:-webkit-autofill:focus[disabled],\n",
      "    input:-webkit-autofill:active[disabled] {\n",
      "        -webkit-box-shadow: 0 0 0px 1000px #ededed inset !important;\n",
      "    }\n",
      "</style>\n",
      "<div id=\"login-content\" v-cloak=\"\">\n",
      "<div id=\"login-splash\" v-html=\"$t('message.login.splash')\"></div>\n",
      "<div class=\"wk-field-item\" id=\"login-content-form\">\n",
      "<div id=\"login-content-form-title\">\n",
      "<span>{{ $t(\"message.login.login\") }}</span>\n",
      "</div>\n",
      "<div id=\"login-content-form-error\" v-if=\"hasLoginErrors\">\n",
      "<span class=\"wk-icon-caution\" id=\"login-content-form-error-icon\"></span>\n",
      "<span id=\"login-content-form-error-message\">\n",
      "<div id=\"login-content-form-error-title\">{{ $t(\"message.login.invalid.title\") }}</div>\n",
      "<div id=\"login-content-form-error-text\">{{ loginErrorMessage }}</div>\n",
      "</span>\n",
      "</div>\n",
      "<form>\n",
      "<div class=\"wk-field-header\" id=\"login-content-form-username\">\n",
      "<label for=\"login-field\" id=\"login-content-form-username-label\">{{ $t(\"message.common.username\") }}</label>\n",
      "</div>\n",
      "<div class=\"wk-field-body\">\n",
      "<input :disabled=\"isUsernameDisabled\" aria-labelledby=\"login-content-form-username-label\" autocomplete=\"username\" id=\"login-field\" type=\"text\" v-model=\"username\"/>\n",
      "</div>\n",
      "<div class=\"wk-field-header\" id=\"login-content-form-password\">\n",
      "<label for=\"password-field\" id=\"login-content-form-password-label\">{{ $t(\"message.common.password\") }}</label>\n",
      "<a id=\"login-content-form-password-showpassword\">\n",
      "<span :class=\"showPasswordIcon\"></span>\n",
      "<span>{{showPasswordLabel}}</span>\n",
      "</a>\n",
      "</div>\n",
      "<div class=\"wk-field-body\">\n",
      "<input :disabled=\"isPasswordDisabled\" :type=\"passwordInputType\" aria-labelledby=\"login-content-form-password-label\" autocomplete=\"current-password\" id=\"password-field\" v-model=\"password\"/>\n",
      "</div>\n",
      "<div class=\"wk-checkbox-field\" id=\"login-content-form-keepmeloggedin\">\n",
      "<label>\n",
      "<input :disabled=\"isRememberMeDisabled\" id=\"rememberMe\" type=\"checkbox\" v-model=\"rememberMe\"/><span>{{ $t(\"message.login.keepMeLoggedIn\") }}</span>\n",
      "</label>\n",
      "</div>\n",
      "<button :disabled=\"isLoginDisabled\" id=\"btn-login\" type=\"submit\">{{ $t(\"message.login.login\") }}</button>\n",
      "<div id=\"login-content-form-links\">\n",
      "<a href=\"http://www.wolterskluwercdi.com/support/\" id=\"login-content-form-links-needhelp\">{{ $t(\"message.login.needHelp\") }}</a>\n",
      "<div id=\"login-content-form-or-line\"><span>OR</span></div>\n",
      "<div id=\"login-content-form-links-login\">\n",
      "<div id=\"login-content-form-links-title\">Sign in with</div>\n",
      "<a href=\"/lco/openathens/login\" id=\"login-content-form-links-openathens\">OpenAthens</a>\n",
      "<a :href=\"microsoftLoginHref\" id=\"login-content-form-links-ceidp\" v-if=\"idpListHasMicrosoft\">Microsoft</a>\n",
      "</div>\n",
      "</div>\n",
      "</form>\n",
      "</div>\n",
      "</div>\n",
      "<script type=\"text/javascript\">\n",
      "    var content = new Vue({\n",
      "        el: '#login-content'\n",
      "        ,i18n: i18n\n",
      "        ,data: {\n",
      "            isPasswordHidden: true\n",
      "            ,username: null\n",
      "            ,password: null\n",
      "            ,rememberMe: false\n",
      "            ,hasLoginErrors: false\n",
      "            ,isLoggingIn: false\n",
      "            ,idpList: []\n",
      "            ,idpErrorMessage: null\n",
      "            ,siteid: null\n",
      "        }\n",
      "        ,computed: {\n",
      "            loginErrorMessage: function() {\n",
      "                var self = this;\n",
      "                return self.idpErrorMessage || self.$t(\"message.login.invalid.text\");\n",
      "            },   \n",
      "            showPasswordLabel: function() {\n",
      "                var self = this;\n",
      "                return (self.isPasswordHidden) ? self.$t(\"message.common.show\") : self.$t(\"message.common.hide\");\n",
      "            },\n",
      "            showPasswordIcon: function() {\n",
      "                var self = this;\n",
      "                return (self.isPasswordHidden) ? 'wk-icon-visible' : 'wk-icon-invisible';\n",
      "            },\n",
      "            passwordInputType: function() {\n",
      "                var self = this;\n",
      "                return (self.isPasswordHidden) ? 'password' : 'text';\n",
      "            },\n",
      "            isUsernameDisabled: function() {\n",
      "                var self = this;\n",
      "                return self.isLoggingIn;\n",
      "            },\n",
      "            isPasswordDisabled: function() {\n",
      "                var self = this;\n",
      "                return self.isLoggingIn;\n",
      "            },\n",
      "            isRememberMeDisabled: function() {\n",
      "                var self = this;\n",
      "                return self.isLoggingIn;\n",
      "            },\n",
      "            isLoginDisabled: function() {\n",
      "                var self = this;\n",
      "                return self.isLoggingIn;\n",
      "            },\n",
      "            idpListHasMicrosoft: function() {\n",
      "                var self = this;\n",
      "                return self.idpList.includes('wolterskluwer');\n",
      "            },\n",
      "            microsoftLoginHref: function() {\n",
      "                var self = this;\n",
      "                return '/lco/auth/login/wolterskluwer' + (this.siteid ? ('?siteid=' + this.siteid) : '');\n",
      "            }\n",
      "        }\n",
      "        ,methods: {\n",
      "            getDesiredDestination : function() {\n",
      "                var self = this;\n",
      "                if(window && window.location && window.location.pathname) {\n",
      "                    if(window.location.pathname != \"/lco/action/login\") {\n",
      "                        return window.location.pathname;\n",
      "                    }\n",
      "                }\n",
      "                return \"/lco/action/home\";\n",
      "            },\n",
      "            onShowPasswordClicked: function() {\n",
      "                var self = this;\n",
      "                self.isPasswordHidden = !self.isPasswordHidden;\n",
      "            },\n",
      "            onSubmitForm: function() {\n",
      "                //no-op, prevent form from posting... but passwords must be in a form to prevent chrome from complaining.\n",
      "            },\n",
      "            onLoginClicked: function() {\n",
      "                var self = this;\n",
      "                if(_.size(self.username) == 0 || _.size(self.password) == 0) {\n",
      "                    //Username or Password is empty... just exit and wait for them to try again\n",
      "                    return;\n",
      "                }\n",
      "                else {\n",
      "                    self.hasLoginErrors = false;\n",
      "                    self.isLoggingIn = true;\n",
      "                    var url = \"/lco/action/login/v2/login\";\n",
      "                    var data = {\n",
      "                        username: self.username\n",
      "                        ,password: self.password\n",
      "                        ,rememberMe: self.rememberMe\n",
      "                    };\n",
      "                    http.post(url, data, false)\n",
      "                         .then(function(loginStatus) {\n",
      "                            self.isLoggingIn = false;\n",
      "                            if(loginStatus && loginStatus === \"SUCCESS\") {\n",
      "                                window.location.replace(self.getDesiredDestination());\n",
      "                            }\n",
      "                            else {\n",
      "                                self.hasLoginErrors = true;\n",
      "                            }\n",
      "                    }).catch(function(error) {\n",
      "                        console.error(error);\n",
      "                        self.isLoggingIn = false;\n",
      "                    });\n",
      "                }\n",
      "            }\n",
      "        },\n",
      "        created: function() {\n",
      "                var idpError = '';\n",
      "                if (idpError) {\n",
      "                    this.idpErrorMessage = idpError;\n",
      "                    this.hasLoginErrors = true;\n",
      "                } \n",
      "                try {\n",
      "                    this.idpList = JSON.parse(localStorage.getItem('idpList')) || [];\n",
      "                } catch(e) {\n",
      "                    this.idpList = [];\n",
      "                }\n",
      "                this.siteid = new URLSearchParams(window.location.search).get('siteid');\n",
      "\n",
      "        }\n",
      "    });\n",
      "</script><style>\n",
      "    #login-supportinfo {\n",
      "        margin: 1rem 0rem 0rem 0rem;\n",
      "        text-align: center;\n",
      "        font-size: .875rem;\n",
      "        line-height: 1.375rem;\n",
      "        color: #757575;\n",
      "    }\n",
      "</style>\n",
      "<div id=\"login-supportinfo\" v-cloak=\"\">\n",
      "<div>IP: {{clientIP}}</div>\n",
      "<div>Server: {{serverHostName}}</div>\n",
      "<div>Referrer: {{httpReferrer}}</div>\n",
      "</div>\n",
      "<script type=\"text/javascript\">\n",
      "    var supportInfo = new Vue({\n",
      "        el: '#login-supportinfo'\n",
      "        ,i18n: i18n\n",
      "        ,data: {\n",
      "            clientIP: null\n",
      "            ,serverHostName: null\n",
      "            ,httpReferrer: document.referrer\n",
      "        }\n",
      "        ,methods : {\n",
      "            fetchSupportInfo : function() {\n",
      "                var self = this;\n",
      "                var url = \"/lco/action/login/v2/support\";\n",
      "                http.get(url)\n",
      "                    .then(function(json) {\n",
      "                        self.clientIP = json.clientIP;\n",
      "                        self.serverHostName = json.serverHostName;\n",
      "                    })\n",
      "                    .catch(function(error) {\n",
      "                        console.error(error);\n",
      "                    }\n",
      "                );\n",
      "            }\n",
      "        }\n",
      "        ,created : function() {\n",
      "            var self = this;\n",
      "            self.fetchSupportInfo();\n",
      "        }\n",
      "    });\n",
      "</script></div>\n",
      "</div>\n",
      "</div>\n",
      "<style>\n",
      "    #public-footer-top {\n",
      "        min-height: 40px;\n",
      "        overflow: auto;\n",
      "    }\n",
      "\n",
      "    #public-footer-top .wk-row {\n",
      "        overflow: auto;\n",
      "        text-align: right;\n",
      "    }\n",
      "\n",
      "    .wk-footer {\n",
      "        width: 100%;\n",
      "    }\n",
      "\n",
      "    #wk-footer-container {\n",
      "        background-color: #ededed;\n",
      "        margin: 0px;\n",
      "        padding: 0px;\n",
      "    }\n",
      "\n",
      "    #wk-footer-container, #wk-footer-container div, #wk-footer-container div .wk-row {\n",
      "        max-width: 100%;\n",
      "    }\n",
      "\n",
      "    #wk-logo img {\n",
      "        height: 22px;\n",
      "        width: 133px;\n",
      "        margin-top: 9px;\n",
      "        margin-bottom: 9px;\n",
      "    }\n",
      "\n",
      "    #wk-logo {\n",
      "        max-width: 100%;\n",
      "    }\n",
      "\n",
      "    .wk-layout-item .wk-footer {\n",
      "        border-left: 1px solid #dadada;\n",
      "        margin: 0;\n",
      "        padding-top: 2em;\n",
      "        background-color: #ffffff;\n",
      "    }\n",
      "\n",
      "    #public-footer-contactus {\n",
      "        color: #474747;\n",
      "        text-decoration: none;\n",
      "        font-size: .87891rem;\n",
      "        line-height: 1.4;\n",
      "    }\n",
      "    \n",
      "    #public-footer-contactus-holder {\n",
      "        margin-top: 12px;\n",
      "    }\n",
      "    #public-footer-contactus-holder, #public-footer-copyright {\n",
      "        margin-bottom: 6px;\n",
      "    }\n",
      "\n",
      "    #public-footer-copyright {\n",
      "        margin-top: 18px;\n",
      "        font-size: 65%;\n",
      "        color: #757575;\n",
      "    }\n",
      "\n",
      "    #wk-footer-container > div {\n",
      "        padding-left: 24px;\n",
      "        padding-right: 24px;\n",
      "    }\n",
      "</style>\n",
      "<footer class=\"wk-footer\" id=\"public-footer\" role=\"contentinfo\" v-cloak=\"\">\n",
      "<div class=\"wk-footer-container\" id=\"wk-footer-container\">\n",
      "<div id=\"public-footer-top\">\n",
      "<div class=\"wk-row\">\n",
      "<div class=\"wk-col-2\" id=\"public-footer-logo-holder\">\n",
      "<a class=\"wk-logo\" href=\"https://www.wolterskluwer.com/en/solutions/lexicomp/\" id=\"wk-logo\">\n",
      "<img alt=\"Wolters Kluwer\" class=\"wk-logo-small\" src=\"https://cdn.wolterskluwer.io/wk-logos/1.0.x/wk-brand-small.svg\"/>\n",
      "<img alt=\"Wolters Kluwer\" class=\"wk-logo-large\" src=\"https://cdn.wolterskluwer.io/wk-logos/1.0.x/wk-brand.svg\"/>\n",
      "</a>\n",
      "</div>\n",
      "<div class=\"wk-col-1\" id=\"public-footer-contactus-holder\">\n",
      "<a href=\"https://www.wolterskluwer.com/en/know/drug-decision-support-solutions\" id=\"public-footer-contactus\" rel=\"noopener noreferrer\" target=\"_blank\">{{ $t(\"message.footer.contactUs\") }}</a>\n",
      "</div>\n",
      "<div class=\"wk-col-9\" id=\"public-footer-copyright\" v-html=\"copyright\"></div>\n",
      "</div>\n",
      "</div>\n",
      "</div>\n",
      "</footer>\n",
      "<script>\n",
      "    var footer = new Vue({\n",
      "        el : '#public-footer'\n",
      "        ,i18n: i18n\n",
      "        ,data: {\n",
      "            copyrightYear: (new Date()).getFullYear()\n",
      "        }\n",
      "        ,computed: {\n",
      "            copyright: function() {\n",
      "                var self = this;\n",
      "                return '&copy; ' + self.copyrightYear + ' ' + self.$t(\"message.footer.copyright\");\n",
      "            }\n",
      "        }\n",
      "    });\n",
      "</script></body>\n",
      "</html>\n"
     ]
    }
   ],
   "source": [
    "print(drugs_page)"
   ],
   "metadata": {
    "collapsed": false,
    "ExecuteTime": {
     "end_time": "2023-05-15T12:59:42.854709300Z",
     "start_time": "2023-05-15T12:59:42.807845500Z"
    }
   }
  },
  {
   "cell_type": "code",
   "execution_count": 61,
   "outputs": [],
   "source": [
    "drugs_ul_tag=drugs_page.find(\"ul\",attrs={\"id\":\"database-results\"})"
   ],
   "metadata": {
    "collapsed": false,
    "ExecuteTime": {
     "end_time": "2023-05-15T12:49:39.554847900Z",
     "start_time": "2023-05-15T12:49:39.539226400Z"
    }
   }
  },
  {
   "cell_type": "code",
   "execution_count": 59,
   "outputs": [
    {
     "data": {
      "text/plain": "-1"
     },
     "execution_count": 59,
     "metadata": {},
     "output_type": "execute_result"
    }
   ],
   "source": [
    "drugs_page.__str__().find(\"database-results\")"
   ],
   "metadata": {
    "collapsed": false,
    "ExecuteTime": {
     "end_time": "2023-05-15T12:49:29.145806800Z",
     "start_time": "2023-05-15T12:49:29.132306500Z"
    }
   }
  },
  {
   "cell_type": "code",
   "execution_count": 62,
   "outputs": [],
   "source": [
    "drugs_ul_tag"
   ],
   "metadata": {
    "collapsed": false,
    "ExecuteTime": {
     "end_time": "2023-05-15T12:49:46.313251800Z",
     "start_time": "2023-05-15T12:49:46.303187600Z"
    }
   }
  },
  {
   "cell_type": "code",
   "execution_count": 87,
   "outputs": [
    {
     "name": "stdout",
     "output_type": "stream",
     "text": [
      "Requirement already satisfied: xlrd in e:\\projects\\web scraping\\drug database\\venv\\lib\\site-packages (0.7.1)\n",
      "Collecting xlrd\n",
      "  Downloading xlrd-2.0.1-py2.py3-none-any.whl (96 kB)\n",
      "     ---------------------------------------- 0.0/96.5 kB ? eta -:--:--\n",
      "     ------------ --------------------------- 30.7/96.5 kB 1.3 MB/s eta 0:00:01\n",
      "     -------------------------------------- - 92.2/96.5 kB 1.3 MB/s eta 0:00:01\n",
      "     -------------------------------------- - 92.2/96.5 kB 1.3 MB/s eta 0:00:01\n",
      "     -------------------------------------- 96.5/96.5 kB 612.0 kB/s eta 0:00:00\n",
      "Installing collected packages: xlrd\n",
      "  Attempting uninstall: xlrd\n",
      "    Found existing installation: xlrd 0.7.1\n",
      "    Uninstalling xlrd-0.7.1:\n",
      "      Successfully uninstalled xlrd-0.7.1\n",
      "Successfully installed xlrd-2.0.1\n",
      "Note: you may need to restart the kernel to use updated packages.\n"
     ]
    },
    {
     "name": "stderr",
     "output_type": "stream",
     "text": [
      "ERROR: pip's dependency resolver does not currently take into account all the packages that are installed. This behaviour is the source of the following dependency conflicts.\n",
      "textract 1.6.5 requires pdfminer.six==20191110, but you have pdfminer-six 20221105 which is incompatible.\n",
      "textract 1.6.5 requires xlrd~=1.2.0, but you have xlrd 2.0.1 which is incompatible.\n",
      "camelot 12.6.29 requires xlrd==0.7.1, but you have xlrd 2.0.1 which is incompatible.\n",
      "\n",
      "[notice] A new release of pip is available: 23.0.1 -> 23.1.2\n",
      "[notice] To update, run: python.exe -m pip install --upgrade pip\n"
     ]
    }
   ],
   "source": [
    "pip install --upgrade xlrd"
   ],
   "metadata": {
    "collapsed": false,
    "ExecuteTime": {
     "end_time": "2023-05-18T08:41:16.826077200Z",
     "start_time": "2023-05-18T08:41:05.296701Z"
    }
   }
  },
  {
   "cell_type": "code",
   "execution_count": 93,
   "outputs": [],
   "source": [
    "import pandas as pd\n",
    "\n",
    "df_titles = pd.read_excel('Notebooks/installations/Data/For Extractions/HJH-all-Generic-Names.xlsx')['Titles']"
   ],
   "metadata": {
    "collapsed": false,
    "ExecuteTime": {
     "end_time": "2023-05-18T08:44:06.245965Z",
     "start_time": "2023-05-18T08:44:06.183399500Z"
    }
   }
  },
  {
   "cell_type": "code",
   "execution_count": 94,
   "outputs": [
    {
     "data": {
      "text/plain": "0           12 vitamins and 6 minerals\n1                         Acai extract\n2                             Acarbose\n3                          Aceclofenac\n4                  Acellular pertussis\n                     ...              \n1085                        Zinc oxide\n1086       Zoledronic acid monohydrate\n1087                          Zolpidem\n1088            Zuclopenthixol acetate\n1089    Zuclopenthixol dihydrochloride\nName: Titles, Length: 1090, dtype: object"
     },
     "execution_count": 94,
     "metadata": {},
     "output_type": "execute_result"
    }
   ],
   "source": [
    "names = df_titles"
   ],
   "metadata": {
    "collapsed": false,
    "ExecuteTime": {
     "end_time": "2023-05-18T08:44:08.386650200Z",
     "start_time": "2023-05-18T08:44:08.371029200Z"
    }
   }
  },
  {
   "cell_type": "code",
   "execution_count": 159,
   "outputs": [],
   "source": [
    "import glob\n",
    "lexi_paths = glob.glob('Notebooks/installations/Data/Total-Lexi-Links/*')"
   ],
   "metadata": {
    "collapsed": false,
    "ExecuteTime": {
     "end_time": "2023-05-18T10:08:48.900261200Z",
     "start_time": "2023-05-18T10:08:48.884847600Z"
    }
   }
  },
  {
   "cell_type": "code",
   "execution_count": 160,
   "outputs": [],
   "source": [
    "lexi_names = []\n",
    "\n",
    "for i in range(len(lexi_paths)):\n",
    "    lexi_names.append(lexi_paths[i].split('/')[-1].split('\\\\')[-1].split('.')[0])"
   ],
   "metadata": {
    "collapsed": false,
    "ExecuteTime": {
     "end_time": "2023-05-18T10:08:49.212688900Z",
     "start_time": "2023-05-18T10:08:49.197099900Z"
    }
   }
  },
  {
   "cell_type": "code",
   "execution_count": 161,
   "outputs": [
    {
     "data": {
      "text/plain": "['A-AVD (Hodgkin)',\n 'Abacavir and Lamivudine',\n 'Abacavir, Dolutegravir, and Lamivudine',\n 'Abacavir, Lamivudine, and Zidovudine',\n 'Abacavir',\n 'Abaloparatide',\n 'Abatacept',\n 'Abciximab',\n 'Abemaciclib-Fulvestrant (Breast)',\n 'Abemaciclib',\n 'Abiraterone Acetate',\n 'Abiraterone-Methylprednisolone (Prostate)',\n 'Abiraterone-Prednisone (Prostate)',\n 'AbobotulinumtoxinA',\n 'Abrocitinib',\n 'ABVD (Hodgkin)',\n 'ABVD Early Stage (Hodgkin)',\n 'AC (Breast)',\n 'AC (Dose-Dense) followed by Paclitaxel (Dose-Dense) (Breast)',\n 'AC (Dose-Dense) followed by Paclitaxel (Dose-Dense)-Trastuzumab (Breast)',\n 'AC (Dose-Dense) followed by Paclitaxel Weekly (Breast)',\n 'AC followed by Docetaxel Every 3 Weeks (Breast)',\n 'AC followed by Paclitaxel Weekly (Breast)',\n 'AC followed by Paclitaxel-Trastuzumab (Breast)',\n 'Acalabrutinib-Obinutuzumab (CLL)',\n 'Acalabrutinib',\n 'Acamprosate',\n 'Acarbose',\n 'Acebutolol',\n 'Acenocoumarol',\n 'Acetaminophen and Caffeine',\n 'Acetaminophen and Codeine',\n 'Acetaminophen and Diphenhydramine',\n 'Acetaminophen and Methocarbamol',\n 'Acetaminophen and Pamabrom',\n 'Acetaminophen and Phenylephrine',\n 'Acetaminophen and Phenyltoloxamine',\n 'Acetaminophen and Pseudoephedrine',\n 'Acetaminophen and Tramadol',\n 'Acetaminophen, Aspirin, and Caffeine',\n 'Acetaminophen, Caffeine, and Codeine',\n 'Acetaminophen, Caffeine, and Dihydrocodeine',\n 'Acetaminophen, Caffeine, and Pyrilamine',\n 'Acetaminophen, Codeine, and Doxylamine',\n 'Acetaminophen, Dextromethorphan, and Doxylamine',\n 'Acetaminophen, Dextromethorphan, and Phenylephrine',\n 'Acetaminophen, Diphenhydramine, and Phenylephrine',\n 'Acetaminophen, Guaifenesin, and Phenylephrine',\n 'Acetaminophen, Isometheptene, and Dichloralphenazone',\n 'Acetaminophen',\n 'AcetaZOLAMIDE',\n 'Acetic Acid (Otic)',\n 'Acetic Acid (Topical)',\n 'Acetic Acid and Hydrocortisone',\n 'Acetohydroxamic Acid',\n 'Acetylcholine',\n 'Acetylcysteine',\n 'Acitretin',\n 'Aclidinium and Formoterol',\n 'Aclidinium',\n 'Acrivastine and Pseudoephedrine',\n 'Acyclovir (Ophthalmic)',\n 'Acyclovir (refer to route-specific monograph)',\n 'Acyclovir (Systemic)',\n 'Acyclovir (Topical)',\n 'Acyclovir and Hydrocortisone',\n 'AD (Soft Tissue Sarcoma)',\n 'Adagrasib',\n 'Adalimumab',\n 'Adapalene and Benzoyl Peroxide',\n 'Adapalene',\n 'Adefovir',\n 'Adenosine',\n 'Adenovirus (Types 4, 7) Vaccine',\n 'Ado-Trastuzumab Emtansine',\n 'Aducanumab',\n 'Afamelanotide',\n 'Afatinib',\n 'Aflibercept (Ophthalmic)',\n 'Aflibercept (refer to route-specific monograph)',\n 'Agalsidase Alfa',\n 'Agalsidase Beta',\n 'AIM (Soft Tissue Sarcoma)',\n 'Air Polymer-Type A',\n 'Albendazole',\n 'Albiglutide',\n 'Albumin',\n 'Albuterol and Budesonide',\n 'Albuterol',\n 'Alcaftadine',\n 'Alclometasone',\n 'Alcohol (Ethyl)',\n 'Alcohol (Isopropyl)',\n 'Aldesleukin',\n 'Alectinib',\n 'Alemtuzumab',\n 'Alendronate and Cholecalciferol',\n 'Alendronate',\n 'Alfacalcidol',\n 'ALfentanil',\n 'Alfuzosin',\n 'Alglucosidase Alfa',\n 'Alirocumab',\n 'Aliskiren and Hydrochlorothiazide',\n 'Aliskiren',\n 'Alitretinoin (refer to route-specific monograph)',\n 'Alitretinoin (Systemic)',\n 'Alitretinoin (Topical)',\n 'Allopurinol',\n 'Almotriptan',\n 'Alogliptin and Metformin',\n 'Alogliptin and Pioglitazone',\n 'Alogliptin',\n 'Alosetron',\n 'Alpelisib-Fulvestrant (Breast)',\n 'Alpelisib',\n 'Alpha-Galactosidase',\n 'Alpha1-Proteinase Inhibitor',\n 'ALPRAZolam',\n 'Alprostadil',\n 'Alteplase',\n 'Altretamine',\n 'Alum Irrigation',\n 'Aluminum Acetate',\n 'Aluminum Chloride Hexahydrate',\n 'Aluminum Chloride',\n 'Aluminum Hydroxide and Magnesium Carbonate',\n 'Aluminum Hydroxide and Magnesium Hydroxide',\n 'Aluminum Hydroxide and Magnesium Trisilicate',\n 'Aluminum Hydroxide, Magnesium Hydroxide, and Simethicone',\n 'Aluminum Hydroxide',\n 'Alvimopan',\n 'Amantadine',\n 'Ambrisentan',\n 'Amcinonide',\n 'Amifampridine',\n 'Amifostine',\n 'Amikacin (refer to route-specific monograph)',\n 'Amikacin (Systemic)',\n 'Amikacin Liposome (Oral Inhalation)',\n 'Amiloride and Hydrochlorothiazide',\n 'AMILoride',\n 'Amino Acid Injection',\n 'Aminocaproic Acid',\n 'Aminolevulinic Acid (refer to route-specific monograph)',\n 'Aminolevulinic Acid (Systemic)',\n 'Aminolevulinic Acid (Topical)',\n 'Aminophylline',\n 'Aminosalicylic Acid',\n 'Amiodarone',\n 'Amisulpride (Injection)',\n 'Amitriptyline and Chlordiazepoxide',\n 'Amitriptyline and Perphenazine',\n 'Amitriptyline',\n 'Amivantamab',\n 'Amlodipine and Atorvastatin',\n 'Amlodipine and Benazepril',\n 'Amlodipine and Celecoxib',\n 'Amlodipine and Olmesartan',\n 'Amlodipine and Valsartan',\n 'Amlodipine, Valsartan, and Hydrochlorothiazide',\n 'AmLODIPine',\n 'Ammonia Spirit (Aromatic)',\n 'Amobarbital',\n 'Amoxapine',\n 'Amoxicillin and Clavulanate',\n 'Amoxicillin',\n 'Amphetamine',\n 'Amphotericin B (Lipid Complex)',\n 'Amphotericin B (Liposomal)',\n 'Amphotericin B Deoxycholate',\n 'Ampicillin and Sulbactam',\n 'Ampicillin',\n 'Amsacrine',\n 'Amyl Nitrite',\n 'Anacaulase',\n 'Anagrelide',\n 'Anakinra',\n 'Anastrozole',\n 'Andexanet Alfa (Coagulation Factor Xa [Recombinant], Inactivated)',\n 'Angiotensin II',\n 'Anidulafungin',\n 'Anifrolumab',\n 'Ansuvimab',\n 'Anthralin',\n 'Anthrax Immune Globulin (Human)',\n 'Anthrax Vaccine Adsorbed',\n 'Anti-inhibitor Coagulant Complex (Human)',\n 'Anticoagulant Citrate Dextrose',\n 'Anticoagulant Sodium Citrate',\n 'Antihemophilic Factor (Human)',\n 'Antihemophilic Factor (Recombinant [Fc Fusion Protein])',\n 'Antihemophilic Factor (Recombinant [Fc-VWF-XTEN Fusion Protein])',\n 'Antihemophilic Factor (Recombinant [Pegylated])',\n 'Antihemophilic Factor (Recombinant [Porcine Sequence])',\n 'Antihemophilic Factor (Recombinant)',\n 'Antihemophilic Factorvon Willebrand Factor Complex (Human)',\n 'Antithrombin',\n 'Antithymocyte Globulin (Equine)',\n 'Antithymocyte Globulin (Rabbit)',\n 'Antivenin (Latrodectus mactans)',\n 'Antivenin (Micrurus fulvius)',\n 'Apalutamide',\n 'Apixaban',\n 'Apomorphine',\n 'Apraclonidine',\n 'Apremilast',\n 'Aprepitant',\n 'Arformoterol',\n 'Argatroban',\n 'Arginine',\n 'ARIPiprazole Lauroxil',\n 'ARIPiprazole',\n 'Armodafinil',\n 'Arsenic Trioxide',\n 'Artemether and Lumefantrine',\n 'Artesunate',\n 'Articaine and Epinephrine',\n 'Artificial Tears',\n 'Asciminib',\n 'Ascorbic Acid',\n 'Asenapine',\n 'Asfotase Alfa',\n 'Asparaginase (Erwinia [Recombinant])',\n 'Asparaginase (Erwinia)',\n 'Aspirin and Dipyridamole',\n 'Aspirin and Omeprazole',\n 'Aspirin, Citric Acid, and Sodium Bicarbonate',\n 'Aspirin',\n 'Atazanavir and Cobicistat',\n 'Atazanavir',\n 'Atenolol and Chlorthalidone',\n 'Atenolol',\n 'Atezolizumab-Bevacizumab (Hepatocellular)',\n 'Atezolizumab-Bevacizumab-Carboplatin-Paclitaxel (NSCLC)',\n 'Atezolizumab-Carboplatin-Etoposide (Small Cell Lung Cancer)',\n 'Atezolizumab-Carboplatin-Paclitaxel (Protein Bound) (NSCLC)',\n 'Atezolizumab-Cobimetinib-Vemurafenib (Melanoma)',\n 'Atezolizumab',\n 'Atogepant',\n 'Atoltivimab, Maftivimab, and Odesivimab',\n 'Atomoxetine',\n 'Atorvastatin',\n 'Atovaquone and Proguanil',\n 'Atovaquone',\n 'Atracurium',\n 'Atropine (Ophthalmic)',\n 'Atropine (refer to route-specific monograph)',\n 'Atropine (Systemic)',\n 'Atropine and Pralidoxime',\n 'Auranofin',\n 'Avacopan',\n 'Avalglucosidase Alfa',\n 'Avanafil',\n 'Avapritinib',\n 'Avatrombopag',\n 'Avelumab-Axitinib (RCC)',\n 'Avelumab',\n 'Axicabtagene Ciloleucel',\n 'Axitinib',\n 'AzaCITIDine',\n 'AzaTHIOprine',\n 'Azelaic Acid',\n 'Azelastine (Nasal)',\n 'Azelastine (Ophthalmic)',\n 'Azelastine (refer to route-specific monograph)',\n 'Azelastine and Fluticasone',\n 'Azilsartan and Chlorthalidone',\n 'Azilsartan',\n 'Azithromycin (Ophthalmic)',\n 'Azithromycin (refer to route-specific monograph)',\n 'Azithromycin (Systemic)',\n 'Aztreonam (Oral Inhalation)',\n 'Aztreonam (refer to route-specific monograph)',\n 'Aztreonam (Systemic)',\n 'Bacitracin (Ophthalmic)',\n 'Bacitracin (refer to route-specific monograph)',\n 'Bacitracin (Systemic)',\n 'Bacitracin (Topical)',\n 'Bacitracin and Polymyxin B (Ophthalmic)',\n 'Bacitracin and Polymyxin B (refer to route-specific monograph)',\n 'Bacitracin and Polymyxin B (Topical)',\n 'Bacitracin, Neomycin, and Polymyxin B (Ophthalmic)',\n 'Bacitracin, Neomycin, and Polymyxin B (refer to route-specific monograph)',\n 'Bacitracin, Neomycin, and Polymyxin B (Topical)',\n 'Bacitracin, Neomycin, Polymyxin B, and Hydrocortisone (Ophthalmic)',\n 'Bacitracin, Neomycin, Polymyxin B, and Hydrocortisone (refer to route-specific monograph)',\n 'Bacitracin, Neomycin, Polymyxin B, and Hydrocortisone (Topical)',\n 'Bacitracin, Neomycin, Polymyxin B, and Pramoxine',\n 'Baclofen',\n 'Balanced Salt Solution',\n 'Baloxavir Marboxil',\n 'Balsalazide',\n 'Balsam Peru and Castor Oil',\n 'Bamlanivimab and Etesevimab',\n 'Bamlanivimab',\n 'Baricitinib',\n 'Barium',\n 'Basiliximab',\n 'BCG (Intravesical)',\n 'BCG (refer to route-specific monograph)',\n 'BCG Vaccine (Immunization)',\n 'BEACOPP Escalated (Hodgkin)',\n 'BEACOPP Escalated Plus Standard (Hodgkin)',\n 'BEACOPP Standard (Hodgkin)',\n 'BEACOPP-14 (Hodgkin)',\n 'Bebtelovimab',\n 'Becaplermin',\n 'Beclomethasone (Nasal)',\n 'Beclomethasone (Oral Inhalation)',\n 'Beclomethasone (refer to route-specific monograph)',\n 'Beclomethasone (Topical)',\n 'Bedaquiline',\n 'Belantamab Mafodotin',\n 'Belatacept',\n 'Belimumab',\n 'Belinostat',\n 'Belladonna and Opium',\n 'Belumosudil',\n 'Belzutifan',\n 'Bempedoic Acid and Ezetimibe',\n 'Bempedoic Acid',\n 'Benazepril and Hydrochlorothiazide',\n 'Benazepril',\n 'Bendamustine-Bortezomib-Rituximab (NHL-Follicular)',\n 'Bendamustine-Lenalidomide-Dexamethasone (Multiple Myeloma)',\n 'Bendamustine-Obinutuzumab (NHL-Follicular)',\n 'Bendamustine-Rituximab (CLL)',\n 'Bendamustine-Rituximab (NHL-Follicular)',\n 'Bendamustine-Rituximab (NHL-Mantle Cell)',\n 'Bendamustine-Rituximab (Waldenstrom Macroglobulinemia)',\n 'Bendamustine',\n 'Benralizumab',\n 'Benserazide and Levodopa',\n 'Bentoquatam',\n 'Benzalkonium Chloride and Benzocaine',\n 'Benzhydrocodone and Acetaminophen',\n 'Benznidazole',\n 'Benzocaine and Docusate',\n 'Benzocaine, Butamben, and Tetracaine',\n 'Benzocaine',\n 'Benzoin',\n 'Benzonatate',\n 'Benzoyl Peroxide and Hydrocortisone',\n 'Benzoyl Peroxide',\n 'Benzphetamine',\n 'Benztropine',\n 'Benzydamine',\n 'Benzyl Alcohol',\n 'Benzylpenicilloyl Polylysine',\n 'BEP (Ovarian)',\n 'BEP (Testicular)',\n 'Bepotastine',\n 'Beractant',\n 'Berotralstat',\n 'Besifloxacin',\n 'Beta-Carotene',\n 'Betahistine',\n 'Betaine',\n 'Betamethasone (refer to route-specific monograph)',\n 'Betamethasone (Systemic)',\n 'Betamethasone (Topical)',\n 'Betamethasone and Clotrimazole',\n 'Betamethasone and Gentamicin',\n 'Betamethasone and Salicylic Acid',\n 'Betaxolol (Ophthalmic)',\n 'Betaxolol (refer to route-specific monograph)',\n 'Betaxolol (Systemic)',\n 'Bethanechol',\n 'Betibeglogene Autotemcel',\n 'Bevacizumab + FOLFIRI (Colorectal)',\n 'Bevacizumab + XELOX (Colorectal)',\n 'Bevacizumab FOLFOX (Colorectal)',\n 'Bevacizumab-Carboplatin-Doxorubicin (Liposomal) (Ovarian)',\n 'Bevacizumab-Carboplatin-Gemcitabine (Ovarian)',\n 'Bevacizumab-Carboplatin-Paclitaxel (NSCLC)',\n 'Bevacizumab-Carboplatin-Paclitaxel (Ovarian)',\n 'Bevacizumab-Carboplatin-Pemetrexed (NSCLC)',\n 'Bevacizumab-Cisplatin-Paclitaxel (Cervical)',\n 'Bevacizumab-Cisplatin-Pemetrexed (Mesothelioma)',\n 'Bevacizumab-Cisplatin-Pemetrexed (NSCLC)',\n 'Bevacizumab-Doxorubicin (Liposomal) (Ovarian)',\n 'Bevacizumab-Fluorouracil-Leucovorin (Colorectal)',\n 'Bevacizumab-Irinotecan (Glioblastoma)',\n 'Bevacizumab-Lomustine (Glioblastoma)',\n 'Bevacizumab-Lonsurf (Colorectal)',\n 'Bevacizumab-Paclitaxel (Breast)',\n 'Bevacizumab-Paclitaxel (Ovarian)',\n 'Bevacizumab-Paclitaxel-Topotecan (Cervical)',\n 'Bevacizumab-Topotecan Daily (Ovarian)',\n 'Bevacizumab-Topotecan Weekly (Ovarian)',\n 'Bevacizumab',\n 'Bexagliflozin',\n 'Bexarotene (refer to route-specific monograph)',\n 'Bexarotene (Systemic)',\n 'Bexarotene (Topical)',\n 'Bezafibrate',\n 'Bezlotoxumab',\n 'Bicalutamide',\n 'Bictegravir, Emtricitabine, and Tenofovir Alafenamide',\n 'Bilastine',\n 'Bimatoprost',\n 'Bimekizumab',\n 'Binimetinib',\n 'Biotin',\n 'Bisacodyl',\n 'Bismuth Subcitrate, Metronidazole, and Tetracycline',\n 'Bismuth Subgallate',\n 'Bismuth Subsalicylate',\n 'Bisoprolol and Hydrochlorothiazide',\n 'Bisoprolol',\n 'Bivalirudin',\n 'Bleomycin',\n 'Blinatumomab',\n 'Boric Acid (Vaginal)',\n 'Bortezomib-Dexamethasone (Amyloidosis)',\n 'Bortezomib-Dexamethasone (Multiple Myeloma)',\n 'Bortezomib-Dexamethasone-Rituximab (Waldenstrom Macroglobulinemia)',\n 'Bortezomib-Doxorubicin (Liposomal) (Multiple Myeloma)',\n 'Bortezomib-Doxorubicin-Dexamethasone (Multiple Myeloma)',\n 'Bortezomib-Rituximab (Waldenstrom Macroglobulinemia)',\n 'Bortezomib-Thalidomide-Dexamethasone (Multiple Myeloma)',\n 'Bortezomib',\n 'Bosentan',\n 'Bosutinib',\n 'Botulism Antitoxin, Heptavalent',\n 'Botulism Immune Globulin (Intravenous-Human)',\n 'Bovine Lipid Extract Surfactant',\n 'Bremelanotide',\n 'Brentuximab Vedotin',\n 'Bretylium',\n 'Brexanolone',\n 'Brexpiprazole',\n 'Brexucabtagene Autoleucel',\n 'Brigatinib',\n 'Brilliant Blue G',\n 'Brimonidine (Ophthalmic)',\n 'Brimonidine (refer to route-specific monograph)',\n 'Brimonidine (Topical)',\n 'Brimonidine and Timolol',\n 'Brincidofovir',\n 'Brinzolamide and Brimonidine',\n 'Brinzolamide and Timolol',\n 'Brinzolamide',\n 'Brivaracetam',\n 'Brodalumab',\n 'Brolucizumab',\n 'Bromazepam',\n 'Bromfenac',\n 'Bromocriptine',\n 'Brompheniramine and Phenylephrine',\n 'Brompheniramine and Pseudoephedrine',\n 'Brompheniramine, Dextromethorphan, and Phenylephrine',\n 'Brompheniramine, Pseudoephedrine, and Dextromethorphan',\n 'Budesonide (Nasal)',\n 'Budesonide (Oral Inhalation)',\n 'Budesonide (refer to route-specific monograph)',\n 'Budesonide (Systemic)',\n 'Budesonide (Topical)',\n 'Budesonide and Formoterol',\n 'Budesonide, Glycopyrrolate, and Formoterol',\n 'Bumetanide',\n 'BUPivacaine (Liposomal)',\n 'Bupivacaine and Epinephrine',\n 'Bupivacaine and Meloxicam',\n 'BUPivacaine',\n 'Buprenorphine and Naloxone',\n 'Buprenorphine',\n 'BuPROPion',\n 'Burosumab',\n 'Buserelin',\n 'BusPIRone',\n 'Busulfan',\n 'Butabarbital',\n 'Butalbital and Acetaminophen',\n 'Butalbital, Acetaminophen, and Caffeine',\n 'Butalbital, Acetaminophen, Caffeine, and Codeine',\n 'Butalbital, Aspirin, and Caffeine',\n 'Butalbital, Aspirin, Caffeine, and Codeine',\n 'Butenafine',\n 'Butoconazole',\n 'Butorphanol',\n 'C-MOPPABV Hybrid (Hodgkin)',\n 'C1 Inhibitor (Human)',\n 'C1 Inhibitor (Recombinant)',\n 'Cabazitaxel-Prednisone (Prostate)',\n 'Cabazitaxel',\n 'Cabergoline',\n 'Cabotegravir and Rilpivirine',\n 'Cabotegravir',\n 'Cabozantinib-Nivolumab (RCC)',\n 'Cabozantinib',\n 'Caffeine',\n 'Calamine',\n 'Calaspargase Pegol',\n 'Calcifediol',\n 'Calcipotriene and Betamethasone',\n 'Calcipotriene',\n 'Calcitonin',\n 'Calcitriol (refer to route-specific monograph)',\n 'Calcitriol (Systemic)',\n 'Calcitriol (Topical)',\n 'Calcium Acetate',\n 'Calcium and Vitamin D',\n 'Calcium Carbonate and Magnesium Carbonate',\n 'Calcium Carbonate and Magnesium Hydroxide',\n 'Calcium Carbonate and Simethicone',\n 'Calcium Carbonate',\n 'Calcium Chloride',\n 'Calcium Citrate',\n 'Calcium Glubionate',\n 'Calcium Gluconate',\n 'Calcium Hydroxylapatite',\n 'Calcium Lactate',\n 'Calcium Polystyrene Sulfonate',\n 'Calfactant',\n 'CALGB 8811 Regimen (ALL)',\n 'CALGB 9111 Regimen (ALL)',\n 'Camphor and Menthol',\n 'Camphor and Phenol',\n 'Camphor',\n 'Canagliflozin and Metformin',\n 'Canagliflozin',\n 'Canakinumab',\n 'Candesartan and Hydrochlorothiazide',\n 'Candesartan',\n 'Candida albicans (Monilia)',\n 'Cangrelor',\n 'Cannabidiol',\n 'Cannabis',\n 'Cantharidin, Podophyllin Resin, and Salicylic Acid',\n 'Cantharidin',\n 'Capecitabine + Lapatinib (Breast)',\n 'Capecitabine-Docetaxel (Breast)',\n 'Capecitabine-Docetaxel (Gastric Cancer)',\n 'Capecitabine-Gemcitabine (Pancreatic)',\n 'Capecitabine-Ixabepilone (Breast)',\n 'Capecitabine-Oxaliplatin (Gastric)',\n 'Capecitabine-Oxaliplatin (Unknown Primary, Adenocarcinoma)',\n 'Capecitabine-Trastuzumab (Breast)',\n 'Capecitabine',\n 'Caplacizumab',\n 'Capmatinib',\n 'CAPOX (Biliary Cancer)',\n 'CAPOX (Pancreatic)',\n 'Capreomycin',\n 'Caprylidene',\n 'Capsaicin',\n 'Captopril and Hydrochlorothiazide',\n 'Captopril',\n 'Carbachol',\n 'CarBAMazepine',\n 'Carbamide Peroxide',\n 'Carbetocin',\n 'Carbidopa and Levodopa',\n 'Carbidopa',\n 'Carbinoxamine',\n 'Carbon 14 Urea',\n 'Carboplatin-Cetuximab (Head and Neck Cancer)',\n 'Carboplatin-Docetaxel (Ovarian)',\n 'Carboplatin-Docetaxel (Unknown Primary, Adenocarcinoma)',\n 'Carboplatin-Docetaxel (Unknown Primary, Squamous Cell)',\n 'Carboplatin-Docetaxel-Trastuzumab (Breast)',\n 'Carboplatin-Doxorubicin (Liposomal) (Ovarian)',\n 'Carboplatin-Etoposide (Ovarian Germ Cell Tumor)',\n 'Carboplatin-Etoposide (Small Cell Lung Cancer)',\n 'Carboplatin-Etoposide-Paclitaxel (Unknown Primary, Adenocarcinoma)',\n 'Carboplatin-Fluorouracil (Head and Neck)',\n 'Carboplatin-Gemcitabine (Bladder)',\n 'Carboplatin-Gemcitabine (NSCLC)',\n 'Carboplatin-Gemcitabine (Ovarian)',\n 'Carboplatin-Irinotecan (Small Cell Lung Cancer)',\n 'Carboplatin-Paclitaxel (Cervical Cancer)',\n 'Carboplatin-Paclitaxel (Endometrial)',\n 'Carboplatin-Paclitaxel (NSCLC)',\n 'Carboplatin-Paclitaxel (Ovarian)',\n 'Carboplatin-Paclitaxel (Protein Bound) (NSCLC)',\n 'Carboplatin-Paclitaxel (Protein Bound)-Pembrolizumab (NSCLC)',\n 'Carboplatin-Paclitaxel (ThymomaThymic)',\n 'Carboplatin-Paclitaxel (Unknown Primary, Adenocarcinoma)',\n 'Carboplatin-Paclitaxel-Pembrolizumab (NSCLC)',\n 'Carboplatin-Paclitaxel-Trastuzumab (Breast)',\n 'Carboplatin-Pemetrexed (Mesothelioma)',\n 'Carboplatin-Pemetrexed (NSCLC)',\n 'Carboplatin-Pemetrexed-Pembrolizumab (NSCLC)',\n 'CARBOplatin',\n 'Carboprost Tromethamine',\n 'Carboxymethylcellulose',\n 'Cardioplegic Solution',\n 'Carfilzomib, Cyclophosphamide, Dexamethasone (Multiple Myeloma)',\n 'Carfilzomib, Lenalidomide, Dexamethasone (Multiple Myeloma)',\n 'Carfilzomib-Dexamethasone (Multiple Myeloma)',\n 'Carfilzomib-Dexamethasone-Daratumumab (Multiple Myeloma)',\n 'Carfilzomib',\n 'Carglumic Acid',\n 'Cariprazine',\n 'Carisoprodol and Aspirin',\n 'Carisoprodol, Aspirin, and Codeine',\n 'Carisoprodol',\n 'Carmustine',\n 'Carteolol (Ophthalmic)',\n 'Carvedilol',\n 'Casimersen',\n 'Casirivimab and Imdevimab',\n 'Caspofungin',\n 'Castor Oil',\n 'CAV (Small Cell Lung Cancer)',\n 'Cefaclor',\n 'Cefadroxil',\n 'CeFAZolin',\n 'Cefdinir',\n 'Cefepime',\n 'Cefiderocol',\n 'Cefixime',\n 'Cefotaxime',\n 'CefoTEtan',\n 'CefOXitin',\n 'Cefpodoxime',\n 'Cefprozil',\n 'Ceftaroline Fosamil',\n 'Ceftazidime and Avibactam',\n 'CefTAZidime',\n 'Ceftibuten',\n 'Ceftobiprole',\n 'Ceftolozane and Tazobactam',\n 'CefTRIAXone',\n 'Cefuroxime',\n 'Celecoxib and Tramadol',\n 'Celecoxib',\n 'Cellulose (Oxidized Regenerated)',\n 'Cellulose and Citric Acid',\n 'Cemiplimab',\n 'Cenegermin',\n 'Cenobamate',\n 'Centruroides Immune F(ab)2 (Equine)',\n 'Cephalexin',\n 'CEPP (NHL-DLBCL)',\n 'Ceritinib',\n 'Cerliponase Alfa',\n 'Certolizumab Pegol',\n 'Cetirizine (Ophthalmic)',\n 'Cetirizine (refer to route-specific monograph)',\n 'Cetirizine (Systemic)',\n 'Cetirizine and Pseudoephedrine',\n 'Cetrorelix',\n 'Cetuximab (Biweekly)-Irinotecan (Colorectal)',\n 'Cetuximab + FOLFIRI (Colorectal)',\n 'Cetuximab-Carboplatin-Fluorouracil (Head and Neck Cancer)',\n 'Cetuximab-Cisplatin-Fluorouracil (Head and Neck Cancer)',\n 'Cetuximab-Encorafenib (Colorectal)',\n 'Cetuximab-Irinotecan (Colorectal)',\n 'Cetuximab',\n 'Cetylpyridinium',\n 'Cevimeline',\n 'Charcoal, Activated',\n 'Chenodiol',\n 'Chlophedianol and Dexbrompheniramine',\n 'Chlophedianol, Dexbrompheniramine, and Pseudoephedrine',\n 'Chloral Hydrate',\n 'Chlorambucil-Obinutuzumab (CLL)',\n 'Chlorambucil-Ofatumumab (CLL)',\n 'Chlorambucil-Prednisone (CLL)',\n 'Chlorambucil',\n 'Chloramphenicol (Systemic)',\n 'ChlordiazePOXIDE',\n 'Chlorhexidine Gluconate (Oral)',\n 'Chlorhexidine Gluconate (refer to route-specific monograph)',\n 'Chlorhexidine Gluconate (Topical)',\n 'Chlorophyll',\n 'Chloroprocaine (Ophthalmic)',\n 'Chloroprocaine (refer to route-specific monograph)',\n 'Chloroprocaine (Systemic)',\n 'Chloroquine',\n 'Chlorothiazide',\n 'Chlorpheniramine and Acetaminophen',\n 'Chlorpheniramine and Phenylephrine',\n 'Chlorpheniramine and Pseudoephedrine',\n 'Chlorpheniramine, Phenylephrine, and Dextromethorphan',\n 'Chlorpheniramine, Pseudoephedrine, and Codeine',\n 'Chlorpheniramine',\n 'ChlorproMAZINE',\n 'Chlorthalidone',\n 'Chlorzoxazone',\n 'Cholecalciferol',\n 'Cholera Vaccine',\n 'Cholestyramine Resin',\n 'Cholic Acid',\n 'Choline C 11',\n 'Choline Magnesium Trisalicylate',\n 'CHOP (NHL-AIDS-Related)',\n 'Chorionic Gonadotropin (Human)',\n 'Chorionic Gonadotropin (Recombinant)',\n 'Chromic Chloride',\n 'Ciclesonide (Nasal)',\n 'Ciclesonide (Oral Inhalation)',\n 'Ciclesonide (refer to route-specific monograph)',\n 'Ciclopirox',\n 'Cidofovir',\n 'Cilazapril and Hydrochlorothiazide',\n 'Cilazapril',\n 'Cilostazol',\n 'Ciltacabtagene Autoleucel',\n 'Cimetidine',\n 'Cinacalcet',\n 'Ciprofloxacin (Ophthalmic)',\n 'Ciprofloxacin (Otic)',\n 'Ciprofloxacin (refer to route-specific monograph)',\n 'Ciprofloxacin (Systemic)',\n 'Ciprofloxacin and Dexamethasone',\n 'Ciprofloxacin and Fluocinolone',\n 'Ciprofloxacin and Hydrocortisone',\n 'Cisapride',\n 'Cisatracurium',\n 'Cisplatin-Capecitabine (Esophageal Cancer)',\n 'Cisplatin-Capecitabine (Gastric Cancer)',\n 'Cisplatin-Cetuximab (Head and Neck Cancer)',\n 'Cisplatin-Docetaxel (NSCLC)',\n 'Cisplatin-Docetaxel (Unknown Primary, Adenocarcinoma)',\n 'Cisplatin-Docetaxel (Unknown Primary, Squamous Cell)',\n 'Cisplatin-Docetaxel-Fluorouracil (Unknown Primary, Squamous Cell)',\n 'Cisplatin-Docetaxel-Gemcitabine (Bladder)',\n 'Cisplatin-Doxorubicin (Endometrial)',\n 'Cisplatin-Doxorubicin-Paclitaxel (Endometrial)',\n 'Cisplatin-Etoposide (NSCLC)',\n 'Cisplatin-Etoposide (Small Cell Lung Cancer)',\n 'Cisplatin-Fluorouracil (Bladder Cancer)',\n 'Cisplatin-Fluorouracil (Esophageal Cancer)',\n 'Cisplatin-Fluorouracil (Head and Neck Cancer)',\n 'Cisplatin-Fluorouracil-Paclitaxel (Unknown Primary, Squamous Cell)',\n 'Cisplatin-Gemcitabine (Bladder)',\n 'Cisplatin-Gemcitabine (Cervical)',\n 'Cisplatin-Gemcitabine (Mesothelioma)',\n 'Cisplatin-Gemcitabine (NSCLC)',\n 'Cisplatin-Gemcitabine (Pancreatic)',\n 'Cisplatin-Gemcitabine (Unknown Primary, Adenocarcinoma)',\n 'Cisplatin-Gemcitabine-Necitumumab (NSCLC)',\n 'Cisplatin-Irinotecan (Gastric)',\n 'Cisplatin-Irinotecan (NSCLC)',\n 'Cisplatin-Irinotecan (Small Cell Lung Cancer)',\n 'Cisplatin-Paclitaxel (Cervical Cancer)',\n 'Cisplatin-Paclitaxel (Head and Neck Cancer)',\n 'Cisplatin-Paclitaxel (NSCLC)',\n 'Cisplatin-Paclitaxel Intraperitoneal (Ovarian)',\n 'Cisplatin-Pemetrexed (Mesothelioma)',\n 'Cisplatin-Pemetrexed (NSCLC)',\n 'Cisplatin-Pemetrexed-Pembrolizumab (NSCLC)',\n 'Cisplatin-Raltitrexed (Mesothelioma)',\n 'Cisplatin-Topotecan (Cervical Cancer)',\n 'Cisplatin-Vinblastine (NSCLC)',\n 'Cisplatin-Vinorelbine (Adjuvant NSCLC)',\n 'Cisplatin-Vinorelbine (Cervical Cancer)',\n 'Cisplatin-Vinorelbine (Metastatic NSCLC)',\n 'CISplatin',\n 'Citalopram',\n 'Citric Acid, Magnesium Carbonate, and Glucono-Delta-Lactone',\n 'Citric Acid, Sodium Citrate, and Potassium Citrate',\n 'Cladribine-Rituximab (NHL-Mantle Cell)',\n 'Cladribine-Rituximab (Waldenstrom Macroglobulinemia)',\n 'Cladribine',\n 'CLAG (AML Induction)',\n 'CLAG-M (AML Induction)',\n 'Clarithromycin',\n 'Clascoterone',\n 'Clemastine',\n 'Clevidipine',\n 'Clidinium and Chlordiazepoxide',\n 'Clindamycin (refer to route-specific monograph)',\n 'Clindamycin (Systemic)',\n 'Clindamycin (Topical)',\n 'Clindamycin and Benzoyl Peroxide',\n 'Clindamycin and Tretinoin',\n 'Clioquinol and Flumethasone',\n 'Clioquinol and Hydrocortisone',\n 'CloBAZam',\n 'Clobetasol',\n 'Clobetasone',\n 'Clocortolone',\n 'Clodronate',\n 'Clofarabine-Cyclophosphamide-Etoposide (ALL)',\n 'Clofarabine-Cytarabine (AML)',\n 'Clofarabine',\n 'Clofazimine',\n 'Clofedanol',\n 'ClomiPHENE',\n 'ClomiPRAMINE',\n 'ClonazePAM',\n 'CloNIDine',\n 'Clopidogrel',\n 'Clorazepate',\n 'Clotrimazole (Oral)',\n 'Clotrimazole (refer to route-specific monograph)',\n 'Clotrimazole (Topical)',\n 'Cloxacillin',\n 'CloZAPine',\n 'CMF Oral (Breast)',\n 'CMV (Bladder)',\n 'Coal Tar and Salicylic Acid',\n 'Coal Tar',\n 'Cobicistat',\n 'Cobimetinib-Vemurafenib (Melanoma)',\n 'Cobimetinib',\n 'Cocaine (Topical)',\n 'Coccidioides immitis Skin Test',\n 'Codeine and Chlorpheniramine',\n 'Codeine, Phenylephrine, and Triprolidine',\n 'Codeine',\n 'CODOX-M (NHL-Burkitt)',\n 'CODOX-MIVAC (NHL-Burkitt)',\n 'Colchicine and Probenecid',\n 'Colchicine',\n 'Colesevelam',\n 'Colestipol',\n 'Colistimethate',\n 'Collagen (AbsorbableDental)',\n 'Collagen Hemostat',\n 'Collagenase (refer to route-specific monograph)',\n 'Collagenase (Systemic)',\n 'Collagenase (Topical)',\n 'Conivaptan',\n 'Continuous Renal Replacement Therapy Solutions',\n 'Copanlisib',\n 'Copper Cu 64 Dotatate',\n 'Copper IUD',\n 'Copper',\n 'Corticorelin',\n 'Corticotropin',\n 'Cortisone',\n 'Cosyntropin',\n 'COVID-19 Vaccine (Adenovirus Vector)',\n 'COVID-19 Vaccine (mRNA)',\n 'COVID-19 Vaccine (Subunit)',\n 'COVID-19 Vaccine (Virus-like Particles)',\n 'Crisaborole',\n 'Crizanlizumab',\n 'Crizotinib',\n 'Crofelemer',\n 'Cromolyn (Nasal)',\n 'Cromolyn (Ophthalmic)',\n 'Cromolyn (Oral Inhalation)',\n 'Cromolyn (refer to route-specific monograph)',\n 'Cromolyn (Systemic)',\n \"Crotalidae Immune F(ab')2 (Equine)\",\n 'Crotalidae Polyvalent Immune FAB (Ovine)',\n 'Crotamiton',\n 'Cyanocobalamin',\n 'Cyclobenzaprine',\n 'Cyclopentolate and Phenylephrine',\n 'Cyclopentolate',\n 'Cyclophosphamide-Bortezomib-Dexamethasone (Multiple Myeloma)',\n 'Cyclophosphamide-Epirubicin (Breast)',\n 'Cyclophosphamide-Topotecan (Ewing Sarcoma)',\n 'Cyclophosphamide-Topotecan (Rhabdomyosarcoma)',\n 'CycloPHOSphamide',\n 'CycloSERINE',\n 'CycloSPORINE (Ophthalmic)',\n 'CycloSPORINE (refer to route-specific monograph)',\n 'CycloSPORINE (Systemic)',\n 'Cyproheptadine',\n 'Cyproterone and Ethinyl Estradiol',\n 'Cyproterone',\n 'Cysteamine (Ophthalmic)',\n 'Cysteamine (refer to route-specific monograph)',\n 'Cysteamine (Systemic)',\n 'Cysteine',\n 'Cytarabine (Conventional)',\n 'Cytarabine (High Dose)-Daunorubicin (AML Induction)',\n 'Cytarabine (High Dose)-Daunorubicin-Etoposide (AML Induction)',\n 'Cytarabine (High-Dose Single-Agent AML Induction Regimen)',\n 'Cytarabine (Liposomal)',\n 'Cytarabine (Single-Agent AML Consolidation Regimen)',\n 'Cytarabine (SUBQ Single-Agent AML Induction Regimen)',\n 'Cytomegalovirus Immune Globulin (Intravenous-Human)',\n 'Dabigatran Etexilate',\n 'Dabrafenib-Trametinib (Melanoma)',\n 'Dabrafenib-Trametinib (NSCLC)',\n 'Dabrafenib',\n 'Dacarbazine',\n 'Daclatasvir',\n 'Dacomitinib',\n 'DACTINomycin',\n 'Dalbavancin',\n 'Dalfampridine',\n 'Dalteparin',\n 'Danaparoid',\n 'Danazol',\n 'Dantrolene',\n 'Dapagliflozin and Metformin',\n 'Dapagliflozin and Saxagliptin',\n 'Dapagliflozin',\n 'Daprodustat',\n 'Dapsone (refer to route-specific monograph)',\n 'Dapsone (Systemic)',\n 'Dapsone (Topical)',\n 'DAPTOmycin',\n 'Daratumumab and Hyaluronidase',\n 'Daratumumab-Bortezomib-Dexamethasone (Multiple Myeloma)',\n 'Daratumumab-Bortezomib-Melphalan-Prednisone (Multiple Myeloma)',\n 'Daratumumab-Bortezomib-Thalidomide-Dexamethasone (Multiple Myeloma)',\n 'Daratumumab-Lenalidomide-Dexamethasone (Multiple Myeloma)',\n 'Daratumumab-Pomalidomide-Dexamethasone (Multiple Myeloma)',\n 'Daratumumab',\n 'Darbepoetin Alfa',\n 'Daridorexant',\n 'Darifenacin',\n 'Darolutamide',\n 'Darunavir and Cobicistat',\n 'Darunavir, Cobicistat, Emtricitabine, and Tenofovir Alafenamide',\n 'Darunavir',\n 'Dasatinib',\n 'Dasiglucagon',\n 'DAUNOrubicin (Conventional)',\n 'DAUNOrubicin (Liposomal)',\n 'Daunorubicin and Cytarabine (Liposomal)',\n 'DaxibotulinumtoxinA',\n 'Decitabine and Cedazuridine',\n 'Decitabine',\n 'Deferasirox',\n 'Deferiprone',\n 'Deferoxamine',\n 'Defibrotide',\n 'Deflazacort',\n 'Degarelix',\n 'Delafloxacin',\n 'Delavirdine',\n 'Demeclocycline',\n 'Dengue Tetravalent Vaccine (Live)',\n 'Denosumab',\n 'Deoxycholic Acid',\n 'Dequalinium',\n 'Desflurane',\n 'Desipramine',\n 'Desirudin',\n 'Desloratadine and Pseudoephedrine',\n 'Desloratadine',\n 'Desmopressin',\n 'Desonide',\n 'Desoximetasone',\n 'Desvenlafaxine',\n 'Deucravacitinib',\n 'Deutetrabenazine',\n 'DexAMETHasone (Ophthalmic)',\n 'DexAMETHasone (refer to route-specific monograph)',\n 'DexAMETHasone (Systemic)',\n 'Dexbrompheniramine and Phenylephrine',\n 'Dexchlorpheniramine and Pseudoephedrine',\n 'Dexchlorpheniramine, Dextromethorphan, and Phenylephrine',\n 'Dexchlorpheniramine',\n 'Dexlansoprazole',\n 'DexmedeTOMIDine',\n 'Dexmethylphenidate',\n 'Dexrazoxane',\n 'Dextran',\n 'Dextranomer and Hyaluronate Derivatives',\n 'Dextroamphetamine and Amphetamine',\n 'Dextroamphetamine',\n 'Dextromethorphan and Bupropion',\n 'Dextromethorphan and Chlorpheniramine',\n 'Dextromethorphan and Menthol',\n 'Dextromethorphan and Phenylephrine',\n 'Dextromethorphan and Pyrilamine',\n 'Dextromethorphan and Quinidine',\n 'Dextromethorphan',\n 'Dextrose 25% and Sodium Chloride 10%',\n \"Dextrose and Ringer's Injection (Lactated)\",\n 'Dextrose and Sodium Chloride',\n 'Dextrose',\n 'DHAP (Hodgkin)',\n 'DHAP (NHL-DLBCL)',\n 'Diamorphine',\n 'Diatrizoate Meglumine and Diatrizoate Sodium',\n 'Diatrizoate Meglumine',\n 'DiazePAM',\n 'Diazoxide',\n 'Dibucaine',\n 'Dichlorphenamide',\n 'Diclofenac (Ophthalmic)',\n 'Diclofenac (refer to route-specific monograph)',\n 'Diclofenac (Systemic)',\n 'Diclofenac (Topical)',\n 'Diclofenac and Misoprostol',\n 'Dicloxacillin',\n 'Dicyclomine',\n 'Didanosine',\n 'Dienogest',\n 'Diethylcarbamazine']"
     },
     "execution_count": 161,
     "metadata": {},
     "output_type": "execute_result"
    }
   ],
   "source": [
    "lexi_names"
   ],
   "metadata": {
    "collapsed": false,
    "ExecuteTime": {
     "end_time": "2023-05-18T10:08:49.925821100Z",
     "start_time": "2023-05-18T10:08:49.878956400Z"
    }
   }
  },
  {
   "cell_type": "code",
   "execution_count": 162,
   "outputs": [],
   "source": [
    "original_lexi_names = lexi_names[:]"
   ],
   "metadata": {
    "collapsed": false,
    "ExecuteTime": {
     "end_time": "2023-05-18T10:09:03.704810500Z",
     "start_time": "2023-05-18T10:09:03.673526600Z"
    }
   }
  },
  {
   "cell_type": "code",
   "execution_count": 163,
   "outputs": [],
   "source": [
    "lexi_after_parentheses = []\n",
    "for i in range(len(lexi_names)):\n",
    "    if len(lexi_names[i].split('(')) >1:\n",
    "        lexi_after_parentheses.append(lexi_names[i].split('(')[-1].replace(')',''))\n",
    "    else:\n",
    "        lexi_after_parentheses.append('None')"
   ],
   "metadata": {
    "collapsed": false,
    "ExecuteTime": {
     "end_time": "2023-05-18T10:09:05.775916500Z",
     "start_time": "2023-05-18T10:09:05.760296700Z"
    }
   }
  },
  {
   "cell_type": "code",
   "execution_count": 164,
   "outputs": [
    {
     "data": {
      "text/plain": "['Hodgkin',\n 'None',\n 'None',\n 'None',\n 'None',\n 'None',\n 'None',\n 'None',\n 'Breast',\n 'None',\n 'None',\n 'Prostate',\n 'Prostate',\n 'None',\n 'None',\n 'Hodgkin',\n 'Hodgkin',\n 'Breast',\n 'Breast',\n 'Breast',\n 'Breast',\n 'Breast',\n 'Breast',\n 'Breast',\n 'CLL',\n 'None',\n 'None',\n 'None',\n 'None',\n 'None',\n 'None',\n 'None',\n 'None',\n 'None',\n 'None',\n 'None',\n 'None',\n 'None',\n 'None',\n 'None',\n 'None',\n 'None',\n 'None',\n 'None',\n 'None',\n 'None',\n 'None',\n 'None',\n 'None',\n 'None',\n 'None',\n 'Otic',\n 'Topical',\n 'None',\n 'None',\n 'None',\n 'None',\n 'None',\n 'None',\n 'None',\n 'None',\n 'Ophthalmic',\n 'refer to route-specific monograph',\n 'Systemic',\n 'Topical',\n 'None',\n 'Soft Tissue Sarcoma',\n 'None',\n 'None',\n 'None',\n 'None',\n 'None',\n 'None',\n 'Types 4, 7 Vaccine',\n 'None',\n 'None',\n 'None',\n 'None',\n 'Ophthalmic',\n 'refer to route-specific monograph',\n 'None',\n 'None',\n 'Soft Tissue Sarcoma',\n 'None',\n 'None',\n 'None',\n 'None',\n 'None',\n 'None',\n 'None',\n 'None',\n 'Ethyl',\n 'Isopropyl',\n 'None',\n 'None',\n 'None',\n 'None',\n 'None',\n 'None',\n 'None',\n 'None',\n 'None',\n 'None',\n 'None',\n 'None',\n 'refer to route-specific monograph',\n 'Systemic',\n 'Topical',\n 'None',\n 'None',\n 'None',\n 'None',\n 'None',\n 'None',\n 'Breast',\n 'None',\n 'None',\n 'None',\n 'None',\n 'None',\n 'None',\n 'None',\n 'None',\n 'None',\n 'None',\n 'None',\n 'None',\n 'None',\n 'None',\n 'None',\n 'None',\n 'None',\n 'None',\n 'None',\n 'None',\n 'None',\n 'None',\n 'refer to route-specific monograph',\n 'Systemic',\n 'Oral Inhalation',\n 'None',\n 'None',\n 'None',\n 'None',\n 'refer to route-specific monograph',\n 'Systemic',\n 'Topical',\n 'None',\n 'None',\n 'None',\n 'Injection',\n 'None',\n 'None',\n 'None',\n 'None',\n 'None',\n 'None',\n 'None',\n 'None',\n 'None',\n 'None',\n 'None',\n 'Aromatic',\n 'None',\n 'None',\n 'None',\n 'None',\n 'None',\n 'Lipid Complex',\n 'Liposomal',\n 'None',\n 'None',\n 'None',\n 'None',\n 'None',\n 'None',\n 'None',\n 'None',\n 'None',\n 'Coagulation Factor Xa [Recombinant], Inactivated',\n 'None',\n 'None',\n 'None',\n 'None',\n 'None',\n 'Human',\n 'None',\n 'Human',\n 'None',\n 'None',\n 'Human',\n 'Recombinant [Fc Fusion Protein]',\n 'Recombinant [Fc-VWF-XTEN Fusion Protein]',\n 'Recombinant [Pegylated]',\n 'Recombinant [Porcine Sequence]',\n 'Recombinant',\n 'Human',\n 'None',\n 'Equine',\n 'Rabbit',\n 'Latrodectus mactans',\n 'Micrurus fulvius',\n 'None',\n 'None',\n 'None',\n 'None',\n 'None',\n 'None',\n 'None',\n 'None',\n 'None',\n 'None',\n 'None',\n 'None',\n 'None',\n 'None',\n 'None',\n 'None',\n 'None',\n 'None',\n 'None',\n 'None',\n 'None',\n 'Erwinia [Recombinant]',\n 'Erwinia',\n 'None',\n 'None',\n 'None',\n 'None',\n 'None',\n 'None',\n 'None',\n 'None',\n 'Hepatocellular',\n 'NSCLC',\n 'Small Cell Lung Cancer',\n 'NSCLC',\n 'Melanoma',\n 'None',\n 'None',\n 'None',\n 'None',\n 'None',\n 'None',\n 'None',\n 'None',\n 'Ophthalmic',\n 'refer to route-specific monograph',\n 'Systemic',\n 'None',\n 'None',\n 'None',\n 'None',\n 'None',\n 'None',\n 'None',\n 'RCC',\n 'None',\n 'None',\n 'None',\n 'None',\n 'None',\n 'None',\n 'Nasal',\n 'Ophthalmic',\n 'refer to route-specific monograph',\n 'None',\n 'None',\n 'None',\n 'Ophthalmic',\n 'refer to route-specific monograph',\n 'Systemic',\n 'Oral Inhalation',\n 'refer to route-specific monograph',\n 'Systemic',\n 'Ophthalmic',\n 'refer to route-specific monograph',\n 'Systemic',\n 'Topical',\n 'Ophthalmic',\n 'refer to route-specific monograph',\n 'Topical',\n 'Ophthalmic',\n 'refer to route-specific monograph',\n 'Topical',\n 'Ophthalmic',\n 'refer to route-specific monograph',\n 'Topical',\n 'None',\n 'None',\n 'None',\n 'None',\n 'None',\n 'None',\n 'None',\n 'None',\n 'None',\n 'None',\n 'None',\n 'Intravesical',\n 'refer to route-specific monograph',\n 'Immunization',\n 'Hodgkin',\n 'Hodgkin',\n 'Hodgkin',\n 'Hodgkin',\n 'None',\n 'None',\n 'Nasal',\n 'Oral Inhalation',\n 'refer to route-specific monograph',\n 'Topical',\n 'None',\n 'None',\n 'None',\n 'None',\n 'None',\n 'None',\n 'None',\n 'None',\n 'None',\n 'None',\n 'None',\n 'None',\n 'NHL-Follicular',\n 'Multiple Myeloma',\n 'NHL-Follicular',\n 'CLL',\n 'NHL-Follicular',\n 'NHL-Mantle Cell',\n 'Waldenstrom Macroglobulinemia',\n 'None',\n 'None',\n 'None',\n 'None',\n 'None',\n 'None',\n 'None',\n 'None',\n 'None',\n 'None',\n 'None',\n 'None',\n 'None',\n 'None',\n 'None',\n 'None',\n 'None',\n 'None',\n 'None',\n 'Ovarian',\n 'Testicular',\n 'None',\n 'None',\n 'None',\n 'None',\n 'None',\n 'None',\n 'None',\n 'refer to route-specific monograph',\n 'Systemic',\n 'Topical',\n 'None',\n 'None',\n 'None',\n 'Ophthalmic',\n 'refer to route-specific monograph',\n 'Systemic',\n 'None',\n 'None',\n 'Colorectal',\n 'Colorectal',\n 'Colorectal',\n 'Ovarian',\n 'Ovarian',\n 'NSCLC',\n 'Ovarian',\n 'NSCLC',\n 'Cervical',\n 'Mesothelioma',\n 'NSCLC',\n 'Ovarian',\n 'Colorectal',\n 'Glioblastoma',\n 'Glioblastoma',\n 'Colorectal',\n 'Breast',\n 'Ovarian',\n 'Cervical',\n 'Ovarian',\n 'Ovarian',\n 'None',\n 'None',\n 'refer to route-specific monograph',\n 'Systemic',\n 'Topical',\n 'None',\n 'None',\n 'None',\n 'None',\n 'None',\n 'None',\n 'None',\n 'None',\n 'None',\n 'None',\n 'None',\n 'None',\n 'None',\n 'None',\n 'None',\n 'None',\n 'None',\n 'None',\n 'Vaginal',\n 'Amyloidosis',\n 'Multiple Myeloma',\n 'Waldenstrom Macroglobulinemia',\n 'Multiple Myeloma',\n 'Multiple Myeloma',\n 'Waldenstrom Macroglobulinemia',\n 'Multiple Myeloma',\n 'None',\n 'None',\n 'None',\n 'None',\n 'Intravenous-Human',\n 'None',\n 'None',\n 'None',\n 'None',\n 'None',\n 'None',\n 'None',\n 'None',\n 'None',\n 'Ophthalmic',\n 'refer to route-specific monograph',\n 'Topical',\n 'None',\n 'None',\n 'None',\n 'None',\n 'None',\n 'None',\n 'None',\n 'None',\n 'None',\n 'None',\n 'None',\n 'None',\n 'None',\n 'None',\n 'None',\n 'Nasal',\n 'Oral Inhalation',\n 'refer to route-specific monograph',\n 'Systemic',\n 'Topical',\n 'None',\n 'None',\n 'None',\n 'Liposomal',\n 'None',\n 'None',\n 'None',\n 'None',\n 'None',\n 'None',\n 'None',\n 'None',\n 'None',\n 'None',\n 'None',\n 'None',\n 'None',\n 'None',\n 'None',\n 'None',\n 'None',\n 'None',\n 'None',\n 'Hodgkin',\n 'Human',\n 'Recombinant',\n 'Prostate',\n 'None',\n 'None',\n 'None',\n 'None',\n 'RCC',\n 'None',\n 'None',\n 'None',\n 'None',\n 'None',\n 'None',\n 'None',\n 'None',\n 'refer to route-specific monograph',\n 'Systemic',\n 'Topical',\n 'None',\n 'None',\n 'None',\n 'None',\n 'None',\n 'None',\n 'None',\n 'None',\n 'None',\n 'None',\n 'None',\n 'None',\n 'None',\n 'None',\n 'ALL',\n 'ALL',\n 'None',\n 'None',\n 'None',\n 'None',\n 'None',\n 'None',\n 'None',\n 'None',\n 'Monilia',\n 'None',\n 'None',\n 'None',\n 'None',\n 'None',\n 'Breast',\n 'Breast',\n 'Gastric Cancer',\n 'Pancreatic',\n 'Breast',\n 'Gastric',\n 'Unknown Primary, Adenocarcinoma',\n 'Breast',\n 'None',\n 'None',\n 'None',\n 'Biliary Cancer',\n 'Pancreatic',\n 'None',\n 'None',\n 'None',\n 'None',\n 'None',\n 'None',\n 'None',\n 'None',\n 'None',\n 'None',\n 'None',\n 'None',\n 'None',\n 'Head and Neck Cancer',\n 'Ovarian',\n 'Unknown Primary, Adenocarcinoma',\n 'Unknown Primary, Squamous Cell',\n 'Breast',\n 'Ovarian',\n 'Ovarian Germ Cell Tumor',\n 'Small Cell Lung Cancer',\n 'Unknown Primary, Adenocarcinoma',\n 'Head and Neck',\n 'Bladder',\n 'NSCLC',\n 'Ovarian',\n 'Small Cell Lung Cancer',\n 'Cervical Cancer',\n 'Endometrial',\n 'NSCLC',\n 'Ovarian',\n 'NSCLC',\n 'NSCLC',\n 'ThymomaThymic',\n 'Unknown Primary, Adenocarcinoma',\n 'NSCLC',\n 'Breast',\n 'Mesothelioma',\n 'NSCLC',\n 'NSCLC',\n 'None',\n 'None',\n 'None',\n 'None',\n 'Multiple Myeloma',\n 'Multiple Myeloma',\n 'Multiple Myeloma',\n 'Multiple Myeloma',\n 'None',\n 'None',\n 'None',\n 'None',\n 'None',\n 'None',\n 'None',\n 'Ophthalmic',\n 'None',\n 'None',\n 'None',\n 'None',\n 'None',\n 'Small Cell Lung Cancer',\n 'None',\n 'None',\n 'None',\n 'None',\n 'None',\n 'None',\n 'None',\n 'None',\n 'None',\n 'None',\n 'None',\n 'None',\n 'None',\n 'None',\n 'None',\n 'None',\n 'None',\n 'None',\n 'None',\n 'None',\n 'None',\n 'None',\n 'Oxidized Regenerated',\n 'None',\n 'None',\n 'None',\n 'None',\n 'Equine',\n 'None',\n 'NHL-DLBCL',\n 'None',\n 'None',\n 'None',\n 'Ophthalmic',\n 'refer to route-specific monograph',\n 'Systemic',\n 'None',\n 'None',\n 'Colorectal',\n 'Colorectal',\n 'Head and Neck Cancer',\n 'Head and Neck Cancer',\n 'Colorectal',\n 'Colorectal',\n 'None',\n 'None',\n 'None',\n 'None',\n 'None',\n 'None',\n 'None',\n 'None',\n 'CLL',\n 'CLL',\n 'CLL',\n 'None',\n 'Systemic',\n 'None',\n 'Oral',\n 'refer to route-specific monograph',\n 'Topical',\n 'None',\n 'Ophthalmic',\n 'refer to route-specific monograph',\n 'Systemic',\n 'None',\n 'None',\n 'None',\n 'None',\n 'None',\n 'None',\n 'None',\n 'None',\n 'None',\n 'None',\n 'None',\n 'None',\n 'None',\n 'None',\n 'None',\n 'None',\n 'None',\n 'NHL-AIDS-Related',\n 'Human',\n 'Recombinant',\n 'None',\n 'Nasal',\n 'Oral Inhalation',\n 'refer to route-specific monograph',\n 'None',\n 'None',\n 'None',\n 'None',\n 'None',\n 'None',\n 'None',\n 'None',\n 'Ophthalmic',\n 'Otic',\n 'refer to route-specific monograph',\n 'Systemic',\n 'None',\n 'None',\n 'None',\n 'None',\n 'None',\n 'Esophageal Cancer',\n 'Gastric Cancer',\n 'Head and Neck Cancer',\n 'NSCLC',\n 'Unknown Primary, Adenocarcinoma',\n 'Unknown Primary, Squamous Cell',\n 'Unknown Primary, Squamous Cell',\n 'Bladder',\n 'Endometrial',\n 'Endometrial',\n 'NSCLC',\n 'Small Cell Lung Cancer',\n 'Bladder Cancer',\n 'Esophageal Cancer',\n 'Head and Neck Cancer',\n 'Unknown Primary, Squamous Cell',\n 'Bladder',\n 'Cervical',\n 'Mesothelioma',\n 'NSCLC',\n 'Pancreatic',\n 'Unknown Primary, Adenocarcinoma',\n 'NSCLC',\n 'Gastric',\n 'NSCLC',\n 'Small Cell Lung Cancer',\n 'Cervical Cancer',\n 'Head and Neck Cancer',\n 'NSCLC',\n 'Ovarian',\n 'Mesothelioma',\n 'NSCLC',\n 'NSCLC',\n 'Mesothelioma',\n 'Cervical Cancer',\n 'NSCLC',\n 'Adjuvant NSCLC',\n 'Cervical Cancer',\n 'Metastatic NSCLC',\n 'None',\n 'None',\n 'None',\n 'None',\n 'NHL-Mantle Cell',\n 'Waldenstrom Macroglobulinemia',\n 'None',\n 'AML Induction',\n 'AML Induction',\n 'None',\n 'None',\n 'None',\n 'None',\n 'None',\n 'refer to route-specific monograph',\n 'Systemic',\n 'Topical',\n 'None',\n 'None',\n 'None',\n 'None',\n 'None',\n 'None',\n 'None',\n 'None',\n 'None',\n 'ALL',\n 'AML',\n 'None',\n 'None',\n 'None',\n 'None',\n 'None',\n 'None',\n 'None',\n 'None',\n 'None',\n 'Oral',\n 'refer to route-specific monograph',\n 'Topical',\n 'None',\n 'None',\n 'Breast',\n 'Bladder',\n 'None',\n 'None',\n 'None',\n 'Melanoma',\n 'None',\n 'Topical',\n 'None',\n 'None',\n 'None',\n 'None',\n 'NHL-Burkitt',\n 'NHL-Burkitt',\n 'None',\n 'None',\n 'None',\n 'None',\n 'None',\n 'AbsorbableDental',\n 'None',\n 'refer to route-specific monograph',\n 'Systemic',\n 'Topical',\n 'None',\n 'None',\n 'None',\n 'None',\n 'None',\n 'None',\n 'None',\n 'None',\n 'None',\n 'None',\n 'Adenovirus Vector',\n 'mRNA',\n 'Subunit',\n 'Virus-like Particles',\n 'None',\n 'None',\n 'None',\n 'None',\n 'Nasal',\n 'Ophthalmic',\n 'Oral Inhalation',\n 'refer to route-specific monograph',\n 'Systemic',\n 'Equine',\n 'Ovine',\n 'None',\n 'None',\n 'None',\n 'None',\n 'None',\n 'Multiple Myeloma',\n 'Breast',\n 'Ewing Sarcoma',\n 'Rhabdomyosarcoma',\n 'None',\n 'None',\n 'Ophthalmic',\n 'refer to route-specific monograph',\n 'Systemic',\n 'None',\n 'None',\n 'None',\n 'Ophthalmic',\n 'refer to route-specific monograph',\n 'Systemic',\n 'None',\n 'Conventional',\n 'AML Induction',\n 'AML Induction',\n 'High-Dose Single-Agent AML Induction Regimen',\n 'Liposomal',\n 'Single-Agent AML Consolidation Regimen',\n 'SUBQ Single-Agent AML Induction Regimen',\n 'Intravenous-Human',\n 'None',\n 'Melanoma',\n 'NSCLC',\n 'None',\n 'None',\n 'None',\n 'None',\n 'None',\n 'None',\n 'None',\n 'None',\n 'None',\n 'None',\n 'None',\n 'None',\n 'None',\n 'None',\n 'None',\n 'refer to route-specific monograph',\n 'Systemic',\n 'Topical',\n 'None',\n 'None',\n 'Multiple Myeloma',\n 'Multiple Myeloma',\n 'Multiple Myeloma',\n 'Multiple Myeloma',\n 'Multiple Myeloma',\n 'None',\n 'None',\n 'None',\n 'None',\n 'None',\n 'None',\n 'None',\n 'None',\n 'None',\n 'None',\n 'Conventional',\n 'Liposomal',\n 'Liposomal',\n 'None',\n 'None',\n 'None',\n 'None',\n 'None',\n 'None',\n 'None',\n 'None',\n 'None',\n 'None',\n 'None',\n 'None',\n 'Live',\n 'None',\n 'None',\n 'None',\n 'None',\n 'None',\n 'None',\n 'None',\n 'None',\n 'None',\n 'None',\n 'None',\n 'None',\n 'None',\n 'None',\n 'Ophthalmic',\n 'refer to route-specific monograph',\n 'Systemic',\n 'None',\n 'None',\n 'None',\n 'None',\n 'None',\n 'None',\n 'None',\n 'None',\n 'None',\n 'None',\n 'None',\n 'None',\n 'None',\n 'None',\n 'None',\n 'None',\n 'None',\n 'None',\n 'None',\n 'None',\n 'Lactated',\n 'None',\n 'None',\n 'Hodgkin',\n 'NHL-DLBCL',\n 'None',\n 'None',\n 'None',\n 'None',\n 'None',\n 'None',\n 'None',\n 'Ophthalmic',\n 'refer to route-specific monograph',\n 'Systemic',\n 'Topical',\n 'None',\n 'None',\n 'None',\n 'None',\n 'None',\n 'None']"
     },
     "execution_count": 164,
     "metadata": {},
     "output_type": "execute_result"
    }
   ],
   "source": [
    "lexi_after_parentheses"
   ],
   "metadata": {
    "collapsed": false,
    "ExecuteTime": {
     "end_time": "2023-05-18T10:09:06.073222900Z",
     "start_time": "2023-05-18T10:09:06.026389400Z"
    }
   }
  },
  {
   "cell_type": "code",
   "execution_count": 165,
   "outputs": [],
   "source": [
    "for i in range(len(lexi_names)):\n",
    "    if len(lexi_names[i].split('(')) >1:\n",
    "        lexi_names[i] = ''.join(lexi_names[i].split('(')[0:-1]).replace(')','')"
   ],
   "metadata": {
    "collapsed": false,
    "ExecuteTime": {
     "end_time": "2023-05-18T10:09:06.602843200Z",
     "start_time": "2023-05-18T10:09:06.587225400Z"
    }
   }
  },
  {
   "cell_type": "code",
   "execution_count": 166,
   "outputs": [],
   "source": [
    "for i in range(len(lexi_names)):\n",
    "    lexi_names[i] = lexi_names[i].strip()"
   ],
   "metadata": {
    "collapsed": false,
    "ExecuteTime": {
     "end_time": "2023-05-18T10:09:08.014902100Z",
     "start_time": "2023-05-18T10:09:07.983446700Z"
    }
   }
  },
  {
   "cell_type": "code",
   "execution_count": 167,
   "outputs": [
    {
     "data": {
      "text/plain": "['A-AVD',\n 'Abacavir and Lamivudine',\n 'Abacavir, Dolutegravir, and Lamivudine',\n 'Abacavir, Lamivudine, and Zidovudine',\n 'Abacavir',\n 'Abaloparatide',\n 'Abatacept',\n 'Abciximab',\n 'Abemaciclib-Fulvestrant',\n 'Abemaciclib',\n 'Abiraterone Acetate',\n 'Abiraterone-Methylprednisolone',\n 'Abiraterone-Prednisone',\n 'AbobotulinumtoxinA',\n 'Abrocitinib',\n 'ABVD',\n 'ABVD Early Stage',\n 'AC',\n 'AC Dose-Dense followed by Paclitaxel Dose-Dense',\n 'AC Dose-Dense followed by Paclitaxel Dose-Dense-Trastuzumab',\n 'AC Dose-Dense followed by Paclitaxel Weekly',\n 'AC followed by Docetaxel Every 3 Weeks',\n 'AC followed by Paclitaxel Weekly',\n 'AC followed by Paclitaxel-Trastuzumab',\n 'Acalabrutinib-Obinutuzumab',\n 'Acalabrutinib',\n 'Acamprosate',\n 'Acarbose',\n 'Acebutolol',\n 'Acenocoumarol',\n 'Acetaminophen and Caffeine',\n 'Acetaminophen and Codeine',\n 'Acetaminophen and Diphenhydramine',\n 'Acetaminophen and Methocarbamol',\n 'Acetaminophen and Pamabrom',\n 'Acetaminophen and Phenylephrine',\n 'Acetaminophen and Phenyltoloxamine',\n 'Acetaminophen and Pseudoephedrine',\n 'Acetaminophen and Tramadol',\n 'Acetaminophen, Aspirin, and Caffeine',\n 'Acetaminophen, Caffeine, and Codeine',\n 'Acetaminophen, Caffeine, and Dihydrocodeine',\n 'Acetaminophen, Caffeine, and Pyrilamine',\n 'Acetaminophen, Codeine, and Doxylamine',\n 'Acetaminophen, Dextromethorphan, and Doxylamine',\n 'Acetaminophen, Dextromethorphan, and Phenylephrine',\n 'Acetaminophen, Diphenhydramine, and Phenylephrine',\n 'Acetaminophen, Guaifenesin, and Phenylephrine',\n 'Acetaminophen, Isometheptene, and Dichloralphenazone',\n 'Acetaminophen',\n 'AcetaZOLAMIDE',\n 'Acetic Acid',\n 'Acetic Acid',\n 'Acetic Acid and Hydrocortisone',\n 'Acetohydroxamic Acid',\n 'Acetylcholine',\n 'Acetylcysteine',\n 'Acitretin',\n 'Aclidinium and Formoterol',\n 'Aclidinium',\n 'Acrivastine and Pseudoephedrine',\n 'Acyclovir',\n 'Acyclovir',\n 'Acyclovir',\n 'Acyclovir',\n 'Acyclovir and Hydrocortisone',\n 'AD',\n 'Adagrasib',\n 'Adalimumab',\n 'Adapalene and Benzoyl Peroxide',\n 'Adapalene',\n 'Adefovir',\n 'Adenosine',\n 'Adenovirus',\n 'Ado-Trastuzumab Emtansine',\n 'Aducanumab',\n 'Afamelanotide',\n 'Afatinib',\n 'Aflibercept',\n 'Aflibercept',\n 'Agalsidase Alfa',\n 'Agalsidase Beta',\n 'AIM',\n 'Air Polymer-Type A',\n 'Albendazole',\n 'Albiglutide',\n 'Albumin',\n 'Albuterol and Budesonide',\n 'Albuterol',\n 'Alcaftadine',\n 'Alclometasone',\n 'Alcohol',\n 'Alcohol',\n 'Aldesleukin',\n 'Alectinib',\n 'Alemtuzumab',\n 'Alendronate and Cholecalciferol',\n 'Alendronate',\n 'Alfacalcidol',\n 'ALfentanil',\n 'Alfuzosin',\n 'Alglucosidase Alfa',\n 'Alirocumab',\n 'Aliskiren and Hydrochlorothiazide',\n 'Aliskiren',\n 'Alitretinoin',\n 'Alitretinoin',\n 'Alitretinoin',\n 'Allopurinol',\n 'Almotriptan',\n 'Alogliptin and Metformin',\n 'Alogliptin and Pioglitazone',\n 'Alogliptin',\n 'Alosetron',\n 'Alpelisib-Fulvestrant',\n 'Alpelisib',\n 'Alpha-Galactosidase',\n 'Alpha1-Proteinase Inhibitor',\n 'ALPRAZolam',\n 'Alprostadil',\n 'Alteplase',\n 'Altretamine',\n 'Alum Irrigation',\n 'Aluminum Acetate',\n 'Aluminum Chloride Hexahydrate',\n 'Aluminum Chloride',\n 'Aluminum Hydroxide and Magnesium Carbonate',\n 'Aluminum Hydroxide and Magnesium Hydroxide',\n 'Aluminum Hydroxide and Magnesium Trisilicate',\n 'Aluminum Hydroxide, Magnesium Hydroxide, and Simethicone',\n 'Aluminum Hydroxide',\n 'Alvimopan',\n 'Amantadine',\n 'Ambrisentan',\n 'Amcinonide',\n 'Amifampridine',\n 'Amifostine',\n 'Amikacin',\n 'Amikacin',\n 'Amikacin Liposome',\n 'Amiloride and Hydrochlorothiazide',\n 'AMILoride',\n 'Amino Acid Injection',\n 'Aminocaproic Acid',\n 'Aminolevulinic Acid',\n 'Aminolevulinic Acid',\n 'Aminolevulinic Acid',\n 'Aminophylline',\n 'Aminosalicylic Acid',\n 'Amiodarone',\n 'Amisulpride',\n 'Amitriptyline and Chlordiazepoxide',\n 'Amitriptyline and Perphenazine',\n 'Amitriptyline',\n 'Amivantamab',\n 'Amlodipine and Atorvastatin',\n 'Amlodipine and Benazepril',\n 'Amlodipine and Celecoxib',\n 'Amlodipine and Olmesartan',\n 'Amlodipine and Valsartan',\n 'Amlodipine, Valsartan, and Hydrochlorothiazide',\n 'AmLODIPine',\n 'Ammonia Spirit',\n 'Amobarbital',\n 'Amoxapine',\n 'Amoxicillin and Clavulanate',\n 'Amoxicillin',\n 'Amphetamine',\n 'Amphotericin B',\n 'Amphotericin B',\n 'Amphotericin B Deoxycholate',\n 'Ampicillin and Sulbactam',\n 'Ampicillin',\n 'Amsacrine',\n 'Amyl Nitrite',\n 'Anacaulase',\n 'Anagrelide',\n 'Anakinra',\n 'Anastrozole',\n 'Andexanet Alfa',\n 'Angiotensin II',\n 'Anidulafungin',\n 'Anifrolumab',\n 'Ansuvimab',\n 'Anthralin',\n 'Anthrax Immune Globulin',\n 'Anthrax Vaccine Adsorbed',\n 'Anti-inhibitor Coagulant Complex',\n 'Anticoagulant Citrate Dextrose',\n 'Anticoagulant Sodium Citrate',\n 'Antihemophilic Factor',\n 'Antihemophilic Factor',\n 'Antihemophilic Factor',\n 'Antihemophilic Factor',\n 'Antihemophilic Factor',\n 'Antihemophilic Factor',\n 'Antihemophilic Factorvon Willebrand Factor Complex',\n 'Antithrombin',\n 'Antithymocyte Globulin',\n 'Antithymocyte Globulin',\n 'Antivenin',\n 'Antivenin',\n 'Apalutamide',\n 'Apixaban',\n 'Apomorphine',\n 'Apraclonidine',\n 'Apremilast',\n 'Aprepitant',\n 'Arformoterol',\n 'Argatroban',\n 'Arginine',\n 'ARIPiprazole Lauroxil',\n 'ARIPiprazole',\n 'Armodafinil',\n 'Arsenic Trioxide',\n 'Artemether and Lumefantrine',\n 'Artesunate',\n 'Articaine and Epinephrine',\n 'Artificial Tears',\n 'Asciminib',\n 'Ascorbic Acid',\n 'Asenapine',\n 'Asfotase Alfa',\n 'Asparaginase',\n 'Asparaginase',\n 'Aspirin and Dipyridamole',\n 'Aspirin and Omeprazole',\n 'Aspirin, Citric Acid, and Sodium Bicarbonate',\n 'Aspirin',\n 'Atazanavir and Cobicistat',\n 'Atazanavir',\n 'Atenolol and Chlorthalidone',\n 'Atenolol',\n 'Atezolizumab-Bevacizumab',\n 'Atezolizumab-Bevacizumab-Carboplatin-Paclitaxel',\n 'Atezolizumab-Carboplatin-Etoposide',\n 'Atezolizumab-Carboplatin-Paclitaxel Protein Bound',\n 'Atezolizumab-Cobimetinib-Vemurafenib',\n 'Atezolizumab',\n 'Atogepant',\n 'Atoltivimab, Maftivimab, and Odesivimab',\n 'Atomoxetine',\n 'Atorvastatin',\n 'Atovaquone and Proguanil',\n 'Atovaquone',\n 'Atracurium',\n 'Atropine',\n 'Atropine',\n 'Atropine',\n 'Atropine and Pralidoxime',\n 'Auranofin',\n 'Avacopan',\n 'Avalglucosidase Alfa',\n 'Avanafil',\n 'Avapritinib',\n 'Avatrombopag',\n 'Avelumab-Axitinib',\n 'Avelumab',\n 'Axicabtagene Ciloleucel',\n 'Axitinib',\n 'AzaCITIDine',\n 'AzaTHIOprine',\n 'Azelaic Acid',\n 'Azelastine',\n 'Azelastine',\n 'Azelastine',\n 'Azelastine and Fluticasone',\n 'Azilsartan and Chlorthalidone',\n 'Azilsartan',\n 'Azithromycin',\n 'Azithromycin',\n 'Azithromycin',\n 'Aztreonam',\n 'Aztreonam',\n 'Aztreonam',\n 'Bacitracin',\n 'Bacitracin',\n 'Bacitracin',\n 'Bacitracin',\n 'Bacitracin and Polymyxin B',\n 'Bacitracin and Polymyxin B',\n 'Bacitracin and Polymyxin B',\n 'Bacitracin, Neomycin, and Polymyxin B',\n 'Bacitracin, Neomycin, and Polymyxin B',\n 'Bacitracin, Neomycin, and Polymyxin B',\n 'Bacitracin, Neomycin, Polymyxin B, and Hydrocortisone',\n 'Bacitracin, Neomycin, Polymyxin B, and Hydrocortisone',\n 'Bacitracin, Neomycin, Polymyxin B, and Hydrocortisone',\n 'Bacitracin, Neomycin, Polymyxin B, and Pramoxine',\n 'Baclofen',\n 'Balanced Salt Solution',\n 'Baloxavir Marboxil',\n 'Balsalazide',\n 'Balsam Peru and Castor Oil',\n 'Bamlanivimab and Etesevimab',\n 'Bamlanivimab',\n 'Baricitinib',\n 'Barium',\n 'Basiliximab',\n 'BCG',\n 'BCG',\n 'BCG Vaccine',\n 'BEACOPP Escalated',\n 'BEACOPP Escalated Plus Standard',\n 'BEACOPP Standard',\n 'BEACOPP-14',\n 'Bebtelovimab',\n 'Becaplermin',\n 'Beclomethasone',\n 'Beclomethasone',\n 'Beclomethasone',\n 'Beclomethasone',\n 'Bedaquiline',\n 'Belantamab Mafodotin',\n 'Belatacept',\n 'Belimumab',\n 'Belinostat',\n 'Belladonna and Opium',\n 'Belumosudil',\n 'Belzutifan',\n 'Bempedoic Acid and Ezetimibe',\n 'Bempedoic Acid',\n 'Benazepril and Hydrochlorothiazide',\n 'Benazepril',\n 'Bendamustine-Bortezomib-Rituximab',\n 'Bendamustine-Lenalidomide-Dexamethasone',\n 'Bendamustine-Obinutuzumab',\n 'Bendamustine-Rituximab',\n 'Bendamustine-Rituximab',\n 'Bendamustine-Rituximab',\n 'Bendamustine-Rituximab',\n 'Bendamustine',\n 'Benralizumab',\n 'Benserazide and Levodopa',\n 'Bentoquatam',\n 'Benzalkonium Chloride and Benzocaine',\n 'Benzhydrocodone and Acetaminophen',\n 'Benznidazole',\n 'Benzocaine and Docusate',\n 'Benzocaine, Butamben, and Tetracaine',\n 'Benzocaine',\n 'Benzoin',\n 'Benzonatate',\n 'Benzoyl Peroxide and Hydrocortisone',\n 'Benzoyl Peroxide',\n 'Benzphetamine',\n 'Benztropine',\n 'Benzydamine',\n 'Benzyl Alcohol',\n 'Benzylpenicilloyl Polylysine',\n 'BEP',\n 'BEP',\n 'Bepotastine',\n 'Beractant',\n 'Berotralstat',\n 'Besifloxacin',\n 'Beta-Carotene',\n 'Betahistine',\n 'Betaine',\n 'Betamethasone',\n 'Betamethasone',\n 'Betamethasone',\n 'Betamethasone and Clotrimazole',\n 'Betamethasone and Gentamicin',\n 'Betamethasone and Salicylic Acid',\n 'Betaxolol',\n 'Betaxolol',\n 'Betaxolol',\n 'Bethanechol',\n 'Betibeglogene Autotemcel',\n 'Bevacizumab + FOLFIRI',\n 'Bevacizumab + XELOX',\n 'Bevacizumab FOLFOX',\n 'Bevacizumab-Carboplatin-Doxorubicin Liposomal',\n 'Bevacizumab-Carboplatin-Gemcitabine',\n 'Bevacizumab-Carboplatin-Paclitaxel',\n 'Bevacizumab-Carboplatin-Paclitaxel',\n 'Bevacizumab-Carboplatin-Pemetrexed',\n 'Bevacizumab-Cisplatin-Paclitaxel',\n 'Bevacizumab-Cisplatin-Pemetrexed',\n 'Bevacizumab-Cisplatin-Pemetrexed',\n 'Bevacizumab-Doxorubicin Liposomal',\n 'Bevacizumab-Fluorouracil-Leucovorin',\n 'Bevacizumab-Irinotecan',\n 'Bevacizumab-Lomustine',\n 'Bevacizumab-Lonsurf',\n 'Bevacizumab-Paclitaxel',\n 'Bevacizumab-Paclitaxel',\n 'Bevacizumab-Paclitaxel-Topotecan',\n 'Bevacizumab-Topotecan Daily',\n 'Bevacizumab-Topotecan Weekly',\n 'Bevacizumab',\n 'Bexagliflozin',\n 'Bexarotene',\n 'Bexarotene',\n 'Bexarotene',\n 'Bezafibrate',\n 'Bezlotoxumab',\n 'Bicalutamide',\n 'Bictegravir, Emtricitabine, and Tenofovir Alafenamide',\n 'Bilastine',\n 'Bimatoprost',\n 'Bimekizumab',\n 'Binimetinib',\n 'Biotin',\n 'Bisacodyl',\n 'Bismuth Subcitrate, Metronidazole, and Tetracycline',\n 'Bismuth Subgallate',\n 'Bismuth Subsalicylate',\n 'Bisoprolol and Hydrochlorothiazide',\n 'Bisoprolol',\n 'Bivalirudin',\n 'Bleomycin',\n 'Blinatumomab',\n 'Boric Acid',\n 'Bortezomib-Dexamethasone',\n 'Bortezomib-Dexamethasone',\n 'Bortezomib-Dexamethasone-Rituximab',\n 'Bortezomib-Doxorubicin Liposomal',\n 'Bortezomib-Doxorubicin-Dexamethasone',\n 'Bortezomib-Rituximab',\n 'Bortezomib-Thalidomide-Dexamethasone',\n 'Bortezomib',\n 'Bosentan',\n 'Bosutinib',\n 'Botulism Antitoxin, Heptavalent',\n 'Botulism Immune Globulin',\n 'Bovine Lipid Extract Surfactant',\n 'Bremelanotide',\n 'Brentuximab Vedotin',\n 'Bretylium',\n 'Brexanolone',\n 'Brexpiprazole',\n 'Brexucabtagene Autoleucel',\n 'Brigatinib',\n 'Brilliant Blue G',\n 'Brimonidine',\n 'Brimonidine',\n 'Brimonidine',\n 'Brimonidine and Timolol',\n 'Brincidofovir',\n 'Brinzolamide and Brimonidine',\n 'Brinzolamide and Timolol',\n 'Brinzolamide',\n 'Brivaracetam',\n 'Brodalumab',\n 'Brolucizumab',\n 'Bromazepam',\n 'Bromfenac',\n 'Bromocriptine',\n 'Brompheniramine and Phenylephrine',\n 'Brompheniramine and Pseudoephedrine',\n 'Brompheniramine, Dextromethorphan, and Phenylephrine',\n 'Brompheniramine, Pseudoephedrine, and Dextromethorphan',\n 'Budesonide',\n 'Budesonide',\n 'Budesonide',\n 'Budesonide',\n 'Budesonide',\n 'Budesonide and Formoterol',\n 'Budesonide, Glycopyrrolate, and Formoterol',\n 'Bumetanide',\n 'BUPivacaine',\n 'Bupivacaine and Epinephrine',\n 'Bupivacaine and Meloxicam',\n 'BUPivacaine',\n 'Buprenorphine and Naloxone',\n 'Buprenorphine',\n 'BuPROPion',\n 'Burosumab',\n 'Buserelin',\n 'BusPIRone',\n 'Busulfan',\n 'Butabarbital',\n 'Butalbital and Acetaminophen',\n 'Butalbital, Acetaminophen, and Caffeine',\n 'Butalbital, Acetaminophen, Caffeine, and Codeine',\n 'Butalbital, Aspirin, and Caffeine',\n 'Butalbital, Aspirin, Caffeine, and Codeine',\n 'Butenafine',\n 'Butoconazole',\n 'Butorphanol',\n 'C-MOPPABV Hybrid',\n 'C1 Inhibitor',\n 'C1 Inhibitor',\n 'Cabazitaxel-Prednisone',\n 'Cabazitaxel',\n 'Cabergoline',\n 'Cabotegravir and Rilpivirine',\n 'Cabotegravir',\n 'Cabozantinib-Nivolumab',\n 'Cabozantinib',\n 'Caffeine',\n 'Calamine',\n 'Calaspargase Pegol',\n 'Calcifediol',\n 'Calcipotriene and Betamethasone',\n 'Calcipotriene',\n 'Calcitonin',\n 'Calcitriol',\n 'Calcitriol',\n 'Calcitriol',\n 'Calcium Acetate',\n 'Calcium and Vitamin D',\n 'Calcium Carbonate and Magnesium Carbonate',\n 'Calcium Carbonate and Magnesium Hydroxide',\n 'Calcium Carbonate and Simethicone',\n 'Calcium Carbonate',\n 'Calcium Chloride',\n 'Calcium Citrate',\n 'Calcium Glubionate',\n 'Calcium Gluconate',\n 'Calcium Hydroxylapatite',\n 'Calcium Lactate',\n 'Calcium Polystyrene Sulfonate',\n 'Calfactant',\n 'CALGB 8811 Regimen',\n 'CALGB 9111 Regimen',\n 'Camphor and Menthol',\n 'Camphor and Phenol',\n 'Camphor',\n 'Canagliflozin and Metformin',\n 'Canagliflozin',\n 'Canakinumab',\n 'Candesartan and Hydrochlorothiazide',\n 'Candesartan',\n 'Candida albicans',\n 'Cangrelor',\n 'Cannabidiol',\n 'Cannabis',\n 'Cantharidin, Podophyllin Resin, and Salicylic Acid',\n 'Cantharidin',\n 'Capecitabine + Lapatinib',\n 'Capecitabine-Docetaxel',\n 'Capecitabine-Docetaxel',\n 'Capecitabine-Gemcitabine',\n 'Capecitabine-Ixabepilone',\n 'Capecitabine-Oxaliplatin',\n 'Capecitabine-Oxaliplatin',\n 'Capecitabine-Trastuzumab',\n 'Capecitabine',\n 'Caplacizumab',\n 'Capmatinib',\n 'CAPOX',\n 'CAPOX',\n 'Capreomycin',\n 'Caprylidene',\n 'Capsaicin',\n 'Captopril and Hydrochlorothiazide',\n 'Captopril',\n 'Carbachol',\n 'CarBAMazepine',\n 'Carbamide Peroxide',\n 'Carbetocin',\n 'Carbidopa and Levodopa',\n 'Carbidopa',\n 'Carbinoxamine',\n 'Carbon 14 Urea',\n 'Carboplatin-Cetuximab',\n 'Carboplatin-Docetaxel',\n 'Carboplatin-Docetaxel',\n 'Carboplatin-Docetaxel',\n 'Carboplatin-Docetaxel-Trastuzumab',\n 'Carboplatin-Doxorubicin Liposomal',\n 'Carboplatin-Etoposide',\n 'Carboplatin-Etoposide',\n 'Carboplatin-Etoposide-Paclitaxel',\n 'Carboplatin-Fluorouracil',\n 'Carboplatin-Gemcitabine',\n 'Carboplatin-Gemcitabine',\n 'Carboplatin-Gemcitabine',\n 'Carboplatin-Irinotecan',\n 'Carboplatin-Paclitaxel',\n 'Carboplatin-Paclitaxel',\n 'Carboplatin-Paclitaxel',\n 'Carboplatin-Paclitaxel',\n 'Carboplatin-Paclitaxel Protein Bound',\n 'Carboplatin-Paclitaxel Protein Bound-Pembrolizumab',\n 'Carboplatin-Paclitaxel',\n 'Carboplatin-Paclitaxel',\n 'Carboplatin-Paclitaxel-Pembrolizumab',\n 'Carboplatin-Paclitaxel-Trastuzumab',\n 'Carboplatin-Pemetrexed',\n 'Carboplatin-Pemetrexed',\n 'Carboplatin-Pemetrexed-Pembrolizumab',\n 'CARBOplatin',\n 'Carboprost Tromethamine',\n 'Carboxymethylcellulose',\n 'Cardioplegic Solution',\n 'Carfilzomib, Cyclophosphamide, Dexamethasone',\n 'Carfilzomib, Lenalidomide, Dexamethasone',\n 'Carfilzomib-Dexamethasone',\n 'Carfilzomib-Dexamethasone-Daratumumab',\n 'Carfilzomib',\n 'Carglumic Acid',\n 'Cariprazine',\n 'Carisoprodol and Aspirin',\n 'Carisoprodol, Aspirin, and Codeine',\n 'Carisoprodol',\n 'Carmustine',\n 'Carteolol',\n 'Carvedilol',\n 'Casimersen',\n 'Casirivimab and Imdevimab',\n 'Caspofungin',\n 'Castor Oil',\n 'CAV',\n 'Cefaclor',\n 'Cefadroxil',\n 'CeFAZolin',\n 'Cefdinir',\n 'Cefepime',\n 'Cefiderocol',\n 'Cefixime',\n 'Cefotaxime',\n 'CefoTEtan',\n 'CefOXitin',\n 'Cefpodoxime',\n 'Cefprozil',\n 'Ceftaroline Fosamil',\n 'Ceftazidime and Avibactam',\n 'CefTAZidime',\n 'Ceftibuten',\n 'Ceftobiprole',\n 'Ceftolozane and Tazobactam',\n 'CefTRIAXone',\n 'Cefuroxime',\n 'Celecoxib and Tramadol',\n 'Celecoxib',\n 'Cellulose',\n 'Cellulose and Citric Acid',\n 'Cemiplimab',\n 'Cenegermin',\n 'Cenobamate',\n 'Centruroides Immune Fab2',\n 'Cephalexin',\n 'CEPP',\n 'Ceritinib',\n 'Cerliponase Alfa',\n 'Certolizumab Pegol',\n 'Cetirizine',\n 'Cetirizine',\n 'Cetirizine',\n 'Cetirizine and Pseudoephedrine',\n 'Cetrorelix',\n 'Cetuximab Biweekly-Irinotecan',\n 'Cetuximab + FOLFIRI',\n 'Cetuximab-Carboplatin-Fluorouracil',\n 'Cetuximab-Cisplatin-Fluorouracil',\n 'Cetuximab-Encorafenib',\n 'Cetuximab-Irinotecan',\n 'Cetuximab',\n 'Cetylpyridinium',\n 'Cevimeline',\n 'Charcoal, Activated',\n 'Chenodiol',\n 'Chlophedianol and Dexbrompheniramine',\n 'Chlophedianol, Dexbrompheniramine, and Pseudoephedrine',\n 'Chloral Hydrate',\n 'Chlorambucil-Obinutuzumab',\n 'Chlorambucil-Ofatumumab',\n 'Chlorambucil-Prednisone',\n 'Chlorambucil',\n 'Chloramphenicol',\n 'ChlordiazePOXIDE',\n 'Chlorhexidine Gluconate',\n 'Chlorhexidine Gluconate',\n 'Chlorhexidine Gluconate',\n 'Chlorophyll',\n 'Chloroprocaine',\n 'Chloroprocaine',\n 'Chloroprocaine',\n 'Chloroquine',\n 'Chlorothiazide',\n 'Chlorpheniramine and Acetaminophen',\n 'Chlorpheniramine and Phenylephrine',\n 'Chlorpheniramine and Pseudoephedrine',\n 'Chlorpheniramine, Phenylephrine, and Dextromethorphan',\n 'Chlorpheniramine, Pseudoephedrine, and Codeine',\n 'Chlorpheniramine',\n 'ChlorproMAZINE',\n 'Chlorthalidone',\n 'Chlorzoxazone',\n 'Cholecalciferol',\n 'Cholera Vaccine',\n 'Cholestyramine Resin',\n 'Cholic Acid',\n 'Choline C 11',\n 'Choline Magnesium Trisalicylate',\n 'CHOP',\n 'Chorionic Gonadotropin',\n 'Chorionic Gonadotropin',\n 'Chromic Chloride',\n 'Ciclesonide',\n 'Ciclesonide',\n 'Ciclesonide',\n 'Ciclopirox',\n 'Cidofovir',\n 'Cilazapril and Hydrochlorothiazide',\n 'Cilazapril',\n 'Cilostazol',\n 'Ciltacabtagene Autoleucel',\n 'Cimetidine',\n 'Cinacalcet',\n 'Ciprofloxacin',\n 'Ciprofloxacin',\n 'Ciprofloxacin',\n 'Ciprofloxacin',\n 'Ciprofloxacin and Dexamethasone',\n 'Ciprofloxacin and Fluocinolone',\n 'Ciprofloxacin and Hydrocortisone',\n 'Cisapride',\n 'Cisatracurium',\n 'Cisplatin-Capecitabine',\n 'Cisplatin-Capecitabine',\n 'Cisplatin-Cetuximab',\n 'Cisplatin-Docetaxel',\n 'Cisplatin-Docetaxel',\n 'Cisplatin-Docetaxel',\n 'Cisplatin-Docetaxel-Fluorouracil',\n 'Cisplatin-Docetaxel-Gemcitabine',\n 'Cisplatin-Doxorubicin',\n 'Cisplatin-Doxorubicin-Paclitaxel',\n 'Cisplatin-Etoposide',\n 'Cisplatin-Etoposide',\n 'Cisplatin-Fluorouracil',\n 'Cisplatin-Fluorouracil',\n 'Cisplatin-Fluorouracil',\n 'Cisplatin-Fluorouracil-Paclitaxel',\n 'Cisplatin-Gemcitabine',\n 'Cisplatin-Gemcitabine',\n 'Cisplatin-Gemcitabine',\n 'Cisplatin-Gemcitabine',\n 'Cisplatin-Gemcitabine',\n 'Cisplatin-Gemcitabine',\n 'Cisplatin-Gemcitabine-Necitumumab',\n 'Cisplatin-Irinotecan',\n 'Cisplatin-Irinotecan',\n 'Cisplatin-Irinotecan',\n 'Cisplatin-Paclitaxel',\n 'Cisplatin-Paclitaxel',\n 'Cisplatin-Paclitaxel',\n 'Cisplatin-Paclitaxel Intraperitoneal',\n 'Cisplatin-Pemetrexed',\n 'Cisplatin-Pemetrexed',\n 'Cisplatin-Pemetrexed-Pembrolizumab',\n 'Cisplatin-Raltitrexed',\n 'Cisplatin-Topotecan',\n 'Cisplatin-Vinblastine',\n 'Cisplatin-Vinorelbine',\n 'Cisplatin-Vinorelbine',\n 'Cisplatin-Vinorelbine',\n 'CISplatin',\n 'Citalopram',\n 'Citric Acid, Magnesium Carbonate, and Glucono-Delta-Lactone',\n 'Citric Acid, Sodium Citrate, and Potassium Citrate',\n 'Cladribine-Rituximab',\n 'Cladribine-Rituximab',\n 'Cladribine',\n 'CLAG',\n 'CLAG-M',\n 'Clarithromycin',\n 'Clascoterone',\n 'Clemastine',\n 'Clevidipine',\n 'Clidinium and Chlordiazepoxide',\n 'Clindamycin',\n 'Clindamycin',\n 'Clindamycin',\n 'Clindamycin and Benzoyl Peroxide',\n 'Clindamycin and Tretinoin',\n 'Clioquinol and Flumethasone',\n 'Clioquinol and Hydrocortisone',\n 'CloBAZam',\n 'Clobetasol',\n 'Clobetasone',\n 'Clocortolone',\n 'Clodronate',\n 'Clofarabine-Cyclophosphamide-Etoposide',\n 'Clofarabine-Cytarabine',\n 'Clofarabine',\n 'Clofazimine',\n 'Clofedanol',\n 'ClomiPHENE',\n 'ClomiPRAMINE',\n 'ClonazePAM',\n 'CloNIDine',\n 'Clopidogrel',\n 'Clorazepate',\n 'Clotrimazole',\n 'Clotrimazole',\n 'Clotrimazole',\n 'Cloxacillin',\n 'CloZAPine',\n 'CMF Oral',\n 'CMV',\n 'Coal Tar and Salicylic Acid',\n 'Coal Tar',\n 'Cobicistat',\n 'Cobimetinib-Vemurafenib',\n 'Cobimetinib',\n 'Cocaine',\n 'Coccidioides immitis Skin Test',\n 'Codeine and Chlorpheniramine',\n 'Codeine, Phenylephrine, and Triprolidine',\n 'Codeine',\n 'CODOX-M',\n 'CODOX-MIVAC',\n 'Colchicine and Probenecid',\n 'Colchicine',\n 'Colesevelam',\n 'Colestipol',\n 'Colistimethate',\n 'Collagen',\n 'Collagen Hemostat',\n 'Collagenase',\n 'Collagenase',\n 'Collagenase',\n 'Conivaptan',\n 'Continuous Renal Replacement Therapy Solutions',\n 'Copanlisib',\n 'Copper Cu 64 Dotatate',\n 'Copper IUD',\n 'Copper',\n 'Corticorelin',\n 'Corticotropin',\n 'Cortisone',\n 'Cosyntropin',\n 'COVID-19 Vaccine',\n 'COVID-19 Vaccine',\n 'COVID-19 Vaccine',\n 'COVID-19 Vaccine',\n 'Crisaborole',\n 'Crizanlizumab',\n 'Crizotinib',\n 'Crofelemer',\n 'Cromolyn',\n 'Cromolyn',\n 'Cromolyn',\n 'Cromolyn',\n 'Cromolyn',\n \"Crotalidae Immune Fab'2\",\n 'Crotalidae Polyvalent Immune FAB',\n 'Crotamiton',\n 'Cyanocobalamin',\n 'Cyclobenzaprine',\n 'Cyclopentolate and Phenylephrine',\n 'Cyclopentolate',\n 'Cyclophosphamide-Bortezomib-Dexamethasone',\n 'Cyclophosphamide-Epirubicin',\n 'Cyclophosphamide-Topotecan',\n 'Cyclophosphamide-Topotecan',\n 'CycloPHOSphamide',\n 'CycloSERINE',\n 'CycloSPORINE',\n 'CycloSPORINE',\n 'CycloSPORINE',\n 'Cyproheptadine',\n 'Cyproterone and Ethinyl Estradiol',\n 'Cyproterone',\n 'Cysteamine',\n 'Cysteamine',\n 'Cysteamine',\n 'Cysteine',\n 'Cytarabine',\n 'Cytarabine High Dose-Daunorubicin',\n 'Cytarabine High Dose-Daunorubicin-Etoposide',\n 'Cytarabine',\n 'Cytarabine',\n 'Cytarabine',\n 'Cytarabine',\n 'Cytomegalovirus Immune Globulin',\n 'Dabigatran Etexilate',\n 'Dabrafenib-Trametinib',\n 'Dabrafenib-Trametinib',\n 'Dabrafenib',\n 'Dacarbazine',\n 'Daclatasvir',\n 'Dacomitinib',\n 'DACTINomycin',\n 'Dalbavancin',\n 'Dalfampridine',\n 'Dalteparin',\n 'Danaparoid',\n 'Danazol',\n 'Dantrolene',\n 'Dapagliflozin and Metformin',\n 'Dapagliflozin and Saxagliptin',\n 'Dapagliflozin',\n 'Daprodustat',\n 'Dapsone',\n 'Dapsone',\n 'Dapsone',\n 'DAPTOmycin',\n 'Daratumumab and Hyaluronidase',\n 'Daratumumab-Bortezomib-Dexamethasone',\n 'Daratumumab-Bortezomib-Melphalan-Prednisone',\n 'Daratumumab-Bortezomib-Thalidomide-Dexamethasone',\n 'Daratumumab-Lenalidomide-Dexamethasone',\n 'Daratumumab-Pomalidomide-Dexamethasone',\n 'Daratumumab',\n 'Darbepoetin Alfa',\n 'Daridorexant',\n 'Darifenacin',\n 'Darolutamide',\n 'Darunavir and Cobicistat',\n 'Darunavir, Cobicistat, Emtricitabine, and Tenofovir Alafenamide',\n 'Darunavir',\n 'Dasatinib',\n 'Dasiglucagon',\n 'DAUNOrubicin',\n 'DAUNOrubicin',\n 'Daunorubicin and Cytarabine',\n 'DaxibotulinumtoxinA',\n 'Decitabine and Cedazuridine',\n 'Decitabine',\n 'Deferasirox',\n 'Deferiprone',\n 'Deferoxamine',\n 'Defibrotide',\n 'Deflazacort',\n 'Degarelix',\n 'Delafloxacin',\n 'Delavirdine',\n 'Demeclocycline',\n 'Dengue Tetravalent Vaccine',\n 'Denosumab',\n 'Deoxycholic Acid',\n 'Dequalinium',\n 'Desflurane',\n 'Desipramine',\n 'Desirudin',\n 'Desloratadine and Pseudoephedrine',\n 'Desloratadine',\n 'Desmopressin',\n 'Desonide',\n 'Desoximetasone',\n 'Desvenlafaxine',\n 'Deucravacitinib',\n 'Deutetrabenazine',\n 'DexAMETHasone',\n 'DexAMETHasone',\n 'DexAMETHasone',\n 'Dexbrompheniramine and Phenylephrine',\n 'Dexchlorpheniramine and Pseudoephedrine',\n 'Dexchlorpheniramine, Dextromethorphan, and Phenylephrine',\n 'Dexchlorpheniramine',\n 'Dexlansoprazole',\n 'DexmedeTOMIDine',\n 'Dexmethylphenidate',\n 'Dexrazoxane',\n 'Dextran',\n 'Dextranomer and Hyaluronate Derivatives',\n 'Dextroamphetamine and Amphetamine',\n 'Dextroamphetamine',\n 'Dextromethorphan and Bupropion',\n 'Dextromethorphan and Chlorpheniramine',\n 'Dextromethorphan and Menthol',\n 'Dextromethorphan and Phenylephrine',\n 'Dextromethorphan and Pyrilamine',\n 'Dextromethorphan and Quinidine',\n 'Dextromethorphan',\n 'Dextrose 25% and Sodium Chloride 10%',\n \"Dextrose and Ringer's Injection\",\n 'Dextrose and Sodium Chloride',\n 'Dextrose',\n 'DHAP',\n 'DHAP',\n 'Diamorphine',\n 'Diatrizoate Meglumine and Diatrizoate Sodium',\n 'Diatrizoate Meglumine',\n 'DiazePAM',\n 'Diazoxide',\n 'Dibucaine',\n 'Dichlorphenamide',\n 'Diclofenac',\n 'Diclofenac',\n 'Diclofenac',\n 'Diclofenac',\n 'Diclofenac and Misoprostol',\n 'Dicloxacillin',\n 'Dicyclomine',\n 'Didanosine',\n 'Dienogest',\n 'Diethylcarbamazine']"
     },
     "execution_count": 167,
     "metadata": {},
     "output_type": "execute_result"
    }
   ],
   "source": [
    "lexi_names"
   ],
   "metadata": {
    "collapsed": false,
    "ExecuteTime": {
     "end_time": "2023-05-18T10:09:08.202212200Z",
     "start_time": "2023-05-18T10:09:08.139657300Z"
    }
   }
  },
  {
   "cell_type": "code",
   "execution_count": 168,
   "outputs": [
    {
     "data": {
      "text/plain": "985"
     },
     "execution_count": 168,
     "metadata": {},
     "output_type": "execute_result"
    }
   ],
   "source": [
    "len(lexi_names)"
   ],
   "metadata": {
    "collapsed": false,
    "ExecuteTime": {
     "end_time": "2023-05-18T10:09:08.956760500Z",
     "start_time": "2023-05-18T10:09:08.925477500Z"
    }
   }
  },
  {
   "cell_type": "code",
   "execution_count": 169,
   "outputs": [
    {
     "data": {
      "text/plain": "985"
     },
     "execution_count": 169,
     "metadata": {},
     "output_type": "execute_result"
    }
   ],
   "source": [
    "len(lexi_after_parentheses)"
   ],
   "metadata": {
    "collapsed": false,
    "ExecuteTime": {
     "end_time": "2023-05-18T10:09:09.461470500Z",
     "start_time": "2023-05-18T10:09:09.445880900Z"
    }
   }
  },
  {
   "cell_type": "code",
   "execution_count": 129,
   "outputs": [],
   "source": [
    "HJH = pd.read_excel('E:\\\\Projects\\\\Web Scraping\\\\Drug Database\\\\Notebooks\\\\installations\\\\Data\\\\HJHDrugs2Linksfound.xlsx')"
   ],
   "metadata": {
    "collapsed": false,
    "ExecuteTime": {
     "end_time": "2023-05-18T09:23:43.087301300Z",
     "start_time": "2023-05-18T09:23:42.977391900Z"
    }
   }
  },
  {
   "cell_type": "code",
   "execution_count": 170,
   "outputs": [
    {
     "data": {
      "text/plain": "['12 vitamins and 6 minerals',\n 'Acai extract',\n 'Acarbose',\n 'Aceclofenac',\n 'Acellular pertussis',\n 'Acemetacin',\n 'Acetazolamide',\n 'Acetone',\n 'Acetylcysteine',\n 'Acetylsalicylic acid (Aspirin)',\n 'Acetylsalicylic acid lysine',\n 'Aceverine hydrochloride',\n 'Acrylic',\n 'Acyclovir',\n 'Acyclovir (Aciclovir)',\n 'Adalimumab',\n 'adapalene',\n 'Adefovir dipivoxil',\n 'Adenosine',\n 'Adrenaline',\n 'Aescin',\n 'Aescin 10 mg',\n 'aflibercept',\n 'Agomelatine',\n 'Albendazole',\n 'Albumin (Human albumin solution)',\n 'Alendronate',\n 'Alfacalcidol',\n 'Alfuzosin',\n 'Allantoin',\n 'Allopurinol',\n 'Alpha hydroxy acids (AHAs)',\n 'Alpha-lipoic acid',\n 'Alpha-tocopherol',\n 'Alprazolam',\n 'Alprostadil',\n 'Alteplase (Tissue plasminogen activator)',\n 'Aluminium and magnesium hydroxide',\n 'Aluminum chloride',\n 'Aluminum hydroxide',\n 'Alverine citrate',\n 'Amantadine sulfate',\n 'Ambroxol',\n 'Amikacin',\n 'Amiloride',\n 'Amine polymer',\n 'Amino acid',\n 'Amino acids',\n 'Aminophylline',\n 'Amiodarone',\n 'Amitriptyline',\n 'Amitriptyline hydrochloride',\n 'Amlodipine',\n 'Amorolfine hydrochloride 5% nail lacquer',\n 'Amoxicillin',\n 'Ampicillin',\n 'Amylase',\n 'Amylmetacresol',\n 'Angiotensin II receptor blockers (sartans)',\n 'Anidulafungin',\n 'Anise',\n 'Antazoline sulfate',\n 'Anthraquinone glycosides',\n 'Anti-D (Rh) immunoglobulin',\n 'Anti-scorpion vaccine',\n 'Apixaban',\n 'Apremilast',\n 'Arginine',\n 'Aripiprazole',\n 'Artichoke leaves',\n 'Ascorbic acid',\n 'Atenolol',\n 'Atenolol 100mg',\n 'Atorvastatin',\n 'Atosiban',\n 'Atracurium besylate',\n 'Atropine sulfate',\n 'Avibactam',\n 'Avocado extract',\n 'Azathioprine',\n 'Azelaic acid',\n 'Azilsartan medoxomil',\n 'Azithromycin',\n 'Aztreonam',\n 'Bacillus clausii',\n 'Bacitracin',\n 'Baclofen',\n 'BCG vaccine',\n 'Beclomethasone dipropionate',\n 'Bee pollen',\n 'Beeswax',\n 'Bemiparin sodium',\n 'Benoxinate',\n 'Benzocaine',\n 'Benzoic acid',\n 'Benzoxonium chloride',\n 'Benzoyl peroxide',\n 'Benzyl benzoate',\n 'Benzylpenicillin (Penicillin G)',\n 'Beractant',\n 'Bergamot oil',\n 'Beta-glucan',\n 'Betahistine dihydrochloride',\n 'Betamethasone',\n 'Betamethasone dipropionate',\n 'Betamethasone valerate',\n 'Beta-sitosterol',\n 'Bevacizumab',\n 'Bilastine',\n 'Bimatoprost',\n 'Biotin',\n 'Bisacodyl',\n 'Bisoprolol fumarate',\n 'Bleomycin',\n 'Boric acid',\n 'Botulinum toxin-A 100 units',\n \"brewer's yeast\",\n 'Brimonidine',\n 'Brimonidine tartrate',\n 'Brinzolamide',\n 'Bromazepam',\n 'Bromhexine',\n 'Bromocriptine mesylate',\n 'Budesonide',\n 'Bumetanide',\n 'Bupivacaine hydrochloride',\n 'Buserelin',\n 'buspirone hydrochloride',\n 'Butane',\n \"Butcher's broom extract\",\n 'Cabergoline',\n 'cacl',\n 'Cactus extract',\n 'Caffeine',\n 'Calamine',\n 'Calcipotriol',\n 'Calcitonin (Salmon)',\n 'Calcium',\n 'Calcium carbonate',\n 'Calcium chloride',\n 'Calcium dobesilate monohydrate',\n 'Calcium gluconate',\n 'Calcium magnesium',\n 'calcium polystyrene sulfonate',\n 'Calcium-Sandoz 1000',\n 'Calfactant',\n 'Camphor',\n 'Canagliflozin',\n 'Candesartan cilexetil',\n 'Captopril',\n 'Carbamazepine',\n 'Carbetocin',\n 'Carbidopa',\n 'Carbimazole',\n 'Carbocisteine',\n 'Carboplatin',\n 'Carboxymethylcellulose',\n 'Cardioplegia solution',\n 'Cariprazine',\n 'carvedilol',\n 'Caspofungin',\n \"Castellani's Paint\",\n 'Castor oil',\n 'Cefaclor',\n 'Cefadroxil',\n 'Cefazolin sodium',\n 'Cefdinir',\n 'Cefditoren pivoxil',\n 'Cefepime',\n 'Cefixime',\n 'Cefotaxime',\n 'cefperazone',\n 'Cefpodoxime',\n 'Cefprozil',\n 'Cefradine (Cephradine)',\n 'Ceftazidime',\n 'Ceftizoxime',\n 'Ceftobiprole',\n 'Ceftriaxone',\n 'Cefuroxime axetil',\n 'Cefuroxime sodium',\n 'Celecoxib',\n 'Cepae extract',\n 'Cephalexin (Cefalexin)',\n 'Cerebrolysin',\n 'Cetirizine dihydrochloride',\n 'Cetirizine HCl',\n 'Cetirizine hydrochloride',\n 'Cetrorelix',\n 'Chamomile',\n 'Charcoal',\n 'Chloral hydrate',\n 'Chlorhexidine',\n 'Chlorhexidine gluconate',\n 'Chlorhexidine hydrochloride',\n 'Chloroquine',\n 'Chlorpheniramine',\n 'Chlorpheniramine maleate',\n 'Chlorpheniramine maleate (Chlorphenamine maleate)',\n 'Chlorpromazine',\n 'Chlorpromazine hydrochloride',\n 'Chlorthalidone 25mg',\n 'Chlorzoxazone',\n 'Cholestyramine',\n 'Chondroitin',\n 'Chondroitin sulfate',\n 'Chorionic gonadotropin (hCG)',\n 'Chromium',\n 'Ciclesonide',\n 'Ciclosporin (Cyclosporin)',\n 'Cimicifugae',\n 'Cinacalcet',\n 'Cinnarizine',\n 'Ciprofloxacin',\n 'Cisatracurium besilate',\n 'Cisplatin',\n 'Cistus incanus dried extract',\n 'Citalopram',\n 'Citric acid',\n 'Clarithromycin',\n 'Clavulanic acid',\n 'clemastine fumarate',\n 'Clindamycin hydrochloride',\n 'Clindamycin phosphate',\n 'Clioquinol',\n 'Clobetasol',\n 'Clobetasol propionate',\n 'Clomifene (Clomiphene) citrate',\n 'Clomipramine HCl',\n 'Clonazepam',\n 'clopidogrel',\n 'Clotrimazole',\n 'Clove oil',\n 'Coagulation factor VIIa (recombinant)',\n 'Cod liver oil',\n 'Codeine phosphate',\n 'Coenzyme Q10 (Ubiquinone)',\n 'Colchicine',\n 'Colistimethate sodium',\n 'Collagen',\n 'Collagen hydrolysate',\n 'Colostrum',\n 'Copper',\n 'Cosmetic or consumable',\n 'Co-trimoxazole',\n 'Cranberry juice',\n 'Cromoglycate',\n 'Crotamiton',\n 'Crotamiton 10%',\n 'Curcuma rhizomes',\n 'Cyanocobalamin (Vitamin B12)',\n 'Cyclobenzaprine',\n 'Cyclopentolate',\n 'Cyclophosphamide',\n 'Cyproheptadine hydrochloride',\n 'Cyproterone',\n 'Cyproterone acetate',\n 'Dabigatran',\n 'Dapagliflozin',\n 'Dapoxetine',\n 'Dapsone',\n 'Daptomycin',\n 'Darbepoetin alfa',\n 'Darifenacin hydrobromide',\n 'Deferoxamine mesylate',\n 'Degludec',\n \"degludec 300 unit / liraglutide',\",\n 'Dehydrated leaves of Opuntia ficus-indica',\n 'Delafloxacin meglumine',\n 'Desloratadine',\n 'Desmopressin acetate',\n 'Desogestrel',\n 'Desvenlafaxine succinate',\n 'Dexamethasone',\n 'Dexamethasone 1mg',\n 'Dexketoprofen',\n 'Dexlansoprazole',\n 'Dexmedetomidine',\n 'Dexpanthenol',\n 'Dextran 70',\n 'Dextromethorphan',\n 'Dextrose',\n 'Diazepam',\n 'Dibekacin sulfate',\n 'Diclofenac',\n 'Diclofenac epolamine',\n 'Diclofenac potassium',\n 'Diclofenac sodium',\n 'Diclofenamide',\n 'Dienogest',\n 'Dietary supplement',\n 'Diethylamine salicylate',\n 'Diethylamine salicylate 50 mg',\n 'Diflucortolone valerate',\n 'Digoxin',\n 'Diloxanide furoate',\n 'Diltiazem hydrochloride',\n 'Dimenhydrinate',\n 'dimethicone',\n 'Dimethindene maleate',\n 'Dimethyl ether',\n 'dimethylpolysiloxane',\n 'Dinoprostone',\n 'Diosmin',\n 'Diphenhydramine',\n 'Diphenhydramine hydrochloride',\n 'Diphtheria',\n 'Diphtheria toxoid conjugate vaccine',\n 'Diphtheria vaccine',\n 'Dobutamine',\n 'Dobutamine hydrochloride',\n 'Docusate sodium',\n 'Domperidone',\n 'Dopamine',\n 'Dopamine hydrochloride',\n 'Dorzolamide',\n 'Doxapram',\n 'Doxazosin',\n 'Doxorubicin hydrochloride',\n 'Doxycycline',\n 'Drospirenone',\n 'Drospirenone 3mg',\n 'Dry extract of ivy leaves',\n 'Dry extract of melissa leaves',\n 'Dulaglutide',\n 'Duloxetine',\n 'Dutasteride',\n 'dydrogesterone',\n 'Dydrogesterone 10mg',\n 'Dydrogesterone 5mg',\n 'Echinacea',\n 'Echinacea dry extract',\n 'Echinacea extract',\n 'Econazole',\n 'Edoxaban tosylate',\n 'Egg lecithin',\n 'Electrolyte and trace elements i.v. ampoules',\n 'Electrolytes',\n 'Electrolytes solution 45meq',\n 'Eletriptan',\n 'Eltrombopag',\n 'Empagliflozin',\n 'Enalapril maleate',\n 'Enoxaparin sodium',\n 'Entacapone',\n 'Entecavir',\n 'Ephedrine',\n 'Epinastine hydrochloride',\n 'Epinephrine (Adrenaline)',\n 'Epoetin alfa (Recombinant human erythropoietin)',\n 'Eprosartan mesylate',\n 'Erythromycin',\n 'Escitalopram oxalate',\n 'Esmolol',\n 'Esomeprazole',\n 'Essential oils',\n 'Estradiol 1mg',\n 'Estradiol 2mg',\n 'Estradiol hemihydrate',\n 'Estradiol valerate',\n 'Etanercept',\n 'Ethamsylate (Etamsylate)',\n 'Ethanolamine',\n 'Ethinyl estradiol',\n 'Ethinylestradiol 30mcg',\n 'Ethiodized oil',\n 'Ethyl',\n 'Etonogestrel',\n 'Etoricoxib',\n 'Eucalyptus',\n 'Eucalyptus oil',\n 'Evening primrose oil',\n 'Evolocumab',\n 'Exemestane',\n 'Exenatide',\n 'Ezetimibe',\n 'Ezetimibe-atorvastatin',\n 'Famciclovir',\n 'Fat emulsions',\n 'Fat-soluble vitamin E',\n 'Fat-soluble vitamin K1',\n 'Fat-soluble vitamins A',\n 'Fat-soluble vitamins D2',\n 'Favipiravir',\n 'Febuxostat',\n 'Felodipine',\n 'Fennel',\n 'Fenofibrate',\n 'fentanyl',\n 'Ferric carboxymaltose',\n 'Ferric hydroxide polymaltose',\n 'ferric hydroxide polymaltose complex',\n 'Ferrous fumarate',\n 'Ferrous sulfate',\n 'Fexofenadine hydrochloride',\n 'Filgrastim',\n 'Finasteride',\n 'Fingolimod hydrochloride',\n 'Flavonoid',\n 'Fluconazole',\n 'Fludrocortisone acetate',\n 'flumazenil',\n 'Flumetasone (Flumethasone) pivalate',\n 'Flunarizine',\n 'Fluocinolone acetonide',\n 'Fluorescein sodium',\n 'Fluorinol',\n 'Fluorometholone',\n 'Fluorouracil',\n 'Fluoxetine',\n 'flupentixol',\n 'Flupentixol (Flupenthixol)',\n 'Fluticasone propionate',\n 'Fluticasone propionate 0.005% ointment',\n 'Fluticasone propionate 100mcg',\n 'Fluvastatin',\n 'Fluvoxamine maleate',\n 'Folic acid',\n 'Follitropin alfa (Recombinant Human Follicle Stimulating Hormone)',\n 'Follitropin beta (Recombinant Human Follicle Stimulating Hormone)',\n 'Fondaparinux sodium 2.5 mg',\n 'Formoterol',\n 'Fosfomycin trometamol',\n 'Fosinopril sodium',\n 'frangula',\n 'Frangula 8% granules',\n 'Furosemide',\n 'Fusidic acid',\n 'Gabapentin',\n 'Gadopentetate dimeglumine',\n 'Gadoteric acid',\n 'Gadoteridol',\n 'Garcinia cambogia',\n 'Gatifloxacin',\n 'Gemfibrozil',\n 'Gemifloxacin mesylate',\n 'Genistein',\n 'Gentamicin',\n 'gentian violet',\n 'Gestodene',\n 'Ginger',\n 'Ginkgo biloba',\n 'Ginkgo biloba dry extract',\n 'Ginkgo biloba extract',\n 'Ginkgo flavonoid glycosides',\n 'Ginseng',\n 'ginseng extract',\n 'Glibenclamide (Glyburide)',\n 'Gliclazide',\n 'Glimepiride',\n 'Glucagon',\n 'Glucosamine',\n 'Glucose',\n 'Glycerin',\n 'Glycerin bicarbonate',\n 'Glycerol (Glycerin)',\n 'Glyceryl glycolate',\n 'Glyceryl trinitrate',\n 'Glycolic acid',\n 'Goserelin acetate 3.6mg depot',\n 'Gramicidin',\n 'Grindeliae',\n 'Gripe water',\n 'Guaifenesin',\n 'Haemophilus influenzae conjugate',\n 'Haemophilus influenzae type b',\n 'Haloperidol',\n 'Hamamelis extract',\n 'Heavy magnesium carbonate',\n 'Heparin',\n 'Heparin sodium',\n 'Hepatitis A vaccine',\n 'Hepatitis B immunoglobulin',\n 'Hepatitis B vaccine',\n 'Hexahydro-adiphenine 20mg',\n 'Hexamine',\n 'Hexavalent combination vaccine (Hexaxim)',\n 'Hexoprenaline',\n 'Histocryl',\n 'Human albumin',\n 'Human albumin (low salt)',\n 'Human blood clotting factor VIII',\n 'Human immunoglobulin G (IgG)',\n 'human immunoglobulin-g',\n 'Human menopausal gonadotrophin (FSH-LH)',\n 'Human papillomavirus (HPV) vaccine',\n 'Hyaluronate',\n 'Hyaluronic acid',\n 'Hydralazine',\n 'Hydrochlorothiazide',\n 'Hydrocortisone',\n 'Hydrocortisone acetate',\n 'Hydrocortisone butyrate',\n 'Hydrocortisone sodium succinate',\n 'Hydrogen peroxide',\n 'Hydroquinone',\n 'Hydroxychloroquine',\n 'hydroxychloroquine sulfate',\n 'Hydroxyprogesterone caproate',\n 'Hydroxyurea',\n 'Hyoscine (Scopolamine) butylbromide',\n 'Hypromellose',\n 'Ibandronic acid',\n 'Ibuprofen',\n 'Ichthammol',\n 'Imatinib',\n 'Imidapril hydrochloride',\n 'Imipenem with cilastatin',\n 'Imiquimod',\n 'Indapamide',\n 'Indapamide 1.5 mg sustained release',\n 'Indometacin (Indomethacin)',\n 'Infliximab',\n 'Influenza vaccine',\n 'Insulin aspart',\n 'Insulin aspart protamine',\n 'Insulin degludec',\n 'Insulin detemir',\n 'Insulin glargine',\n 'Insulin glulisine',\n 'Insulin human (HM) isophane',\n 'Insulin isophane',\n 'Insulin lispro',\n 'Insulin neutral',\n 'Insulin NPH (Neutral Protamine Hagedorn)',\n 'Insulin protamine',\n 'Insulin regular',\n 'Interferon beta-1a',\n 'Iobitridol',\n 'iodine',\n 'Iodixanol',\n 'Iohexol',\n 'Iopamidol',\n 'Iopromide',\n 'Ipratropium bromide',\n 'Irbesartan',\n 'Iron',\n 'Iron (III) hydroxide dextran complex',\n 'Iron (III) hydroxide polymaltose complex',\n 'Iron (III) hydroxide sucrose complex',\n 'Iron hydroxide polymaltose complex',\n 'Iron protein succinylate',\n 'Isavuconazonium sulfate',\n 'Isoconazole nitrate',\n 'Isoniazid',\n 'Isoprenaline',\n 'Isoproterenol',\n 'Isosorbide dinitrate',\n 'Isotonic seawater',\n 'Isotretinoin',\n 'Itraconazole',\n 'Ivabradine',\n 'Ivy',\n 'Ivy dry extract',\n 'Ivy extract',\n 'Ivy leaf dry extract',\n 'Josamycin',\n 'Kanamycin',\n 'Kaolin',\n 'kcl',\n 'Ketamine hydrochloride',\n 'Ketoconazole',\n 'Ketoprofen',\n 'Ketorolac tromethamine',\n 'Ketotifen',\n 'Khellin',\n 'Korean ginseng',\n 'Labetalol',\n 'Labetalol hydrochloride',\n 'Lacosamide',\n 'lactated ringer (nacl)',\n 'Lactic acid',\n 'Lactobacillus',\n 'Lactulose',\n 'Lamivudine',\n 'Lamotrigine',\n 'Lansoprazole',\n 'L-arginine',\n 'L-aspartate',\n 'Latanoprost',\n 'Lauromacrogol',\n 'L-carnitine',\n 'L-cysteine',\n 'Leflunomide',\n 'Lercanidipine hydrochloride',\n 'Letrozole',\n 'Leuprorelin acetate',\n 'Levetiracetam',\n 'Levobunolol HCl',\n 'Levocabastine',\n 'Levocetirizine dihydrochloride',\n 'Levodopa',\n 'levofloxacin',\n 'Levonorgestrel',\n 'Levothyroxine sodium (Thyroxine)',\n 'Licorice',\n 'Lidocaine',\n 'Lidocaine (Lignocaine)',\n 'Lidocaine (Lignocaine) hydrochloride',\n 'Lidocaine HCl',\n 'Lidocaine hydrochloride',\n 'Linagliptin',\n 'Linalool',\n 'Linezolid',\n 'Lipase',\n 'Lipids',\n 'Liquid fig concentrate',\n 'Liquid paraffin',\n 'Liquorice',\n 'Liraglutide',\n 'Lisinopril',\n 'lisuride hydrogen maleate',\n 'Lithium carbonate',\n 'Lixisenatide',\n 'L-menthol camphor',\n 'Lodoxamide trometamol',\n 'Loperamide hydrochloride',\n 'Loratadine',\n 'L-ornithine',\n 'Lornoxicam',\n 'Losartan potassium',\n 'Loxoprofen',\n 'Luliconazole',\n 'Lupinus albus-Mentha piperita',\n 'Lurasidone',\n 'Lyophilized fish roe',\n 'Magnesium',\n 'Magnesium citrate',\n 'Magnesium hydroxide',\n 'Magnesium oxide',\n 'magnesium sulfate',\n 'Mannitol',\n 'Maprotiline hydrochloride',\n 'Measles',\n 'Measles vaccine',\n 'Mebendazole',\n 'Mebeverine hydrochloride',\n 'Meclizine',\n 'Mecobalamin',\n 'Medium-chain triglycerides (MCT oil)',\n 'Mefenamic acid',\n 'Mefloquine',\n 'Melatonin',\n 'Meloxicam',\n 'Memantine HCl',\n 'Meningococcal',\n 'Meningococcal group A',\n 'Meningococcal group C',\n 'Meningococcal group W135',\n 'Meningococcal group Y',\n 'Meningococcal vaccine ACWY',\n 'Menthol',\n 'Meperidine',\n 'Mepolizumab',\n 'Merbromin',\n 'Mercurochrome',\n 'Meropenem',\n 'Mesalazine',\n 'Mesterolone',\n 'Metformin',\n 'Metformin hydrochloride',\n 'Metformin XR',\n 'Methacrylate',\n 'Methotrexate',\n 'Methoxy polyethylene glycol-epoetin beta',\n 'Methyl salicylate',\n 'Methyldopa',\n 'Methylene blue',\n 'Methylergometrine',\n 'Methylergometrine maleate',\n 'methylparaben (methyl hydroxybenzoate)',\n 'Methylphenidate',\n 'Methylprednisolone',\n 'Methylprednisolone acetate',\n 'Metoclopramide',\n 'Metoclopramide hydrochloride',\n 'Metolazone',\n 'Metoprolol tartrate',\n 'Metronidazole',\n 'Micafungin',\n 'Miconazole',\n 'Miconazole nitrate',\n 'Midazolam',\n 'Midodrine hydrochloride',\n 'Millet extract',\n 'Milrinone',\n 'Minerals',\n 'Minocycline',\n 'Minoxidil',\n 'Mirtazapine',\n 'Misoprostol',\n 'Mitomycin',\n 'Mivacurium chloride',\n 'Moclobemide',\n 'Mometasone furoate',\n 'Montelukast sodium',\n 'Morphine sulfate',\n 'moxifloxacin',\n 'Moxonidine',\n 'Multiminerals',\n 'Multivitamin',\n 'Multivitamins',\n 'Multivitamins & minerals',\n 'Mumps vaccine',\n 'Mupirocin (Pseudomonas acid)',\n 'mycophenolate mofetil',\n 'Mycophenolate sodium',\n 'Nadroparin',\n 'Naftifine',\n 'na-lactate',\n 'naloxone hydrochloride',\n 'Naphazoline HCl 0.025%',\n 'Naphazoline hydrochloride',\n 'Naproxen',\n 'Naproxen sodium',\n 'Natamycin',\n 'N-butyl-2-cyanoacrylate',\n 'Nebivolol',\n 'Neomycin',\n 'Neomycin 3.5mg/ml eye/ear drops',\n 'Neomycin sulfate',\n 'Neostigmine bromide',\n 'Neostigmine methylsulfate',\n 'Niclosamide',\n 'Nicotinamide',\n 'Nifedipine',\n 'Nilotinib',\n 'Nimodipine',\n 'Nintedanib',\n 'Nitrofurantoin',\n 'Nitroglycerin',\n 'Nizatidine',\n 'noradrenaline',\n 'Norelgestromin',\n 'Norepinephrine (Noradrenaline) tartrate',\n 'Norethisterone',\n 'Norgestrel',\n 'Normal human immunoglobulin',\n 'Nystatin',\n 'Ocrelizumab',\n 'Octodrine phosphate',\n 'Octreotide',\n 'Ofloxacin',\n 'Olanzapine',\n 'Olive oil',\n 'Olive zinc',\n 'olmesartan',\n 'Olmesartan medoxomil',\n 'Olodaterol',\n 'Olopatadine',\n 'Omalizumab 150mg powder for injection',\n 'Omega-3',\n 'Omega-3 fatty acids',\n 'Omega-3 polyunsaturated fatty acids',\n 'Omeprazole',\n 'Ondansetron',\n 'Orlistat',\n 'Orphenadrine citrate 35 mg',\n 'Oseltamivir',\n 'Otilonium bromide',\n 'Oxcarbazepine',\n 'Oxethazine',\n 'Oxybuprocaine',\n 'Oxytocin',\n 'Paliperidone',\n 'Palivizumab',\n 'Panax ginseng',\n 'Pantoprazole',\n 'Papain (Papaya extract)',\n 'papaverine hcl',\n 'Paracetamol (Acetaminophen)',\n 'Paracetamol 450 mg',\n 'Paracetamol and pseudoephedrine',\n 'Paroxetine hydrochloride',\n 'Pectin',\n 'Peginterferon alfa-2a',\n 'Peginterferon alfa-2b',\n 'Pelargonium sidoides root extract',\n 'Penicillin-V 200mg granules for 125mg/5ml',\n 'Pentoxifylline',\n 'Peppermint',\n 'Peppermint oil',\n 'Pepsin',\n 'Peptide',\n 'Perindopril',\n 'Perindopril arginine',\n 'Pertussis',\n 'Pertussis vaccine',\n 'Pethidine (Meperidine)',\n 'Phenazone',\n 'Pheniramine maleate',\n 'Pheniramine maleate 0.3%',\n 'Phenobarbital',\n 'Phentolamine mesylate',\n 'Phenylephrine',\n 'Phenylephrine HCl',\n 'Phenylephrine hydrochloride',\n 'Phenytoin',\n 'Phenytoin sodium',\n 'Pholcodine',\n 'Phytomenadione',\n 'Pilocarpine hydrochloride',\n 'Pimecrolimus',\n 'Pinaverium bromide',\n 'Pioglitazone',\n 'Pioglitazone/glimepiride',\n 'Pioglitazone/metformin',\n 'Piperacillin',\n 'Piperazine citrate',\n 'Piracetam',\n 'Piribedil',\n 'Piroxicam',\n 'Pitavastatin',\n 'Pizotifen',\n 'Plasma-lyte',\n 'Pneumococcal',\n 'Pneumococcal vaccine',\n 'Podophyllotoxin',\n 'polio vaccine',\n 'Poliomyelitis',\n 'Poliomyelitis vaccine',\n 'polyacrylate copolymer',\n 'Polyacrylic acid',\n 'Polyethylene glycol',\n 'Polyglucosamine',\n 'Polyhexamethylene biguanide (PHMB)',\n 'Polyhexanide.1%',\n 'Polymers of amines',\n 'Polymyxin',\n 'Potassium chloride',\n 'Potassium citrate',\n 'Potassium iodide',\n 'Potassium permanganate',\n 'Potassium phosphate',\n 'Povidone iodine',\n 'Powdered leaves of artichoke',\n 'Pralidoxime',\n 'Pramipexole',\n 'Prasugrel',\n 'Praziquantel',\n 'Prednisolone',\n 'Prednisolone acetate',\n 'Pregabalin',\n 'Primpinellae',\n 'Primrose oil',\n 'Primulae',\n 'Probiotics',\n 'Progesterone',\n 'Promethazine',\n 'Propafenone hydrochloride',\n 'Propofol',\n 'Propranolol',\n 'Propylene glycol',\n 'Propyphenazone 220mg',\n 'Protamine sulfate',\n 'Protease',\n 'Protirelin',\n 'Pseudoephedrine',\n 'Pumpkin seed oil',\n 'Pygeum africanum',\n 'Pyrazinamide',\n 'Pyridostigmine',\n 'Pyridostigmine bromide',\n 'pyridoxine',\n 'Pyrimethamine',\n 'Quetiapine',\n 'Quinagolide',\n 'Rabeprazole',\n 'Ramipril',\n 'Ranibizumab',\n 'Ranitidine',\n 'Regular insulin',\n 'Repaglinide',\n 'Rhubarb',\n 'Ribavirin',\n 'Rifampicin',\n 'Rifaximin',\n 'Rimexolone',\n \"Ringer's lactate (Sodium lactate, Calcium chloride, Sodium chloride, Potassium chloride)\",\n \"Ringer's solution\",\n 'Risperidone',\n 'Rivaroxaban',\n 'Rivastigmine',\n 'rocuronium bromide',\n 'Rosuvastatin',\n 'Rotavirus diarrhea vaccine',\n 'Royal jelly',\n 'Rubella',\n 'Rubella (MMR) vaccine',\n 'Rupatadine',\n 'Sacubitril',\n 'Salbutamol',\n 'Salicylic acid',\n 'Salicylic acid in collodion',\n 'Salmeterol',\n 'Salmeterol 50mcg',\n 'Saw palmetto (Sabal serrulatae)',\n 'Saxagliptin',\n 'Saxagliptin HCl',\n 'Sea salt',\n 'Secnidazole',\n 'Selenium',\n 'Semaglutide',\n 'Senna',\n 'Sertraline',\n 'Sesame oil',\n 'Sevelamer',\n 'Sevoflurane',\n 'Shea butter',\n 'Sildenafil citrate',\n 'Silicon dioxide',\n 'Silicone',\n 'silicone dioxide',\n 'Silicone gel',\n 'Silver',\n 'Silver nitrate',\n 'Silver sulfadiazine',\n 'Silybum marianum dry',\n 'Silymarin',\n 'Simethicone',\n 'Simethicone (Activated dimethicone)',\n 'Simvastatin',\n 'Sitagliptin',\n 'Sodium amidotrizoate',\n 'Sodium bicarbonate',\n 'Sodium biphosphate',\n 'Sodium chloride',\n 'Sodium citrate',\n 'Sodium cromoglicate',\n 'Sodium fusidate',\n 'Sodium glycerophosphate',\n 'Sodium hyaluronate',\n 'sodium hydrogen carbonate',\n 'Sodium nitroprusside',\n 'Sodium phosphate',\n 'Sodium picosulfate',\n 'Sodium stibogluconate',\n 'Sodium thiosulfate',\n 'Solifenacin succinate',\n 'Somatotropin',\n 'Sotalol',\n 'Soy extract',\n 'Soybean oil',\n 'spironolactone',\n 'Sterculia 62%',\n 'Sterculia 62% granule sachets',\n 'sterculia gum',\n 'Streptokinase',\n 'Succinylcholine',\n 'Sucralfate',\n 'sugammadex',\n 'Sulbactam',\n 'Sulfamethoxazole',\n 'Sulfur',\n 'Sulphadoxine',\n 'Sulpiride',\n 'Sumatriptan',\n 'Suxamethonium chloride',\n 'Tacrolimus',\n 'Tadalafil',\n 'Tamoxifen',\n 'Tamsulosin',\n 'Tamsulosin hydrochloride',\n 'Taste',\n 'Tazobactam',\n 'Teicoplanin',\n 'Telipressin acetate',\n 'Telmisartan',\n 'Tenofovir',\n 'Terbinafine',\n 'Terbutaline sulfate',\n 'Teriflunomide',\n 'Teriparatide',\n 'testosterone enanthate',\n 'Testosterone undecanoate',\n 'tetanus toxoid',\n 'Tetanus toxoid vaccine',\n 'Tetanus vaccine',\n 'Tetracosactide (Tetracosactrin)',\n 'Tetracycline HCl',\n 'Tetrahydrozoline',\n 'Theophylline',\n 'thiamine',\n 'Thioctic acid',\n 'thiopental sodium',\n 'Thyme']"
     },
     "execution_count": 170,
     "metadata": {},
     "output_type": "execute_result"
    }
   ],
   "source": [
    "hjh_data = HJH['HJH Drug'].to_list()\n",
    "hjh_data"
   ],
   "metadata": {
    "collapsed": false,
    "ExecuteTime": {
     "end_time": "2023-05-18T10:09:12.859347900Z",
     "start_time": "2023-05-18T10:09:12.843726900Z"
    }
   }
  },
  {
   "cell_type": "code",
   "execution_count": 171,
   "outputs": [],
   "source": [
    "hjh_2_lexi = []\n",
    "for i in range(len(hjh_data)):\n",
    "    if hjh_data[i] in lexi_names or hjh_data[i] in lexi_after_parentheses:\n",
    "        flag = 0\n",
    "        j = 0\n",
    "        while j < len(lexi_names):\n",
    "            if lexi_names[j]==hjh_data[i]:\n",
    "                flag = 1\n",
    "                hjh_2_lexi.append(original_lexi_names[j])\n",
    "\n",
    "            elif lexi_after_parentheses[j]==hjh_data[i]:\n",
    "                hjh_2_lexi.append(original_lexi_names[j])\n",
    "                flag = 1\n",
    "            j +=1\n",
    "\n",
    "            if flag == 1:\n",
    "                j = len(lexi_names)\n",
    "    else:\n",
    "        hjh_2_lexi.append('Not available')"
   ],
   "metadata": {
    "collapsed": false,
    "ExecuteTime": {
     "end_time": "2023-05-18T10:09:25.917063700Z",
     "start_time": "2023-05-18T10:09:25.854578600Z"
    }
   }
  },
  {
   "cell_type": "code",
   "execution_count": 172,
   "outputs": [
    {
     "data": {
      "text/plain": "['Not available',\n 'Not available',\n 'Acarbose',\n 'Not available',\n 'Not available',\n 'Not available',\n 'Not available',\n 'Not available',\n 'Acetylcysteine',\n 'Not available',\n 'Not available',\n 'Not available',\n 'Not available',\n 'Acyclovir (Ophthalmic)',\n 'Not available',\n 'Adalimumab',\n 'Not available',\n 'Not available',\n 'Adenosine',\n 'Not available',\n 'Not available',\n 'Not available',\n 'Not available',\n 'Not available',\n 'Albendazole',\n 'Not available',\n 'Alendronate',\n 'Alfacalcidol',\n 'Alfuzosin',\n 'Not available',\n 'Allopurinol',\n 'Not available',\n 'Not available',\n 'Not available',\n 'Not available',\n 'Alprostadil',\n 'Not available',\n 'Not available',\n 'Not available',\n 'Not available',\n 'Not available',\n 'Not available',\n 'Not available',\n 'Amikacin (refer to route-specific monograph)',\n 'Not available',\n 'Not available',\n 'Not available',\n 'Not available',\n 'Aminophylline',\n 'Amiodarone',\n 'Amitriptyline',\n 'Not available',\n 'Not available',\n 'Not available',\n 'Amoxicillin',\n 'Ampicillin',\n 'Not available',\n 'Not available',\n 'Not available',\n 'Anidulafungin',\n 'Not available',\n 'Not available',\n 'Not available',\n 'Not available',\n 'Not available',\n 'Apixaban',\n 'Apremilast',\n 'Arginine',\n 'Not available',\n 'Not available',\n 'Not available',\n 'Atenolol',\n 'Not available',\n 'Atorvastatin',\n 'Not available',\n 'Not available',\n 'Not available',\n 'Not available',\n 'Not available',\n 'Not available',\n 'Not available',\n 'Not available',\n 'Azithromycin (Ophthalmic)',\n 'Aztreonam (Oral Inhalation)',\n 'Not available',\n 'Bacitracin (Ophthalmic)',\n 'Baclofen',\n 'Not available',\n 'Not available',\n 'Not available',\n 'Not available',\n 'Not available',\n 'Not available',\n 'Benzocaine',\n 'Not available',\n 'Not available',\n 'Not available',\n 'Not available',\n 'Not available',\n 'Beractant',\n 'Not available',\n 'Not available',\n 'Not available',\n 'Betamethasone (refer to route-specific monograph)',\n 'Not available',\n 'Not available',\n 'Not available',\n 'Bevacizumab',\n 'Bilastine',\n 'Bimatoprost',\n 'Biotin',\n 'Bisacodyl',\n 'Not available',\n 'Bleomycin',\n 'Not available',\n 'Not available',\n 'Not available',\n 'Brimonidine (Ophthalmic)',\n 'Not available',\n 'Brinzolamide',\n 'Bromazepam',\n 'Not available',\n 'Not available',\n 'Budesonide (Nasal)',\n 'Bumetanide',\n 'Not available',\n 'Buserelin',\n 'Not available',\n 'Not available',\n 'Not available',\n 'Cabergoline',\n 'Not available',\n 'Not available',\n 'Caffeine',\n 'Calamine',\n 'Not available',\n 'Not available',\n 'Not available',\n 'Not available',\n 'Not available',\n 'Not available',\n 'Not available',\n 'Not available',\n 'Not available',\n 'Not available',\n 'Calfactant',\n 'Camphor',\n 'Canagliflozin',\n 'Not available',\n 'Captopril',\n 'Not available',\n 'Carbetocin',\n 'Carbidopa',\n 'Not available',\n 'Not available',\n 'Not available',\n 'Carboxymethylcellulose',\n 'Not available',\n 'Cariprazine',\n 'Not available',\n 'Caspofungin',\n 'Not available',\n 'Not available',\n 'Cefaclor',\n 'Cefadroxil',\n 'Not available',\n 'Cefdinir',\n 'Not available',\n 'Cefepime',\n 'Cefixime',\n 'Cefotaxime',\n 'Not available',\n 'Cefpodoxime',\n 'Cefprozil',\n 'Not available',\n 'Not available',\n 'Not available',\n 'Ceftobiprole',\n 'Not available',\n 'Not available',\n 'Not available',\n 'Celecoxib',\n 'Not available',\n 'Not available',\n 'Not available',\n 'Not available',\n 'Not available',\n 'Not available',\n 'Cetrorelix',\n 'Not available',\n 'Not available',\n 'Not available',\n 'Not available',\n 'Not available',\n 'Not available',\n 'Chloroquine',\n 'Chlorpheniramine',\n 'Not available',\n 'Not available',\n 'Not available',\n 'Not available',\n 'Not available',\n 'Chlorzoxazone',\n 'Not available',\n 'Not available',\n 'Not available',\n 'Not available',\n 'Not available',\n 'Ciclesonide (Nasal)',\n 'Not available',\n 'Not available',\n 'Cinacalcet',\n 'Not available',\n 'Ciprofloxacin (Ophthalmic)',\n 'Not available',\n 'Not available',\n 'Not available',\n 'Citalopram',\n 'Not available',\n 'Clarithromycin',\n 'Not available',\n 'Not available',\n 'Not available',\n 'Not available',\n 'Not available',\n 'Clobetasol',\n 'Not available',\n 'Not available',\n 'Not available',\n 'Not available',\n 'Not available',\n 'Clotrimazole (Oral)',\n 'Not available',\n 'Not available',\n 'Not available',\n 'Not available',\n 'Not available',\n 'Colchicine',\n 'Not available',\n 'Collagen (AbsorbableDental)',\n 'Not available',\n 'Not available',\n 'Copper',\n 'Not available',\n 'Not available',\n 'Not available',\n 'Not available',\n 'Crotamiton',\n 'Not available',\n 'Not available',\n 'Not available',\n 'Cyclobenzaprine',\n 'Cyclopentolate',\n 'Not available',\n 'Not available',\n 'Cyproterone',\n 'Not available',\n 'Not available',\n 'Dapagliflozin',\n 'Not available',\n 'Dapsone (refer to route-specific monograph)',\n 'Not available',\n 'Not available',\n 'Not available',\n 'Not available',\n 'Not available',\n 'Not available',\n 'Not available',\n 'Not available',\n 'Desloratadine',\n 'Not available',\n 'Not available',\n 'Not available',\n 'Not available',\n 'Not available',\n 'Not available',\n 'Dexlansoprazole',\n 'Not available',\n 'Not available',\n 'Not available',\n 'Dextromethorphan',\n 'Dextrose',\n 'Not available',\n 'Not available',\n 'Diclofenac (Ophthalmic)',\n 'Not available',\n 'Not available',\n 'Not available',\n 'Not available',\n 'Dienogest',\n 'Not available',\n 'Not available',\n 'Not available',\n 'Not available',\n 'Not available',\n 'Not available',\n 'Not available',\n 'Not available',\n 'Not available',\n 'Not available',\n 'Not available',\n 'Not available',\n 'Not available',\n 'Not available',\n 'Not available',\n 'Not available',\n 'Not available',\n 'Not available',\n 'Not available',\n 'Not available',\n 'Not available',\n 'Not available',\n 'Not available',\n 'Not available',\n 'Not available',\n 'Not available',\n 'Not available',\n 'Not available',\n 'Not available',\n 'Not available',\n 'Not available',\n 'Not available',\n 'Not available',\n 'Not available',\n 'Not available',\n 'Not available',\n 'Not available',\n 'Not available',\n 'Not available',\n 'Not available',\n 'Not available',\n 'Not available',\n 'Not available',\n 'Not available',\n 'Not available',\n 'Not available',\n 'Not available',\n 'Not available',\n 'Not available',\n 'Not available',\n 'Not available',\n 'Not available',\n 'Not available',\n 'Not available',\n 'Not available',\n 'Not available',\n 'Not available',\n 'Not available',\n 'Not available',\n 'Not available',\n 'Not available',\n 'Not available',\n 'Not available',\n 'Not available',\n 'Not available',\n 'Not available',\n 'Not available',\n 'Not available',\n 'Not available',\n 'Not available',\n 'Not available',\n 'Not available',\n 'Not available',\n 'Not available',\n 'Not available',\n 'Not available',\n 'Alcohol (Ethyl)',\n 'Not available',\n 'Not available',\n 'Not available',\n 'Not available',\n 'Not available',\n 'Not available',\n 'Not available',\n 'Not available',\n 'Not available',\n 'Not available',\n 'Not available',\n 'Not available',\n 'Not available',\n 'Not available',\n 'Not available',\n 'Not available',\n 'Not available',\n 'Not available',\n 'Not available',\n 'Not available',\n 'Not available',\n 'Not available',\n 'Not available',\n 'Not available',\n 'Not available',\n 'Not available',\n 'Not available',\n 'Not available',\n 'Not available',\n 'Not available',\n 'Not available',\n 'Not available',\n 'Not available',\n 'Not available',\n 'Not available',\n 'Not available',\n 'Not available',\n 'Not available',\n 'Not available',\n 'Not available',\n 'Not available',\n 'Not available',\n 'Not available',\n 'Not available',\n 'Not available',\n 'Not available',\n 'Not available',\n 'Not available',\n 'Not available',\n 'Not available',\n 'Not available',\n 'Not available',\n 'Not available',\n 'Not available',\n 'Not available',\n 'Not available',\n 'Not available',\n 'Not available',\n 'Not available',\n 'Not available',\n 'Not available',\n 'Not available',\n 'Not available',\n 'Not available',\n 'Not available',\n 'Not available',\n 'Not available',\n 'Not available',\n 'Not available',\n 'Not available',\n 'Not available',\n 'Not available',\n 'Not available',\n 'Not available',\n 'Not available',\n 'Not available',\n 'Not available',\n 'Not available',\n 'Not available',\n 'Not available',\n 'Not available',\n 'Not available',\n 'Not available',\n 'Not available',\n 'Not available',\n 'Not available',\n 'Not available',\n 'Not available',\n 'Not available',\n 'Not available',\n 'Not available',\n 'Not available',\n 'Not available',\n 'Not available',\n 'Not available',\n 'Not available',\n 'Not available',\n 'Not available',\n 'Not available',\n 'Not available',\n 'Not available',\n 'Not available',\n 'Not available',\n 'Not available',\n 'Not available',\n 'Not available',\n 'Not available',\n 'Not available',\n 'Not available',\n 'Not available',\n 'Not available',\n 'Not available',\n 'Not available',\n 'Not available',\n 'Not available',\n 'Not available',\n 'Not available',\n 'Not available',\n 'Not available',\n 'Not available',\n 'Not available',\n 'Not available',\n 'Not available',\n 'Not available',\n 'Not available',\n 'Not available',\n 'Not available',\n 'Not available',\n 'Not available',\n 'Not available',\n 'Not available',\n 'Not available',\n 'Not available',\n 'Not available',\n 'Not available',\n 'Not available',\n 'Not available',\n 'Not available',\n 'Not available',\n 'Not available',\n 'Not available',\n 'Not available',\n 'Not available',\n 'Not available',\n 'Not available',\n 'Not available',\n 'Not available',\n 'Not available',\n 'Not available',\n 'Not available',\n 'Not available',\n 'Not available',\n 'Not available',\n 'Not available',\n 'Not available',\n 'Not available',\n 'Not available',\n 'Not available',\n 'Not available',\n 'Not available',\n 'Not available',\n 'Not available',\n 'Not available',\n 'Not available',\n 'Not available',\n 'Not available',\n 'Not available',\n 'Not available',\n 'Not available',\n 'Not available',\n 'Not available',\n 'Not available',\n 'Not available',\n 'Not available',\n 'Not available',\n 'Not available',\n 'Not available',\n 'Not available',\n 'Not available',\n 'Not available',\n 'Not available',\n 'Not available',\n 'Not available',\n 'Not available',\n 'Not available',\n 'Not available',\n 'Not available',\n 'Not available',\n 'Not available',\n 'Not available',\n 'Not available',\n 'Not available',\n 'Not available',\n 'Not available',\n 'Not available',\n 'Not available',\n 'Not available',\n 'Not available',\n 'Not available',\n 'Not available',\n 'Not available',\n 'Not available',\n 'Not available',\n 'Not available',\n 'Not available',\n 'Not available',\n 'Not available',\n 'Not available',\n 'Not available',\n 'Not available',\n 'Not available',\n 'Not available',\n 'Not available',\n 'Not available',\n 'Not available',\n 'Not available',\n 'Not available',\n 'Not available',\n 'Not available',\n 'Not available',\n 'Not available',\n 'Not available',\n 'Not available',\n 'Not available',\n 'Not available',\n 'Not available',\n 'Not available',\n 'Not available',\n 'Not available',\n 'Not available',\n 'Not available',\n 'Not available',\n 'Not available',\n 'Not available',\n 'Not available',\n 'Not available',\n 'Not available',\n 'Not available',\n 'Not available',\n 'Not available',\n 'Not available',\n 'Not available',\n 'Not available',\n 'Not available',\n 'Not available',\n 'Not available',\n 'Not available',\n 'Not available',\n 'Not available',\n 'Not available',\n 'Not available',\n 'Not available',\n 'Not available',\n 'Not available',\n 'Not available',\n 'Not available',\n 'Not available',\n 'Not available',\n 'Not available',\n 'Not available',\n 'Not available',\n 'Not available',\n 'Not available',\n 'Not available',\n 'Not available',\n 'Not available',\n 'Not available',\n 'Not available',\n 'Not available',\n 'Not available',\n 'Not available',\n 'Not available',\n 'Not available',\n 'Not available',\n 'Not available',\n 'Not available',\n 'Not available',\n 'Not available',\n 'Not available',\n 'Not available',\n 'Not available',\n 'Not available',\n 'Not available',\n 'Not available',\n 'Not available',\n 'Not available',\n 'Not available',\n 'Not available',\n 'Not available',\n 'Not available',\n 'Not available',\n 'Not available',\n 'Not available',\n 'Not available',\n 'Not available',\n 'Not available',\n 'Not available',\n 'Not available',\n 'Not available',\n 'Not available',\n 'Not available',\n 'Not available',\n 'Not available',\n 'Not available',\n 'Not available',\n 'Not available',\n 'Not available',\n 'Not available',\n 'Not available',\n 'Not available',\n 'Not available',\n 'Not available',\n 'Not available',\n 'Not available',\n 'Not available',\n 'Not available',\n 'Not available',\n 'Not available',\n 'Not available',\n 'Not available',\n 'Not available',\n 'Not available',\n 'Not available',\n 'Not available',\n 'Not available',\n 'Not available',\n 'Not available',\n 'Not available',\n 'Not available',\n 'Not available',\n 'Not available',\n 'Not available',\n 'Not available',\n 'Not available',\n 'Not available',\n 'Not available',\n 'Not available',\n 'Not available',\n 'Not available',\n 'Not available',\n 'Not available',\n 'Not available',\n 'Not available',\n 'Not available',\n 'Not available',\n 'Not available',\n 'Not available',\n 'Not available',\n 'Not available',\n 'Not available',\n 'Not available',\n 'Not available',\n 'Not available',\n 'Not available',\n 'Not available',\n 'Not available',\n 'Not available',\n 'Not available',\n 'Not available',\n 'Not available',\n 'Not available',\n 'Not available',\n 'Not available',\n 'Not available',\n 'Not available',\n 'Not available',\n 'Not available',\n 'Not available',\n 'Not available',\n 'Not available',\n 'Not available',\n 'Not available',\n 'Not available',\n 'Not available',\n 'Not available',\n 'Not available',\n 'Not available',\n 'Not available',\n 'Not available',\n 'Not available',\n 'Not available',\n 'Not available',\n 'Not available',\n 'Not available',\n 'Not available',\n 'Not available',\n 'Not available',\n 'Not available',\n 'Not available',\n 'Not available',\n 'Not available',\n 'Not available',\n 'Not available',\n 'Not available',\n 'Not available',\n 'Not available',\n 'Not available',\n 'Not available',\n 'Not available',\n 'Not available',\n 'Not available',\n 'Not available',\n 'Not available',\n 'Not available',\n 'Not available',\n 'Not available',\n 'Not available',\n 'Not available',\n 'Not available',\n 'Not available',\n 'Not available',\n 'Not available',\n 'Not available',\n 'Not available',\n 'Not available',\n 'Not available',\n 'Not available',\n 'Not available',\n 'Not available',\n 'Not available',\n 'Not available',\n 'Not available',\n 'Not available',\n 'Not available',\n 'Not available',\n 'Not available',\n 'Not available',\n 'Not available',\n 'Not available',\n 'Not available',\n 'Not available',\n 'Not available',\n 'Not available',\n 'Not available',\n 'Not available',\n 'Not available',\n 'Not available',\n 'Not available',\n 'Not available',\n 'Not available',\n 'Not available',\n 'Not available',\n 'Not available',\n 'Not available',\n 'Not available',\n 'Not available',\n 'Not available',\n 'Not available',\n 'Not available',\n 'Not available',\n 'Not available',\n 'Not available',\n 'Not available',\n 'Not available',\n 'Not available',\n 'Not available',\n 'Not available',\n 'Not available',\n 'Not available',\n 'Not available',\n 'Not available',\n 'Not available',\n 'Not available',\n 'Not available',\n 'Not available',\n 'Not available',\n 'Not available',\n 'Not available',\n 'Not available',\n 'Not available',\n 'Not available',\n 'Not available',\n 'Not available',\n 'Not available',\n 'Not available',\n 'Not available',\n 'Not available',\n 'Not available',\n 'Not available',\n 'Not available',\n 'Not available',\n 'Not available',\n 'Not available',\n 'Not available',\n 'Not available',\n 'Not available',\n 'Not available',\n 'Not available',\n 'Not available',\n 'Not available',\n 'Not available',\n 'Not available',\n 'Not available',\n 'Not available',\n 'Not available',\n 'Not available',\n 'Not available',\n 'Not available',\n 'Not available',\n 'Not available',\n 'Not available',\n 'Not available',\n 'Not available',\n 'Not available',\n 'Not available',\n 'Not available',\n 'Not available',\n 'Not available',\n 'Not available',\n 'Not available',\n 'Not available',\n 'Not available',\n 'Not available',\n 'Not available',\n 'Not available',\n 'Not available',\n 'Not available',\n 'Not available',\n 'Not available',\n 'Not available',\n 'Not available',\n 'Not available',\n 'Not available',\n 'Not available',\n 'Not available',\n 'Not available',\n 'Not available',\n 'Not available',\n 'Not available',\n 'Not available',\n 'Not available',\n 'Not available',\n 'Not available',\n 'Not available',\n 'Not available',\n 'Not available',\n 'Not available',\n 'Not available',\n 'Not available',\n 'Not available',\n 'Not available',\n 'Not available',\n 'Not available',\n 'Not available',\n 'Not available',\n 'Not available',\n 'Not available',\n 'Not available',\n 'Not available',\n 'Not available',\n 'Not available',\n 'Not available',\n 'Not available',\n 'Not available',\n 'Not available',\n 'Not available',\n 'Not available',\n 'Not available',\n 'Not available',\n 'Not available',\n 'Not available',\n 'Not available',\n 'Not available',\n 'Not available',\n 'Not available',\n 'Not available',\n 'Not available',\n 'Not available',\n 'Not available',\n 'Not available',\n 'Not available',\n 'Not available',\n 'Not available',\n 'Not available',\n 'Not available',\n 'Not available',\n 'Not available',\n 'Not available',\n 'Not available',\n 'Not available',\n 'Not available',\n 'Not available',\n 'Not available',\n 'Not available',\n 'Not available',\n 'Not available',\n 'Not available',\n 'Not available',\n 'Not available',\n 'Not available',\n 'Not available',\n 'Not available',\n 'Not available',\n 'Not available',\n 'Not available',\n 'Not available',\n 'Not available',\n 'Not available',\n 'Not available',\n 'Not available',\n 'Not available',\n 'Not available',\n 'Not available',\n 'Not available',\n 'Not available',\n 'Not available',\n 'Not available',\n 'Not available',\n 'Not available',\n 'Not available',\n 'Not available',\n 'Not available',\n 'Not available',\n 'Not available',\n 'Not available',\n 'Not available',\n 'Not available',\n 'Not available',\n 'Not available']"
     },
     "execution_count": 172,
     "metadata": {},
     "output_type": "execute_result"
    }
   ],
   "source": [
    "hjh_2_lexi"
   ],
   "metadata": {
    "collapsed": false,
    "ExecuteTime": {
     "end_time": "2023-05-18T10:09:26.245162700Z",
     "start_time": "2023-05-18T10:09:26.182654500Z"
    }
   }
  },
  {
   "cell_type": "code",
   "execution_count": 173,
   "outputs": [
    {
     "data": {
      "text/plain": "986"
     },
     "execution_count": 173,
     "metadata": {},
     "output_type": "execute_result"
    }
   ],
   "source": [
    "len(hjh_2_lexi)"
   ],
   "metadata": {
    "collapsed": false,
    "ExecuteTime": {
     "end_time": "2023-05-18T10:09:27.297652800Z",
     "start_time": "2023-05-18T10:09:27.250787400Z"
    }
   }
  },
  {
   "cell_type": "code",
   "execution_count": 174,
   "outputs": [],
   "source": [
    "df = pd.DataFrame()\n",
    "\n",
    "df['HJH Title'] = hjh_data\n",
    "\n",
    "df['Lexicomp Corresponding Title'] = hjh_2_lexi"
   ],
   "metadata": {
    "collapsed": false,
    "ExecuteTime": {
     "end_time": "2023-05-18T10:09:28.556632700Z",
     "start_time": "2023-05-18T10:09:28.525145Z"
    }
   }
  },
  {
   "cell_type": "code",
   "execution_count": 175,
   "outputs": [
    {
     "data": {
      "text/plain": "                      HJH Title Lexicomp Corresponding Title\n0    12 vitamins and 6 minerals                Not available\n1                  Acai extract                Not available\n2                      Acarbose                     Acarbose\n3                   Aceclofenac                Not available\n4           Acellular pertussis                Not available\n..                          ...                          ...\n981                Theophylline                Not available\n982                    thiamine                Not available\n983               Thioctic acid                Not available\n984           thiopental sodium                Not available\n985                       Thyme                Not available\n\n[986 rows x 2 columns]",
      "text/html": "<div>\n<style scoped>\n    .dataframe tbody tr th:only-of-type {\n        vertical-align: middle;\n    }\n\n    .dataframe tbody tr th {\n        vertical-align: top;\n    }\n\n    .dataframe thead th {\n        text-align: right;\n    }\n</style>\n<table border=\"1\" class=\"dataframe\">\n  <thead>\n    <tr style=\"text-align: right;\">\n      <th></th>\n      <th>HJH Title</th>\n      <th>Lexicomp Corresponding Title</th>\n    </tr>\n  </thead>\n  <tbody>\n    <tr>\n      <th>0</th>\n      <td>12 vitamins and 6 minerals</td>\n      <td>Not available</td>\n    </tr>\n    <tr>\n      <th>1</th>\n      <td>Acai extract</td>\n      <td>Not available</td>\n    </tr>\n    <tr>\n      <th>2</th>\n      <td>Acarbose</td>\n      <td>Acarbose</td>\n    </tr>\n    <tr>\n      <th>3</th>\n      <td>Aceclofenac</td>\n      <td>Not available</td>\n    </tr>\n    <tr>\n      <th>4</th>\n      <td>Acellular pertussis</td>\n      <td>Not available</td>\n    </tr>\n    <tr>\n      <th>...</th>\n      <td>...</td>\n      <td>...</td>\n    </tr>\n    <tr>\n      <th>981</th>\n      <td>Theophylline</td>\n      <td>Not available</td>\n    </tr>\n    <tr>\n      <th>982</th>\n      <td>thiamine</td>\n      <td>Not available</td>\n    </tr>\n    <tr>\n      <th>983</th>\n      <td>Thioctic acid</td>\n      <td>Not available</td>\n    </tr>\n    <tr>\n      <th>984</th>\n      <td>thiopental sodium</td>\n      <td>Not available</td>\n    </tr>\n    <tr>\n      <th>985</th>\n      <td>Thyme</td>\n      <td>Not available</td>\n    </tr>\n  </tbody>\n</table>\n<p>986 rows × 2 columns</p>\n</div>"
     },
     "execution_count": 175,
     "metadata": {},
     "output_type": "execute_result"
    }
   ],
   "source": [
    "df"
   ],
   "metadata": {
    "collapsed": false,
    "ExecuteTime": {
     "end_time": "2023-05-18T10:09:28.881668200Z",
     "start_time": "2023-05-18T10:09:28.850459200Z"
    }
   }
  },
  {
   "cell_type": "code",
   "execution_count": 177,
   "outputs": [],
   "source": [
    "df.to_excel('Notebooks/installations/Data/HJHDrugs2LexiScrapped.xlsx')"
   ],
   "metadata": {
    "collapsed": false,
    "ExecuteTime": {
     "end_time": "2023-05-18T11:21:28.378375700Z",
     "start_time": "2023-05-18T11:21:28.006251100Z"
    }
   }
  },
  {
   "cell_type": "code",
   "execution_count": 178,
   "outputs": [
    {
     "data": {
      "text/plain": "                      HJH Title Lexicomp Corresponding Title\n0    12 vitamins and 6 minerals                Not available\n1                  Acai extract                Not available\n2                      Acarbose                     Acarbose\n3                   Aceclofenac                Not available\n4           Acellular pertussis                Not available\n..                          ...                          ...\n981                Theophylline                Not available\n982                    thiamine                Not available\n983               Thioctic acid                Not available\n984           thiopental sodium                Not available\n985                       Thyme                Not available\n\n[986 rows x 2 columns]",
      "text/html": "<div>\n<style scoped>\n    .dataframe tbody tr th:only-of-type {\n        vertical-align: middle;\n    }\n\n    .dataframe tbody tr th {\n        vertical-align: top;\n    }\n\n    .dataframe thead th {\n        text-align: right;\n    }\n</style>\n<table border=\"1\" class=\"dataframe\">\n  <thead>\n    <tr style=\"text-align: right;\">\n      <th></th>\n      <th>HJH Title</th>\n      <th>Lexicomp Corresponding Title</th>\n    </tr>\n  </thead>\n  <tbody>\n    <tr>\n      <th>0</th>\n      <td>12 vitamins and 6 minerals</td>\n      <td>Not available</td>\n    </tr>\n    <tr>\n      <th>1</th>\n      <td>Acai extract</td>\n      <td>Not available</td>\n    </tr>\n    <tr>\n      <th>2</th>\n      <td>Acarbose</td>\n      <td>Acarbose</td>\n    </tr>\n    <tr>\n      <th>3</th>\n      <td>Aceclofenac</td>\n      <td>Not available</td>\n    </tr>\n    <tr>\n      <th>4</th>\n      <td>Acellular pertussis</td>\n      <td>Not available</td>\n    </tr>\n    <tr>\n      <th>...</th>\n      <td>...</td>\n      <td>...</td>\n    </tr>\n    <tr>\n      <th>981</th>\n      <td>Theophylline</td>\n      <td>Not available</td>\n    </tr>\n    <tr>\n      <th>982</th>\n      <td>thiamine</td>\n      <td>Not available</td>\n    </tr>\n    <tr>\n      <th>983</th>\n      <td>Thioctic acid</td>\n      <td>Not available</td>\n    </tr>\n    <tr>\n      <th>984</th>\n      <td>thiopental sodium</td>\n      <td>Not available</td>\n    </tr>\n    <tr>\n      <th>985</th>\n      <td>Thyme</td>\n      <td>Not available</td>\n    </tr>\n  </tbody>\n</table>\n<p>986 rows × 2 columns</p>\n</div>"
     },
     "execution_count": 178,
     "metadata": {},
     "output_type": "execute_result"
    }
   ],
   "source": [
    "df"
   ],
   "metadata": {
    "collapsed": false,
    "ExecuteTime": {
     "end_time": "2023-05-18T11:24:54.439593900Z",
     "start_time": "2023-05-18T11:24:54.408352200Z"
    }
   }
  },
  {
   "cell_type": "code",
   "execution_count": 179,
   "outputs": [],
   "source": [
    "df2 = pd.read_excel('Notebooks/installations/Scrapped-Comparison.xlsx')"
   ],
   "metadata": {
    "collapsed": false,
    "ExecuteTime": {
     "end_time": "2023-05-18T11:26:40.217182300Z",
     "start_time": "2023-05-18T11:26:40.154697Z"
    }
   }
  },
  {
   "cell_type": "code",
   "execution_count": 182,
   "outputs": [
    {
     "data": {
      "text/plain": "     Index               HJH Drug Name  \\\n0        0  12 vitamins and 6 minerals   \n1        1                Acai extract   \n2        2                    Acarbose   \n3        3                 Aceclofenac   \n4        4         Acellular pertussis   \n..     ...                         ...   \n145    145                  Calfactant   \n146    146                     Camphor   \n147    147               Canagliflozin   \n148    148       Candesartan cilexetil   \n149    149                   Captopril   \n\n                         Lexicomp Scrapped (if exists)  \n0                                        Not available  \n1          Acai (Patient Education - Natural Products)  \n2                                Acarbose (Lexi-Drugs)  \n3    Aceclofenac [INT] (Lexi-Drugs International [C...  \n4    Diphtheria and Tetanus Toxoids, and Acellular ...  \n..                                                 ...  \n145                            Calfactant (Lexi-Drugs)  \n146                               Camphor (Lexi-Drugs)  \n147                    Canagli_x0000_ozin (Lexi-Drugs)  \n148                           Candesartan (Lexi-Drugs)  \n149                             Captopril (Lexi-Drugs)  \n\n[150 rows x 3 columns]",
      "text/html": "<div>\n<style scoped>\n    .dataframe tbody tr th:only-of-type {\n        vertical-align: middle;\n    }\n\n    .dataframe tbody tr th {\n        vertical-align: top;\n    }\n\n    .dataframe thead th {\n        text-align: right;\n    }\n</style>\n<table border=\"1\" class=\"dataframe\">\n  <thead>\n    <tr style=\"text-align: right;\">\n      <th></th>\n      <th>Index</th>\n      <th>HJH Drug Name</th>\n      <th>Lexicomp Scrapped (if exists)</th>\n    </tr>\n  </thead>\n  <tbody>\n    <tr>\n      <th>0</th>\n      <td>0</td>\n      <td>12 vitamins and 6 minerals</td>\n      <td>Not available</td>\n    </tr>\n    <tr>\n      <th>1</th>\n      <td>1</td>\n      <td>Acai extract</td>\n      <td>Acai (Patient Education - Natural Products)</td>\n    </tr>\n    <tr>\n      <th>2</th>\n      <td>2</td>\n      <td>Acarbose</td>\n      <td>Acarbose (Lexi-Drugs)</td>\n    </tr>\n    <tr>\n      <th>3</th>\n      <td>3</td>\n      <td>Aceclofenac</td>\n      <td>Aceclofenac [INT] (Lexi-Drugs International [C...</td>\n    </tr>\n    <tr>\n      <th>4</th>\n      <td>4</td>\n      <td>Acellular pertussis</td>\n      <td>Diphtheria and Tetanus Toxoids, and Acellular ...</td>\n    </tr>\n    <tr>\n      <th>...</th>\n      <td>...</td>\n      <td>...</td>\n      <td>...</td>\n    </tr>\n    <tr>\n      <th>145</th>\n      <td>145</td>\n      <td>Calfactant</td>\n      <td>Calfactant (Lexi-Drugs)</td>\n    </tr>\n    <tr>\n      <th>146</th>\n      <td>146</td>\n      <td>Camphor</td>\n      <td>Camphor (Lexi-Drugs)</td>\n    </tr>\n    <tr>\n      <th>147</th>\n      <td>147</td>\n      <td>Canagliflozin</td>\n      <td>Canagli_x0000_ozin (Lexi-Drugs)</td>\n    </tr>\n    <tr>\n      <th>148</th>\n      <td>148</td>\n      <td>Candesartan cilexetil</td>\n      <td>Candesartan (Lexi-Drugs)</td>\n    </tr>\n    <tr>\n      <th>149</th>\n      <td>149</td>\n      <td>Captopril</td>\n      <td>Captopril (Lexi-Drugs)</td>\n    </tr>\n  </tbody>\n</table>\n<p>150 rows × 3 columns</p>\n</div>"
     },
     "execution_count": 182,
     "metadata": {},
     "output_type": "execute_result"
    }
   ],
   "source": [
    "df2"
   ],
   "metadata": {
    "collapsed": false,
    "ExecuteTime": {
     "end_time": "2023-05-18T11:28:54.560922800Z",
     "start_time": "2023-05-18T11:28:54.514044600Z"
    }
   }
  },
  {
   "cell_type": "code",
   "execution_count": 183,
   "outputs": [],
   "source": [
    "df = df.rename(columns={'HJH Title': 'Title'})\n",
    "df = df.rename(columns={'Lexicomp Corresponding Title': 'Lexi'})\n",
    "\n",
    "df2 = df2.rename(columns={'HJH Drug Name': 'Title'})\n",
    "df2 = df2.rename(columns={'Lexicomp Scrapped (if exists)': 'Lexi'})"
   ],
   "metadata": {
    "collapsed": false,
    "ExecuteTime": {
     "end_time": "2023-05-18T11:32:23.208000400Z",
     "start_time": "2023-05-18T11:32:23.158655900Z"
    }
   }
  },
  {
   "cell_type": "code",
   "execution_count": 196,
   "outputs": [],
   "source": [
    "df_merged = df.merge(df2, on='Title', how='outer')\n",
    "lexi_x = df_merged['Lexi_x']\n",
    "lexi_y = df_merged['Lexi_y']"
   ],
   "metadata": {
    "collapsed": false,
    "ExecuteTime": {
     "end_time": "2023-05-18T11:50:13.286778800Z",
     "start_time": "2023-05-18T11:50:13.271126700Z"
    }
   }
  },
  {
   "cell_type": "code",
   "execution_count": 199,
   "outputs": [],
   "source": [
    "titles = df_merged['Title']\n",
    "titles = titles.to_list()"
   ],
   "metadata": {
    "collapsed": false,
    "ExecuteTime": {
     "end_time": "2023-05-18T11:50:58.922227900Z",
     "start_time": "2023-05-18T11:50:58.906638700Z"
    }
   }
  },
  {
   "cell_type": "code",
   "execution_count": null,
   "outputs": [],
   "source": [
    "lexi_x = lexi_x.to_list()\n",
    "lexi_y = lexi_y.to_list()"
   ],
   "metadata": {
    "collapsed": false
   }
  },
  {
   "cell_type": "code",
   "execution_count": 192,
   "outputs": [
    {
     "data": {
      "text/plain": "['Not available',\n 'Not available',\n 'Acarbose',\n 'Not available',\n 'Not available',\n 'Not available',\n 'Not available',\n 'Not available',\n 'Acetylcysteine',\n 'Not available',\n 'Not available',\n 'Not available',\n 'Not available',\n 'Acyclovir (Ophthalmic)',\n 'Not available',\n 'Adalimumab',\n 'Not available',\n 'Not available',\n 'Adenosine',\n 'Not available',\n 'Not available',\n 'Not available',\n 'Not available',\n 'Not available',\n 'Albendazole',\n 'Not available',\n 'Alendronate',\n 'Alfacalcidol',\n 'Alfuzosin',\n 'Not available',\n 'Allopurinol',\n 'Not available',\n 'Not available',\n 'Not available',\n 'Not available',\n 'Alprostadil',\n 'Not available',\n 'Not available',\n 'Not available',\n 'Not available',\n 'Not available',\n 'Not available',\n 'Not available',\n 'Amikacin (refer to route-specific monograph)',\n 'Not available',\n 'Not available',\n 'Not available',\n 'Not available',\n 'Aminophylline',\n 'Amiodarone',\n 'Amitriptyline',\n 'Not available',\n 'Not available',\n 'Not available',\n 'Amoxicillin',\n 'Ampicillin',\n 'Not available',\n 'Not available',\n 'Not available',\n 'Anidulafungin',\n 'Not available',\n 'Not available',\n 'Not available',\n 'Not available',\n 'Not available',\n 'Apixaban',\n 'Apremilast',\n 'Arginine',\n 'Not available',\n 'Not available',\n 'Not available',\n 'Atenolol',\n 'Not available',\n 'Atorvastatin',\n 'Not available',\n 'Not available',\n 'Not available',\n 'Not available',\n 'Not available',\n 'Not available',\n 'Not available',\n 'Not available',\n 'Azithromycin (Ophthalmic)',\n 'Aztreonam (Oral Inhalation)',\n 'Not available',\n 'Bacitracin (Ophthalmic)',\n 'Baclofen',\n 'Not available',\n 'Not available',\n 'Not available',\n 'Not available',\n 'Not available',\n 'Not available',\n 'Benzocaine',\n 'Not available',\n 'Not available',\n 'Not available',\n 'Not available',\n 'Not available',\n 'Beractant',\n 'Not available',\n 'Not available',\n 'Not available',\n 'Betamethasone (refer to route-specific monograph)',\n 'Not available',\n 'Not available',\n 'Not available',\n 'Bevacizumab',\n 'Bilastine',\n 'Bimatoprost',\n 'Biotin',\n 'Bisacodyl',\n 'Not available',\n 'Bleomycin',\n 'Not available',\n 'Not available',\n 'Not available',\n 'Brimonidine (Ophthalmic)',\n 'Not available',\n 'Brinzolamide',\n 'Bromazepam',\n 'Not available',\n 'Not available',\n 'Budesonide (Nasal)',\n 'Bumetanide',\n 'Not available',\n 'Buserelin',\n 'Not available',\n 'Not available',\n 'Not available',\n 'Cabergoline',\n 'Not available',\n 'Not available',\n 'Caffeine',\n 'Calamine',\n 'Not available',\n 'Not available',\n 'Not available',\n 'Not available',\n 'Not available',\n 'Not available',\n 'Not available',\n 'Not available',\n 'Not available',\n 'Not available',\n 'Calfactant',\n 'Camphor',\n 'Canagliflozin',\n 'Not available',\n 'Captopril',\n 'Not available',\n 'Carbetocin',\n 'Carbidopa',\n 'Not available',\n 'Not available',\n 'Not available',\n 'Carboxymethylcellulose',\n 'Not available',\n 'Cariprazine',\n 'Not available',\n 'Caspofungin',\n 'Not available',\n 'Not available',\n 'Cefaclor',\n 'Cefadroxil',\n 'Not available',\n 'Cefdinir',\n 'Not available',\n 'Cefepime',\n 'Cefixime',\n 'Cefotaxime',\n 'Not available',\n 'Cefpodoxime',\n 'Cefprozil',\n 'Not available',\n 'Not available',\n 'Not available',\n 'Ceftobiprole',\n 'Not available',\n 'Not available',\n 'Not available',\n 'Celecoxib',\n 'Not available',\n 'Not available',\n 'Not available',\n 'Not available',\n 'Not available',\n 'Not available',\n 'Cetrorelix',\n 'Not available',\n 'Not available',\n 'Not available',\n 'Not available',\n 'Not available',\n 'Not available',\n 'Chloroquine',\n 'Chlorpheniramine',\n 'Not available',\n 'Not available',\n 'Not available',\n 'Not available',\n 'Not available',\n 'Chlorzoxazone',\n 'Not available',\n 'Not available',\n 'Not available',\n 'Not available',\n 'Not available',\n 'Ciclesonide (Nasal)',\n 'Not available',\n 'Not available',\n 'Cinacalcet',\n 'Not available',\n 'Ciprofloxacin (Ophthalmic)',\n 'Not available',\n 'Not available',\n 'Not available',\n 'Citalopram',\n 'Not available',\n 'Clarithromycin',\n 'Not available',\n 'Not available',\n 'Not available',\n 'Not available',\n 'Not available',\n 'Clobetasol',\n 'Not available',\n 'Not available',\n 'Not available',\n 'Not available',\n 'Not available',\n 'Clotrimazole (Oral)',\n 'Not available',\n 'Not available',\n 'Not available',\n 'Not available',\n 'Not available',\n 'Colchicine',\n 'Not available',\n 'Collagen (AbsorbableDental)',\n 'Not available',\n 'Not available',\n 'Copper',\n 'Not available',\n 'Not available',\n 'Not available',\n 'Not available',\n 'Crotamiton',\n 'Not available',\n 'Not available',\n 'Not available',\n 'Cyclobenzaprine',\n 'Cyclopentolate',\n 'Not available',\n 'Not available',\n 'Cyproterone',\n 'Not available',\n 'Not available',\n 'Dapagliflozin',\n 'Not available',\n 'Dapsone (refer to route-specific monograph)',\n 'Not available',\n 'Not available',\n 'Not available',\n 'Not available',\n 'Not available',\n 'Not available',\n 'Not available',\n 'Not available',\n 'Desloratadine',\n 'Not available',\n 'Not available',\n 'Not available',\n 'Not available',\n 'Not available',\n 'Not available',\n 'Dexlansoprazole',\n 'Not available',\n 'Not available',\n 'Not available',\n 'Dextromethorphan',\n 'Dextrose',\n 'Not available',\n 'Not available',\n 'Diclofenac (Ophthalmic)',\n 'Not available',\n 'Not available',\n 'Not available',\n 'Not available',\n 'Dienogest',\n 'Not available',\n 'Not available',\n 'Not available',\n 'Not available',\n 'Not available',\n 'Not available',\n 'Not available',\n 'Not available',\n 'Not available',\n 'Not available',\n 'Not available',\n 'Not available',\n 'Not available',\n 'Not available',\n 'Not available',\n 'Not available',\n 'Not available',\n 'Not available',\n 'Not available',\n 'Not available',\n 'Not available',\n 'Not available',\n 'Not available',\n 'Not available',\n 'Not available',\n 'Not available',\n 'Not available',\n 'Not available',\n 'Not available',\n 'Not available',\n 'Not available',\n 'Not available',\n 'Not available',\n 'Not available',\n 'Not available',\n 'Not available',\n 'Not available',\n 'Not available',\n 'Not available',\n 'Not available',\n 'Not available',\n 'Not available',\n 'Not available',\n 'Not available',\n 'Not available',\n 'Not available',\n 'Not available',\n 'Not available',\n 'Not available',\n 'Not available',\n 'Not available',\n 'Not available',\n 'Not available',\n 'Not available',\n 'Not available',\n 'Not available',\n 'Not available',\n 'Not available',\n 'Not available',\n 'Not available',\n 'Not available',\n 'Not available',\n 'Not available',\n 'Not available',\n 'Not available',\n 'Not available',\n 'Not available',\n 'Not available',\n 'Not available',\n 'Not available',\n 'Not available',\n 'Not available',\n 'Not available',\n 'Not available',\n 'Not available',\n 'Not available',\n 'Alcohol (Ethyl)',\n 'Not available',\n 'Not available',\n 'Not available',\n 'Not available',\n 'Not available',\n 'Not available',\n 'Not available',\n 'Not available',\n 'Not available',\n 'Not available',\n 'Not available',\n 'Not available',\n 'Not available',\n 'Not available',\n 'Not available',\n 'Not available',\n 'Not available',\n 'Not available',\n 'Not available',\n 'Not available',\n 'Not available',\n 'Not available',\n 'Not available',\n 'Not available',\n 'Not available',\n 'Not available',\n 'Not available',\n 'Not available',\n 'Not available',\n 'Not available',\n 'Not available',\n 'Not available',\n 'Not available',\n 'Not available',\n 'Not available',\n 'Not available',\n 'Not available',\n 'Not available',\n 'Not available',\n 'Not available',\n 'Not available',\n 'Not available',\n 'Not available',\n 'Not available',\n 'Not available',\n 'Not available',\n 'Not available',\n 'Not available',\n 'Not available',\n 'Not available',\n 'Not available',\n 'Not available',\n 'Not available',\n 'Not available',\n 'Not available',\n 'Not available',\n 'Not available',\n 'Not available',\n 'Not available',\n 'Not available',\n 'Not available',\n 'Not available',\n 'Not available',\n 'Not available',\n 'Not available',\n 'Not available',\n 'Not available',\n 'Not available',\n 'Not available',\n 'Not available',\n 'Not available',\n 'Not available',\n 'Not available',\n 'Not available',\n 'Not available',\n 'Not available',\n 'Not available',\n 'Not available',\n 'Not available',\n 'Not available',\n 'Not available',\n 'Not available',\n 'Not available',\n 'Not available',\n 'Not available',\n 'Not available',\n 'Not available',\n 'Not available',\n 'Not available',\n 'Not available',\n 'Not available',\n 'Not available',\n 'Not available',\n 'Not available',\n 'Not available',\n 'Not available',\n 'Not available',\n 'Not available',\n 'Not available',\n 'Not available',\n 'Not available',\n 'Not available',\n 'Not available',\n 'Not available',\n 'Not available',\n 'Not available',\n 'Not available',\n 'Not available',\n 'Not available',\n 'Not available',\n 'Not available',\n 'Not available',\n 'Not available',\n 'Not available',\n 'Not available',\n 'Not available',\n 'Not available',\n 'Not available',\n 'Not available',\n 'Not available',\n 'Not available',\n 'Not available',\n 'Not available',\n 'Not available',\n 'Not available',\n 'Not available',\n 'Not available',\n 'Not available',\n 'Not available',\n 'Not available',\n 'Not available',\n 'Not available',\n 'Not available',\n 'Not available',\n 'Not available',\n 'Not available',\n 'Not available',\n 'Not available',\n 'Not available',\n 'Not available',\n 'Not available',\n 'Not available',\n 'Not available',\n 'Not available',\n 'Not available',\n 'Not available',\n 'Not available',\n 'Not available',\n 'Not available',\n 'Not available',\n 'Not available',\n 'Not available',\n 'Not available',\n 'Not available',\n 'Not available',\n 'Not available',\n 'Not available',\n 'Not available',\n 'Not available',\n 'Not available',\n 'Not available',\n 'Not available',\n 'Not available',\n 'Not available',\n 'Not available',\n 'Not available',\n 'Not available',\n 'Not available',\n 'Not available',\n 'Not available',\n 'Not available',\n 'Not available',\n 'Not available',\n 'Not available',\n 'Not available',\n 'Not available',\n 'Not available',\n 'Not available',\n 'Not available',\n 'Not available',\n 'Not available',\n 'Not available',\n 'Not available',\n 'Not available',\n 'Not available',\n 'Not available',\n 'Not available',\n 'Not available',\n 'Not available',\n 'Not available',\n 'Not available',\n 'Not available',\n 'Not available',\n 'Not available',\n 'Not available',\n 'Not available',\n 'Not available',\n 'Not available',\n 'Not available',\n 'Not available',\n 'Not available',\n 'Not available',\n 'Not available',\n 'Not available',\n 'Not available',\n 'Not available',\n 'Not available',\n 'Not available',\n 'Not available',\n 'Not available',\n 'Not available',\n 'Not available',\n 'Not available',\n 'Not available',\n 'Not available',\n 'Not available',\n 'Not available',\n 'Not available',\n 'Not available',\n 'Not available',\n 'Not available',\n 'Not available',\n 'Not available',\n 'Not available',\n 'Not available',\n 'Not available',\n 'Not available',\n 'Not available',\n 'Not available',\n 'Not available',\n 'Not available',\n 'Not available',\n 'Not available',\n 'Not available',\n 'Not available',\n 'Not available',\n 'Not available',\n 'Not available',\n 'Not available',\n 'Not available',\n 'Not available',\n 'Not available',\n 'Not available',\n 'Not available',\n 'Not available',\n 'Not available',\n 'Not available',\n 'Not available',\n 'Not available',\n 'Not available',\n 'Not available',\n 'Not available',\n 'Not available',\n 'Not available',\n 'Not available',\n 'Not available',\n 'Not available',\n 'Not available',\n 'Not available',\n 'Not available',\n 'Not available',\n 'Not available',\n 'Not available',\n 'Not available',\n 'Not available',\n 'Not available',\n 'Not available',\n 'Not available',\n 'Not available',\n 'Not available',\n 'Not available',\n 'Not available',\n 'Not available',\n 'Not available',\n 'Not available',\n 'Not available',\n 'Not available',\n 'Not available',\n 'Not available',\n 'Not available',\n 'Not available',\n 'Not available',\n 'Not available',\n 'Not available',\n 'Not available',\n 'Not available',\n 'Not available',\n 'Not available',\n 'Not available',\n 'Not available',\n 'Not available',\n 'Not available',\n 'Not available',\n 'Not available',\n 'Not available',\n 'Not available',\n 'Not available',\n 'Not available',\n 'Not available',\n 'Not available',\n 'Not available',\n 'Not available',\n 'Not available',\n 'Not available',\n 'Not available',\n 'Not available',\n 'Not available',\n 'Not available',\n 'Not available',\n 'Not available',\n 'Not available',\n 'Not available',\n 'Not available',\n 'Not available',\n 'Not available',\n 'Not available',\n 'Not available',\n 'Not available',\n 'Not available',\n 'Not available',\n 'Not available',\n 'Not available',\n 'Not available',\n 'Not available',\n 'Not available',\n 'Not available',\n 'Not available',\n 'Not available',\n 'Not available',\n 'Not available',\n 'Not available',\n 'Not available',\n 'Not available',\n 'Not available',\n 'Not available',\n 'Not available',\n 'Not available',\n 'Not available',\n 'Not available',\n 'Not available',\n 'Not available',\n 'Not available',\n 'Not available',\n 'Not available',\n 'Not available',\n 'Not available',\n 'Not available',\n 'Not available',\n 'Not available',\n 'Not available',\n 'Not available',\n 'Not available',\n 'Not available',\n 'Not available',\n 'Not available',\n 'Not available',\n 'Not available',\n 'Not available',\n 'Not available',\n 'Not available',\n 'Not available',\n 'Not available',\n 'Not available',\n 'Not available',\n 'Not available',\n 'Not available',\n 'Not available',\n 'Not available',\n 'Not available',\n 'Not available',\n 'Not available',\n 'Not available',\n 'Not available',\n 'Not available',\n 'Not available',\n 'Not available',\n 'Not available',\n 'Not available',\n 'Not available',\n 'Not available',\n 'Not available',\n 'Not available',\n 'Not available',\n 'Not available',\n 'Not available',\n 'Not available',\n 'Not available',\n 'Not available',\n 'Not available',\n 'Not available',\n 'Not available',\n 'Not available',\n 'Not available',\n 'Not available',\n 'Not available',\n 'Not available',\n 'Not available',\n 'Not available',\n 'Not available',\n 'Not available',\n 'Not available',\n 'Not available',\n 'Not available',\n 'Not available',\n 'Not available',\n 'Not available',\n 'Not available',\n 'Not available',\n 'Not available',\n 'Not available',\n 'Not available',\n 'Not available',\n 'Not available',\n 'Not available',\n 'Not available',\n 'Not available',\n 'Not available',\n 'Not available',\n 'Not available',\n 'Not available',\n 'Not available',\n 'Not available',\n 'Not available',\n 'Not available',\n 'Not available',\n 'Not available',\n 'Not available',\n 'Not available',\n 'Not available',\n 'Not available',\n 'Not available',\n 'Not available',\n 'Not available',\n 'Not available',\n 'Not available',\n 'Not available',\n 'Not available',\n 'Not available',\n 'Not available',\n 'Not available',\n 'Not available',\n 'Not available',\n 'Not available',\n 'Not available',\n 'Not available',\n 'Not available',\n 'Not available',\n 'Not available',\n 'Not available',\n 'Not available',\n 'Not available',\n 'Not available',\n 'Not available',\n 'Not available',\n 'Not available',\n 'Not available',\n 'Not available',\n 'Not available',\n 'Not available',\n 'Not available',\n 'Not available',\n 'Not available',\n 'Not available',\n 'Not available',\n 'Not available',\n 'Not available',\n 'Not available',\n 'Not available',\n 'Not available',\n 'Not available',\n 'Not available',\n 'Not available',\n 'Not available',\n 'Not available',\n 'Not available',\n 'Not available',\n 'Not available',\n 'Not available',\n 'Not available',\n 'Not available',\n 'Not available',\n 'Not available',\n 'Not available',\n 'Not available',\n 'Not available',\n 'Not available',\n 'Not available',\n 'Not available',\n 'Not available',\n 'Not available',\n 'Not available',\n 'Not available',\n 'Not available',\n 'Not available',\n 'Not available',\n 'Not available',\n 'Not available',\n 'Not available',\n 'Not available',\n 'Not available',\n 'Not available',\n 'Not available',\n 'Not available',\n 'Not available',\n 'Not available',\n 'Not available',\n 'Not available',\n 'Not available',\n 'Not available',\n 'Not available',\n 'Not available',\n 'Not available',\n 'Not available',\n 'Not available',\n 'Not available',\n 'Not available',\n 'Not available',\n 'Not available',\n 'Not available',\n 'Not available',\n 'Not available',\n 'Not available',\n 'Not available',\n 'Not available',\n 'Not available',\n 'Not available',\n 'Not available',\n 'Not available',\n 'Not available',\n 'Not available',\n 'Not available',\n 'Not available',\n 'Not available',\n 'Not available',\n 'Not available',\n 'Not available',\n 'Not available',\n 'Not available',\n 'Not available',\n 'Not available',\n 'Not available',\n 'Not available',\n 'Not available',\n 'Not available',\n 'Not available',\n 'Not available',\n 'Not available',\n 'Not available',\n 'Not available',\n 'Not available',\n 'Not available',\n 'Not available',\n 'Not available',\n 'Not available',\n 'Not available',\n 'Not available',\n 'Not available',\n 'Not available',\n 'Not available',\n 'Not available',\n 'Not available',\n 'Not available',\n 'Not available',\n 'Not available',\n 'Not available',\n 'Not available',\n 'Not available',\n 'Not available',\n 'Not available',\n 'Not available',\n 'Not available',\n 'Not available',\n 'Not available',\n 'Not available',\n 'Not available',\n 'Not available',\n 'Not available',\n 'Not available',\n 'Not available',\n 'Not available',\n 'Not available',\n 'Not available',\n 'Not available',\n 'Not available',\n 'Not available',\n 'Not available',\n 'Not available',\n 'Not available',\n 'Not available',\n 'Not available',\n 'Not available',\n 'Not available',\n 'Not available',\n 'Not available',\n 'Not available',\n 'Not available',\n 'Not available',\n 'Not available',\n 'Not available',\n 'Not available',\n 'Not available',\n 'Not available',\n 'Not available',\n 'Not available',\n 'Not available',\n 'Not available',\n 'Not available',\n 'Not available',\n 'Not available',\n 'Not available',\n 'Not available',\n 'Not available',\n 'Not available',\n 'Not available',\n 'Not available',\n 'Not available',\n 'Not available',\n 'Not available',\n 'Not available']"
     },
     "execution_count": 192,
     "metadata": {},
     "output_type": "execute_result"
    }
   ],
   "source": [
    "lexi_x"
   ],
   "metadata": {
    "collapsed": false,
    "ExecuteTime": {
     "end_time": "2023-05-18T11:43:55.049647100Z",
     "start_time": "2023-05-18T11:43:54.996701500Z"
    }
   }
  },
  {
   "cell_type": "code",
   "execution_count": 201,
   "outputs": [],
   "source": [
    "lexi = []\n",
    "for i in range(len(lexi_x)):\n",
    "    if lexi_y[i] == 'Not available' or lexi_y[i] == None:\n",
    "        lexi.append(lexi_x[i])\n",
    "    else:\n",
    "        lexi.append(lexi_y[i])"
   ],
   "metadata": {
    "collapsed": false,
    "ExecuteTime": {
     "end_time": "2023-05-18T11:51:46.033336200Z",
     "start_time": "2023-05-18T11:51:45.932704300Z"
    }
   }
  },
  {
   "cell_type": "code",
   "execution_count": 202,
   "outputs": [
    {
     "data": {
      "text/plain": "['Not available',\n 'Acai (Patient Education - Natural Products)',\n 'Acarbose (Lexi-Drugs)',\n 'Aceclofenac [INT] (Lexi-Drugs International [Concise])',\n 'Diphtheria and Tetanus Toxoids, and Acellular Pertussis Vaccine (Lexi-Drugs)',\n 'Acemetacin [INT] (Lexi-Drugs International [Concise])',\n 'AcetaZOLAMIDE (Lexi-Drugs)',\n 'Isopropanol Level (Includes Acetone) (Lab Tests and Diagnostic Procedures)',\n 'Acetylcysteine (Lexi-Drugs)',\n 'Aspirin (Lexi-Drugs)',\n 'Not available',\n 'Not available',\n 'Not available',\n 'Acyclovir (refer to route-speci_x0000_c monograph) (Lexi-Drugs)',\n 'Acyclovir (Systemic) (Lexi-Drugs)',\n 'Adalimumab (Lexi-Drugs)',\n 'Adapalene (Lexi-Drugs)',\n 'Adefovir (Lexi-Drugs)',\n 'Adenosine (Lexi-Drugs)',\n 'EPINEPHrine (Systemic) (Lexi-Drugs)',\n 'Horse Chestnut (Natural Products Database)',\n 'Horse Chestnut (Natural Products Database)',\n 'A_x0000_ibercept (refer to route-speci_x0000_c monograph) (Lexi-Drugs)',\n 'Not available',\n 'Albendazole (Lexi-Drugs)',\n 'Albumin (Lexi-Drugs)',\n 'Alendronate (Lexi-Drugs)',\n 'Alfacalcidol (Lexi-Drugs)',\n 'Alfuzosin (Lexi-Drugs)',\n 'Not available',\n 'Allopurinol (Lexi-Drugs)',\n 'Acetohydroxamic Acid (Lexi-Drugs)',\n 'Alpha-Lipoic Acid (Natural Products Database)',\n 'Vitamin E (Topical) (Lexi-Drugs)',\n 'ALPRAZolam (Lexi-Drugs)',\n 'Alprostadil (Lexi-Drugs)',\n 'Alteplase (Lexi-Drugs)',\n 'Aluminum Hydroxide and Magnesium Hydroxide (Lexi-Drugs)',\n 'Aluminum Chloride (Lexi-Drugs)',\n 'Aluminum Hydroxide (Lexi-Drugs)',\n 'Alverine [INT] (Lexi-Drugs International [Concise])',\n 'Amantadine (Lexi-Drugs)',\n 'Ambroxol [INT] (Lexi-Drugs International [Concise])',\n 'Amikacin (refer to route-speci_x0000_c monograph) (Lexi-Drugs)',\n 'AMILoride (Lexi-Drugs)',\n 'Amikacin (Systemic) (Lexi-Drugs)',\n 'Amino Acid Injection (Lexi-Drugs)',\n 'Amino Acid Injection (Lexi-Drugs)',\n 'Aminophylline (Lexi-Drugs)',\n 'Amiodarone (Lexi-Drugs)',\n 'Amitriptyline (Lexi-Drugs)',\n 'Amitriptyline and Perphenazine (Lexi-Drugs)',\n 'AmLODIPine (Lexi-Drugs)',\n 'Ciclopirox (Lexi-Drugs)',\n 'Amoxicillin (Lexi-Drugs)',\n 'Ampicillin (Lexi-Drugs)',\n 'Pancrelipase (Lexi-Drugs)',\n 'Not available',\n 'Not available',\n 'Anidulafungin (Lexi-Drugs)',\n 'Anise (Natural Products Database)',\n 'Naphazoline and Antazoline (Nasal) (Lexi-Tox)',\n 'Anthraquinone Allergy (Drug Allergy and Idiosyncratic Reactions)',\n 'Rh(D) Immune Globulin (Lexi-Drugs)',\n 'Centruroides Immune F(ab’) (Equine) (Lexi-Drugs)',\n 'Apixaban (Lexi-Drugs)',\n 'Apremilast (Lexi-Drugs)',\n 'Arginine (Lexi-Drugs)',\n 'ARIPiprazole (Lexi-Drugs)',\n 'Artichoke (Patient Education - Natural Products)',\n 'Ascorbic Acid (Lexi-Drugs)',\n 'Atenolol (Lexi-Drugs)',\n 'Atenolol (Lexi-Drugs)',\n 'Atorvastatin (Lexi-Drugs)',\n 'Atosiban [INT] (Lexi-Drugs International [Concise])',\n 'Atracurium (Lexi-Drugs)',\n 'Atropine (Ophthalmic) (Lexi-Drugs)',\n 'Ceftazidime and Avibactam (Lexi-Drugs)',\n 'Avocado (Natural Products Database)',\n 'AzaTHIOprine (Lexi-Drugs)',\n 'Azelaic Acid (Lexi-Drugs)',\n 'Azilsartan (Lexi-Drugs)',\n 'Azithromycin (refer to route-speci_x0000_c monograph) (Lexi-Drugs)',\n 'Aztreonam (refer to route-speci_x0000_c monograph) (Lexi-Drugs)',\n 'Bacillus Clausii (Natural Products Database)',\n 'Bacitracin (refer to route-speci_x0000_c monograph) (Lexi-Drugs)',\n 'Baclofen (Lexi-Drugs)',\n 'BCG Vaccine (Immunization) (Lexi-Drugs)',\n 'Beclomethasone (Nasal) (Lexi-Drugs)',\n 'Honeybee Products (Natural Products Database)',\n 'Not available',\n 'Not available',\n 'Fluorescein and Benoxinate (Lexi-Drugs)',\n 'Benzocaine (Lexi-Drugs)',\n 'Methenamine, Phenyl Salicylate, Methylene Blue, Benzoic Acid, and Hyoscyamine (Lexi-Drugs)',\n 'Not available',\n 'Benzoyl Peroxide (Lexi-Drugs)',\n 'Not available',\n 'Penicillin G Procaine (Lexi-Drugs)',\n 'Beractant (Lexi-Drugs)',\n 'Bergamot Oil (Natural Products Database)',\n 'Beta-Glucan (Natural Products Database)',\n 'Betahistine (Lexi-Drugs)',\n 'Betamethasone (Systemic) (Lexi-Drugs)',\n 'Calcipotriene and Betamethasone (Lexi-Drugs)\\xa0',\n 'Betamethasone (Topical) (Pediatric and Neonatal Lexi-Drugs)',\n 'Beta-Sitosterol (Natural Products Database)',\n 'Bevacizumab (Lexi-Drugs)',\n 'Bilastine (Lexi-Drugs)',\n 'Bimatoprost (Lexi-Drugs)',\n 'Biotin (Lexi-Drugs)',\n 'Bisacodyl (Lexi-Drugs)',\n 'Bisoprolol (Lexi-Drugs)',\n 'Bleomycin (Lexi-Drugs)',\n 'Boric Acid (Vaginal) (Lexi-Drugs)',\n 'AbobotulinumtoxinA (Lexi-Drugs)',\n \"Brewer's Yeast (Natural Products Database)\",\n 'Brimonidine (refer to route-speci_x0000_c monograph) (Lexi-Drugs)',\n 'Brimonidine (Ophthalmic) (Lexi-Drugs)',\n 'Brinzolamide (Lexi-Drugs)',\n 'Bromazepam (Lexi-Drugs)',\n 'Bromhexine [INT] (Lexi-Drugs International [Concise])',\n 'Bromocriptine (Lexi-Drugs)',\n 'Budesonide (refer to route-speci_x0000_c monograph) (Lexi-Drugs)',\n 'Bumetanide (Lexi-Drugs)',\n 'BUPivacaine (Lexi-Drugs)',\n 'Buserelin (Lexi-Drugs)',\n 'BusPIRone (Lexi-Drugs)',\n '-Methylamino--(,-Methylenedioxyphenyl)butane (Lexi-Tox)',\n \"Butcher's Broom (Natural Products Database)\",\n 'Cabergoline (Lexi-Drugs)',\n \"Ringer's Injection (Lexi-Drugs)\",\n 'Prickly Pear (Natural Products Database)',\n 'Ca_x0000_eine (Lexi-Drugs)',\n 'Calamine (Lexi-Drugs)',\n 'Calcipotriene and Betamethasone (Lexi-Drugs)',\n 'Calcitonin (Lexi-Drugs)',\n 'Calcium Polystyrene Sulfonate (Lexi-Drugs)',\n 'Calcium Carbonate (Lexi-Drugs)',\n 'Calcium Chloride (Lexi-Drugs)',\n 'Calcium Dobesilate and Lidocaine (Pharmacogenomics)',\n 'Calcium Gluconate (Lexi-Drugs)',\n 'Calcium Carbonate and Magnesium Carbonate (Lexi-Drugs)',\n 'Calcium Polystyrene Sulfonate (Lexi-Drugs)',\n 'Calcium Gluconate (Lexi-Drugs)',\n 'Calfactant (Lexi-Drugs)',\n 'Camphor (Lexi-Drugs)',\n 'Canagli_x0000_ozin (Lexi-Drugs)',\n 'Candesartan (Lexi-Drugs)',\n 'Captopril (Lexi-Drugs)',\n nan,\n nan,\n nan,\n nan,\n nan,\n nan,\n nan,\n nan,\n nan,\n nan,\n nan,\n nan,\n nan,\n nan,\n nan,\n nan,\n nan,\n nan,\n nan,\n nan,\n nan,\n nan,\n nan,\n nan,\n nan,\n nan,\n nan,\n nan,\n nan,\n nan,\n nan,\n nan,\n nan,\n nan,\n nan,\n nan,\n nan,\n nan,\n nan,\n nan,\n nan,\n nan,\n nan,\n nan,\n nan,\n nan,\n nan,\n nan,\n nan,\n nan,\n nan,\n nan,\n nan,\n nan,\n nan,\n nan,\n nan,\n nan,\n nan,\n nan,\n nan,\n nan,\n nan,\n nan,\n nan,\n nan,\n nan,\n nan,\n nan,\n nan,\n nan,\n nan,\n nan,\n nan,\n nan,\n nan,\n nan,\n nan,\n nan,\n nan,\n nan,\n nan,\n nan,\n nan,\n nan,\n nan,\n nan,\n nan,\n nan,\n nan,\n nan,\n nan,\n nan,\n nan,\n nan,\n nan,\n nan,\n nan,\n nan,\n nan,\n nan,\n nan,\n nan,\n nan,\n nan,\n nan,\n nan,\n nan,\n nan,\n nan,\n nan,\n nan,\n nan,\n nan,\n nan,\n nan,\n nan,\n nan,\n nan,\n nan,\n nan,\n nan,\n nan,\n nan,\n nan,\n nan,\n nan,\n nan,\n nan,\n nan,\n nan,\n nan,\n nan,\n nan,\n nan,\n nan,\n nan,\n nan,\n nan,\n nan,\n nan,\n nan,\n nan,\n nan,\n nan,\n nan,\n nan,\n nan,\n nan,\n nan,\n nan,\n nan,\n nan,\n nan,\n nan,\n nan,\n nan,\n nan,\n nan,\n nan,\n nan,\n nan,\n nan,\n nan,\n nan,\n nan,\n nan,\n nan,\n nan,\n nan,\n nan,\n nan,\n nan,\n nan,\n nan,\n nan,\n nan,\n nan,\n nan,\n nan,\n nan,\n nan,\n nan,\n nan,\n nan,\n nan,\n nan,\n nan,\n nan,\n nan,\n nan,\n nan,\n nan,\n nan,\n nan,\n nan,\n nan,\n nan,\n nan,\n nan,\n nan,\n nan,\n nan,\n nan,\n nan,\n nan,\n nan,\n nan,\n nan,\n nan,\n nan,\n nan,\n nan,\n nan,\n nan,\n nan,\n nan,\n nan,\n nan,\n nan,\n nan,\n nan,\n nan,\n nan,\n nan,\n nan,\n nan,\n nan,\n nan,\n nan,\n nan,\n nan,\n nan,\n nan,\n nan,\n nan,\n nan,\n nan,\n nan,\n nan,\n nan,\n nan,\n nan,\n nan,\n nan,\n nan,\n nan,\n nan,\n nan,\n nan,\n nan,\n nan,\n nan,\n nan,\n nan,\n nan,\n nan,\n nan,\n nan,\n nan,\n nan,\n nan,\n nan,\n nan,\n nan,\n nan,\n nan,\n nan,\n nan,\n nan,\n nan,\n nan,\n nan,\n nan,\n nan,\n nan,\n nan,\n nan,\n nan,\n nan,\n nan,\n nan,\n nan,\n nan,\n nan,\n nan,\n nan,\n nan,\n nan,\n nan,\n nan,\n nan,\n nan,\n nan,\n nan,\n nan,\n nan,\n nan,\n nan,\n nan,\n nan,\n nan,\n nan,\n nan,\n nan,\n nan,\n nan,\n nan,\n nan,\n nan,\n nan,\n nan,\n nan,\n nan,\n nan,\n nan,\n nan,\n nan,\n nan,\n nan,\n nan,\n nan,\n nan,\n nan,\n nan,\n nan,\n nan,\n nan,\n nan,\n nan,\n nan,\n nan,\n nan,\n nan,\n nan,\n nan,\n nan,\n nan,\n nan,\n nan,\n nan,\n nan,\n nan,\n nan,\n nan,\n nan,\n nan,\n nan,\n nan,\n nan,\n nan,\n nan,\n nan,\n nan,\n nan,\n nan,\n nan,\n nan,\n nan,\n nan,\n nan,\n nan,\n nan,\n nan,\n nan,\n nan,\n nan,\n nan,\n nan,\n nan,\n nan,\n nan,\n nan,\n nan,\n nan,\n nan,\n nan,\n nan,\n nan,\n nan,\n nan,\n nan,\n nan,\n nan,\n nan,\n nan,\n nan,\n nan,\n nan,\n nan,\n nan,\n nan,\n nan,\n nan,\n nan,\n nan,\n nan,\n nan,\n nan,\n nan,\n nan,\n nan,\n nan,\n nan,\n nan,\n nan,\n nan,\n nan,\n nan,\n nan,\n nan,\n nan,\n nan,\n nan,\n nan,\n nan,\n nan,\n nan,\n nan,\n nan,\n nan,\n nan,\n nan,\n nan,\n nan,\n nan,\n nan,\n nan,\n nan,\n nan,\n nan,\n nan,\n nan,\n nan,\n nan,\n nan,\n nan,\n nan,\n nan,\n nan,\n nan,\n nan,\n nan,\n nan,\n nan,\n nan,\n nan,\n nan,\n nan,\n nan,\n nan,\n nan,\n nan,\n nan,\n nan,\n nan,\n nan,\n nan,\n nan,\n nan,\n nan,\n nan,\n nan,\n nan,\n nan,\n nan,\n nan,\n nan,\n nan,\n nan,\n nan,\n nan,\n nan,\n nan,\n nan,\n nan,\n nan,\n nan,\n nan,\n nan,\n nan,\n nan,\n nan,\n nan,\n nan,\n nan,\n nan,\n nan,\n nan,\n nan,\n nan,\n nan,\n nan,\n nan,\n nan,\n nan,\n nan,\n nan,\n nan,\n nan,\n nan,\n nan,\n nan,\n nan,\n nan,\n nan,\n nan,\n nan,\n nan,\n nan,\n nan,\n nan,\n nan,\n nan,\n nan,\n nan,\n nan,\n nan,\n nan,\n nan,\n nan,\n nan,\n nan,\n nan,\n nan,\n nan,\n nan,\n nan,\n nan,\n nan,\n nan,\n nan,\n nan,\n nan,\n nan,\n nan,\n nan,\n nan,\n nan,\n nan,\n nan,\n nan,\n nan,\n nan,\n nan,\n nan,\n nan,\n nan,\n nan,\n nan,\n nan,\n nan,\n nan,\n nan,\n nan,\n nan,\n nan,\n nan,\n nan,\n nan,\n nan,\n nan,\n nan,\n nan,\n nan,\n nan,\n nan,\n nan,\n nan,\n nan,\n nan,\n nan,\n nan,\n nan,\n nan,\n nan,\n nan,\n nan,\n nan,\n nan,\n nan,\n nan,\n nan,\n nan,\n nan,\n nan,\n nan,\n nan,\n nan,\n nan,\n nan,\n nan,\n nan,\n nan,\n nan,\n nan,\n nan,\n nan,\n nan,\n nan,\n nan,\n nan,\n nan,\n nan,\n nan,\n nan,\n nan,\n nan,\n nan,\n nan,\n nan,\n nan,\n nan,\n nan,\n nan,\n nan,\n nan,\n nan,\n nan,\n nan,\n nan,\n nan,\n nan,\n nan,\n nan,\n nan,\n nan,\n nan,\n nan,\n nan,\n nan,\n nan,\n nan,\n nan,\n nan,\n nan,\n nan,\n nan,\n nan,\n nan,\n nan,\n nan,\n nan,\n nan,\n nan,\n nan,\n nan,\n nan,\n nan,\n nan,\n nan,\n nan,\n nan,\n nan,\n nan,\n nan,\n nan,\n nan,\n nan,\n nan,\n nan,\n nan,\n nan,\n nan,\n nan,\n nan,\n nan,\n nan,\n nan,\n nan,\n nan,\n nan,\n nan,\n nan,\n nan,\n nan,\n nan,\n nan,\n nan,\n nan,\n nan,\n nan,\n nan,\n nan,\n nan,\n nan,\n nan,\n nan,\n nan,\n nan,\n nan,\n nan,\n nan,\n nan,\n nan,\n nan,\n nan,\n nan,\n nan,\n nan,\n nan,\n nan,\n nan,\n nan,\n nan,\n nan,\n nan,\n nan,\n nan,\n nan,\n nan,\n nan,\n nan,\n nan,\n nan,\n nan,\n nan,\n nan,\n nan,\n nan,\n nan,\n nan,\n nan,\n nan,\n nan,\n nan,\n nan,\n nan,\n nan,\n nan,\n nan,\n nan,\n nan,\n nan,\n nan,\n nan,\n nan,\n nan,\n nan,\n nan,\n nan,\n nan,\n nan,\n nan,\n nan,\n nan,\n nan,\n nan,\n nan,\n nan,\n nan,\n nan,\n nan,\n nan,\n nan,\n nan,\n nan,\n nan,\n nan,\n nan,\n nan,\n nan,\n nan,\n nan,\n nan,\n nan,\n nan,\n nan,\n nan,\n nan,\n nan,\n nan,\n nan,\n nan,\n nan,\n nan,\n nan,\n nan,\n nan,\n nan,\n nan,\n nan,\n nan,\n nan,\n nan,\n nan,\n nan,\n nan,\n nan,\n nan,\n nan,\n nan,\n nan,\n nan,\n nan,\n nan,\n nan,\n nan,\n nan,\n nan,\n nan,\n nan,\n nan,\n nan,\n nan,\n nan,\n nan,\n nan,\n nan,\n nan,\n nan,\n nan,\n nan,\n nan,\n nan,\n nan,\n nan,\n nan,\n nan,\n nan,\n nan,\n nan,\n nan,\n nan,\n nan,\n nan,\n nan,\n nan,\n nan,\n nan,\n nan,\n nan,\n nan,\n nan,\n nan,\n nan]"
     },
     "execution_count": 202,
     "metadata": {},
     "output_type": "execute_result"
    }
   ],
   "source": [
    "lexi"
   ],
   "metadata": {
    "collapsed": false,
    "ExecuteTime": {
     "end_time": "2023-05-18T11:51:48.036645900Z",
     "start_time": "2023-05-18T11:51:47.989814500Z"
    }
   }
  },
  {
   "cell_type": "code",
   "execution_count": 203,
   "outputs": [
    {
     "data": {
      "text/plain": "['12 vitamins and 6 minerals',\n 'Acai extract',\n 'Acarbose',\n 'Aceclofenac',\n 'Acellular pertussis',\n 'Acemetacin',\n 'Acetazolamide',\n 'Acetone',\n 'Acetylcysteine',\n 'Acetylsalicylic acid (Aspirin)',\n 'Acetylsalicylic acid lysine',\n 'Aceverine hydrochloride',\n 'Acrylic',\n 'Acyclovir',\n 'Acyclovir (Aciclovir)',\n 'Adalimumab',\n 'adapalene',\n 'Adefovir dipivoxil',\n 'Adenosine',\n 'Adrenaline',\n 'Aescin',\n 'Aescin 10 mg',\n 'aflibercept',\n 'Agomelatine',\n 'Albendazole',\n 'Albumin (Human albumin solution)',\n 'Alendronate',\n 'Alfacalcidol',\n 'Alfuzosin',\n 'Allantoin',\n 'Allopurinol',\n 'Alpha hydroxy acids (AHAs)',\n 'Alpha-lipoic acid',\n 'Alpha-tocopherol',\n 'Alprazolam',\n 'Alprostadil',\n 'Alteplase (Tissue plasminogen activator)',\n 'Aluminium and magnesium hydroxide',\n 'Aluminum chloride',\n 'Aluminum hydroxide',\n 'Alverine citrate',\n 'Amantadine sulfate',\n 'Ambroxol',\n 'Amikacin',\n 'Amiloride',\n 'Amine polymer',\n 'Amino acid',\n 'Amino acids',\n 'Aminophylline',\n 'Amiodarone',\n 'Amitriptyline',\n 'Amitriptyline hydrochloride',\n 'Amlodipine',\n 'Amorolfine hydrochloride 5% nail lacquer',\n 'Amoxicillin',\n 'Ampicillin',\n 'Amylase',\n 'Amylmetacresol',\n 'Angiotensin II receptor blockers (sartans)',\n 'Anidulafungin',\n 'Anise',\n 'Antazoline sulfate',\n 'Anthraquinone glycosides',\n 'Anti-D (Rh) immunoglobulin',\n 'Anti-scorpion vaccine',\n 'Apixaban',\n 'Apremilast',\n 'Arginine',\n 'Aripiprazole',\n 'Artichoke leaves',\n 'Ascorbic acid',\n 'Atenolol',\n 'Atenolol 100mg',\n 'Atorvastatin',\n 'Atosiban',\n 'Atracurium besylate',\n 'Atropine sulfate',\n 'Avibactam',\n 'Avocado extract',\n 'Azathioprine',\n 'Azelaic acid',\n 'Azilsartan medoxomil',\n 'Azithromycin',\n 'Aztreonam',\n 'Bacillus clausii',\n 'Bacitracin',\n 'Baclofen',\n 'BCG vaccine',\n 'Beclomethasone dipropionate',\n 'Bee pollen',\n 'Beeswax',\n 'Bemiparin sodium',\n 'Benoxinate',\n 'Benzocaine',\n 'Benzoic acid',\n 'Benzoxonium chloride',\n 'Benzoyl peroxide',\n 'Benzyl benzoate',\n 'Benzylpenicillin (Penicillin G)',\n 'Beractant',\n 'Bergamot oil',\n 'Beta-glucan',\n 'Betahistine dihydrochloride',\n 'Betamethasone',\n 'Betamethasone dipropionate',\n 'Betamethasone valerate',\n 'Beta-sitosterol',\n 'Bevacizumab',\n 'Bilastine',\n 'Bimatoprost',\n 'Biotin',\n 'Bisacodyl',\n 'Bisoprolol fumarate',\n 'Bleomycin',\n 'Boric acid',\n 'Botulinum toxin-A 100 units',\n \"brewer's yeast\",\n 'Brimonidine',\n 'Brimonidine tartrate',\n 'Brinzolamide',\n 'Bromazepam',\n 'Bromhexine',\n 'Bromocriptine mesylate',\n 'Budesonide',\n 'Bumetanide',\n 'Bupivacaine hydrochloride',\n 'Buserelin',\n 'buspirone hydrochloride',\n 'Butane',\n \"Butcher's broom extract\",\n 'Cabergoline',\n 'cacl',\n 'Cactus extract',\n 'Caffeine',\n 'Calamine',\n 'Calcipotriol',\n 'Calcitonin (Salmon)',\n 'Calcium',\n 'Calcium carbonate',\n 'Calcium chloride',\n 'Calcium dobesilate monohydrate',\n 'Calcium gluconate',\n 'Calcium magnesium',\n 'calcium polystyrene sulfonate',\n 'Calcium-Sandoz 1000',\n 'Calfactant',\n 'Camphor',\n 'Canagliflozin',\n 'Candesartan cilexetil',\n 'Captopril',\n 'Carbamazepine',\n 'Carbetocin',\n 'Carbidopa',\n 'Carbimazole',\n 'Carbocisteine',\n 'Carboplatin',\n 'Carboxymethylcellulose',\n 'Cardioplegia solution',\n 'Cariprazine',\n 'carvedilol',\n 'Caspofungin',\n \"Castellani's Paint\",\n 'Castor oil',\n 'Cefaclor',\n 'Cefadroxil',\n 'Cefazolin sodium',\n 'Cefdinir',\n 'Cefditoren pivoxil',\n 'Cefepime',\n 'Cefixime',\n 'Cefotaxime',\n 'cefperazone',\n 'Cefpodoxime',\n 'Cefprozil',\n 'Cefradine (Cephradine)',\n 'Ceftazidime',\n 'Ceftizoxime',\n 'Ceftobiprole',\n 'Ceftriaxone',\n 'Cefuroxime axetil',\n 'Cefuroxime sodium',\n 'Celecoxib',\n 'Cepae extract',\n 'Cephalexin (Cefalexin)',\n 'Cerebrolysin',\n 'Cetirizine dihydrochloride',\n 'Cetirizine HCl',\n 'Cetirizine hydrochloride',\n 'Cetrorelix',\n 'Chamomile',\n 'Charcoal',\n 'Chloral hydrate',\n 'Chlorhexidine',\n 'Chlorhexidine gluconate',\n 'Chlorhexidine hydrochloride',\n 'Chloroquine',\n 'Chlorpheniramine',\n 'Chlorpheniramine maleate',\n 'Chlorpheniramine maleate (Chlorphenamine maleate)',\n 'Chlorpromazine',\n 'Chlorpromazine hydrochloride',\n 'Chlorthalidone 25mg',\n 'Chlorzoxazone',\n 'Cholestyramine',\n 'Chondroitin',\n 'Chondroitin sulfate',\n 'Chorionic gonadotropin (hCG)',\n 'Chromium',\n 'Ciclesonide',\n 'Ciclosporin (Cyclosporin)',\n 'Cimicifugae',\n 'Cinacalcet',\n 'Cinnarizine',\n 'Ciprofloxacin',\n 'Cisatracurium besilate',\n 'Cisplatin',\n 'Cistus incanus dried extract',\n 'Citalopram',\n 'Citric acid',\n 'Clarithromycin',\n 'Clavulanic acid',\n 'clemastine fumarate',\n 'Clindamycin hydrochloride',\n 'Clindamycin phosphate',\n 'Clioquinol',\n 'Clobetasol',\n 'Clobetasol propionate',\n 'Clomifene (Clomiphene) citrate',\n 'Clomipramine HCl',\n 'Clonazepam',\n 'clopidogrel',\n 'Clotrimazole',\n 'Clove oil',\n 'Coagulation factor VIIa (recombinant)',\n 'Cod liver oil',\n 'Codeine phosphate',\n 'Coenzyme Q10 (Ubiquinone)',\n 'Colchicine',\n 'Colistimethate sodium',\n 'Collagen',\n 'Collagen hydrolysate',\n 'Colostrum',\n 'Copper',\n 'Cosmetic or consumable',\n 'Co-trimoxazole',\n 'Cranberry juice',\n 'Cromoglycate',\n 'Crotamiton',\n 'Crotamiton 10%',\n 'Curcuma rhizomes',\n 'Cyanocobalamin (Vitamin B12)',\n 'Cyclobenzaprine',\n 'Cyclopentolate',\n 'Cyclophosphamide',\n 'Cyproheptadine hydrochloride',\n 'Cyproterone',\n 'Cyproterone acetate',\n 'Dabigatran',\n 'Dapagliflozin',\n 'Dapoxetine',\n 'Dapsone',\n 'Daptomycin',\n 'Darbepoetin alfa',\n 'Darifenacin hydrobromide',\n 'Deferoxamine mesylate',\n 'Degludec',\n \"degludec 300 unit / liraglutide',\",\n 'Dehydrated leaves of Opuntia ficus-indica',\n 'Delafloxacin meglumine',\n 'Desloratadine',\n 'Desmopressin acetate',\n 'Desogestrel',\n 'Desvenlafaxine succinate',\n 'Dexamethasone',\n 'Dexamethasone 1mg',\n 'Dexketoprofen',\n 'Dexlansoprazole',\n 'Dexmedetomidine',\n 'Dexpanthenol',\n 'Dextran 70',\n 'Dextromethorphan',\n 'Dextrose',\n 'Diazepam',\n 'Dibekacin sulfate',\n 'Diclofenac',\n 'Diclofenac epolamine',\n 'Diclofenac potassium',\n 'Diclofenac sodium',\n 'Diclofenamide',\n 'Dienogest',\n 'Dietary supplement',\n 'Diethylamine salicylate',\n 'Diethylamine salicylate 50 mg',\n 'Diflucortolone valerate',\n 'Digoxin',\n 'Diloxanide furoate',\n 'Diltiazem hydrochloride',\n 'Dimenhydrinate',\n 'dimethicone',\n 'Dimethindene maleate',\n 'Dimethyl ether',\n 'dimethylpolysiloxane',\n 'Dinoprostone',\n 'Diosmin',\n 'Diphenhydramine',\n 'Diphenhydramine hydrochloride',\n 'Diphtheria',\n 'Diphtheria toxoid conjugate vaccine',\n 'Diphtheria vaccine',\n 'Dobutamine',\n 'Dobutamine hydrochloride',\n 'Docusate sodium',\n 'Domperidone',\n 'Dopamine',\n 'Dopamine hydrochloride',\n 'Dorzolamide',\n 'Doxapram',\n 'Doxazosin',\n 'Doxorubicin hydrochloride',\n 'Doxycycline',\n 'Drospirenone',\n 'Drospirenone 3mg',\n 'Dry extract of ivy leaves',\n 'Dry extract of melissa leaves',\n 'Dulaglutide',\n 'Duloxetine',\n 'Dutasteride',\n 'dydrogesterone',\n 'Dydrogesterone 10mg',\n 'Dydrogesterone 5mg',\n 'Echinacea',\n 'Echinacea dry extract',\n 'Echinacea extract',\n 'Econazole',\n 'Edoxaban tosylate',\n 'Egg lecithin',\n 'Electrolyte and trace elements i.v. ampoules',\n 'Electrolytes',\n 'Electrolytes solution 45meq',\n 'Eletriptan',\n 'Eltrombopag',\n 'Empagliflozin',\n 'Enalapril maleate',\n 'Enoxaparin sodium',\n 'Entacapone',\n 'Entecavir',\n 'Ephedrine',\n 'Epinastine hydrochloride',\n 'Epinephrine (Adrenaline)',\n 'Epoetin alfa (Recombinant human erythropoietin)',\n 'Eprosartan mesylate',\n 'Erythromycin',\n 'Escitalopram oxalate',\n 'Esmolol',\n 'Esomeprazole',\n 'Essential oils',\n 'Estradiol 1mg',\n 'Estradiol 2mg',\n 'Estradiol hemihydrate',\n 'Estradiol valerate',\n 'Etanercept',\n 'Ethamsylate (Etamsylate)',\n 'Ethanolamine',\n 'Ethinyl estradiol',\n 'Ethinylestradiol 30mcg',\n 'Ethiodized oil',\n 'Ethyl',\n 'Etonogestrel',\n 'Etoricoxib',\n 'Eucalyptus',\n 'Eucalyptus oil',\n 'Evening primrose oil',\n 'Evolocumab',\n 'Exemestane',\n 'Exenatide',\n 'Ezetimibe',\n 'Ezetimibe-atorvastatin',\n 'Famciclovir',\n 'Fat emulsions',\n 'Fat-soluble vitamin E',\n 'Fat-soluble vitamin K1',\n 'Fat-soluble vitamins A',\n 'Fat-soluble vitamins D2',\n 'Favipiravir',\n 'Febuxostat',\n 'Felodipine',\n 'Fennel',\n 'Fenofibrate',\n 'fentanyl',\n 'Ferric carboxymaltose',\n 'Ferric hydroxide polymaltose',\n 'ferric hydroxide polymaltose complex',\n 'Ferrous fumarate',\n 'Ferrous sulfate',\n 'Fexofenadine hydrochloride',\n 'Filgrastim',\n 'Finasteride',\n 'Fingolimod hydrochloride',\n 'Flavonoid',\n 'Fluconazole',\n 'Fludrocortisone acetate',\n 'flumazenil',\n 'Flumetasone (Flumethasone) pivalate',\n 'Flunarizine',\n 'Fluocinolone acetonide',\n 'Fluorescein sodium',\n 'Fluorinol',\n 'Fluorometholone',\n 'Fluorouracil',\n 'Fluoxetine',\n 'flupentixol',\n 'Flupentixol (Flupenthixol)',\n 'Fluticasone propionate',\n 'Fluticasone propionate 0.005% ointment',\n 'Fluticasone propionate 100mcg',\n 'Fluvastatin',\n 'Fluvoxamine maleate',\n 'Folic acid',\n 'Follitropin alfa (Recombinant Human Follicle Stimulating Hormone)',\n 'Follitropin beta (Recombinant Human Follicle Stimulating Hormone)',\n 'Fondaparinux sodium 2.5 mg',\n 'Formoterol',\n 'Fosfomycin trometamol',\n 'Fosinopril sodium',\n 'frangula',\n 'Frangula 8% granules',\n 'Furosemide',\n 'Fusidic acid',\n 'Gabapentin',\n 'Gadopentetate dimeglumine',\n 'Gadoteric acid',\n 'Gadoteridol',\n 'Garcinia cambogia',\n 'Gatifloxacin',\n 'Gemfibrozil',\n 'Gemifloxacin mesylate',\n 'Genistein',\n 'Gentamicin',\n 'gentian violet',\n 'Gestodene',\n 'Ginger',\n 'Ginkgo biloba',\n 'Ginkgo biloba dry extract',\n 'Ginkgo biloba extract',\n 'Ginkgo flavonoid glycosides',\n 'Ginseng',\n 'ginseng extract',\n 'Glibenclamide (Glyburide)',\n 'Gliclazide',\n 'Glimepiride',\n 'Glucagon',\n 'Glucosamine',\n 'Glucose',\n 'Glycerin',\n 'Glycerin bicarbonate',\n 'Glycerol (Glycerin)',\n 'Glyceryl glycolate',\n 'Glyceryl trinitrate',\n 'Glycolic acid',\n 'Goserelin acetate 3.6mg depot',\n 'Gramicidin',\n 'Grindeliae',\n 'Gripe water',\n 'Guaifenesin',\n 'Haemophilus influenzae conjugate',\n 'Haemophilus influenzae type b',\n 'Haloperidol',\n 'Hamamelis extract',\n 'Heavy magnesium carbonate',\n 'Heparin',\n 'Heparin sodium',\n 'Hepatitis A vaccine',\n 'Hepatitis B immunoglobulin',\n 'Hepatitis B vaccine',\n 'Hexahydro-adiphenine 20mg',\n 'Hexamine',\n 'Hexavalent combination vaccine (Hexaxim)',\n 'Hexoprenaline',\n 'Histocryl',\n 'Human albumin',\n 'Human albumin (low salt)',\n 'Human blood clotting factor VIII',\n 'Human immunoglobulin G (IgG)',\n 'human immunoglobulin-g',\n 'Human menopausal gonadotrophin (FSH-LH)',\n 'Human papillomavirus (HPV) vaccine',\n 'Hyaluronate',\n 'Hyaluronic acid',\n 'Hydralazine',\n 'Hydrochlorothiazide',\n 'Hydrocortisone',\n 'Hydrocortisone acetate',\n 'Hydrocortisone butyrate',\n 'Hydrocortisone sodium succinate',\n 'Hydrogen peroxide',\n 'Hydroquinone',\n 'Hydroxychloroquine',\n 'hydroxychloroquine sulfate',\n 'Hydroxyprogesterone caproate',\n 'Hydroxyurea',\n 'Hyoscine (Scopolamine) butylbromide',\n 'Hypromellose',\n 'Ibandronic acid',\n 'Ibuprofen',\n 'Ichthammol',\n 'Imatinib',\n 'Imidapril hydrochloride',\n 'Imipenem with cilastatin',\n 'Imiquimod',\n 'Indapamide',\n 'Indapamide 1.5 mg sustained release',\n 'Indometacin (Indomethacin)',\n 'Infliximab',\n 'Influenza vaccine',\n 'Insulin aspart',\n 'Insulin aspart protamine',\n 'Insulin degludec',\n 'Insulin detemir',\n 'Insulin glargine',\n 'Insulin glulisine',\n 'Insulin human (HM) isophane',\n 'Insulin isophane',\n 'Insulin lispro',\n 'Insulin neutral',\n 'Insulin NPH (Neutral Protamine Hagedorn)',\n 'Insulin protamine',\n 'Insulin regular',\n 'Interferon beta-1a',\n 'Iobitridol',\n 'iodine',\n 'Iodixanol',\n 'Iohexol',\n 'Iopamidol',\n 'Iopromide',\n 'Ipratropium bromide',\n 'Irbesartan',\n 'Iron',\n 'Iron (III) hydroxide dextran complex',\n 'Iron (III) hydroxide polymaltose complex',\n 'Iron (III) hydroxide sucrose complex',\n 'Iron hydroxide polymaltose complex',\n 'Iron protein succinylate',\n 'Isavuconazonium sulfate',\n 'Isoconazole nitrate',\n 'Isoniazid',\n 'Isoprenaline',\n 'Isoproterenol',\n 'Isosorbide dinitrate',\n 'Isotonic seawater',\n 'Isotretinoin',\n 'Itraconazole',\n 'Ivabradine',\n 'Ivy',\n 'Ivy dry extract',\n 'Ivy extract',\n 'Ivy leaf dry extract',\n 'Josamycin',\n 'Kanamycin',\n 'Kaolin',\n 'kcl',\n 'Ketamine hydrochloride',\n 'Ketoconazole',\n 'Ketoprofen',\n 'Ketorolac tromethamine',\n 'Ketotifen',\n 'Khellin',\n 'Korean ginseng',\n 'Labetalol',\n 'Labetalol hydrochloride',\n 'Lacosamide',\n 'lactated ringer (nacl)',\n 'Lactic acid',\n 'Lactobacillus',\n 'Lactulose',\n 'Lamivudine',\n 'Lamotrigine',\n 'Lansoprazole',\n 'L-arginine',\n 'L-aspartate',\n 'Latanoprost',\n 'Lauromacrogol',\n 'L-carnitine',\n 'L-cysteine',\n 'Leflunomide',\n 'Lercanidipine hydrochloride',\n 'Letrozole',\n 'Leuprorelin acetate',\n 'Levetiracetam',\n 'Levobunolol HCl',\n 'Levocabastine',\n 'Levocetirizine dihydrochloride',\n 'Levodopa',\n 'levofloxacin',\n 'Levonorgestrel',\n 'Levothyroxine sodium (Thyroxine)',\n 'Licorice',\n 'Lidocaine',\n 'Lidocaine (Lignocaine)',\n 'Lidocaine (Lignocaine) hydrochloride',\n 'Lidocaine HCl',\n 'Lidocaine hydrochloride',\n 'Linagliptin',\n 'Linalool',\n 'Linezolid',\n 'Lipase',\n 'Lipids',\n 'Liquid fig concentrate',\n 'Liquid paraffin',\n 'Liquorice',\n 'Liraglutide',\n 'Lisinopril',\n 'lisuride hydrogen maleate',\n 'Lithium carbonate',\n 'Lixisenatide',\n 'L-menthol camphor',\n 'Lodoxamide trometamol',\n 'Loperamide hydrochloride',\n 'Loratadine',\n 'L-ornithine',\n 'Lornoxicam',\n 'Losartan potassium',\n 'Loxoprofen',\n 'Luliconazole',\n 'Lupinus albus-Mentha piperita',\n 'Lurasidone',\n 'Lyophilized fish roe',\n 'Magnesium',\n 'Magnesium citrate',\n 'Magnesium hydroxide',\n 'Magnesium oxide',\n 'magnesium sulfate',\n 'Mannitol',\n 'Maprotiline hydrochloride',\n 'Measles',\n 'Measles vaccine',\n 'Mebendazole',\n 'Mebeverine hydrochloride',\n 'Meclizine',\n 'Mecobalamin',\n 'Medium-chain triglycerides (MCT oil)',\n 'Mefenamic acid',\n 'Mefloquine',\n 'Melatonin',\n 'Meloxicam',\n 'Memantine HCl',\n 'Meningococcal',\n 'Meningococcal group A',\n 'Meningococcal group C',\n 'Meningococcal group W135',\n 'Meningococcal group Y',\n 'Meningococcal vaccine ACWY',\n 'Menthol',\n 'Meperidine',\n 'Mepolizumab',\n 'Merbromin',\n 'Mercurochrome',\n 'Meropenem',\n 'Mesalazine',\n 'Mesterolone',\n 'Metformin',\n 'Metformin hydrochloride',\n 'Metformin XR',\n 'Methacrylate',\n 'Methotrexate',\n 'Methoxy polyethylene glycol-epoetin beta',\n 'Methyl salicylate',\n 'Methyldopa',\n 'Methylene blue',\n 'Methylergometrine',\n 'Methylergometrine maleate',\n 'methylparaben (methyl hydroxybenzoate)',\n 'Methylphenidate',\n 'Methylprednisolone',\n 'Methylprednisolone acetate',\n 'Metoclopramide',\n 'Metoclopramide hydrochloride',\n 'Metolazone',\n 'Metoprolol tartrate',\n 'Metronidazole',\n 'Micafungin',\n 'Miconazole',\n 'Miconazole nitrate',\n 'Midazolam',\n 'Midodrine hydrochloride',\n 'Millet extract',\n 'Milrinone',\n 'Minerals',\n 'Minocycline',\n 'Minoxidil',\n 'Mirtazapine',\n 'Misoprostol',\n 'Mitomycin',\n 'Mivacurium chloride',\n 'Moclobemide',\n 'Mometasone furoate',\n 'Montelukast sodium',\n 'Morphine sulfate',\n 'moxifloxacin',\n 'Moxonidine',\n 'Multiminerals',\n 'Multivitamin',\n 'Multivitamins',\n 'Multivitamins & minerals',\n 'Mumps vaccine',\n 'Mupirocin (Pseudomonas acid)',\n 'mycophenolate mofetil',\n 'Mycophenolate sodium',\n 'Nadroparin',\n 'Naftifine',\n 'na-lactate',\n 'naloxone hydrochloride',\n 'Naphazoline HCl 0.025%',\n 'Naphazoline hydrochloride',\n 'Naproxen',\n 'Naproxen sodium',\n 'Natamycin',\n 'N-butyl-2-cyanoacrylate',\n 'Nebivolol',\n 'Neomycin',\n 'Neomycin 3.5mg/ml eye/ear drops',\n 'Neomycin sulfate',\n 'Neostigmine bromide',\n 'Neostigmine methylsulfate',\n 'Niclosamide',\n 'Nicotinamide',\n 'Nifedipine',\n 'Nilotinib',\n 'Nimodipine',\n 'Nintedanib',\n 'Nitrofurantoin',\n 'Nitroglycerin',\n 'Nizatidine',\n 'noradrenaline',\n 'Norelgestromin',\n 'Norepinephrine (Noradrenaline) tartrate',\n 'Norethisterone',\n 'Norgestrel',\n 'Normal human immunoglobulin',\n 'Nystatin',\n 'Ocrelizumab',\n 'Octodrine phosphate',\n 'Octreotide',\n 'Ofloxacin',\n 'Olanzapine',\n 'Olive oil',\n 'Olive zinc',\n 'olmesartan',\n 'Olmesartan medoxomil',\n 'Olodaterol',\n 'Olopatadine',\n 'Omalizumab 150mg powder for injection',\n 'Omega-3',\n 'Omega-3 fatty acids',\n 'Omega-3 polyunsaturated fatty acids',\n 'Omeprazole',\n 'Ondansetron',\n 'Orlistat',\n 'Orphenadrine citrate 35 mg',\n 'Oseltamivir',\n 'Otilonium bromide',\n 'Oxcarbazepine',\n 'Oxethazine',\n 'Oxybuprocaine',\n 'Oxytocin',\n 'Paliperidone',\n 'Palivizumab',\n 'Panax ginseng',\n 'Pantoprazole',\n 'Papain (Papaya extract)',\n 'papaverine hcl',\n 'Paracetamol (Acetaminophen)',\n 'Paracetamol 450 mg',\n 'Paracetamol and pseudoephedrine',\n 'Paroxetine hydrochloride',\n 'Pectin',\n 'Peginterferon alfa-2a',\n 'Peginterferon alfa-2b',\n 'Pelargonium sidoides root extract',\n 'Penicillin-V 200mg granules for 125mg/5ml',\n 'Pentoxifylline',\n 'Peppermint',\n 'Peppermint oil',\n 'Pepsin',\n 'Peptide',\n 'Perindopril',\n 'Perindopril arginine',\n 'Pertussis',\n 'Pertussis vaccine',\n 'Pethidine (Meperidine)',\n 'Phenazone',\n 'Pheniramine maleate',\n 'Pheniramine maleate 0.3%',\n 'Phenobarbital',\n 'Phentolamine mesylate',\n 'Phenylephrine',\n 'Phenylephrine HCl',\n 'Phenylephrine hydrochloride',\n 'Phenytoin',\n 'Phenytoin sodium',\n 'Pholcodine',\n 'Phytomenadione',\n 'Pilocarpine hydrochloride',\n 'Pimecrolimus',\n 'Pinaverium bromide',\n 'Pioglitazone',\n 'Pioglitazone/glimepiride',\n 'Pioglitazone/metformin',\n 'Piperacillin',\n 'Piperazine citrate',\n 'Piracetam',\n 'Piribedil',\n 'Piroxicam',\n 'Pitavastatin',\n 'Pizotifen',\n 'Plasma-lyte',\n 'Pneumococcal',\n 'Pneumococcal vaccine',\n 'Podophyllotoxin',\n 'polio vaccine',\n 'Poliomyelitis',\n 'Poliomyelitis vaccine',\n 'polyacrylate copolymer',\n 'Polyacrylic acid',\n 'Polyethylene glycol',\n 'Polyglucosamine',\n 'Polyhexamethylene biguanide (PHMB)',\n 'Polyhexanide.1%',\n 'Polymers of amines',\n 'Polymyxin',\n 'Potassium chloride',\n 'Potassium citrate',\n 'Potassium iodide',\n 'Potassium permanganate',\n 'Potassium phosphate',\n 'Povidone iodine',\n 'Powdered leaves of artichoke',\n 'Pralidoxime',\n 'Pramipexole',\n 'Prasugrel',\n 'Praziquantel',\n 'Prednisolone',\n 'Prednisolone acetate',\n 'Pregabalin',\n 'Primpinellae',\n 'Primrose oil',\n 'Primulae',\n 'Probiotics',\n 'Progesterone',\n 'Promethazine',\n 'Propafenone hydrochloride',\n 'Propofol',\n 'Propranolol',\n 'Propylene glycol',\n 'Propyphenazone 220mg',\n 'Protamine sulfate',\n 'Protease',\n 'Protirelin',\n 'Pseudoephedrine',\n 'Pumpkin seed oil',\n 'Pygeum africanum',\n 'Pyrazinamide',\n 'Pyridostigmine',\n 'Pyridostigmine bromide',\n 'pyridoxine',\n 'Pyrimethamine',\n 'Quetiapine',\n 'Quinagolide',\n 'Rabeprazole',\n 'Ramipril',\n 'Ranibizumab',\n 'Ranitidine',\n 'Regular insulin',\n 'Repaglinide',\n 'Rhubarb',\n 'Ribavirin',\n 'Rifampicin',\n 'Rifaximin',\n 'Rimexolone',\n \"Ringer's lactate (Sodium lactate, Calcium chloride, Sodium chloride, Potassium chloride)\",\n \"Ringer's solution\",\n 'Risperidone',\n 'Rivaroxaban',\n 'Rivastigmine',\n 'rocuronium bromide',\n 'Rosuvastatin',\n 'Rotavirus diarrhea vaccine',\n 'Royal jelly',\n 'Rubella',\n 'Rubella (MMR) vaccine',\n 'Rupatadine',\n 'Sacubitril',\n 'Salbutamol',\n 'Salicylic acid',\n 'Salicylic acid in collodion',\n 'Salmeterol',\n 'Salmeterol 50mcg',\n 'Saw palmetto (Sabal serrulatae)',\n 'Saxagliptin',\n 'Saxagliptin HCl',\n 'Sea salt',\n 'Secnidazole',\n 'Selenium',\n 'Semaglutide',\n 'Senna',\n 'Sertraline',\n 'Sesame oil',\n 'Sevelamer',\n 'Sevoflurane',\n 'Shea butter',\n 'Sildenafil citrate',\n 'Silicon dioxide',\n 'Silicone',\n 'silicone dioxide',\n 'Silicone gel',\n 'Silver',\n 'Silver nitrate',\n 'Silver sulfadiazine',\n 'Silybum marianum dry',\n 'Silymarin',\n 'Simethicone',\n 'Simethicone (Activated dimethicone)',\n 'Simvastatin',\n 'Sitagliptin',\n 'Sodium amidotrizoate',\n 'Sodium bicarbonate',\n 'Sodium biphosphate',\n 'Sodium chloride',\n 'Sodium citrate',\n 'Sodium cromoglicate',\n 'Sodium fusidate',\n 'Sodium glycerophosphate',\n 'Sodium hyaluronate',\n 'sodium hydrogen carbonate',\n 'Sodium nitroprusside',\n 'Sodium phosphate',\n 'Sodium picosulfate',\n 'Sodium stibogluconate',\n 'Sodium thiosulfate',\n 'Solifenacin succinate',\n 'Somatotropin',\n 'Sotalol',\n 'Soy extract',\n 'Soybean oil',\n 'spironolactone',\n 'Sterculia 62%',\n 'Sterculia 62% granule sachets',\n 'sterculia gum',\n 'Streptokinase',\n 'Succinylcholine',\n 'Sucralfate',\n 'sugammadex',\n 'Sulbactam',\n 'Sulfamethoxazole',\n 'Sulfur',\n 'Sulphadoxine',\n 'Sulpiride',\n 'Sumatriptan',\n 'Suxamethonium chloride',\n 'Tacrolimus',\n 'Tadalafil',\n 'Tamoxifen',\n 'Tamsulosin',\n 'Tamsulosin hydrochloride',\n 'Taste',\n 'Tazobactam',\n 'Teicoplanin',\n 'Telipressin acetate',\n 'Telmisartan',\n 'Tenofovir',\n 'Terbinafine',\n 'Terbutaline sulfate',\n 'Teriflunomide',\n 'Teriparatide',\n 'testosterone enanthate',\n 'Testosterone undecanoate',\n 'tetanus toxoid',\n 'Tetanus toxoid vaccine',\n 'Tetanus vaccine',\n 'Tetracosactide (Tetracosactrin)',\n 'Tetracycline HCl',\n 'Tetrahydrozoline',\n 'Theophylline',\n 'thiamine',\n 'Thioctic acid',\n 'thiopental sodium',\n 'Thyme']"
     },
     "execution_count": 203,
     "metadata": {},
     "output_type": "execute_result"
    }
   ],
   "source": [
    "titles"
   ],
   "metadata": {
    "collapsed": false,
    "ExecuteTime": {
     "end_time": "2023-05-18T11:52:05.309545100Z",
     "start_time": "2023-05-18T11:52:05.231365800Z"
    }
   }
  },
  {
   "cell_type": "code",
   "execution_count": 204,
   "outputs": [],
   "source": [
    "df_updates = pd.DataFrame()\n",
    "\n",
    "df_updates['Title'] = titles\n",
    "df_updates['Lexi']  = lexi"
   ],
   "metadata": {
    "collapsed": false,
    "ExecuteTime": {
     "end_time": "2023-05-18T11:53:05.082748900Z",
     "start_time": "2023-05-18T11:53:05.035545Z"
    }
   }
  },
  {
   "cell_type": "code",
   "execution_count": 206,
   "outputs": [
    {
     "data": {
      "text/plain": "                          Title  \\\n0    12 vitamins and 6 minerals   \n1                  Acai extract   \n2                      Acarbose   \n3                   Aceclofenac   \n4           Acellular pertussis   \n..                          ...   \n145                  Calfactant   \n146                     Camphor   \n147               Canagliflozin   \n148       Candesartan cilexetil   \n149                   Captopril   \n\n                                                  Lexi  \n0                                        Not available  \n1          Acai (Patient Education - Natural Products)  \n2                                Acarbose (Lexi-Drugs)  \n3    Aceclofenac [INT] (Lexi-Drugs International [C...  \n4    Diphtheria and Tetanus Toxoids, and Acellular ...  \n..                                                 ...  \n145                            Calfactant (Lexi-Drugs)  \n146                               Camphor (Lexi-Drugs)  \n147                    Canagli_x0000_ozin (Lexi-Drugs)  \n148                           Candesartan (Lexi-Drugs)  \n149                             Captopril (Lexi-Drugs)  \n\n[150 rows x 2 columns]",
      "text/html": "<div>\n<style scoped>\n    .dataframe tbody tr th:only-of-type {\n        vertical-align: middle;\n    }\n\n    .dataframe tbody tr th {\n        vertical-align: top;\n    }\n\n    .dataframe thead th {\n        text-align: right;\n    }\n</style>\n<table border=\"1\" class=\"dataframe\">\n  <thead>\n    <tr style=\"text-align: right;\">\n      <th></th>\n      <th>Title</th>\n      <th>Lexi</th>\n    </tr>\n  </thead>\n  <tbody>\n    <tr>\n      <th>0</th>\n      <td>12 vitamins and 6 minerals</td>\n      <td>Not available</td>\n    </tr>\n    <tr>\n      <th>1</th>\n      <td>Acai extract</td>\n      <td>Acai (Patient Education - Natural Products)</td>\n    </tr>\n    <tr>\n      <th>2</th>\n      <td>Acarbose</td>\n      <td>Acarbose (Lexi-Drugs)</td>\n    </tr>\n    <tr>\n      <th>3</th>\n      <td>Aceclofenac</td>\n      <td>Aceclofenac [INT] (Lexi-Drugs International [C...</td>\n    </tr>\n    <tr>\n      <th>4</th>\n      <td>Acellular pertussis</td>\n      <td>Diphtheria and Tetanus Toxoids, and Acellular ...</td>\n    </tr>\n    <tr>\n      <th>...</th>\n      <td>...</td>\n      <td>...</td>\n    </tr>\n    <tr>\n      <th>145</th>\n      <td>Calfactant</td>\n      <td>Calfactant (Lexi-Drugs)</td>\n    </tr>\n    <tr>\n      <th>146</th>\n      <td>Camphor</td>\n      <td>Camphor (Lexi-Drugs)</td>\n    </tr>\n    <tr>\n      <th>147</th>\n      <td>Canagliflozin</td>\n      <td>Canagli_x0000_ozin (Lexi-Drugs)</td>\n    </tr>\n    <tr>\n      <th>148</th>\n      <td>Candesartan cilexetil</td>\n      <td>Candesartan (Lexi-Drugs)</td>\n    </tr>\n    <tr>\n      <th>149</th>\n      <td>Captopril</td>\n      <td>Captopril (Lexi-Drugs)</td>\n    </tr>\n  </tbody>\n</table>\n<p>150 rows × 2 columns</p>\n</div>"
     },
     "execution_count": 206,
     "metadata": {},
     "output_type": "execute_result"
    }
   ],
   "source": [
    "df_updates.dropna(inplace=True)\n",
    "df_updates"
   ],
   "metadata": {
    "collapsed": false,
    "ExecuteTime": {
     "end_time": "2023-05-18T11:53:40.647674400Z",
     "start_time": "2023-05-18T11:53:40.610980600Z"
    }
   }
  },
  {
   "cell_type": "code",
   "execution_count": 207,
   "outputs": [
    {
     "data": {
      "text/plain": "150"
     },
     "execution_count": 207,
     "metadata": {},
     "output_type": "execute_result"
    }
   ],
   "source": [
    "len(df_updates)"
   ],
   "metadata": {
    "collapsed": false,
    "ExecuteTime": {
     "end_time": "2023-05-18T11:53:45.699270900Z",
     "start_time": "2023-05-18T11:53:45.668055900Z"
    }
   }
  },
  {
   "cell_type": "code",
   "execution_count": null,
   "outputs": [],
   "source": [],
   "metadata": {
    "collapsed": false
   }
  }
 ],
 "metadata": {
  "kernelspec": {
   "display_name": "Python 3",
   "language": "python",
   "name": "python3"
  },
  "language_info": {
   "codemirror_mode": {
    "name": "ipython",
    "version": 2
   },
   "file_extension": ".py",
   "mimetype": "text/x-python",
   "name": "python",
   "nbconvert_exporter": "python",
   "pygments_lexer": "ipython2",
   "version": "2.7.6"
  }
 },
 "nbformat": 4,
 "nbformat_minor": 0
}
