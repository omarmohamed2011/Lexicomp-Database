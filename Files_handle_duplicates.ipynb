{
 "cells": [
  {
   "cell_type": "code",
   "execution_count": 8,
   "metadata": {
    "collapsed": true
   },
   "outputs": [],
   "source": [
    "from importlib import reload\n",
    "import os\n",
    "from src import utils\n",
    "import re\n",
    "import pandas as pd\n",
    "reload(utils)\n",
    "\n",
    "data_in_path  = 'Database pdfs/Total/word-extras'\n",
    "data_out_path = 'Database pdfs/Total/word-extras-noduplicates'"
   ]
  },
  {
   "cell_type": "code",
   "execution_count": 9,
   "outputs": [
    {
     "name": "stdout",
     "output_type": "stream",
     "text": [
      "Requirement already satisfied: pandas in e:\\projects\\web scraping\\drug database\\venv\\lib\\site-packages (1.5.3)\n",
      "Requirement already satisfied: numpy>=1.20.3 in e:\\projects\\web scraping\\drug database\\venv\\lib\\site-packages (from pandas) (1.24.2)\n",
      "Requirement already satisfied: python-dateutil>=2.8.1 in e:\\projects\\web scraping\\drug database\\venv\\lib\\site-packages (from pandas) (2.8.2)\n",
      "Requirement already satisfied: pytz>=2020.1 in e:\\projects\\web scraping\\drug database\\venv\\lib\\site-packages (from pandas) (2022.7.1)\n",
      "Requirement already satisfied: six>=1.5 in e:\\projects\\web scraping\\drug database\\venv\\lib\\site-packages (from python-dateutil>=2.8.1->pandas) (1.12.0)\n"
     ]
    },
    {
     "name": "stderr",
     "output_type": "stream",
     "text": [
      "\n",
      "[notice] A new release of pip is available: 23.0.1 -> 23.1\n",
      "[notice] To update, run: python.exe -m pip install --upgrade pip\n"
     ]
    }
   ],
   "source": [
    "!pip install pandas"
   ],
   "metadata": {
    "collapsed": false
   }
  },
  {
   "cell_type": "code",
   "execution_count": 10,
   "outputs": [],
   "source": [
    "all_files_titles=[]\n",
    "no_titles_files=[]"
   ],
   "metadata": {
    "collapsed": false
   }
  },
  {
   "cell_type": "code",
   "execution_count": 11,
   "outputs": [
    {
     "ename": "AttributeError",
     "evalue": "module 're' has no attribute 'find'",
     "output_type": "error",
     "traceback": [
      "\u001B[1;31m---------------------------------------------------------------------------\u001B[0m",
      "\u001B[1;31mAttributeError\u001B[0m                            Traceback (most recent call last)",
      "Cell \u001B[1;32mIn[11], line 1\u001B[0m\n\u001B[1;32m----> 1\u001B[0m \u001B[43mre\u001B[49m\u001B[38;5;241;43m.\u001B[39;49m\u001B[43mfind\u001B[49m\n",
      "\u001B[1;31mAttributeError\u001B[0m: module 're' has no attribute 'find'"
     ]
    }
   ],
   "source": [
    "re.find"
   ],
   "metadata": {
    "collapsed": false
   }
  },
  {
   "cell_type": "code",
   "execution_count": 12,
   "outputs": [],
   "source": [
    "def clean_title(title_text):\n",
    "    if title_text is None or len(title_text)==0:\n",
    "        raise Exception(\"empty title\")\n",
    "\n",
    "    regex_list=[\"\\(Lab Tests and Diagnostic Procedures\\)\",\"\\(Lexi.*?\\)\"]\n",
    "    regex=\"|\".join([f\"({reg})\" for reg in regex_list])\n",
    "    result=re.search(regex,title_text)\n",
    "    if result is None:\n",
    "        result=re.search(\"\\(.+\\)$\",title_text)\n",
    "    if result is not None:\n",
    "        sub_title=result.group()\n",
    "        title=title_text[:result.start()]\n",
    "    else:\n",
    "        raise Exception(\"title pattern not found\")\n",
    "    title=title.strip()\n",
    "\n",
    "    return  title,sub_title"
   ],
   "metadata": {
    "collapsed": false
   }
  },
  {
   "cell_type": "markdown",
   "source": [
    "# check  file titles"
   ],
   "metadata": {
    "collapsed": false
   }
  },
  {
   "cell_type": "code",
   "execution_count": 16,
   "outputs": [
    {
     "name": "stdout",
     "output_type": "stream",
     "text": [
      "\n",
      "empty title\n",
      "1324Lexicomp.docx\n"
     ]
    }
   ],
   "source": [
    "file_names=os.listdir(data_in_path)\n",
    "corrupted=[]\n",
    "for file_name in file_names:\n",
    "    document=utils.read_doc(f\"{data_in_path}/{file_name}\")\n",
    "    title=utils.get_title(document)\n",
    "    try:\n",
    "        clean_title(title)\n",
    "    except Exception as e:\n",
    "        print(title)\n",
    "        print(e)\n",
    "        print(file_name)\n",
    "        corrupted.append(file_name)"
   ],
   "metadata": {
    "collapsed": false
   }
  },
  {
   "cell_type": "code",
   "execution_count": 17,
   "outputs": [
    {
     "data": {
      "text/plain": "1"
     },
     "execution_count": 17,
     "metadata": {},
     "output_type": "execute_result"
    }
   ],
   "source": [
    "len(corrupted)"
   ],
   "metadata": {
    "collapsed": false
   }
  },
  {
   "cell_type": "code",
   "execution_count": 121,
   "outputs": [],
   "source": [
    "p=\"C:\\\\projects\\\\drugDatabase\\\\wordv2\"\n",
    "\n",
    "for file in corrupted:\n",
    "    os.system(f\"{p}\\\\{file}\")"
   ],
   "metadata": {
    "collapsed": false
   }
  },
  {
   "cell_type": "markdown",
   "source": [
    "- i found that all files without titles have no data so i removed them"
   ],
   "metadata": {
    "collapsed": false
   }
  },
  {
   "cell_type": "code",
   "execution_count": 21,
   "outputs": [],
   "source": [
    "with open(\"Database pdfs/Total/metadata/deleted.txt\",'a') as f:\n",
    "    for file in corrupted:\n",
    "        f.write(file)\n",
    "        f.write(\"\\n\")\n",
    "        os.remove(f\"{data_in_path}/{file}\")"
   ],
   "metadata": {
    "collapsed": false
   }
  },
  {
   "cell_type": "markdown",
   "source": [
    "__________________________"
   ],
   "metadata": {
    "collapsed": false
   }
  },
  {
   "cell_type": "code",
   "execution_count": 22,
   "outputs": [],
   "source": [
    "file_names=os.listdir(data_in_path)\n",
    "data_list=[]\n",
    "for file_name in file_names:\n",
    "    document=utils.read_doc(f\"{data_in_path}/{file_name}\")\n",
    "    title,sub_title=clean_title(utils.get_title(document))\n",
    "    words_count=utils.words_count(document)\n",
    "    data_list.append([file_name,title,sub_title,words_count])"
   ],
   "metadata": {
    "collapsed": false
   }
  },
  {
   "cell_type": "code",
   "execution_count": 23,
   "outputs": [],
   "source": [
    "titles_df=pd.DataFrame(data_list,columns=['file_name','title','sub_title','words_count'])"
   ],
   "metadata": {
    "collapsed": false
   }
  },
  {
   "cell_type": "code",
   "execution_count": 24,
   "outputs": [],
   "source": [
    "titles_df.to_csv(\"./Database pdfs/Total/metadata/drug_files.csv\")"
   ],
   "metadata": {
    "collapsed": false
   }
  },
  {
   "cell_type": "code",
   "execution_count": 25,
   "outputs": [],
   "source": [
    "titles_duplicated=titles_df[titles_df.duplicated(subset=['title'])]"
   ],
   "metadata": {
    "collapsed": false
   }
  },
  {
   "cell_type": "code",
   "execution_count": 26,
   "outputs": [
    {
     "data": {
      "text/plain": "1113"
     },
     "execution_count": 26,
     "metadata": {},
     "output_type": "execute_result"
    }
   ],
   "source": [
    "len(titles_duplicated)"
   ],
   "metadata": {
    "collapsed": false
   }
  },
  {
   "cell_type": "code",
   "execution_count": 27,
   "outputs": [],
   "source": [
    "titles_count_duplicated=titles_df[titles_df.duplicated(subset=['title','words_count'])]"
   ],
   "metadata": {
    "collapsed": false
   }
  },
  {
   "cell_type": "code",
   "execution_count": 29,
   "outputs": [
    {
     "data": {
      "text/plain": "969"
     },
     "execution_count": 29,
     "metadata": {},
     "output_type": "execute_result"
    }
   ],
   "source": [
    "len(titles_count_duplicated)"
   ],
   "metadata": {
    "collapsed": false
   }
  },
  {
   "cell_type": "code",
   "execution_count": 30,
   "outputs": [
    {
     "data": {
      "text/plain": "2140"
     },
     "execution_count": 30,
     "metadata": {},
     "output_type": "execute_result"
    }
   ],
   "source": [
    "len(titles_df)"
   ],
   "metadata": {
    "collapsed": false
   }
  },
  {
   "cell_type": "code",
   "execution_count": 31,
   "outputs": [],
   "source": [
    "duplicated_titles=titles_count_duplicated.sample(5)['title']"
   ],
   "metadata": {
    "collapsed": false
   }
  },
  {
   "cell_type": "code",
   "execution_count": 32,
   "outputs": [
    {
     "data": {
      "text/plain": "              file_name                                              title  \\\n1331   718Lexicomp.docx                   Ampicillin and Cloxacillin [INT]   \n176    116Lexicomp.docx                   Ampicillin and Cloxacillin [INT]   \n1106   504Lexicomp.docx                   Ampicillin and Cloxacillin [INT]   \n1180   574Lexicomp.docx                   Ampicillin and Cloxacillin [INT]   \n1420   802Lexicomp.docx  Doxycycline Hyclate Periodontal Extended-Relea...   \n1369   755Lexicomp.docx  Doxycycline Hyclate Periodontal Extended-Relea...   \n251   1241Lexicomp.docx                               EPHEDrine (Systemic)   \n303    128Lexicomp.docx                               EPHEDrine (Systemic)   \n341   1325Lexicomp.docx                               EPHEDrine (Systemic)   \n844    257Lexicomp.docx                               EPHEDrine (Systemic)   \n1236   624Lexicomp.docx                       Plasminogen Activity, Plasma   \n1226   615Lexicomp.docx                       Plasminogen Activity, Plasma   \n1     1000Lexicomp.docx                       Plasminogen Activity, Plasma   \n1086   486Lexicomp.docx                       Plasminogen Activity, Plasma   \n823    237Lexicomp.docx              Ticarcillin and Clavulanate Potassium   \n1328   714Lexicomp.docx              Ticarcillin and Clavulanate Potassium   \n67    1065Lexicomp.docx              Ticarcillin and Clavulanate Potassium   \n952     35Lexicomp.docx              Ticarcillin and Clavulanate Potassium   \n\n                                  sub_title  words_count  \n1331   (Lexi-Drugs International [Concise])          224  \n176    (Lexi-Drugs International [Concise])          224  \n1106   (Lexi-Drugs International [Concise])          224  \n1180   (Lexi-Drugs International [Concise])          224  \n1420                           (Lexi-Drugs)         2125  \n1369                           (Lexi-Drugs)         2125  \n251                            (Lexi-Drugs)         4048  \n303                            (Lexi-Drugs)         4048  \n341                            (Lexi-Drugs)         4048  \n844                            (Lexi-Drugs)         4048  \n1236  (Lab Tests and Diagnostic Procedures)         1552  \n1226  (Lab Tests and Diagnostic Procedures)         1552  \n1     (Lab Tests and Diagnostic Procedures)         1552  \n1086  (Lab Tests and Diagnostic Procedures)         1552  \n823                   (Infectious Diseases)         3734  \n1328                  (Infectious Diseases)         3734  \n67                    (Infectious Diseases)         3734  \n952                   (Infectious Diseases)         3734  ",
      "text/html": "<div>\n<style scoped>\n    .dataframe tbody tr th:only-of-type {\n        vertical-align: middle;\n    }\n\n    .dataframe tbody tr th {\n        vertical-align: top;\n    }\n\n    .dataframe thead th {\n        text-align: right;\n    }\n</style>\n<table border=\"1\" class=\"dataframe\">\n  <thead>\n    <tr style=\"text-align: right;\">\n      <th></th>\n      <th>file_name</th>\n      <th>title</th>\n      <th>sub_title</th>\n      <th>words_count</th>\n    </tr>\n  </thead>\n  <tbody>\n    <tr>\n      <th>1331</th>\n      <td>718Lexicomp.docx</td>\n      <td>Ampicillin and Cloxacillin [INT]</td>\n      <td>(Lexi-Drugs International [Concise])</td>\n      <td>224</td>\n    </tr>\n    <tr>\n      <th>176</th>\n      <td>116Lexicomp.docx</td>\n      <td>Ampicillin and Cloxacillin [INT]</td>\n      <td>(Lexi-Drugs International [Concise])</td>\n      <td>224</td>\n    </tr>\n    <tr>\n      <th>1106</th>\n      <td>504Lexicomp.docx</td>\n      <td>Ampicillin and Cloxacillin [INT]</td>\n      <td>(Lexi-Drugs International [Concise])</td>\n      <td>224</td>\n    </tr>\n    <tr>\n      <th>1180</th>\n      <td>574Lexicomp.docx</td>\n      <td>Ampicillin and Cloxacillin [INT]</td>\n      <td>(Lexi-Drugs International [Concise])</td>\n      <td>224</td>\n    </tr>\n    <tr>\n      <th>1420</th>\n      <td>802Lexicomp.docx</td>\n      <td>Doxycycline Hyclate Periodontal Extended-Relea...</td>\n      <td>(Lexi-Drugs)</td>\n      <td>2125</td>\n    </tr>\n    <tr>\n      <th>1369</th>\n      <td>755Lexicomp.docx</td>\n      <td>Doxycycline Hyclate Periodontal Extended-Relea...</td>\n      <td>(Lexi-Drugs)</td>\n      <td>2125</td>\n    </tr>\n    <tr>\n      <th>251</th>\n      <td>1241Lexicomp.docx</td>\n      <td>EPHEDrine (Systemic)</td>\n      <td>(Lexi-Drugs)</td>\n      <td>4048</td>\n    </tr>\n    <tr>\n      <th>303</th>\n      <td>128Lexicomp.docx</td>\n      <td>EPHEDrine (Systemic)</td>\n      <td>(Lexi-Drugs)</td>\n      <td>4048</td>\n    </tr>\n    <tr>\n      <th>341</th>\n      <td>1325Lexicomp.docx</td>\n      <td>EPHEDrine (Systemic)</td>\n      <td>(Lexi-Drugs)</td>\n      <td>4048</td>\n    </tr>\n    <tr>\n      <th>844</th>\n      <td>257Lexicomp.docx</td>\n      <td>EPHEDrine (Systemic)</td>\n      <td>(Lexi-Drugs)</td>\n      <td>4048</td>\n    </tr>\n    <tr>\n      <th>1236</th>\n      <td>624Lexicomp.docx</td>\n      <td>Plasminogen Activity, Plasma</td>\n      <td>(Lab Tests and Diagnostic Procedures)</td>\n      <td>1552</td>\n    </tr>\n    <tr>\n      <th>1226</th>\n      <td>615Lexicomp.docx</td>\n      <td>Plasminogen Activity, Plasma</td>\n      <td>(Lab Tests and Diagnostic Procedures)</td>\n      <td>1552</td>\n    </tr>\n    <tr>\n      <th>1</th>\n      <td>1000Lexicomp.docx</td>\n      <td>Plasminogen Activity, Plasma</td>\n      <td>(Lab Tests and Diagnostic Procedures)</td>\n      <td>1552</td>\n    </tr>\n    <tr>\n      <th>1086</th>\n      <td>486Lexicomp.docx</td>\n      <td>Plasminogen Activity, Plasma</td>\n      <td>(Lab Tests and Diagnostic Procedures)</td>\n      <td>1552</td>\n    </tr>\n    <tr>\n      <th>823</th>\n      <td>237Lexicomp.docx</td>\n      <td>Ticarcillin and Clavulanate Potassium</td>\n      <td>(Infectious Diseases)</td>\n      <td>3734</td>\n    </tr>\n    <tr>\n      <th>1328</th>\n      <td>714Lexicomp.docx</td>\n      <td>Ticarcillin and Clavulanate Potassium</td>\n      <td>(Infectious Diseases)</td>\n      <td>3734</td>\n    </tr>\n    <tr>\n      <th>67</th>\n      <td>1065Lexicomp.docx</td>\n      <td>Ticarcillin and Clavulanate Potassium</td>\n      <td>(Infectious Diseases)</td>\n      <td>3734</td>\n    </tr>\n    <tr>\n      <th>952</th>\n      <td>35Lexicomp.docx</td>\n      <td>Ticarcillin and Clavulanate Potassium</td>\n      <td>(Infectious Diseases)</td>\n      <td>3734</td>\n    </tr>\n  </tbody>\n</table>\n</div>"
     },
     "execution_count": 32,
     "metadata": {},
     "output_type": "execute_result"
    }
   ],
   "source": [
    "titles_df[titles_df.title.isin(duplicated_titles)].sort_values(by='title')"
   ],
   "metadata": {
    "collapsed": false
   }
  },
  {
   "cell_type": "code",
   "execution_count": 33,
   "outputs": [],
   "source": [
    "titles_df.to_excel('Titles with duplication.xlsx')"
   ],
   "metadata": {
    "collapsed": false
   }
  },
  {
   "cell_type": "code",
   "execution_count": 234,
   "outputs": [],
   "source": [
    "p=\"C:\\\\projects\\\\drugDatabase\\\\wordv2\"\n",
    "\n",
    "file=\"164Lexicomp.docx\"\n",
    "document=utils.read_doc(f\"{p}\\\\{file}\")\n",
    "# print(utils.words_count(document))\n",
    "os.system(f\"{p}\\\\{file}\")\n",
    "\n",
    "\n",
    "file=\"420Lexicomp.docx\"\n",
    "os.system(f\"{p}\\\\{file}\")\n",
    "document=utils.read_doc(f\"{p}\\\\{file}\")\n",
    "# utils.words_count(document)"
   ],
   "metadata": {
    "collapsed": false
   }
  },
  {
   "cell_type": "code",
   "execution_count": 176,
   "outputs": [
    {
     "data": {
      "text/plain": "7733"
     },
     "execution_count": 176,
     "metadata": {},
     "output_type": "execute_result"
    }
   ],
   "source": [
    "file=\"1Lexicomp.docx\"\n",
    "document=utils.read_doc(f\"{p}\\\\{file}\")\n",
    "utils.words_count(document)"
   ],
   "metadata": {
    "collapsed": false
   }
  },
  {
   "cell_type": "code",
   "execution_count": null,
   "outputs": [],
   "source": [],
   "metadata": {
    "collapsed": false
   }
  },
  {
   "cell_type": "code",
   "execution_count": 230,
   "outputs": [],
   "source": [
    "no_duplicates_df=titles_df.drop_duplicates(subset=['title','words_count'])"
   ],
   "metadata": {
    "collapsed": false
   }
  },
  {
   "cell_type": "code",
   "execution_count": 236,
   "outputs": [],
   "source": [
    "no_duplicates_df.to_csv(\"../metadata/drug_no_duplicates.csv\")"
   ],
   "metadata": {
    "collapsed": false
   }
  },
  {
   "cell_type": "code",
   "execution_count": 233,
   "outputs": [
    {
     "data": {
      "text/plain": "                                       file_name   \n673                             164Lexicomp.docx  \\\n1017                            420Lexicomp.docx   \n473                            1455Lexicomp.docx   \n1638              Ciprofl oxacin (Systemic).docx   \n1642  Ciprofloxacin (Systemic) (Lexi-Drugs).docx   \n826                             241Lexicomp.docx   \n1624                            999Lexicomp.docx   \n273                            1261Lexicomp.docx   \n940                              34Lexicomp.docx   \n134                            1130Lexicomp.docx   \n674                            1650Lexicomp.docx   \n\n                                           title     sub_title  words_count  \n673   Amphotericin B Cholesteryl Sulfate Complex  (Lexi-Drugs)         4610  \n1017  Amphotericin B Cholesteryl Sulfate Complex  (Lexi-Drugs)         4608  \n473                     Ciprofloxacin (Systemic)  (Lexi-Drugs)        23994  \n1638                    Ciprofloxacin (Systemic)  (Lexi-Drugs)        23999  \n1642                    Ciprofloxacin (Systemic)  (Lexi-Drugs)        24004  \n826                                    DilTIAZem  (Lexi-Drugs)        19096  \n1624                                   DilTIAZem  (Lexi-Drugs)        19098  \n273                                 Liothyronine  (Lexi-Drugs)         6679  \n940                                 Liothyronine  (Lexi-Drugs)         6654  \n134                                  Terbutaline  (Lexi-Drugs)         6948  \n674                                  Terbutaline  (Lexi-Drugs)         6946  ",
      "text/html": "<div>\n<style scoped>\n    .dataframe tbody tr th:only-of-type {\n        vertical-align: middle;\n    }\n\n    .dataframe tbody tr th {\n        vertical-align: top;\n    }\n\n    .dataframe thead th {\n        text-align: right;\n    }\n</style>\n<table border=\"1\" class=\"dataframe\">\n  <thead>\n    <tr style=\"text-align: right;\">\n      <th></th>\n      <th>file_name</th>\n      <th>title</th>\n      <th>sub_title</th>\n      <th>words_count</th>\n    </tr>\n  </thead>\n  <tbody>\n    <tr>\n      <th>673</th>\n      <td>164Lexicomp.docx</td>\n      <td>Amphotericin B Cholesteryl Sulfate Complex</td>\n      <td>(Lexi-Drugs)</td>\n      <td>4610</td>\n    </tr>\n    <tr>\n      <th>1017</th>\n      <td>420Lexicomp.docx</td>\n      <td>Amphotericin B Cholesteryl Sulfate Complex</td>\n      <td>(Lexi-Drugs)</td>\n      <td>4608</td>\n    </tr>\n    <tr>\n      <th>473</th>\n      <td>1455Lexicomp.docx</td>\n      <td>Ciprofloxacin (Systemic)</td>\n      <td>(Lexi-Drugs)</td>\n      <td>23994</td>\n    </tr>\n    <tr>\n      <th>1638</th>\n      <td>Ciprofl oxacin (Systemic).docx</td>\n      <td>Ciprofloxacin (Systemic)</td>\n      <td>(Lexi-Drugs)</td>\n      <td>23999</td>\n    </tr>\n    <tr>\n      <th>1642</th>\n      <td>Ciprofloxacin (Systemic) (Lexi-Drugs).docx</td>\n      <td>Ciprofloxacin (Systemic)</td>\n      <td>(Lexi-Drugs)</td>\n      <td>24004</td>\n    </tr>\n    <tr>\n      <th>826</th>\n      <td>241Lexicomp.docx</td>\n      <td>DilTIAZem</td>\n      <td>(Lexi-Drugs)</td>\n      <td>19096</td>\n    </tr>\n    <tr>\n      <th>1624</th>\n      <td>999Lexicomp.docx</td>\n      <td>DilTIAZem</td>\n      <td>(Lexi-Drugs)</td>\n      <td>19098</td>\n    </tr>\n    <tr>\n      <th>273</th>\n      <td>1261Lexicomp.docx</td>\n      <td>Liothyronine</td>\n      <td>(Lexi-Drugs)</td>\n      <td>6679</td>\n    </tr>\n    <tr>\n      <th>940</th>\n      <td>34Lexicomp.docx</td>\n      <td>Liothyronine</td>\n      <td>(Lexi-Drugs)</td>\n      <td>6654</td>\n    </tr>\n    <tr>\n      <th>134</th>\n      <td>1130Lexicomp.docx</td>\n      <td>Terbutaline</td>\n      <td>(Lexi-Drugs)</td>\n      <td>6948</td>\n    </tr>\n    <tr>\n      <th>674</th>\n      <td>1650Lexicomp.docx</td>\n      <td>Terbutaline</td>\n      <td>(Lexi-Drugs)</td>\n      <td>6946</td>\n    </tr>\n  </tbody>\n</table>\n</div>"
     },
     "execution_count": 233,
     "metadata": {},
     "output_type": "execute_result"
    }
   ],
   "source": [
    "duplicated_titles = no_duplicates_df[no_duplicates_df.duplicated('title')].sample(5)['title']\n",
    "no_duplicates_df[no_duplicates_df.title.isin(duplicated_titles)].sort_values(by='title')\n"
   ],
   "metadata": {
    "collapsed": false
   }
  },
  {
   "cell_type": "code",
   "execution_count": 232,
   "outputs": [
    {
     "data": {
      "text/plain": "                                       file_name   \n139                            1135Lexicomp.docx  \\\n1592                            966Lexicomp.docx   \n1017                            420Lexicomp.docx   \n902                             314Lexicomp.docx   \n333                            1317Lexicomp.docx   \n329                            1313Lexicomp.docx   \n654                            1632Lexicomp.docx   \n1589                            963Lexicomp.docx   \n1642  Ciprofloxacin (Systemic) (Lexi-Drugs).docx   \n1638              Ciprofl oxacin (Systemic).docx   \n620                            1601Lexicomp.docx   \n233                            1224Lexicomp.docx   \n1624                            999Lexicomp.docx   \n566                            1543Lexicomp.docx   \n639                            1619Lexicomp.docx   \n431                            1414Lexicomp.docx   \n711                            1684Lexicomp.docx   \n940                              34Lexicomp.docx   \n1427                            811Lexicomp.docx   \n708                            1681Lexicomp.docx   \n963                             371Lexicomp.docx   \n1327                            716Lexicomp.docx   \n1459                            841Lexicomp.docx   \n674                            1650Lexicomp.docx   \n980                             387Lexicomp.docx   \n677                            1653Lexicomp.docx   \n1121                             51Lexicomp.docx   \n361                            1345Lexicomp.docx   \n952                             361Lexicomp.docx   \n\n                                                 title     sub_title   \n139                          Ado-Trastuzumab Emtansine  (Lexi-Drugs)  \\\n1592                                     Aminophylline  (Lexi-Drugs)   \n1017        Amphotericin B Cholesteryl Sulfate Complex  (Lexi-Drugs)   \n902                                        Bivalirudin  (Lexi-Drugs)   \n333                               C1 Inhibitor (Human)  (Lexi-Drugs)   \n329                                        CARBOplatin  (Lexi-Drugs)   \n654                          Ceftazidime and Avibactam  (Lexi-Drugs)   \n1589                        Chloramphenicol (Systemic)  (Lexi-Drugs)   \n1642                          Ciprofloxacin (Systemic)  (Lexi-Drugs)   \n1638                          Ciprofloxacin (Systemic)  (Lexi-Drugs)   \n620                                         Copanlisib  (Lexi-Drugs)   \n233   CycloSPORINE (refer to route-specific monograph)  (Lexi-Drugs)   \n1624                                         DilTIAZem  (Lexi-Drugs)   \n566                                       Epoetin Alfa  (Lexi-Drugs)   \n639                                         Furosemide  (Lexi-Drugs)   \n431                          Hydrocortisone (Systemic)  (Lexi-Drugs)   \n711                                           Ketamine  (Lexi-Drugs)   \n940                                       Liothyronine  (Lexi-Drugs)   \n1427                                Magnesium Chloride  (Lexi-Drugs)   \n708                                       Methotrexate  (Lexi-Drugs)   \n963                                         Metoprolol  (Lexi-Drugs)   \n1327                     Quinupristin and Dalfopristin  (Lexi-Drugs)   \n1459                                         Sarilumab  (Lexi-Drugs)   \n674                                        Terbutaline  (Lexi-Drugs)   \n980                                           Thiotepa  (Lexi-Drugs)   \n677                                     Trace Elements  (Lexi-Drugs)   \n1121                                   Tranexamic Acid  (Lexi-Drugs)   \n361                                        Trastuzumab  (Lexi-Drugs)   \n952                                         Vancomycin  (Lexi-Drugs)   \n\n      words_count  \n139          5513  \n1592         6957  \n1017         4608  \n902          6898  \n333          5105  \n329         20033  \n654          5523  \n1589         4993  \n1642        24004  \n1638        23999  \n620          5005  \n233            29  \n1624        19098  \n566         10580  \n639         11221  \n431         14709  \n711         16370  \n940          6654  \n1427         3685  \n708         35462  \n963         15205  \n1327         4529  \n1459         5524  \n674          6946  \n980          8104  \n677          1933  \n1121        14352  \n361          8609  \n952         23593  ",
      "text/html": "<div>\n<style scoped>\n    .dataframe tbody tr th:only-of-type {\n        vertical-align: middle;\n    }\n\n    .dataframe tbody tr th {\n        vertical-align: top;\n    }\n\n    .dataframe thead th {\n        text-align: right;\n    }\n</style>\n<table border=\"1\" class=\"dataframe\">\n  <thead>\n    <tr style=\"text-align: right;\">\n      <th></th>\n      <th>file_name</th>\n      <th>title</th>\n      <th>sub_title</th>\n      <th>words_count</th>\n    </tr>\n  </thead>\n  <tbody>\n    <tr>\n      <th>139</th>\n      <td>1135Lexicomp.docx</td>\n      <td>Ado-Trastuzumab Emtansine</td>\n      <td>(Lexi-Drugs)</td>\n      <td>5513</td>\n    </tr>\n    <tr>\n      <th>1592</th>\n      <td>966Lexicomp.docx</td>\n      <td>Aminophylline</td>\n      <td>(Lexi-Drugs)</td>\n      <td>6957</td>\n    </tr>\n    <tr>\n      <th>1017</th>\n      <td>420Lexicomp.docx</td>\n      <td>Amphotericin B Cholesteryl Sulfate Complex</td>\n      <td>(Lexi-Drugs)</td>\n      <td>4608</td>\n    </tr>\n    <tr>\n      <th>902</th>\n      <td>314Lexicomp.docx</td>\n      <td>Bivalirudin</td>\n      <td>(Lexi-Drugs)</td>\n      <td>6898</td>\n    </tr>\n    <tr>\n      <th>333</th>\n      <td>1317Lexicomp.docx</td>\n      <td>C1 Inhibitor (Human)</td>\n      <td>(Lexi-Drugs)</td>\n      <td>5105</td>\n    </tr>\n    <tr>\n      <th>329</th>\n      <td>1313Lexicomp.docx</td>\n      <td>CARBOplatin</td>\n      <td>(Lexi-Drugs)</td>\n      <td>20033</td>\n    </tr>\n    <tr>\n      <th>654</th>\n      <td>1632Lexicomp.docx</td>\n      <td>Ceftazidime and Avibactam</td>\n      <td>(Lexi-Drugs)</td>\n      <td>5523</td>\n    </tr>\n    <tr>\n      <th>1589</th>\n      <td>963Lexicomp.docx</td>\n      <td>Chloramphenicol (Systemic)</td>\n      <td>(Lexi-Drugs)</td>\n      <td>4993</td>\n    </tr>\n    <tr>\n      <th>1642</th>\n      <td>Ciprofloxacin (Systemic) (Lexi-Drugs).docx</td>\n      <td>Ciprofloxacin (Systemic)</td>\n      <td>(Lexi-Drugs)</td>\n      <td>24004</td>\n    </tr>\n    <tr>\n      <th>1638</th>\n      <td>Ciprofl oxacin (Systemic).docx</td>\n      <td>Ciprofloxacin (Systemic)</td>\n      <td>(Lexi-Drugs)</td>\n      <td>23999</td>\n    </tr>\n    <tr>\n      <th>620</th>\n      <td>1601Lexicomp.docx</td>\n      <td>Copanlisib</td>\n      <td>(Lexi-Drugs)</td>\n      <td>5005</td>\n    </tr>\n    <tr>\n      <th>233</th>\n      <td>1224Lexicomp.docx</td>\n      <td>CycloSPORINE (refer to route-specific monograph)</td>\n      <td>(Lexi-Drugs)</td>\n      <td>29</td>\n    </tr>\n    <tr>\n      <th>1624</th>\n      <td>999Lexicomp.docx</td>\n      <td>DilTIAZem</td>\n      <td>(Lexi-Drugs)</td>\n      <td>19098</td>\n    </tr>\n    <tr>\n      <th>566</th>\n      <td>1543Lexicomp.docx</td>\n      <td>Epoetin Alfa</td>\n      <td>(Lexi-Drugs)</td>\n      <td>10580</td>\n    </tr>\n    <tr>\n      <th>639</th>\n      <td>1619Lexicomp.docx</td>\n      <td>Furosemide</td>\n      <td>(Lexi-Drugs)</td>\n      <td>11221</td>\n    </tr>\n    <tr>\n      <th>431</th>\n      <td>1414Lexicomp.docx</td>\n      <td>Hydrocortisone (Systemic)</td>\n      <td>(Lexi-Drugs)</td>\n      <td>14709</td>\n    </tr>\n    <tr>\n      <th>711</th>\n      <td>1684Lexicomp.docx</td>\n      <td>Ketamine</td>\n      <td>(Lexi-Drugs)</td>\n      <td>16370</td>\n    </tr>\n    <tr>\n      <th>940</th>\n      <td>34Lexicomp.docx</td>\n      <td>Liothyronine</td>\n      <td>(Lexi-Drugs)</td>\n      <td>6654</td>\n    </tr>\n    <tr>\n      <th>1427</th>\n      <td>811Lexicomp.docx</td>\n      <td>Magnesium Chloride</td>\n      <td>(Lexi-Drugs)</td>\n      <td>3685</td>\n    </tr>\n    <tr>\n      <th>708</th>\n      <td>1681Lexicomp.docx</td>\n      <td>Methotrexate</td>\n      <td>(Lexi-Drugs)</td>\n      <td>35462</td>\n    </tr>\n    <tr>\n      <th>963</th>\n      <td>371Lexicomp.docx</td>\n      <td>Metoprolol</td>\n      <td>(Lexi-Drugs)</td>\n      <td>15205</td>\n    </tr>\n    <tr>\n      <th>1327</th>\n      <td>716Lexicomp.docx</td>\n      <td>Quinupristin and Dalfopristin</td>\n      <td>(Lexi-Drugs)</td>\n      <td>4529</td>\n    </tr>\n    <tr>\n      <th>1459</th>\n      <td>841Lexicomp.docx</td>\n      <td>Sarilumab</td>\n      <td>(Lexi-Drugs)</td>\n      <td>5524</td>\n    </tr>\n    <tr>\n      <th>674</th>\n      <td>1650Lexicomp.docx</td>\n      <td>Terbutaline</td>\n      <td>(Lexi-Drugs)</td>\n      <td>6946</td>\n    </tr>\n    <tr>\n      <th>980</th>\n      <td>387Lexicomp.docx</td>\n      <td>Thiotepa</td>\n      <td>(Lexi-Drugs)</td>\n      <td>8104</td>\n    </tr>\n    <tr>\n      <th>677</th>\n      <td>1653Lexicomp.docx</td>\n      <td>Trace Elements</td>\n      <td>(Lexi-Drugs)</td>\n      <td>1933</td>\n    </tr>\n    <tr>\n      <th>1121</th>\n      <td>51Lexicomp.docx</td>\n      <td>Tranexamic Acid</td>\n      <td>(Lexi-Drugs)</td>\n      <td>14352</td>\n    </tr>\n    <tr>\n      <th>361</th>\n      <td>1345Lexicomp.docx</td>\n      <td>Trastuzumab</td>\n      <td>(Lexi-Drugs)</td>\n      <td>8609</td>\n    </tr>\n    <tr>\n      <th>952</th>\n      <td>361Lexicomp.docx</td>\n      <td>Vancomycin</td>\n      <td>(Lexi-Drugs)</td>\n      <td>23593</td>\n    </tr>\n  </tbody>\n</table>\n</div>"
     },
     "execution_count": 232,
     "metadata": {},
     "output_type": "execute_result"
    }
   ],
   "source": [
    "\n",
    "no_duplicates_df[no_duplicates_df.duplicated('title')].sort_values('title')"
   ],
   "metadata": {
    "collapsed": false
   }
  },
  {
   "cell_type": "code",
   "execution_count": null,
   "outputs": [],
   "source": [],
   "metadata": {
    "collapsed": false
   }
  },
  {
   "cell_type": "code",
   "execution_count": 240,
   "outputs": [
    {
     "data": {
      "text/plain": "              file_name         title     sub_title  words_count\n0        0Lexicomp.docx  Epoetin Alfa  (Lexi-Drugs)        10559\n566   1543Lexicomp.docx  Epoetin Alfa  (Lexi-Drugs)        10580\n923    333Lexicomp.docx  Epoetin Alfa  (Lexi-Drugs)        10559\n1031   434Lexicomp.docx  Epoetin Alfa  (Lexi-Drugs)        10559\n1095   496Lexicomp.docx  Epoetin Alfa  (Lexi-Drugs)        10559\n1187   582Lexicomp.docx  Epoetin Alfa  (Lexi-Drugs)        10559",
      "text/html": "<div>\n<style scoped>\n    .dataframe tbody tr th:only-of-type {\n        vertical-align: middle;\n    }\n\n    .dataframe tbody tr th {\n        vertical-align: top;\n    }\n\n    .dataframe thead th {\n        text-align: right;\n    }\n</style>\n<table border=\"1\" class=\"dataframe\">\n  <thead>\n    <tr style=\"text-align: right;\">\n      <th></th>\n      <th>file_name</th>\n      <th>title</th>\n      <th>sub_title</th>\n      <th>words_count</th>\n    </tr>\n  </thead>\n  <tbody>\n    <tr>\n      <th>0</th>\n      <td>0Lexicomp.docx</td>\n      <td>Epoetin Alfa</td>\n      <td>(Lexi-Drugs)</td>\n      <td>10559</td>\n    </tr>\n    <tr>\n      <th>566</th>\n      <td>1543Lexicomp.docx</td>\n      <td>Epoetin Alfa</td>\n      <td>(Lexi-Drugs)</td>\n      <td>10580</td>\n    </tr>\n    <tr>\n      <th>923</th>\n      <td>333Lexicomp.docx</td>\n      <td>Epoetin Alfa</td>\n      <td>(Lexi-Drugs)</td>\n      <td>10559</td>\n    </tr>\n    <tr>\n      <th>1031</th>\n      <td>434Lexicomp.docx</td>\n      <td>Epoetin Alfa</td>\n      <td>(Lexi-Drugs)</td>\n      <td>10559</td>\n    </tr>\n    <tr>\n      <th>1095</th>\n      <td>496Lexicomp.docx</td>\n      <td>Epoetin Alfa</td>\n      <td>(Lexi-Drugs)</td>\n      <td>10559</td>\n    </tr>\n    <tr>\n      <th>1187</th>\n      <td>582Lexicomp.docx</td>\n      <td>Epoetin Alfa</td>\n      <td>(Lexi-Drugs)</td>\n      <td>10559</td>\n    </tr>\n  </tbody>\n</table>\n</div>"
     },
     "execution_count": 240,
     "metadata": {},
     "output_type": "execute_result"
    }
   ],
   "source": [
    "titles_df[titles_df.title.str.find(\"Epoetin Alfa\")!=-1]"
   ],
   "metadata": {
    "collapsed": false
   }
  },
  {
   "cell_type": "code",
   "execution_count": 241,
   "outputs": [],
   "source": [
    "eoptien=titles_df[titles_df.title.str.find(\"Epoetin Alfa\")!=-1]\n",
    "\n",
    "for i in range(len(eoptien)):\n",
    "\n",
    "    os.system(f\"{p}\\\\{eoptien.iloc[i]['file_name']}\")"
   ],
   "metadata": {
    "collapsed": false
   }
  },
  {
   "cell_type": "code",
   "execution_count": null,
   "outputs": [],
   "source": [],
   "metadata": {
    "collapsed": false
   }
  }
 ],
 "metadata": {
  "kernelspec": {
   "display_name": "Python 3",
   "language": "python",
   "name": "python3"
  },
  "language_info": {
   "codemirror_mode": {
    "name": "ipython",
    "version": 2
   },
   "file_extension": ".py",
   "mimetype": "text/x-python",
   "name": "python",
   "nbconvert_exporter": "python",
   "pygments_lexer": "ipython2",
   "version": "2.7.6"
  }
 },
 "nbformat": 4,
 "nbformat_minor": 0
}
