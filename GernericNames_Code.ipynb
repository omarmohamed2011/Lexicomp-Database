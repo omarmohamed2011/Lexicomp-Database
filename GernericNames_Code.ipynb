{
 "cells": [
  {
   "cell_type": "code",
   "execution_count": 18,
   "metadata": {
    "collapsed": true,
    "ExecuteTime": {
     "end_time": "2023-08-27T09:14:39.303155100Z",
     "start_time": "2023-08-27T09:14:32.877241600Z"
    }
   },
   "outputs": [],
   "source": [
    "import glob\n",
    "import pandas as pd\n",
    "docx_path = glob.glob('Notebooks//installations//Data//Total-Lexi-links-docx//*')"
   ]
  },
  {
   "cell_type": "code",
   "execution_count": 19,
   "outputs": [
    {
     "data": {
      "text/plain": "3157"
     },
     "execution_count": 19,
     "metadata": {},
     "output_type": "execute_result"
    }
   ],
   "source": [
    "len(docx_path)"
   ],
   "metadata": {
    "collapsed": false,
    "ExecuteTime": {
     "end_time": "2023-08-27T09:14:39.319114500Z",
     "start_time": "2023-08-27T09:14:39.305150800Z"
    }
   }
  },
  {
   "cell_type": "code",
   "execution_count": 10,
   "outputs": [],
   "source": [
    "excels = glob.glob('Database pdfs/Meetings Work/Meeting 10/*.xlsx')"
   ],
   "metadata": {
    "collapsed": false,
    "ExecuteTime": {
     "end_time": "2023-08-27T09:11:50.511997300Z",
     "start_time": "2023-08-27T09:11:50.504021200Z"
    }
   }
  },
  {
   "cell_type": "code",
   "execution_count": 11,
   "outputs": [
    {
     "data": {
      "text/plain": "['Database pdfs/Meetings Work/Meeting 10\\\\generic_codes.xlsx',\n 'Database pdfs/Meetings Work/Meeting 10\\\\generic_codes2.xlsx']"
     },
     "execution_count": 11,
     "metadata": {},
     "output_type": "execute_result"
    }
   ],
   "source": [
    "excels"
   ],
   "metadata": {
    "collapsed": false,
    "ExecuteTime": {
     "end_time": "2023-08-27T09:11:51.356122100Z",
     "start_time": "2023-08-27T09:11:51.341176600Z"
    }
   }
  },
  {
   "cell_type": "code",
   "execution_count": 16,
   "outputs": [],
   "source": [
    "drugs_names = []\n",
    "for path1 in docx_path:\n",
    "    drugs_names.append(path1.split('\\\\')[-1].split('.')[0])"
   ],
   "metadata": {
    "collapsed": false,
    "ExecuteTime": {
     "end_time": "2023-08-27T09:13:44.128804400Z",
     "start_time": "2023-08-27T09:13:44.117813700Z"
    }
   }
  },
  {
   "cell_type": "code",
   "execution_count": 64,
   "outputs": [],
   "source": [
    "def eliminate_last_par(name):\n",
    "    name = '('.join(name.split('(')[:-1]).strip()\n",
    "    return name\n",
    "\n",
    "def eliminate_last_bra(name):\n",
    "    name = '['.join(name.split('[')[:-1]).strip()\n",
    "    return name"
   ],
   "metadata": {
    "collapsed": false,
    "ExecuteTime": {
     "end_time": "2023-08-27T10:06:19.449427700Z",
     "start_time": "2023-08-27T10:06:19.429024400Z"
    }
   }
  },
  {
   "cell_type": "code",
   "execution_count": 27,
   "outputs": [],
   "source": [
    "drugs_names_lower = [drug_name.lower() for drug_name in drugs_names]"
   ],
   "metadata": {
    "collapsed": false,
    "ExecuteTime": {
     "end_time": "2023-08-27T09:20:58.843488800Z",
     "start_time": "2023-08-27T09:20:58.818560200Z"
    }
   }
  },
  {
   "cell_type": "code",
   "execution_count": 65,
   "outputs": [],
   "source": [
    "drugs_names_sep = [eliminate_last_par(drug_name).lower() for drug_name in drugs_names]\n",
    "drugs_names_sep2= [eliminate_last_bra(drug_name).lower() for drug_name in drugs_names]"
   ],
   "metadata": {
    "collapsed": false,
    "ExecuteTime": {
     "end_time": "2023-08-27T10:06:39.219014100Z",
     "start_time": "2023-08-27T10:06:39.207049Z"
    }
   }
  },
  {
   "cell_type": "code",
   "execution_count": 59,
   "outputs": [
    {
     "data": {
      "text/plain": "['5 + 2 (cytarabine-daunorubicin)',\n '5 + 2 (cytarabine-daunorubicin)',\n '5 + 2 (cytarabine-idarubicin)',\n '5 + 2 (cytarabine-mitoxantrone)',\n '5 + 2 + 5 (cytarabine-daunorubicin-etoposide)',\n '7 + 3 (cytarabine-daunorubicin)',\n '7 + 3 (cytarabine-idarubicin)',\n '7 + 3 (cytarabine-mitoxantrone)',\n '7 + 3 + 7 (cytarabine-daunorubicin-etoposide)',\n 'a-avd',\n '',\n '',\n '',\n '',\n '',\n '',\n '',\n 'abemaciclib-fulvestrant',\n '',\n '',\n 'abiraterone-methylprednisolone',\n 'abiraterone-prednisone',\n '',\n '',\n 'abv hybrid',\n 'abvd',\n 'abvd early stage',\n 'ac',\n 'ac (dose-dense) followed by paclitaxel (dose-dense)',\n 'ac (dose-dense) followed by paclitaxel (dose-dense)-trastuzumab',\n 'ac (dose-dense) followed by paclitaxel weekly',\n 'ac followed by docetaxel every 3 weeks',\n 'ac followed by paclitaxel weekly',\n 'ac followed by paclitaxel-trastuzumab',\n 'acalabrutinib-obinutuzumab',\n '',\n '',\n '',\n '',\n '',\n '',\n '',\n '',\n '',\n '',\n '',\n '',\n '',\n '',\n '',\n '',\n '',\n '',\n '',\n '',\n '',\n '',\n '',\n '',\n '',\n '',\n 'acetic acid',\n 'acetic acid',\n 'acetic acid',\n '',\n '',\n '',\n '',\n '',\n '',\n '',\n '',\n '',\n 'acyclovir',\n 'acyclovir',\n 'acyclovir',\n 'acyclovir',\n '',\n 'ad',\n '',\n '',\n '',\n '',\n '',\n '',\n 'adenovirus',\n '',\n '',\n '',\n '',\n 'aflibercept',\n 'aflibercept',\n '',\n '',\n 'aim',\n '',\n '',\n '',\n '',\n '',\n '',\n '',\n '',\n 'alcohol',\n 'alcohol',\n '',\n '',\n '',\n '',\n '',\n '',\n '',\n '',\n '',\n '',\n '',\n '',\n 'alitretinoin',\n 'alitretinoin',\n 'alitretinoin',\n '',\n '',\n '',\n '',\n '',\n '',\n 'alpelisib-fulvestrant',\n '',\n '',\n '',\n '',\n '',\n '',\n '',\n '',\n '',\n '',\n '',\n '',\n '',\n '',\n '',\n '',\n '',\n '',\n '',\n '',\n '',\n '',\n 'amikacin',\n 'amikacin',\n 'amikacin liposome',\n '',\n '',\n '',\n '',\n 'aminolevulinic acid',\n 'aminolevulinic acid',\n 'aminolevulinic acid',\n '',\n '',\n '',\n 'amisulpride',\n '',\n '',\n '',\n '',\n '',\n '',\n '',\n '',\n '',\n '',\n '',\n 'ammonia spirit',\n '',\n '',\n '',\n '',\n '',\n '',\n 'amphotericin b',\n 'amphotericin b',\n '',\n '',\n '',\n '',\n '',\n '',\n '',\n '',\n '',\n 'andexanet alfa',\n '',\n '',\n '',\n '',\n '',\n 'anthrax immune globulin',\n '',\n 'anti-inhibitor coagulant complex',\n '',\n '',\n 'antihemophilic factor',\n 'antihemophilic factor',\n 'antihemophilic factor',\n 'antihemophilic factor',\n 'antihemophilic factor',\n 'antihemophilic factor',\n 'antihemophilic factorvon willebrand factor complex',\n '',\n 'antithymocyte globulin',\n 'antithymocyte globulin',\n 'antivenin',\n 'antivenin',\n '',\n '',\n '',\n '',\n '',\n '',\n '',\n '',\n '',\n '',\n '',\n '',\n '',\n '',\n '',\n '',\n '',\n '',\n '',\n '',\n '',\n '',\n 'asparaginase',\n 'asparaginase',\n '',\n '',\n '',\n '',\n '',\n '',\n '',\n '',\n 'atezolizumab-bevacizumab',\n 'atezolizumab-bevacizumab-carboplatin-paclitaxel',\n 'atezolizumab-carboplatin-etoposide',\n 'atezolizumab-carboplatin-paclitaxel (protein bound)',\n 'atezolizumab-cobimetinib-vemurafenib',\n '',\n '',\n '',\n '',\n '',\n '',\n '',\n '',\n 'atropine',\n 'atropine',\n 'atropine',\n '',\n '',\n '',\n '',\n '',\n '',\n '',\n 'avelumab-axitinib',\n '',\n '',\n '',\n '',\n '',\n '',\n '',\n 'azelastine',\n 'azelastine',\n 'azelastine',\n '',\n '',\n '',\n 'azithromycin',\n 'azithromycin',\n 'azithromycin',\n 'aztreonam',\n 'aztreonam',\n 'aztreonam',\n 'bacitracin',\n 'bacitracin',\n 'bacitracin',\n 'bacitracin',\n 'bacitracin and polymyxin b',\n 'bacitracin and polymyxin b',\n 'bacitracin and polymyxin b',\n 'bacitracin, neomycin, and polymyxin b',\n 'bacitracin, neomycin, and polymyxin b',\n 'bacitracin, neomycin, and polymyxin b',\n 'bacitracin, neomycin, polymyxin b, and hydrocortisone',\n 'bacitracin, neomycin, polymyxin b, and hydrocortisone',\n 'bacitracin, neomycin, polymyxin b, and hydrocortisone',\n '',\n '',\n '',\n '',\n '',\n '',\n '',\n '',\n '',\n '',\n '',\n 'bcg',\n 'bcg',\n 'bcg vaccine',\n 'beacopp escalated',\n 'beacopp escalated plus standard',\n 'beacopp standard',\n 'beacopp-14',\n '',\n '',\n 'beclomethasone',\n 'beclomethasone',\n 'beclomethasone',\n 'beclomethasone',\n '',\n '',\n '',\n '',\n '',\n '',\n '',\n '',\n '',\n '',\n '',\n '',\n 'bendamustine-bortezomib-rituximab',\n 'bendamustine-lenalidomide-dexamethasone',\n 'bendamustine-obinutuzumab',\n 'bendamustine-rituximab',\n 'bendamustine-rituximab',\n 'bendamustine-rituximab',\n 'bendamustine-rituximab',\n '',\n '',\n '',\n '',\n '',\n '',\n '',\n '',\n '',\n '',\n '',\n '',\n '',\n '',\n '',\n '',\n '',\n '',\n '',\n 'bep',\n 'bep',\n '',\n '',\n '',\n '',\n '',\n '',\n '',\n 'betamethasone',\n 'betamethasone',\n 'betamethasone',\n '',\n '',\n '',\n 'betaxolol',\n 'betaxolol',\n 'betaxolol',\n '',\n '',\n 'bevacizumab + folfiri',\n 'bevacizumab + xelox',\n 'bevacizumab folfox',\n 'bevacizumab-carboplatin-doxorubicin (liposomal)',\n 'bevacizumab-carboplatin-gemcitabine',\n 'bevacizumab-carboplatin-paclitaxel',\n 'bevacizumab-carboplatin-paclitaxel',\n 'bevacizumab-carboplatin-pemetrexed',\n 'bevacizumab-cisplatin-paclitaxel',\n 'bevacizumab-cisplatin-pemetrexed',\n 'bevacizumab-cisplatin-pemetrexed',\n 'bevacizumab-doxorubicin (liposomal)',\n 'bevacizumab-fluorouracil-leucovorin',\n 'bevacizumab-irinotecan',\n 'bevacizumab-lomustine',\n 'bevacizumab-lonsurf',\n 'bevacizumab-paclitaxel',\n 'bevacizumab-paclitaxel',\n 'bevacizumab-paclitaxel-topotecan',\n 'bevacizumab-topotecan daily',\n 'bevacizumab-topotecan weekly',\n '',\n '',\n 'bexarotene',\n 'bexarotene',\n 'bexarotene',\n '',\n '',\n '',\n '',\n '',\n '',\n '',\n '',\n '',\n '',\n '',\n '',\n '',\n '',\n '',\n '',\n '',\n '',\n 'boric acid',\n 'bortezomib-dexamethasone',\n 'bortezomib-dexamethasone',\n 'bortezomib-dexamethasone-rituximab',\n 'bortezomib-doxorubicin (liposomal)',\n 'bortezomib-doxorubicin-dexamethasone',\n 'bortezomib-rituximab',\n 'bortezomib-thalidomide-dexamethasone',\n '',\n '',\n '',\n '',\n 'botulism immune globulin',\n '',\n '',\n '',\n '',\n '',\n '',\n '',\n '',\n '',\n 'brimonidine',\n 'brimonidine',\n 'brimonidine',\n '',\n '',\n '',\n '',\n '',\n '',\n '',\n '',\n '',\n '',\n '',\n '',\n '',\n '',\n '',\n 'budesonide',\n 'budesonide',\n 'budesonide',\n 'budesonide',\n 'budesonide',\n '',\n '',\n '',\n 'bupivacaine',\n '',\n '',\n '',\n '',\n '',\n '',\n '',\n '',\n '',\n '',\n '',\n '',\n '',\n '',\n '',\n '',\n '',\n '',\n '',\n '',\n 'c-moppabv hybrid',\n 'c1 inhibitor',\n 'c1 inhibitor',\n 'cabazitaxel-prednisone',\n '',\n '',\n '',\n '',\n 'cabozantinib-nivolumab',\n '',\n '',\n '',\n '',\n '',\n '',\n '',\n '',\n 'calcitriol',\n 'calcitriol',\n 'calcitriol',\n '',\n '',\n '',\n '',\n '',\n '',\n '',\n '',\n '',\n '',\n '',\n '',\n '',\n '',\n '',\n 'calgb 8811 regimen',\n 'calgb 9111 regimen',\n '',\n '',\n '',\n '',\n '',\n '',\n '',\n '',\n 'candida albicans',\n '',\n '',\n '',\n '',\n '',\n 'capecitabine + lapatinib',\n 'capecitabine-docetaxel',\n 'capecitabine-docetaxel',\n 'capecitabine-gemcitabine',\n 'capecitabine-ixabepilone',\n 'capecitabine-oxaliplatin',\n 'capecitabine-oxaliplatin',\n 'capecitabine-trastuzumab',\n '',\n '',\n '',\n 'capox',\n 'capox',\n '',\n '',\n '',\n '',\n '',\n '',\n '',\n '',\n '',\n '',\n '',\n '',\n '',\n 'carboplatin-cetuximab',\n 'carboplatin-docetaxel',\n 'carboplatin-docetaxel',\n 'carboplatin-docetaxel',\n 'carboplatin-docetaxel-trastuzumab',\n 'carboplatin-doxorubicin (liposomal)',\n 'carboplatin-etoposide',\n 'carboplatin-etoposide',\n 'carboplatin-etoposide-paclitaxel',\n 'carboplatin-fluorouracil',\n 'carboplatin-gemcitabine',\n 'carboplatin-gemcitabine',\n 'carboplatin-gemcitabine',\n 'carboplatin-irinotecan',\n 'carboplatin-paclitaxel',\n 'carboplatin-paclitaxel',\n 'carboplatin-paclitaxel',\n 'carboplatin-paclitaxel',\n 'carboplatin-paclitaxel (protein bound)',\n 'carboplatin-paclitaxel (protein bound)-pembrolizumab',\n 'carboplatin-paclitaxel',\n 'carboplatin-paclitaxel',\n 'carboplatin-paclitaxel-pembrolizumab',\n 'carboplatin-paclitaxel-trastuzumab',\n 'carboplatin-pemetrexed',\n 'carboplatin-pemetrexed',\n 'carboplatin-pemetrexed-pembrolizumab',\n '',\n '',\n '',\n '',\n 'carfilzomib, cyclophosphamide, dexamethasone',\n 'carfilzomib, lenalidomide, dexamethasone',\n 'carfilzomib-dexamethasone',\n 'carfilzomib-dexamethasone-daratumumab',\n '',\n '',\n '',\n '',\n '',\n '',\n '',\n 'carteolol',\n '',\n '',\n '',\n '',\n '',\n 'cav',\n '',\n '',\n '',\n '',\n '',\n '',\n '',\n '',\n '',\n '',\n '',\n '',\n '',\n '',\n '',\n '',\n '',\n '',\n '',\n '',\n '',\n '',\n 'cellulose',\n '',\n '',\n '',\n '',\n 'centruroides immune f(ab)2',\n '',\n 'cepp',\n '',\n '',\n '',\n 'cetirizine',\n 'cetirizine',\n 'cetirizine',\n '',\n '',\n 'cetuximab (biweekly)-irinotecan',\n 'cetuximab + folfiri',\n 'cetuximab-carboplatin-fluorouracil',\n 'cetuximab-cisplatin-fluorouracil',\n 'cetuximab-encorafenib',\n 'cetuximab-irinotecan',\n '',\n '',\n '',\n '',\n '',\n '',\n '',\n '',\n 'chlorambucil-obinutuzumab',\n 'chlorambucil-ofatumumab',\n 'chlorambucil-prednisone',\n '',\n 'chloramphenicol',\n '',\n 'chlorhexidine gluconate',\n 'chlorhexidine gluconate',\n 'chlorhexidine gluconate',\n '',\n 'chloroprocaine',\n 'chloroprocaine',\n 'chloroprocaine',\n '',\n '',\n '',\n '',\n '',\n '',\n '',\n '',\n '',\n '',\n '',\n '',\n '',\n '',\n '',\n '',\n '',\n 'chop',\n 'chorionic gonadotropin',\n 'chorionic gonadotropin',\n '',\n 'ciclesonide',\n 'ciclesonide',\n 'ciclesonide',\n '',\n '',\n '',\n '',\n '',\n '',\n '',\n '',\n 'ciprofloxacin',\n 'ciprofloxacin',\n 'ciprofloxacin',\n 'ciprofloxacin',\n '',\n '',\n '',\n '',\n '',\n 'cisplatin-capecitabine',\n 'cisplatin-capecitabine',\n 'cisplatin-cetuximab',\n 'cisplatin-docetaxel',\n 'cisplatin-docetaxel',\n 'cisplatin-docetaxel',\n 'cisplatin-docetaxel-fluorouracil',\n 'cisplatin-docetaxel-gemcitabine',\n 'cisplatin-doxorubicin',\n 'cisplatin-doxorubicin-paclitaxel',\n 'cisplatin-etoposide',\n 'cisplatin-etoposide',\n 'cisplatin-fluorouracil',\n 'cisplatin-fluorouracil',\n 'cisplatin-fluorouracil',\n 'cisplatin-fluorouracil-paclitaxel',\n 'cisplatin-gemcitabine',\n 'cisplatin-gemcitabine',\n 'cisplatin-gemcitabine',\n 'cisplatin-gemcitabine',\n 'cisplatin-gemcitabine',\n 'cisplatin-gemcitabine',\n 'cisplatin-gemcitabine-necitumumab',\n 'cisplatin-irinotecan',\n 'cisplatin-irinotecan',\n 'cisplatin-irinotecan',\n 'cisplatin-paclitaxel',\n 'cisplatin-paclitaxel',\n 'cisplatin-paclitaxel',\n 'cisplatin-paclitaxel intraperitoneal',\n 'cisplatin-pemetrexed',\n 'cisplatin-pemetrexed',\n 'cisplatin-pemetrexed-pembrolizumab',\n 'cisplatin-raltitrexed',\n 'cisplatin-topotecan',\n 'cisplatin-vinblastine',\n 'cisplatin-vinorelbine',\n 'cisplatin-vinorelbine',\n 'cisplatin-vinorelbine',\n '',\n '',\n '',\n '',\n 'cladribine-rituximab',\n 'cladribine-rituximab',\n '',\n 'clag',\n 'clag-m',\n '',\n '',\n '',\n '',\n '',\n 'clindamycin',\n 'clindamycin',\n 'clindamycin',\n '',\n '',\n '',\n '',\n '',\n '',\n '',\n '',\n '',\n 'clofarabine-cyclophosphamide-etoposide',\n 'clofarabine-cytarabine',\n '',\n '',\n '',\n '',\n '',\n '',\n '',\n '',\n '',\n 'clotrimazole',\n 'clotrimazole',\n 'clotrimazole',\n '',\n '',\n 'cmf oral',\n 'cmv',\n '',\n '',\n '',\n 'cobimetinib-vemurafenib',\n '',\n 'cocaine',\n '',\n '',\n '',\n '',\n 'codox-m',\n 'codox-mivac',\n '',\n '',\n '',\n '',\n '',\n 'collagen',\n '',\n 'collagenase',\n 'collagenase',\n 'collagenase',\n '',\n '',\n '',\n '',\n '',\n '',\n '',\n '',\n '',\n '',\n 'covid-19 vaccine',\n 'covid-19 vaccine',\n 'covid-19 vaccine',\n 'covid-19 vaccine',\n '',\n '',\n '',\n '',\n 'cromolyn',\n 'cromolyn',\n 'cromolyn',\n 'cromolyn',\n 'cromolyn',\n \"crotalidae immune f(ab')2\",\n 'crotalidae polyvalent immune fab',\n '',\n '',\n '',\n '',\n '',\n 'cyclophosphamide-bortezomib-dexamethasone',\n 'cyclophosphamide-epirubicin',\n 'cyclophosphamide-topotecan',\n 'cyclophosphamide-topotecan',\n '',\n '',\n 'cyclosporine',\n 'cyclosporine',\n 'cyclosporine',\n '',\n '',\n '',\n 'cysteamine',\n 'cysteamine',\n 'cysteamine',\n '',\n 'cytarabine',\n 'cytarabine (high dose)-daunorubicin',\n 'cytarabine (high dose)-daunorubicin-etoposide',\n 'cytarabine',\n 'cytarabine',\n 'cytarabine',\n 'cytarabine',\n 'cytomegalovirus immune globulin',\n '',\n 'dabrafenib-trametinib',\n 'dabrafenib-trametinib',\n '',\n '',\n '',\n '',\n '',\n '',\n '',\n '',\n '',\n '',\n '',\n '',\n '',\n '',\n '',\n 'dapsone',\n 'dapsone',\n 'dapsone',\n '',\n '',\n 'daratumumab-bortezomib-dexamethasone',\n 'daratumumab-bortezomib-melphalan-prednisone',\n 'daratumumab-bortezomib-thalidomide-dexamethasone',\n 'daratumumab-lenalidomide-dexamethasone',\n 'daratumumab-pomalidomide-dexamethasone',\n '',\n '',\n '',\n '',\n '',\n '',\n '',\n '',\n '',\n '',\n 'daunorubicin',\n 'daunorubicin',\n 'daunorubicin and cytarabine',\n '',\n '',\n '',\n '',\n '',\n '',\n '',\n '',\n '',\n '',\n '',\n '',\n 'dengue tetravalent vaccine',\n '',\n '',\n '',\n '',\n '',\n '',\n '',\n '',\n '',\n '',\n '',\n '',\n '',\n '',\n 'dexamethasone',\n 'dexamethasone',\n 'dexamethasone',\n '',\n '',\n '',\n '',\n '',\n '',\n '',\n '',\n '',\n '',\n '',\n '',\n '',\n '',\n '',\n '',\n '',\n '',\n '',\n '',\n \"dextrose and ringer's injection\",\n '',\n '',\n 'dhap',\n 'dhap',\n '',\n '',\n '',\n '',\n '',\n '',\n '',\n '',\n 'diclofenac',\n 'diclofenac',\n 'diclofenac',\n 'diclofenac',\n '',\n '',\n '',\n ...]"
     },
     "execution_count": 59,
     "metadata": {},
     "output_type": "execute_result"
    }
   ],
   "source": [
    "drugs_names_sep"
   ],
   "metadata": {
    "collapsed": false,
    "ExecuteTime": {
     "end_time": "2023-08-27T10:04:44.173349800Z",
     "start_time": "2023-08-27T10:04:44.142071200Z"
    }
   }
  },
  {
   "cell_type": "code",
   "execution_count": 22,
   "outputs": [
    {
     "data": {
      "text/plain": "        RXCUI                                    Preferred Label\n0      706898                      fentanyl 0.3 MG Buccal Tablet\n1     1486794                                   strawberry juice\n2      214081       chlorthalidone 15 MG Oral Tablet [Thalitone]\n3      706896  glimepiride 4 MG / rosiglitazone 8 MG Oral Tablet\n4     1855662  sodium acrylate/sodium acryloyldimethyltaurate...\n...       ...                                                ...\n3107  1483777                 acetamidopropyl trimonium chloride\n3108  1364901                         sodium lauroyl sarcosinate\n3109  2591790                        daptomycin 500 MG [Dapzura]\n3110   569200             benzoyl peroxide 0.1 MG/MG [Persa-Gel]\n3111      NaN                                    Chewable Tablet\n\n[3112 rows x 2 columns]",
      "text/html": "<div>\n<style scoped>\n    .dataframe tbody tr th:only-of-type {\n        vertical-align: middle;\n    }\n\n    .dataframe tbody tr th {\n        vertical-align: top;\n    }\n\n    .dataframe thead th {\n        text-align: right;\n    }\n</style>\n<table border=\"1\" class=\"dataframe\">\n  <thead>\n    <tr style=\"text-align: right;\">\n      <th></th>\n      <th>RXCUI</th>\n      <th>Preferred Label</th>\n    </tr>\n  </thead>\n  <tbody>\n    <tr>\n      <th>0</th>\n      <td>706898</td>\n      <td>fentanyl 0.3 MG Buccal Tablet</td>\n    </tr>\n    <tr>\n      <th>1</th>\n      <td>1486794</td>\n      <td>strawberry juice</td>\n    </tr>\n    <tr>\n      <th>2</th>\n      <td>214081</td>\n      <td>chlorthalidone 15 MG Oral Tablet [Thalitone]</td>\n    </tr>\n    <tr>\n      <th>3</th>\n      <td>706896</td>\n      <td>glimepiride 4 MG / rosiglitazone 8 MG Oral Tablet</td>\n    </tr>\n    <tr>\n      <th>4</th>\n      <td>1855662</td>\n      <td>sodium acrylate/sodium acryloyldimethyltaurate...</td>\n    </tr>\n    <tr>\n      <th>...</th>\n      <td>...</td>\n      <td>...</td>\n    </tr>\n    <tr>\n      <th>3107</th>\n      <td>1483777</td>\n      <td>acetamidopropyl trimonium chloride</td>\n    </tr>\n    <tr>\n      <th>3108</th>\n      <td>1364901</td>\n      <td>sodium lauroyl sarcosinate</td>\n    </tr>\n    <tr>\n      <th>3109</th>\n      <td>2591790</td>\n      <td>daptomycin 500 MG [Dapzura]</td>\n    </tr>\n    <tr>\n      <th>3110</th>\n      <td>569200</td>\n      <td>benzoyl peroxide 0.1 MG/MG [Persa-Gel]</td>\n    </tr>\n    <tr>\n      <th>3111</th>\n      <td>NaN</td>\n      <td>Chewable Tablet</td>\n    </tr>\n  </tbody>\n</table>\n<p>3112 rows × 2 columns</p>\n</div>"
     },
     "execution_count": 22,
     "metadata": {},
     "output_type": "execute_result"
    }
   ],
   "source": [
    "codes1 = pd.read_excel(excels[0])\n",
    "codes2 = pd.read_excel(excels[1])\n",
    "codes1"
   ],
   "metadata": {
    "collapsed": false,
    "ExecuteTime": {
     "end_time": "2023-08-27T09:18:27.411698400Z",
     "start_time": "2023-08-27T09:18:19.743793700Z"
    }
   }
  },
  {
   "cell_type": "code",
   "execution_count": 23,
   "outputs": [
    {
     "data": {
      "text/plain": "                                          Preferred Label       CUI\n0                           fentanyl 0.3 MG Buccal Tablet  C1948906\n1                                        strawberry juice  C3700886\n2            chlorthalidone 15 MG Oral Tablet [Thalitone]  C0717255\n3       glimepiride 4 MG / rosiglitazone 8 MG Oral Tablet  C1948905\n4       sodium acrylate/sodium acryloyldimethyltaurate...  C3256869\n...                                                   ...       ...\n107749                           roflumilast Oral Product  C3210879\n107750                                            Wal-Zan  C1723998\n107751  Carya laciniosa pollen extract Injectable Solu...  C5210314\n107752                                        ThyroShield  C1949439\n107753    velvet grass pollen extract Injectable Solution  C2701619\n\n[107754 rows x 2 columns]",
      "text/html": "<div>\n<style scoped>\n    .dataframe tbody tr th:only-of-type {\n        vertical-align: middle;\n    }\n\n    .dataframe tbody tr th {\n        vertical-align: top;\n    }\n\n    .dataframe thead th {\n        text-align: right;\n    }\n</style>\n<table border=\"1\" class=\"dataframe\">\n  <thead>\n    <tr style=\"text-align: right;\">\n      <th></th>\n      <th>Preferred Label</th>\n      <th>CUI</th>\n    </tr>\n  </thead>\n  <tbody>\n    <tr>\n      <th>0</th>\n      <td>fentanyl 0.3 MG Buccal Tablet</td>\n      <td>C1948906</td>\n    </tr>\n    <tr>\n      <th>1</th>\n      <td>strawberry juice</td>\n      <td>C3700886</td>\n    </tr>\n    <tr>\n      <th>2</th>\n      <td>chlorthalidone 15 MG Oral Tablet [Thalitone]</td>\n      <td>C0717255</td>\n    </tr>\n    <tr>\n      <th>3</th>\n      <td>glimepiride 4 MG / rosiglitazone 8 MG Oral Tablet</td>\n      <td>C1948905</td>\n    </tr>\n    <tr>\n      <th>4</th>\n      <td>sodium acrylate/sodium acryloyldimethyltaurate...</td>\n      <td>C3256869</td>\n    </tr>\n    <tr>\n      <th>...</th>\n      <td>...</td>\n      <td>...</td>\n    </tr>\n    <tr>\n      <th>107749</th>\n      <td>roflumilast Oral Product</td>\n      <td>C3210879</td>\n    </tr>\n    <tr>\n      <th>107750</th>\n      <td>Wal-Zan</td>\n      <td>C1723998</td>\n    </tr>\n    <tr>\n      <th>107751</th>\n      <td>Carya laciniosa pollen extract Injectable Solu...</td>\n      <td>C5210314</td>\n    </tr>\n    <tr>\n      <th>107752</th>\n      <td>ThyroShield</td>\n      <td>C1949439</td>\n    </tr>\n    <tr>\n      <th>107753</th>\n      <td>velvet grass pollen extract Injectable Solution</td>\n      <td>C2701619</td>\n    </tr>\n  </tbody>\n</table>\n<p>107754 rows × 2 columns</p>\n</div>"
     },
     "execution_count": 23,
     "metadata": {},
     "output_type": "execute_result"
    }
   ],
   "source": [
    "codes2"
   ],
   "metadata": {
    "collapsed": false,
    "ExecuteTime": {
     "end_time": "2023-08-27T09:18:27.461537400Z",
     "start_time": "2023-08-27T09:18:27.430622300Z"
    }
   }
  },
  {
   "cell_type": "code",
   "execution_count": 29,
   "outputs": [],
   "source": [
    "counter = 0\n",
    "for drug_name_coded in codes2['Preferred Label']:\n",
    "    if drug_name_coded in drugs_names_lower:\n",
    "        counter +=1"
   ],
   "metadata": {
    "collapsed": false,
    "ExecuteTime": {
     "end_time": "2023-08-27T09:21:31.347030300Z",
     "start_time": "2023-08-27T09:21:26.094830400Z"
    }
   }
  },
  {
   "cell_type": "code",
   "execution_count": 30,
   "outputs": [
    {
     "data": {
      "text/plain": "1579"
     },
     "execution_count": 30,
     "metadata": {},
     "output_type": "execute_result"
    }
   ],
   "source": [
    "counter"
   ],
   "metadata": {
    "collapsed": false,
    "ExecuteTime": {
     "end_time": "2023-08-27T09:21:31.361988700Z",
     "start_time": "2023-08-27T09:21:31.350048400Z"
    }
   }
  },
  {
   "cell_type": "code",
   "execution_count": 35,
   "outputs": [],
   "source": [
    "drug_out = []; code_out = []\n",
    "\n",
    "for i in range(len(codes2['Preferred Label'])):\n",
    "    drug_name_coded = codes2['Preferred Label'].iloc[i]\n",
    "    if drug_name_coded in drugs_names_lower:\n",
    "        j = drugs_names_lower.index(drug_name_coded)\n",
    "        drug_out.append(drugs_names[j]); code_out.append(codes2['CUI'].values[i])"
   ],
   "metadata": {
    "collapsed": false,
    "ExecuteTime": {
     "end_time": "2023-08-27T09:48:52.309067600Z",
     "start_time": "2023-08-27T09:48:47.164276700Z"
    }
   }
  },
  {
   "cell_type": "code",
   "execution_count": 60,
   "outputs": [],
   "source": [
    "counter = 0\n",
    "for i in range(len(codes2['Preferred Label'])):\n",
    "    drug_name_coded = codes2['Preferred Label'].iloc[i]\n",
    "    if drug_name_coded in drugs_names_sep:\n",
    "        j = drugs_names_sep.index(drug_name_coded)\n",
    "        drug_out.append(drugs_names[j]); code_out.append(codes2['CUI'].values[i])\n",
    "        counter +=1"
   ],
   "metadata": {
    "collapsed": false,
    "ExecuteTime": {
     "end_time": "2023-08-27T10:05:33.713258900Z",
     "start_time": "2023-08-27T10:05:28.852355500Z"
    }
   }
  },
  {
   "cell_type": "code",
   "execution_count": 66,
   "outputs": [],
   "source": [
    "counter = 0\n",
    "for i in range(len(codes2['Preferred Label'])):\n",
    "    drug_name_coded = codes2['Preferred Label'].iloc[i]\n",
    "    if drug_name_coded in drugs_names_sep2:\n",
    "        j = drugs_names_sep2.index(drug_name_coded)\n",
    "        drug_out.append(drugs_names[j]); code_out.append(codes2['CUI'].values[i])\n",
    "        counter +=1"
   ],
   "metadata": {
    "collapsed": false,
    "ExecuteTime": {
     "end_time": "2023-08-27T10:07:14.003550500Z",
     "start_time": "2023-08-27T10:07:09.335718600Z"
    }
   }
  },
  {
   "cell_type": "code",
   "execution_count": 67,
   "outputs": [
    {
     "data": {
      "text/plain": "3"
     },
     "execution_count": 67,
     "metadata": {},
     "output_type": "execute_result"
    }
   ],
   "source": [
    "counter"
   ],
   "metadata": {
    "collapsed": false,
    "ExecuteTime": {
     "end_time": "2023-08-27T10:07:14.019172500Z",
     "start_time": "2023-08-27T10:07:14.003550500Z"
    }
   }
  },
  {
   "cell_type": "code",
   "execution_count": 68,
   "outputs": [
    {
     "data": {
      "text/plain": "['CloBAZam',\n 'Clobetasol',\n 'Tolnaftate',\n 'Pimecrolimus',\n 'Elacestrant',\n 'Doxycycline',\n 'ClomiPHENE',\n 'Ferric Pyrophosphate Citrate',\n 'Binimetinib',\n 'Fedratinib',\n 'Vandetanib',\n 'Flucytosine',\n 'Cenegermin',\n 'Eluxadoline',\n 'Donepezil',\n 'OxyBUTYnin',\n 'Tenofovir Disoproxil Fumarate',\n 'Halcinonide',\n 'Eflornithine',\n 'Verteporfin',\n 'Atracurium',\n 'Tenapanor',\n 'Dimethyl Fumarate',\n 'SUMAtriptan',\n 'Edoxaban',\n 'Tazarotene',\n 'Argatroban',\n 'Desirudin',\n 'Estazolam',\n 'Fluocinonide',\n 'Tapinarof',\n 'Pembrolizumab',\n 'Pyrimethamine',\n 'Fidaxomicin',\n 'Treosulfan',\n 'Psyllium',\n 'Calamine',\n 'Warfarin',\n 'Anidulafungin',\n 'Gabapentin Enacarbil',\n 'Sertraline',\n 'Arginine',\n 'Denosumab',\n 'Canakinumab',\n 'Teclistamab',\n 'Carmustine',\n 'Peginterferon Beta-1a',\n 'Midodrine',\n 'TiaGABine',\n 'Sevelamer',\n 'Maprotiline',\n 'Acetohydroxamic Acid',\n 'Sinecatechins',\n 'Ibutilide',\n 'Polyethylene Glycol 3350',\n 'GuaiFENesin',\n 'Pralidoxime',\n 'RomiPLOStim',\n 'VinBLAStine',\n 'Streptozocin',\n 'Frovatriptan',\n 'Methenamine',\n 'Voretigene Neparvovec',\n 'Eltrombopag',\n 'Vindesine',\n 'Cenobamate',\n 'Amcinonide',\n 'Trimeprazine',\n 'ROPivacaine',\n 'Trifarotene',\n 'Colesevelam',\n 'Naltrexone',\n 'Tranexamic Acid',\n 'Floxuridine',\n 'Ramelteon',\n 'Belinostat',\n 'Tirbanibulin',\n 'Fenoprofen',\n 'Dinoprostone',\n 'Iron Sucrose',\n 'Olaparib',\n 'Tedizolid',\n 'Trifluridine',\n 'Glycerol Phenylbutyrate',\n 'Poractant Alfa',\n 'Lixisenatide',\n 'Sotalol',\n 'Avapritinib',\n 'Epoprostenol',\n 'Anifrolumab',\n 'Nisoldipine',\n 'Prochlorperazine',\n 'Linezolid',\n 'Anacaulase',\n 'Somapacitan',\n 'Enoxaparin',\n 'Ranolazine',\n 'Auranofin',\n 'Ibalizumab',\n 'Zileuton',\n 'Ethacrynic Acid',\n 'Loncastuximab Tesirine',\n 'Chromic Chloride',\n 'Rasburicase',\n 'Perphenazine',\n 'Secobarbital',\n 'Unoprostone',\n 'Brexpiprazole',\n 'Thyrotropin Alfa',\n 'Magnesium Chloride',\n 'Mesna',\n 'MiFEPRIStone',\n 'HydroCHLOROthiazide',\n 'Nafcillin',\n 'Cabozantinib',\n 'Dorzolamide',\n 'Nitrazepam',\n 'Venetoclax',\n 'Risankizumab',\n 'Nabilone',\n 'Daratumumab',\n 'Bedaquiline',\n 'Burosumab',\n 'Sodium Thiosulfate',\n 'Aprepitant',\n 'Faricimab',\n 'Atenolol',\n 'Caspofungin',\n 'Bezafibrate',\n 'Calcium Glubionate',\n 'Omalizumab',\n 'Bendamustine',\n 'Echothiophate Iodide',\n 'Ticlopidine',\n 'EpiRUBicin',\n 'Tocilizumab',\n 'Difelikefalin',\n 'Flecainide',\n 'Iopamidol',\n 'Rosiglitazone',\n 'Tiopronin',\n 'Pentoxifylline',\n 'Tirzepatide',\n 'Rotigotine',\n 'Fingolimod',\n 'Ifosfamide',\n 'Aspirin',\n 'Trastuzumab',\n 'Tolcapone',\n 'Solriamfetol',\n 'Iothalamate Meglumine',\n 'Pegaspargase',\n 'SUNItinib',\n 'Pegvisomant',\n 'Selinexor',\n 'Ketamine',\n 'Cholecalciferol',\n 'Viltolarsen',\n 'Stavudine',\n 'Asciminib',\n 'Anastrozole',\n 'Mebendazole',\n 'Disopyramide',\n 'Fludrocortisone',\n 'Vardenafil',\n 'Margetuximab',\n 'Tebentafusp',\n 'Benralizumab',\n 'Glutamine',\n 'Ferrous Fumarate',\n 'Voriconazole',\n 'Mirabegron',\n 'Encorafenib',\n 'DOCEtaxel',\n 'Alosetron',\n 'Colestipol',\n 'Riociguat',\n 'Elagolix',\n 'Latanoprost',\n 'Valsartan',\n 'Meperidine',\n 'Besifloxacin',\n 'Naloxone',\n 'Leflunomide',\n 'Ioversol',\n 'FluvoxaMINE',\n 'Moexipril',\n 'Milnacipran',\n 'Valrubicin',\n 'Rivastigmine',\n 'Vutrisiran',\n 'Bexagliflozin',\n 'Cefuroxime',\n 'QuiNIDine',\n 'Cholic Acid',\n 'Repaglinide',\n 'Ceritinib',\n 'Fexofenadine',\n 'Medium Chain Triglycerides',\n 'CarBAMazepine',\n 'ARIPiprazole Lauroxil',\n 'Golimumab',\n 'Diflucortolone',\n 'Spinosad',\n 'Amifampridine',\n 'Sertaconazole',\n 'Naftifine',\n 'Hyoscyamine',\n 'Taliglucerase Alfa',\n 'Suramin',\n 'Pamabrom',\n 'Pimozide',\n 'Phenelzine',\n 'Pregabalin',\n 'Magnesium Sulfate',\n 'Ocriplasmin',\n 'NiCARdipine',\n 'Epoetin Alfa',\n 'Almotriptan',\n 'Amantadine',\n 'Dupilumab',\n 'Niraparib',\n 'Dienogest',\n 'Clascoterone',\n 'Ospemifene',\n 'Sofosbuvir',\n 'Mecamylamine',\n 'Mecasermin',\n 'Dalfampridine',\n 'Cilostazol',\n 'VinCRIStine',\n 'Alirocumab',\n 'Tolterodine',\n 'Tamoxifen',\n 'Methocarbamol',\n 'CycloSERINE',\n 'Procainamide',\n 'Gemcitabine',\n 'Alteplase',\n 'PHENobarbital',\n 'PEMEtrexed',\n 'BusPIRone',\n 'Gefitinib',\n 'Cefpodoxime',\n 'Sodium Benzoate',\n 'Peramivir',\n 'Spesolimab',\n 'Lonafarnib',\n 'Eflapegrastim',\n 'Dexlansoprazole',\n 'Sodium Tetradecyl Sulfate',\n 'Bicalutamide',\n 'Methacholine',\n 'Dostarlimab',\n 'Pimavanserin',\n 'Icatibant',\n 'Exenatide',\n 'Cevimeline',\n 'Casimersen',\n 'Dofetilide',\n 'CeFAZolin',\n 'Nilutamide',\n 'Fosfomycin',\n 'FLUoxetine',\n 'Obiltoxaximab',\n 'Methyldopa',\n 'Bromazepam',\n 'PyRIDostigmine',\n 'Difluprednate',\n 'Talazoparib',\n 'ChlorproMAZINE',\n 'Armodafinil',\n 'Apraclonidine',\n 'Miglitol',\n 'Ustekinumab',\n 'Dabigatran Etexilate',\n 'Darunavir',\n 'Netarsudil',\n 'Oxiconazole',\n 'Butabarbital',\n 'Calaspargase Pegol',\n 'Amivantamab',\n 'Benzyl Alcohol',\n 'Docusate',\n 'Omadacycline',\n 'Fluvastatin',\n 'Anagrelide',\n 'Gemtuzumab Ozogamicin',\n 'Plasma Protein Fraction',\n 'Eslicarbazepine',\n 'Hydroquinone',\n 'Conivaptan',\n 'Crofelemer',\n 'CycloPHOSphamide',\n 'LinaGLIPtin',\n 'Codeine',\n 'Gadoxetate',\n 'Durvalumab',\n 'Remifentanil',\n 'Uridine Triacetate',\n 'Ziconotide',\n 'Enalaprilat',\n 'Busulfan',\n 'Pentastarch',\n 'Regadenoson',\n 'FluPHENAZine',\n 'Atezolizumab',\n 'Famciclovir',\n 'Voxelotor',\n 'Tiotropium',\n 'Lincomycin',\n 'Tipranavir',\n 'Glatiramer Acetate',\n 'Vedolizumab',\n 'InFLIXimab',\n 'Belumosudil',\n 'Loxapine',\n 'Vancomycin',\n 'Digoxin',\n 'Calcium Chloride',\n 'Streptomycin',\n 'Fenfluramine',\n 'Mefloquine',\n 'Saquinavir',\n 'Obeticholic Acid',\n 'Osilodrostat',\n 'Hemin',\n 'Nelarabine',\n 'Certolizumab Pegol',\n 'Oliceridine',\n 'Paregoric',\n 'Decitabine',\n 'Dantrolene',\n 'Amoxapine',\n 'Chlorthalidone',\n 'Triptorelin',\n 'Pioglitazone',\n 'Celecoxib',\n 'Miltefosine',\n 'Trabectedin',\n 'Altretamine',\n 'Opium Tincture',\n 'Fluoxymesterone',\n 'Nifurtimox',\n 'Dicyclomine',\n 'Acalabrutinib',\n 'Itraconazole',\n 'Rifabutin',\n 'Ciltacabtagene Autoleucel',\n 'Bismuth Subgallate',\n 'Triazolam',\n 'Isatuximab',\n 'Doxazosin',\n 'Pegloticase',\n 'Guanidine',\n 'Foscarnet',\n 'Tinzaparin',\n 'Plecanatide',\n 'Elotuzumab',\n 'DOBUTamine',\n 'Elivaldogene Autotemcel',\n 'Atazanavir',\n 'Golodirsen',\n 'Sotorasib',\n 'Lacosamide',\n 'Doripenem',\n 'Olodaterol',\n 'TOLBUTamide',\n 'Propafenone',\n 'Atomoxetine',\n 'Valbenazine',\n 'Latanoprostene Bunod',\n 'Riboflavin',\n 'Docosanol',\n 'Bromfenac',\n 'Nusinersen',\n 'Olmesartan',\n 'Labetalol',\n 'Berotralstat',\n 'Ozanimod',\n 'Sapropterin',\n 'Simvastatin',\n 'Reteplase',\n 'Brivaracetam',\n 'Finerenone',\n 'Ferric Carboxymaltose',\n 'Betahistine',\n 'Nadroparin',\n 'Pyridoxine',\n 'Hydrogen Peroxide',\n 'Midostaurin',\n 'Calcium Lactate',\n 'Artesunate',\n 'Sodium Phenylbutyrate',\n 'Gemfibrozil',\n 'LORazepam',\n 'Sulconazole',\n 'Thiamine',\n 'Prilocaine',\n 'Ampicillin',\n 'Daclatasvir',\n 'Alpelisib',\n 'Axitinib',\n 'Asfotase Alfa',\n 'Lisinopril',\n 'Levobunolol',\n 'Vosoritide',\n 'Brodalumab',\n 'Ivacaftor',\n 'Adagrasib',\n 'Castor Oil',\n 'Clofazimine',\n 'Cerliponase Alfa',\n 'Ranibizumab',\n 'Avalglucosidase Alfa',\n 'Baloxavir Marboxil',\n 'Carbidopa',\n 'EriBULin',\n 'AzaTHIOprine',\n 'Nortriptyline',\n 'Nepafenac',\n 'Isoproterenol',\n 'Amifostine',\n 'Darolutamide',\n 'Copper',\n 'Metaproterenol',\n 'Ponesimod',\n 'Benzphetamine',\n 'Nalmefene',\n 'Albuterol',\n 'Isavuconazonium Sulfate',\n 'Etidronate',\n 'Nitric Oxide',\n 'Dasatinib',\n 'Larotrectinib',\n 'Epinastine',\n 'Selexipag',\n 'Sorbitol',\n 'Lefamulin',\n 'Sucralfate',\n 'Afamelanotide',\n 'Pramlintide',\n 'Indapamide',\n 'Aminosalicylic Acid',\n 'Ketoprofen',\n 'Cyproheptadine',\n 'Letermovir',\n 'Desloratadine',\n 'Zinc Gluconate',\n 'Dextran',\n 'Midazolam',\n 'Mycophenolate',\n 'Fondaparinux',\n 'Chloroquine',\n 'Capmatinib',\n 'Carboprost Tromethamine',\n 'Pirtobrutinib',\n 'Posaconazole',\n 'Fosaprepitant',\n 'Dequalinium',\n 'Becaplermin',\n 'TraMADol',\n 'Tucatinib',\n 'Nateglinide',\n 'Vecuronium',\n 'CefTAZidime',\n 'Cefepime',\n 'Interferon Beta-1a',\n 'Imatinib',\n 'Magnesium Salicylate',\n 'Capecitabine',\n 'Etelcalcetide',\n 'Acetylcysteine',\n 'Ibrutinib',\n 'Dihydroergotamine',\n 'Aclidinium',\n 'Zafirlukast',\n 'Ganirelix',\n 'Ursodiol',\n 'Sucroferric Oxyhydroxide',\n 'Corticotropin',\n 'QuiNINE',\n 'Copanlisib',\n 'Ropeginterferon Alfa-2b',\n 'Trandolapril',\n 'Gadodiamide',\n 'Cholestyramine Resin',\n 'Etodolac',\n 'PONATinib',\n 'Pafolacianine',\n 'Bamlanivimab',\n 'Lactic Acid',\n 'Gonadorelin',\n 'Flibanserin',\n 'Ethionamide',\n 'Methylnaltrexone',\n 'Galcanezumab',\n 'Telavancin',\n 'Clocortolone',\n 'Plazomicin',\n 'Deutetrabenazine',\n 'Remdesivir',\n 'Dolasetron',\n 'Apomorphine',\n 'Iopromide',\n 'Chlorzoxazone',\n 'LamoTRIgine',\n 'Ertugliflozin',\n 'Lomustine',\n 'Lesinurad',\n 'Coal Tar',\n 'Ciclopirox',\n 'Levomilnacipran',\n 'Silodosin',\n 'Relugolix',\n 'SUFentanil',\n 'Goserelin',\n 'Methotrexate',\n 'Imipramine',\n 'Betibeglogene Autotemcel',\n 'Podofilox',\n 'Azilsartan',\n 'Etranacogene Dezaparvovec',\n 'Haloperidol',\n 'Teplizumab',\n 'Clofarabine',\n 'Nitroglycerin',\n 'Pseudoephedrine',\n 'Cefixime',\n 'Oteseconazole',\n 'Silver Nitrate',\n 'Stiripentol',\n 'Butoconazole',\n 'Patiromer',\n 'Pindolol',\n 'Micafungin',\n 'Clopidogrel',\n 'Mineral Oil',\n 'Azelaic Acid',\n 'Lenacapavir',\n 'Nitrofurantoin',\n 'Sacituzumab Govitecan',\n 'Ibandronate',\n 'Interferon Alfa-2b',\n 'Ferric Hexacyanoferrate',\n 'Afatinib',\n 'Insulin Degludec',\n 'Sodium Polystyrene Sulfonate',\n 'Anthralin',\n 'Diflunisal',\n 'Magnesium Hydroxide',\n 'Lapatinib',\n 'Diroximel Fumarate',\n 'Fluorometholone',\n 'Prednicarbate',\n 'Retapamulin',\n 'Edaravone',\n 'Gadoterate Meglumine',\n 'Scopolamine',\n 'Deoxycholic Acid',\n 'Metaxalone',\n 'Wheat Dextrin',\n 'Benznidazole',\n 'Polatuzumab Vedotin',\n 'Tadalafil',\n 'Selpercatinib',\n 'Rimegepant',\n 'MetFORMIN',\n 'Oxaprozin',\n 'LevOCARNitine',\n 'Deflazacort',\n 'Cloxacillin',\n 'Imiglucerase',\n 'Lodoxamide',\n 'Tiaprofenic Acid',\n 'Peginterferon Alfa-2b',\n 'Ramucirumab',\n 'Galantamine',\n 'TraZODone',\n 'Mavacamten',\n 'Cyproterone',\n 'Teduglutide',\n 'Proparacaine',\n 'Albiglutide',\n 'Iodoquinol',\n 'Paricalcitol',\n 'Bevacizumab',\n 'IDArubicin',\n 'Tenofovir Alafenamide',\n 'Propranolol',\n 'PAZOPanib',\n 'Nitroprusside',\n 'Regorafenib',\n 'Buserelin',\n 'Acamprosate',\n 'Phenytoin',\n 'Eletriptan',\n 'LamiVUDine',\n 'Ramipril',\n 'Periciazine',\n 'Atovaquone',\n 'Tolvaptan',\n 'Phentermine',\n 'Bivalirudin',\n 'Fexinidazole',\n 'Moclobemide',\n 'Calcium Citrate',\n 'Idursulfase',\n 'Lusutrombopag',\n 'Amitriptyline',\n 'Tralokinumab',\n 'Magnesium Oxide',\n 'Danaparoid',\n 'Zuclopenthixol',\n 'MedroxyPROGESTERone',\n 'Teriparatide',\n 'Lovastatin',\n 'Balsalazide',\n 'Osimertinib',\n 'Fomepizole',\n 'Filgrastim',\n 'Aluminum Hydroxide',\n 'Sodium Oxybate',\n 'Alendronate',\n 'Probenecid',\n 'Thiotepa',\n 'Belzutifan',\n 'Evolocumab',\n 'Alcaftadine',\n 'Protriptyline',\n 'Naratriptan',\n 'Lurasidone',\n 'Secnidazole',\n 'Aluminum Chloride',\n 'AmLODIPine',\n 'PenicillAMINE',\n 'Danazol',\n 'CloZAPine',\n 'Inotersen',\n 'Eravacycline',\n 'Sodium Chloride',\n 'Atorvastatin',\n 'Methylergonovine',\n 'Triprolidine',\n 'Everolimus',\n 'Ozenoxacin',\n 'Olipudase Alfa',\n 'Fosdenopterin',\n 'Diazoxide',\n 'Bosentan',\n 'Carglumic Acid',\n 'Witch Hazel',\n 'Paliperidone',\n 'Tafamidis',\n 'MiSOPROStol',\n 'Methsuximide',\n 'Ferric Citrate',\n 'PredniSONE',\n 'Betaine',\n 'Potassium Citrate',\n 'Colistimethate',\n 'Tafasitamab',\n 'Primaquine',\n 'Strontium-89',\n 'BuPROPion',\n 'Crisaborole',\n 'Amiodarone',\n 'Lisocabtagene Maraleucel',\n 'Cosyntropin',\n 'Methotrimeprazine',\n 'DOPamine',\n 'Indocyanine Green',\n 'Ublituximab',\n 'Glimepiride',\n 'Oxacillin',\n 'Follitropin Alfa',\n 'Nylidrin',\n 'Fostemsavir',\n 'Edetate CALCIUM Disodium',\n 'Enzalutamide',\n 'Etoposide Phosphate',\n 'Ibritumomab Tiuxetan',\n 'Metipranolol',\n 'Cysteine',\n 'Alfacalcidol',\n 'Mosunetuzumab',\n 'Panitumumab',\n 'LinaCLOtide',\n 'Pinaverium',\n 'Cobimetinib',\n 'Leucovorin Calcium',\n 'Apalutamide',\n 'ValGANciclovir',\n 'OXcarbazepine',\n 'Inebilizumab',\n 'Triheptanoin',\n 'Palivizumab',\n 'Adefovir',\n 'Gadopiclenol',\n 'Secukinumab',\n 'Amyl Nitrite',\n 'Propantheline',\n 'Pancrelipase',\n 'Temazepam',\n 'Bremelanotide',\n 'Cetrorelix',\n 'Tioconazole',\n 'Belatacept',\n 'Acetone',\n 'Niacin',\n 'Dabrafenib',\n 'Orlistat',\n 'Interferon Beta-1b',\n 'Zanubrutinib',\n 'Velaglucerase Alfa',\n 'Simethicone',\n 'Adenosine',\n 'Benazepril',\n 'DiazePAM',\n 'Gold Sodium Thiomalate',\n 'Molnupiravir',\n 'Sarilumab',\n 'Tibolone',\n 'Nizatidine',\n 'Benzydamine',\n 'Tirofiban',\n 'Ribociclib',\n 'Pyrantel Pamoate',\n 'Salsalate',\n 'Etanercept',\n 'Bismuth Subsalicylate',\n 'Iodixanol',\n 'Vilazodone',\n 'Metreleptin',\n 'IdaruCIZUmab',\n 'Lactulose',\n 'Macimorelin',\n 'Gilteritinib',\n 'Gliclazide',\n 'Cidofovir',\n 'Dibucaine',\n 'Magnesium Citrate',\n 'Vorinostat',\n 'Mepolizumab',\n 'Cariprazine',\n 'Fosinopril',\n 'Imiquimod',\n 'Drospirenone',\n 'Alogliptin',\n 'Meropenem',\n 'Inotuzumab Ozogamicin',\n 'Odevixibat',\n 'Tamsulosin',\n 'Levalbuterol',\n 'Nitrous Oxide',\n 'Cabergoline',\n 'ALPRAZolam',\n 'Sodium Iodide',\n 'Mafenide',\n 'Succimer',\n 'Felbamate',\n 'Methoxy Polyethylene Glycol-Epoetin Beta',\n 'Anakinra',\n 'Indomethacin',\n 'Natalizumab',\n 'Opicapone',\n 'Vismodegib',\n 'Tepotinib',\n 'Trametinib',\n 'Setmelanotide',\n 'Telmisartan',\n 'Potassium Acetate',\n 'Pamidronate',\n 'Pretomanid',\n 'Ergocalciferol',\n 'Flurazepam',\n 'Topiramate',\n 'Gadobutrol',\n 'Lutropin Alfa',\n 'Methylcellulose',\n 'Tetrabenazine',\n 'Pegaptanib',\n 'Chlorpheniramine',\n 'ZOLMitriptan',\n 'Cephalexin',\n 'Fostamatinib',\n 'Dyclonine',\n 'Tavaborole',\n 'Enasidenib',\n 'Levothyroxine',\n 'Mitotane',\n 'Tremelimumab',\n 'Brigatinib',\n 'Pramipexole',\n 'Reserpine',\n 'Lumasiran',\n 'Methylphenidate',\n 'Canagliflozin',\n 'Febuxostat',\n 'Desoximetasone',\n 'Vorapaxar',\n 'Tisagenlecleucel',\n 'Pegfilgrastim',\n 'HydrALAZINE',\n 'Degarelix',\n 'Tildrakizumab',\n 'Lonapegsomatropin',\n 'Exemestane',\n 'Luliconazole',\n 'Ritonavir',\n 'Delavirdine',\n 'Quazepam',\n 'Paraldehyde',\n 'RifAMPin',\n 'Montelukast',\n 'Aluminum Chloride Hexahydrate',\n 'Risedronate',\n 'Estrone',\n 'Rizatriptan',\n 'AcetaZOLAMIDE',\n 'Oseltamivir',\n 'Gabapentin',\n 'Trimipramine',\n 'Meloxicam',\n 'Felodipine',\n 'Icodextrin',\n 'Brentuximab Vedotin',\n 'Finasteride',\n 'Teniposide',\n 'Pitolisant',\n 'Pomalidomide',\n 'Lubiprostone',\n 'Benztropine',\n 'Acarbose',\n 'Revefenacin',\n 'Zoledronic Acid',\n 'Hexachlorophene',\n 'Flutamide',\n 'Carbamide Peroxide',\n 'Tafluprost',\n 'Nesiritide',\n 'Zinc Oxide',\n 'Icosapent Ethyl',\n 'Raltegravir',\n 'BUPivacaine',\n 'Tecovirimat',\n 'Lansoprazole',\n 'Vigabatrin',\n 'Eptinezumab',\n 'Obinutuzumab',\n 'Efavirenz',\n 'GlyBURIDE',\n 'Loteprednol',\n 'Propofol',\n 'Upadacitinib',\n 'Octreotide',\n 'Dronedarone',\n 'GuanFACINE',\n 'Chloral Hydrate',\n 'Macitentan',\n 'Tropicamide',\n 'Molindone',\n 'Brinzolamide',\n 'Enalapril',\n 'Solifenacin',\n 'Perindopril',\n 'Insulin Detemir',\n 'CARBOplatin',\n 'OLANZapine',\n 'MetOLazone',\n 'Verapamil',\n 'Palbociclib',\n 'Tranylcypromine',\n 'Gadobenate Dimeglumine',\n 'PHYSostigmine',\n 'Temsirolimus',\n 'Mirvetuximab Soravtansine',\n 'Ezogabine',\n 'Acebutolol',\n 'Trospium',\n 'Bempedoic Acid',\n 'Insulin Lispro',\n 'Futibatinib',\n 'Ado-Trastuzumab Emtansine',\n 'CefOXitin',\n 'Megestrol',\n 'Phenoxybenzamine',\n 'Nintedanib',\n 'Sebelipase Alfa',\n 'Naloxegol',\n 'Levocetirizine',\n 'Abatacept',\n 'Alglucosidase Alfa',\n 'Vibegron',\n 'Nalbuphine',\n 'Dexmethylphenidate',\n 'SITagliptin',\n 'Tazemetostat',\n 'Ferrous Sulfate',\n \"Riboflavin 5'-Phosphate\",\n 'Oxygen',\n 'Eprosartan',\n 'Efinaconazole',\n 'Zopiclone',\n 'Rilonacept',\n 'Ingenol Mebutate',\n 'Benzocaine',\n 'Pasireotide',\n 'Nivolumab',\n 'Camphor',\n 'Pexidartinib',\n 'Ofatumumab',\n 'Siltuximab',\n 'Brexanolone',\n 'Meprobamate',\n 'Sodium Lactate',\n 'Bezlotoxumab',\n 'Glucagon',\n 'FentaNYL',\n 'Tezepelumab',\n 'Rasagiline',\n 'Caplacizumab',\n 'Sugammadex',\n 'Doravirine',\n 'Umeclidinium',\n 'Ethosuximide',\n 'Venlafaxine',\n 'Abciximab',\n 'Omega-3 Fatty Acids',\n 'Ergotamine',\n 'Ganaxolone',\n 'Tigecycline',\n 'Isoflurane',\n 'Voclosporin',\n 'Fulvestrant',\n 'Umbralisib',\n 'Nevirapine',\n 'Palifermin',\n 'Methscopolamine',\n 'Cyclopentolate',\n 'Eptifibatide',\n 'Avatrombopag',\n 'Inclisiran',\n 'Lecanemab',\n 'Trimebutine',\n 'Halobetasol',\n 'Mefenamic Acid',\n 'Erdafitinib',\n 'Losartan',\n 'ValACYclovir',\n 'Bleomycin',\n 'Terbutaline',\n 'Homatropine',\n 'Fluorescein',\n 'Calcifediol',\n 'Travoprost',\n 'Butorphanol',\n 'GlipiZIDE',\n 'Entacapone',\n 'Diphtheria Antitoxin',\n 'Empagliflozin',\n 'Carisoprodol',\n 'Romosozumab',\n 'Gadopentetate Dimeglumine',\n 'Interferon Gamma-1b',\n 'Pancuronium',\n 'Melphalan',\n 'Lindane',\n 'Letrozole',\n 'Nafarelin',\n 'Givosiran',\n 'Doxapram',\n 'Dipyridamole',\n 'Daridorexant',\n 'Agalsidase Beta',\n 'Progesterone',\n 'Tryptophan',\n 'Ethambutol',\n 'Rilpivirine',\n 'Gadofosveset',\n 'Selumetinib',\n 'Capreomycin',\n 'Barium',\n 'Interferon Alfa-n3',\n 'MigLUstat',\n 'Lithium',\n 'Triclabendazole',\n 'Oxazepam',\n 'Lifitegrast',\n 'Isradipine',\n 'Benzonatate',\n 'Ivabradine',\n 'Raxibacumab',\n 'Permethrin',\n 'Galsulfase',\n 'Tapentadol',\n 'Magnesium Carbonate',\n 'Thalidomide',\n 'Amoxicillin',\n 'Pirfenidone',\n ...]"
     },
     "execution_count": 68,
     "metadata": {},
     "output_type": "execute_result"
    }
   ],
   "source": [
    "drug_out"
   ],
   "metadata": {
    "collapsed": false,
    "ExecuteTime": {
     "end_time": "2023-08-27T10:07:16.576919Z",
     "start_time": "2023-08-27T10:07:16.539149200Z"
    }
   }
  },
  {
   "cell_type": "code",
   "execution_count": 69,
   "outputs": [
    {
     "data": {
      "text/plain": "['C0055891',\n 'C0008992',\n 'C0040379',\n 'C1099414',\n 'C4682404',\n 'C0013090',\n 'C0009008',\n 'C4018308',\n 'C3899947',\n 'C3886623',\n 'C1121849',\n 'C0016278',\n 'C4541383',\n 'C3712232',\n 'C0527316',\n 'C0069805',\n 'C1099776',\n 'C0018513',\n 'C0002260',\n 'C0387288',\n 'C0004234',\n 'C4043480',\n 'C0058218',\n 'C0075632',\n 'C2975435',\n 'C0288792',\n 'C0048470',\n 'C0378366',\n 'C0014892',\n 'C0016299',\n 'C4541381',\n 'C3658706',\n 'C0034283',\n 'C0065023',\n 'C0076959',\n 'C0033979',\n 'C0357929',\n 'C0043031',\n 'C1142738',\n 'C2700226',\n 'C0074393',\n 'C0003765',\n 'C1690432',\n 'C2718773',\n 'C5235398',\n 'C0007257',\n 'C3848580',\n 'C0026078',\n 'C0068897',\n 'C0718050',\n 'C0024778',\n 'C0050451',\n 'C1960121',\n 'C0082966',\n 'C0724672',\n 'C0018305',\n 'C0071808',\n 'C2364481',\n 'C0042670',\n 'C0038432',\n 'C0754647',\n 'C0025638',\n 'C4541993',\n 'C1831905',\n 'C0042682',\n 'C4550368',\n 'C0051556',\n 'C0041031',\n 'C0073571',\n 'C4519213',\n 'C0541155',\n 'C0027360',\n 'C0040613',\n 'C0016343',\n 'C1565316',\n 'C1948068',\n 'C5239395',\n 'C0015837',\n 'C0012472',\n 'C0060241',\n 'C2316164',\n 'C2744850',\n 'C0040987',\n 'C3490329',\n 'C0771648',\n 'C2973895',\n 'C0037707',\n 'C4743552',\n 'C0033567',\n 'C4519739',\n 'C0028116',\n 'C0033229',\n 'C0663241',\n 'C5771249',\n 'C4726770',\n 'C0206460',\n 'C0073633',\n 'C0004320',\n 'C1434792',\n 'C0081408',\n 'C0014963',\n 'C5203804',\n 'C0055617',\n 'C0937932',\n 'C0031184',\n 'C0036516',\n 'C0772319',\n 'C3885614',\n 'C2587204',\n 'C0024472',\n 'C0000294',\n 'C0026088',\n 'C0020261',\n 'C0027324',\n 'C3181682',\n 'C0165590',\n 'C0028126',\n 'C4079830',\n 'C4505511',\n 'C0068333',\n 'C2346801',\n 'C1664205',\n 'C4301607',\n 'C0074774',\n 'C1176306',\n 'C5139890',\n 'C0004147',\n 'C0537894',\n 'C0005330',\n 'C0061347',\n 'C0966225',\n 'C0525079',\n 'C0013530',\n 'C0040207',\n 'C0014582',\n 'C1609165',\n 'C4519744',\n 'C0016229',\n 'C0022026',\n 'C0289313',\n 'C0025405',\n 'C0030899',\n 'C5139934',\n 'C1700683',\n 'C1699926',\n 'C0020823',\n 'C0004057',\n 'C0728747',\n 'C0246330',\n 'C4726765',\n 'C0022033',\n 'C0071568',\n 'C1176020',\n 'C0913469',\n 'C3852671',\n 'C0022614',\n 'C0008318',\n 'C5139804',\n 'C0164662',\n 'C4508722',\n 'C0290883',\n 'C0025023',\n 'C0012702',\n 'C0016280',\n 'C0971579',\n 'C4053695',\n 'C5139666',\n 'C2982078',\n 'C0017797',\n 'C0060276',\n 'C0393080',\n 'C2983812',\n 'C4079208',\n 'C0246415',\n 'C0291772',\n 'C0009279',\n 'C2717561',\n 'C2714632',\n 'C0090306',\n 'C0216784',\n 'C0025376',\n 'C2351042',\n 'C0027358',\n 'C0063041',\n 'C0063828',\n 'C0085228',\n 'C0066685',\n 'C1533126',\n 'C0068314',\n 'C0649350',\n 'C5446328',\n 'C4519094',\n 'C0007562',\n 'C0034414',\n 'C0055568',\n 'C0246689',\n 'C3818721',\n 'C0296800',\n 'C0724624',\n 'C0006949',\n 'C4056439',\n 'C2353893',\n 'C0012227',\n 'C0961781',\n 'C0046948',\n 'C0074391',\n 'C0068367',\n 'C0596004',\n 'C3273401',\n 'C0038880',\n 'C0135166',\n 'C0031935',\n 'C0031392',\n 'C0657912',\n 'C0024480',\n 'C0066522',\n 'C0028005',\n 'C0357126',\n 'C0914729',\n 'C0002403',\n 'C3660996',\n 'C2744440',\n 'C0057916',\n 'C4730996',\n 'C1313616',\n 'C2976303',\n 'C0025029',\n 'C0904505',\n 'C0000477',\n 'C0055729',\n 'C0042679',\n 'C3491162',\n 'C0388753',\n 'C0039286',\n 'C0025659',\n 'C0010590',\n 'C0033216',\n 'C0045093',\n 'C0032143',\n 'C0031412',\n 'C0210657',\n 'C0006462',\n 'C1122962',\n 'C0055011',\n 'C0142805',\n 'C1675326',\n 'C5238146',\n 'C1257385',\n 'C3641654',\n 'C2348248',\n 'C0037556',\n 'C0285590',\n 'C0600370',\n 'C5242455',\n 'C1722267',\n 'C0246269',\n 'C0167117',\n 'C0093437',\n 'C5139793',\n 'C0114771',\n 'C0007546',\n 'C0068771',\n 'C0016610',\n 'C0016365',\n 'C4224790',\n 'C0025741',\n 'C0006213',\n 'C0034261',\n 'C0058004',\n 'C4042960',\n 'C0008286',\n 'C1701455',\n 'C0048038',\n 'C0066535',\n 'C1608841',\n 'C1571583',\n 'C1435444',\n 'C4535718',\n 'C0069765',\n 'C0006464',\n 'C2699709',\n 'C5446297',\n 'C0005100',\n 'C1692318',\n 'C2983838',\n 'C0082608',\n 'C0051809',\n 'C1533699',\n 'C0071214',\n 'C2725260',\n 'C0020306',\n 'C0966107',\n 'C2744960',\n 'C0010583',\n 'C2746078',\n 'C0009214',\n 'C2356037',\n 'C4055109',\n 'C0246631',\n 'C0281351',\n 'C0211011',\n 'C0014027',\n 'C0006463',\n 'C2350383',\n 'C1698215',\n 'C0016368',\n 'C4055433',\n 'C0209227',\n 'C4723629',\n 'C0213771',\n 'C0023726',\n 'C0663733',\n 'C0289884',\n 'C2742797',\n 'C0666743',\n 'C5418179',\n 'C0024056',\n 'C0042313',\n 'C0012265',\n 'C0006686',\n 'C0038425',\n 'C0015827',\n 'C0025153',\n 'C0286738',\n 'C1143018',\n 'C4330903',\n 'C0018988',\n 'C0907349',\n 'C1872109',\n 'C4508938',\n 'C0070108',\n 'C0049065',\n 'C0010976',\n 'C0002644',\n 'C0008294',\n 'C0077275',\n 'C0071097',\n 'C0538927',\n 'C0068006',\n 'C1311070',\n 'C0019453',\n 'C0724655',\n 'C0016366',\n 'C0028073',\n 'C0012125',\n 'C4078312',\n 'C0064113',\n 'C0140575',\n 'C4727630',\n 'C0053790',\n 'C0040879',\n 'C4330502',\n 'C0114873',\n 'C2350656',\n 'C0120446',\n 'C0070895',\n 'C0216278',\n 'C3711911',\n 'C1832049',\n 'C0012963',\n 'C5419314',\n 'C1145759',\n 'C5222004',\n 'C5418250',\n 'C0893761',\n 'C0389169',\n 'C2934193',\n 'C0040374',\n 'C0033429',\n 'C0076823',\n 'C4078701',\n 'C4279599',\n 'C0035527',\n 'C0075770',\n 'C0054094',\n 'C4301236',\n 'C1098320',\n 'C0022860',\n 'C5392453',\n 'C4278675',\n 'C0048897',\n 'C0074554',\n 'C0256103',\n 'C1699861',\n 'C4045511',\n 'C2001867',\n 'C0005301',\n 'C0206232',\n 'C0034272',\n 'C0020281',\n 'C0526371',\n 'C0108121',\n 'C0052432',\n 'C0718066',\n 'C0017245',\n 'C0024002',\n 'C0075503',\n 'C0039840',\n 'C0033124',\n 'C0002680',\n 'C3252090',\n 'C4055478',\n 'C1700874',\n 'C3490795',\n 'C0065374',\n 'C0006388',\n 'C4519745',\n 'C3491331',\n 'C3264621',\n 'C5544276',\n 'C0007343',\n 'C0008996',\n 'C4475875',\n 'C1566537',\n 'C5418318',\n 'C4688747',\n 'C0006982',\n 'C2350866',\n 'C0004482',\n 'C0028420',\n 'C0961209',\n 'C0022245',\n 'C0015020',\n 'C4547776',\n 'C0009968',\n 'C0029193',\n 'C2934701',\n 'C0005096',\n 'C0068377',\n 'C0001927',\n 'C4018470',\n 'C0086268',\n 'C0028128',\n 'C1455147',\n 'C4524315',\n 'C0078442',\n 'C2000145',\n 'C0037688',\n 'C4482908',\n 'C0038633',\n 'C2607750',\n 'C0537551',\n 'C0021186',\n 'C0030125',\n 'C0022635',\n 'C0010620',\n 'C3852938',\n 'C0908935',\n 'C0149381',\n 'C0086140',\n 'C0026056',\n 'C0883242',\n 'C1098510',\n 'C0008269',\n 'C4053698',\n 'C0054721',\n 'C5554559',\n 'C0936148',\n 'C2349941',\n 'C0011588',\n 'C0379135',\n 'C0040610',\n 'C4519167',\n 'C0903898',\n 'C0242531',\n 'C0007559',\n 'C0055003',\n 'C0254119',\n 'C0935989',\n 'C0126789',\n 'C0671970',\n 'C3713906',\n 'C0001047',\n 'C3501358',\n 'C0012291',\n 'C2699757',\n 'C0378466',\n 'C0073629',\n 'C0042105',\n 'C3696416',\n 'C0001655',\n 'C0034417',\n 'C4049141',\n 'C4542175',\n 'C0076891',\n 'C0082646',\n 'C0008402',\n 'C0059865',\n 'C2987417',\n 'C5446780',\n 'C5421805',\n 'C0064582',\n 'C0023610',\n 'C0754280',\n 'C0015021',\n 'C0066411',\n 'C4694273',\n 'C1453642',\n 'C0055899',\n 'C3502652',\n 'C4277781',\n 'C4726677',\n 'C0209210',\n 'C0003596',\n 'C0063817',\n 'C0008296',\n 'C0064636',\n 'C4079805',\n 'C0023972',\n 'C3886073',\n 'C0009137',\n 'C0055711',\n 'C3541367',\n 'C1870115',\n 'C3896936',\n 'C0143993',\n 'C0120107',\n 'C0025677',\n 'C0020934',\n 'C4086010',\n 'C0032334',\n 'C1958569',\n 'C5419304',\n 'C0018546',\n 'C2743673',\n 'C0092777',\n 'C0017887',\n 'C0033798',\n 'C0060400',\n 'C4519300',\n 'C0037129',\n 'C0075262',\n 'C0054259',\n 'C4045522',\n 'C0031937',\n 'C1120386',\n 'C0070166',\n 'C0026156',\n 'C0052761',\n 'C5244461',\n 'C0028156',\n 'C4086837',\n 'C0379199',\n 'C0021735',\n 'C1601139',\n 'C2987648',\n 'C3491971',\n 'C0142915',\n 'C0003166',\n 'C0012228',\n 'C0024476',\n 'C1506770',\n 'C5139729',\n 'C0016351',\n 'C0071836',\n 'C1703334',\n 'C0070694',\n 'C0118538',\n 'C0036442',\n 'C0011479',\n 'C0163055',\n 'C1714033',\n 'C0053230',\n 'C4078806',\n 'C1176316',\n 'C5235396',\n 'C4519126',\n 'C0025598',\n 'C0069739',\n 'C0087163',\n 'C0057258',\n 'C0009077',\n 'C0291140',\n 'C0126120',\n 'C0076653',\n 'C0796545',\n 'C2742502',\n 'C0016967',\n 'C0040805',\n 'C4742219',\n 'C0010621',\n 'C1530889',\n 'C0072510',\n 'C2607479',\n 'C0012341',\n 'C0249582',\n 'C0796392',\n 'C0020789',\n 'C3713958',\n 'C0033497',\n 'C1831796',\n 'C0028193',\n 'C2980094',\n 'C0006456',\n 'C0284941',\n 'C0031507',\n 'C0759933',\n 'C0209738',\n 'C0072973',\n 'C0033459',\n 'C0165603',\n 'C1176308',\n 'C0031447',\n 'C0168273',\n 'C0060304',\n 'C0066673',\n 'C0108101',\n 'C1739462',\n 'C4309207',\n 'C0002600',\n 'C3658667',\n 'C0024477',\n 'C0259507',\n 'C0376160',\n 'C0025147',\n 'C0070093',\n 'C0024027',\n 'C0052940',\n 'C4058811',\n 'C0048504',\n 'C0210630',\n 'C0002371',\n 'C0037537',\n 'C0102118',\n 'C0033209',\n 'C0039871',\n 'C5418188',\n 'C3529352',\n 'C2348241',\n 'C0033743',\n 'C0540623',\n 'C2003424',\n 'C0074246',\n 'C0102840',\n 'C0051696',\n 'C0030817',\n 'C0010961',\n 'C0009079',\n 'C4731850',\n 'C4045520',\n 'C0037494',\n 'C0286651',\n 'C0025760',\n 'C0041098',\n 'C0541315',\n 'C2983945',\n 'C4278198',\n 'C2934004',\n 'C0012022',\n 'C0252643',\n 'C1318649',\n 'C0301421',\n 'C0753678',\n 'C2745274',\n 'C0085174',\n 'C0109002',\n 'C0060231',\n 'C0032952',\n 'C0005304',\n 'C0137996',\n 'C0009315',\n 'C5139916',\n 'C0033126',\n 'C0281385',\n 'C0085208',\n 'C4301781',\n 'C0002598',\n 'C4086001',\n 'C0010192',\n 'C0025678',\n 'C0013030',\n 'C0021234',\n 'C4083151',\n 'C0061323',\n 'C0029983',\n 'C1268876',\n 'C0028735',\n 'C4519220',\n 'C0006692',\n 'C3496793',\n 'C0059874',\n 'C0877880',\n 'C0041030',\n 'C0010654',\n 'C0044410',\n 'C4763385',\n 'C0879427',\n 'C2000261',\n 'C0071081',\n 'C4049146',\n 'C0731033',\n 'C4329353',\n 'C0909381',\n 'C0069751',\n 'C4519594',\n 'C2604598',\n 'C0672596',\n 'C0050175',\n 'C5392287',\n 'C3179547',\n 'C0002711',\n 'C0033447',\n 'C0770343',\n 'C0039468',\n 'C1721339',\n 'C0209366',\n 'C0076705',\n 'C1619962',\n 'C0001002',\n 'C0027996',\n 'C3467876',\n 'C0076275',\n 'C0244713',\n 'C4683810',\n 'C2919267',\n 'C0037138',\n 'C0001443',\n 'C0053091',\n 'C0012010',\n 'C0018034',\n 'C5435024',\n 'C3885145',\n 'C0076660',\n 'C0085154',\n 'C0005099',\n 'C0247025',\n 'C4045494',\n 'C0034237',\n 'C0073983',\n 'C0717758',\n 'C0053792',\n 'C0063757',\n 'C1530072',\n 'C0961965',\n 'C3885063',\n 'C0022957',\n 'C2986922',\n 'C3896940',\n 'C0017631',\n 'C0286079',\n 'C0012050',\n 'C0126774',\n 'C0672708',\n 'C0969324',\n 'C2936870',\n 'C0118168',\n 'C0165032',\n 'C0043822',\n 'C1958126',\n 'C0066005',\n 'C1567130',\n 'C5238052',\n 'C0257343',\n 'C0772501',\n 'C0028215',\n 'C0107994',\n 'C0002333',\n 'C0037521',\n 'C0024452',\n 'C0012384',\n 'C0060135',\n 'C1328071',\n 'C0245109',\n 'C0021246',\n 'C1172734',\n 'C2933912',\n 'C2987716',\n 'C4287799',\n 'C2697961',\n 'C4279595',\n 'C0248719',\n 'C0137984',\n 'C0043603',\n 'C4310440',\n 'C0014695',\n 'C0016375',\n 'C0076829',\n 'C0291216',\n 'C1271607',\n 'C0025729',\n 'C0039623',\n 'C1531015',\n 'C0008281',\n 'C0528166',\n 'C0007716',\n 'C2713632',\n 'C0058831',\n 'C3642427',\n 'C4519428',\n 'C0040165',\n 'C0026256',\n 'C2351038',\n 'C4287815',\n 'C0074710',\n 'C0035179',\n 'C5418443',\n 'C0025810',\n 'C2974540',\n 'C0249529',\n 'C0011707',\n 'C2974521',\n 'C3640939',\n 'C1136535',\n 'C0020223',\n 'C1455035',\n 'C4043954',\n 'C5421356',\n 'C0851344',\n 'C1956280',\n 'C0292818',\n 'C0288165',\n 'C0072828',\n 'C0030438',\n 'C0035608',\n 'C0298130',\n 'C0051512',\n 'C0246719',\n 'C0014942',\n 'C0297635',\n 'C0000981',\n 'C0874161',\n 'C0060926',\n 'C0041056',\n 'C0083381',\n 'C0015772',\n 'C0538727',\n 'C2973446',\n 'C0060389',\n 'C0039512',\n 'C3529928',\n 'C2347624',\n 'C1684405',\n 'C0005098',\n 'C0050393',\n 'C4519232',\n 'C0257685',\n 'C0019435',\n 'C0016384',\n 'C0108342',\n 'C1451502',\n 'C0054015',\n 'C0043491',\n 'C0058978',\n 'C1871526',\n 'C0006400',\n 'C2713595',\n 'C0050940',\n 'C0048044',\n 'C4694272',\n 'C2742503',\n 'C0674428',\n 'C0017628',\n 'C0772364',\n 'C0033487',\n 'C4726929',\n 'C0028833',\n 'C0766326',\n 'C0079466',\n 'C0008161',\n 'C2606556',\n 'C0041190',\n 'C0026388',\n 'C0673966',\n 'C0014025',\n 'C1099677',\n 'C0136123',\n 'C0537270',\n 'C0079083',\n 'C0171023',\n 'C0025854',\n 'C0042523',\n 'C3853822',\n 'C0040778',\n 'C0209453',\n 'C0031849',\n 'C1707080',\n 'C4288736',\n 'C0530684',\n 'C0000946',\n 'C0772089',\n 'C3659310',\n 'C0293359',\n 'C5139845',\n 'C2935436',\n 'C0007557',\n 'C0025175',\n 'C0031441',\n 'C2930789',\n 'C4050579',\n 'C3700399',\n 'C1174893',\n 'C1619966',\n 'C1695579',\n 'C4279743',\n 'C0027348',\n 'C1169997',\n 'C1565750',\n 'C4086895',\n 'C0060282',\n 'C0016388',\n 'C0030054',\n 'C0287041',\n 'C3273754',\n 'C0078847',\n 'C2343589',\n 'C2825682',\n 'C0005059',\n 'C1872203',\n 'C3657270',\n 'C0006809',\n 'C4287804',\n 'C1832027',\n 'C1609931',\n 'C4548848',\n 'C0025386',\n 'C0142874',\n 'C4291320',\n 'C0017687',\n 'C0015846',\n 'C4550163',\n 'C0525678',\n 'C3713057',\n 'C1700695',\n 'C4045491',\n 'C3661274',\n 'C0015043',\n 'C0078569',\n 'C0288672',\n 'C0015689',\n 'C0014710',\n 'C0537150',\n 'C1260298',\n 'C0022180',\n 'C2607219',\n 'C0935916',\n 'C4682392',\n 'C0132326',\n 'C0677829',\n 'C0301374',\n 'C0010582',\n 'C0253563',\n 'C3886460',\n 'C4307388',\n 'C5242453',\n 'C0041023',\n 'C0082787',\n 'C0025152',\n 'C4519323',\n 'C0126174',\n 'C0249458',\n 'C0005740',\n 'C0039542',\n 'C0062922',\n 'C0060520',\n 'C0006657',\n 'C0937916',\n 'C0006491',\n 'C0017642',\n 'C0165921',\n 'C0012547',\n 'C3490348',\n 'C0007248',\n 'C3661283',\n 'C0060934',\n 'C0021741',\n 'C0030310',\n 'C0025241',\n 'C0005038',\n 'C0246421',\n 'C0064906',\n 'C4688584',\n 'C0013084',\n 'C0012582',\n 'C5227711',\n 'C1137427',\n 'C0033308',\n 'C0041249',\n 'C0014964',\n 'C1566826',\n 'C1698893',\n 'C2980074',\n 'C0262964',\n 'C0004749',\n 'C1621234',\n 'C1321596',\n 'C0023870',\n 'C0077071',\n 'C0029997',\n 'C3713860',\n 'C0071304',\n 'C0053229',\n 'C0257190',\n 'C2717174',\n 'C0070455',\n 'C1615657',\n 'C2001271',\n 'C0065517',\n 'C0039736',\n 'C0002645',\n 'C0298067',\n ...]"
     },
     "execution_count": 69,
     "metadata": {},
     "output_type": "execute_result"
    }
   ],
   "source": [
    "code_out"
   ],
   "metadata": {
    "collapsed": false,
    "ExecuteTime": {
     "end_time": "2023-08-27T10:07:16.940410200Z",
     "start_time": "2023-08-27T10:07:16.816199300Z"
    }
   }
  },
  {
   "cell_type": "code",
   "execution_count": 70,
   "outputs": [
    {
     "data": {
      "text/plain": "                      Drug Name       CUI\n0                      CloBAZam  C0055891\n1                    Clobetasol  C0008992\n2                    Tolnaftate  C0040379\n3                  Pimecrolimus  C1099414\n4                   Elacestrant  C4682404\n...                         ...       ...\n1710        Plasminogen (Human)  C0032140\n1711  Cytarabine (Conventional)  C0010711\n1712            Dibekacin [INT]  C0012024\n1713          Ornipressin [INT]  C0029276\n1714           Amorolfine [INT]  C0051736\n\n[1715 rows x 2 columns]",
      "text/html": "<div>\n<style scoped>\n    .dataframe tbody tr th:only-of-type {\n        vertical-align: middle;\n    }\n\n    .dataframe tbody tr th {\n        vertical-align: top;\n    }\n\n    .dataframe thead th {\n        text-align: right;\n    }\n</style>\n<table border=\"1\" class=\"dataframe\">\n  <thead>\n    <tr style=\"text-align: right;\">\n      <th></th>\n      <th>Drug Name</th>\n      <th>CUI</th>\n    </tr>\n  </thead>\n  <tbody>\n    <tr>\n      <th>0</th>\n      <td>CloBAZam</td>\n      <td>C0055891</td>\n    </tr>\n    <tr>\n      <th>1</th>\n      <td>Clobetasol</td>\n      <td>C0008992</td>\n    </tr>\n    <tr>\n      <th>2</th>\n      <td>Tolnaftate</td>\n      <td>C0040379</td>\n    </tr>\n    <tr>\n      <th>3</th>\n      <td>Pimecrolimus</td>\n      <td>C1099414</td>\n    </tr>\n    <tr>\n      <th>4</th>\n      <td>Elacestrant</td>\n      <td>C4682404</td>\n    </tr>\n    <tr>\n      <th>...</th>\n      <td>...</td>\n      <td>...</td>\n    </tr>\n    <tr>\n      <th>1710</th>\n      <td>Plasminogen (Human)</td>\n      <td>C0032140</td>\n    </tr>\n    <tr>\n      <th>1711</th>\n      <td>Cytarabine (Conventional)</td>\n      <td>C0010711</td>\n    </tr>\n    <tr>\n      <th>1712</th>\n      <td>Dibekacin [INT]</td>\n      <td>C0012024</td>\n    </tr>\n    <tr>\n      <th>1713</th>\n      <td>Ornipressin [INT]</td>\n      <td>C0029276</td>\n    </tr>\n    <tr>\n      <th>1714</th>\n      <td>Amorolfine [INT]</td>\n      <td>C0051736</td>\n    </tr>\n  </tbody>\n</table>\n<p>1715 rows × 2 columns</p>\n</div>"
     },
     "execution_count": 70,
     "metadata": {},
     "output_type": "execute_result"
    }
   ],
   "source": [
    "df_codes = pd.DataFrame()\n",
    "df_codes['Drug Name'] = drug_out\n",
    "df_codes['CUI']     = code_out\n",
    "df_codes"
   ],
   "metadata": {
    "collapsed": false,
    "ExecuteTime": {
     "end_time": "2023-08-27T10:07:19.328199300Z",
     "start_time": "2023-08-27T10:07:19.290732400Z"
    }
   }
  },
  {
   "cell_type": "code",
   "execution_count": 71,
   "outputs": [
    {
     "data": {
      "text/plain": "                      Drug Name       CUI\n0                      CloBAZam  C0055891\n1                    Clobetasol  C0008992\n2                    Tolnaftate  C0040379\n3                  Pimecrolimus  C1099414\n4                   Elacestrant  C4682404\n...                         ...       ...\n1710        Plasminogen (Human)  C0032140\n1711  Cytarabine (Conventional)  C0010711\n1712            Dibekacin [INT]  C0012024\n1713          Ornipressin [INT]  C0029276\n1714           Amorolfine [INT]  C0051736\n\n[1715 rows x 2 columns]",
      "text/html": "<div>\n<style scoped>\n    .dataframe tbody tr th:only-of-type {\n        vertical-align: middle;\n    }\n\n    .dataframe tbody tr th {\n        vertical-align: top;\n    }\n\n    .dataframe thead th {\n        text-align: right;\n    }\n</style>\n<table border=\"1\" class=\"dataframe\">\n  <thead>\n    <tr style=\"text-align: right;\">\n      <th></th>\n      <th>Drug Name</th>\n      <th>CUI</th>\n    </tr>\n  </thead>\n  <tbody>\n    <tr>\n      <th>0</th>\n      <td>CloBAZam</td>\n      <td>C0055891</td>\n    </tr>\n    <tr>\n      <th>1</th>\n      <td>Clobetasol</td>\n      <td>C0008992</td>\n    </tr>\n    <tr>\n      <th>2</th>\n      <td>Tolnaftate</td>\n      <td>C0040379</td>\n    </tr>\n    <tr>\n      <th>3</th>\n      <td>Pimecrolimus</td>\n      <td>C1099414</td>\n    </tr>\n    <tr>\n      <th>4</th>\n      <td>Elacestrant</td>\n      <td>C4682404</td>\n    </tr>\n    <tr>\n      <th>...</th>\n      <td>...</td>\n      <td>...</td>\n    </tr>\n    <tr>\n      <th>1710</th>\n      <td>Plasminogen (Human)</td>\n      <td>C0032140</td>\n    </tr>\n    <tr>\n      <th>1711</th>\n      <td>Cytarabine (Conventional)</td>\n      <td>C0010711</td>\n    </tr>\n    <tr>\n      <th>1712</th>\n      <td>Dibekacin [INT]</td>\n      <td>C0012024</td>\n    </tr>\n    <tr>\n      <th>1713</th>\n      <td>Ornipressin [INT]</td>\n      <td>C0029276</td>\n    </tr>\n    <tr>\n      <th>1714</th>\n      <td>Amorolfine [INT]</td>\n      <td>C0051736</td>\n    </tr>\n  </tbody>\n</table>\n<p>1715 rows × 2 columns</p>\n</div>"
     },
     "execution_count": 71,
     "metadata": {},
     "output_type": "execute_result"
    }
   ],
   "source": [
    "df_codes2 = df_codes.drop_duplicates()\n",
    "df_codes2"
   ],
   "metadata": {
    "collapsed": false,
    "ExecuteTime": {
     "end_time": "2023-08-27T10:07:39.520819900Z",
     "start_time": "2023-08-27T10:07:39.436187800Z"
    }
   }
  },
  {
   "cell_type": "code",
   "execution_count": 73,
   "outputs": [],
   "source": [
    "df_codes.to_csv('GenericNames_Coded.csv',index=False)"
   ],
   "metadata": {
    "collapsed": false,
    "ExecuteTime": {
     "end_time": "2023-08-27T10:07:54.245758600Z",
     "start_time": "2023-08-27T10:07:54.230131Z"
    }
   }
  },
  {
   "cell_type": "code",
   "execution_count": null,
   "outputs": [],
   "source": [],
   "metadata": {
    "collapsed": false
   }
  }
 ],
 "metadata": {
  "kernelspec": {
   "display_name": "Python 3",
   "language": "python",
   "name": "python3"
  },
  "language_info": {
   "codemirror_mode": {
    "name": "ipython",
    "version": 2
   },
   "file_extension": ".py",
   "mimetype": "text/x-python",
   "name": "python",
   "nbconvert_exporter": "python",
   "pygments_lexer": "ipython2",
   "version": "2.7.6"
  }
 },
 "nbformat": 4,
 "nbformat_minor": 0
}
